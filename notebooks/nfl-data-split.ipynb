{
 "cells": [
  {
   "cell_type": "code",
   "execution_count": 1,
   "id": "8709b2b8",
   "metadata": {
    "execution": {
     "iopub.execute_input": "2023-01-21T10:19:56.437035Z",
     "iopub.status.busy": "2023-01-21T10:19:56.436383Z",
     "iopub.status.idle": "2023-01-21T10:19:57.432652Z",
     "shell.execute_reply": "2023-01-21T10:19:57.431203Z"
    },
    "papermill": {
     "duration": 1.005946,
     "end_time": "2023-01-21T10:19:57.435621",
     "exception": false,
     "start_time": "2023-01-21T10:19:56.429675",
     "status": "completed"
    },
    "tags": []
   },
   "outputs": [],
   "source": [
    "import pandas as pd\n",
    "import os\n",
    "from sklearn.model_selection import train_test_split"
   ]
  },
  {
   "cell_type": "code",
   "execution_count": 2,
   "id": "a89c1ca7",
   "metadata": {
    "execution": {
     "iopub.execute_input": "2023-01-21T10:19:57.446259Z",
     "iopub.status.busy": "2023-01-21T10:19:57.445786Z",
     "iopub.status.idle": "2023-01-21T10:19:57.716393Z",
     "shell.execute_reply": "2023-01-21T10:19:57.714930Z"
    },
    "papermill": {
     "duration": 0.278938,
     "end_time": "2023-01-21T10:19:57.719169",
     "exception": false,
     "start_time": "2023-01-21T10:19:57.440231",
     "status": "completed"
    },
    "tags": []
   },
   "outputs": [
    {
     "name": "stdout",
     "output_type": "stream",
     "text": [
      "sample_submission.csv\t   train\r\n",
      "test\t\t\t   train_baseline_helmets.csv\r\n",
      "test_baseline_helmets.csv  train_labels.csv\r\n",
      "test_player_tracking.csv   train_player_tracking.csv\r\n",
      "test_video_metadata.csv    train_video_metadata.csv\r\n"
     ]
    }
   ],
   "source": [
    "!ls /kaggle/input/nfl-player-contact-detection"
   ]
  },
  {
   "cell_type": "code",
   "execution_count": 3,
   "id": "6f14d910",
   "metadata": {
    "execution": {
     "iopub.execute_input": "2023-01-21T10:19:57.729785Z",
     "iopub.status.busy": "2023-01-21T10:19:57.729360Z",
     "iopub.status.idle": "2023-01-21T10:19:57.992920Z",
     "shell.execute_reply": "2023-01-21T10:19:57.991931Z"
    },
    "papermill": {
     "duration": 0.271637,
     "end_time": "2023-01-21T10:19:57.995257",
     "exception": false,
     "start_time": "2023-01-21T10:19:57.723620",
     "status": "completed"
    },
    "tags": []
   },
   "outputs": [
    {
     "name": "stdout",
     "output_type": "stream",
     "text": [
      "__notebook__.ipynb\r\n"
     ]
    }
   ],
   "source": [
    "!ls /kaggle/working/"
   ]
  },
  {
   "cell_type": "code",
   "execution_count": 4,
   "id": "16366f29",
   "metadata": {
    "execution": {
     "iopub.execute_input": "2023-01-21T10:19:58.005882Z",
     "iopub.status.busy": "2023-01-21T10:19:58.005494Z",
     "iopub.status.idle": "2023-01-21T10:19:58.012917Z",
     "shell.execute_reply": "2023-01-21T10:19:58.011998Z"
    },
    "papermill": {
     "duration": 0.015728,
     "end_time": "2023-01-21T10:19:58.015381",
     "exception": false,
     "start_time": "2023-01-21T10:19:57.999653",
     "status": "completed"
    },
    "tags": []
   },
   "outputs": [],
   "source": [
    "class CFG:\n",
    "    input_dir = '/kaggle/input/nfl-player-contact-detection'\n",
    "    # --------------------- FIXED --------------------- #\n",
    "    train_labels_dir = os.path.join(input_dir, 'train_labels.csv')\n",
    "    test_sub_dir = os.path.join(input_dir, 'sample_submission.csv')\n",
    "    \n",
    "    def expand_contact_id(df):\n",
    "        df['game'] = df['contact_id'].apply(lambda s: s.split('_')[0])\n",
    "        df['play'] = df['contact_id'].apply(lambda s: s.split('_')[1])\n",
    "        df['step'] = df['contact_id'].apply(lambda s: s.split('_')[2])\n",
    "        df['nfl_player_id_1'] = df['contact_id'].apply(lambda s: s.split('_')[-2])\n",
    "        df['nfl_player_id_2'] = df['contact_id'].apply(lambda s: s.split('_')[-1])\n",
    "        return df"
   ]
  },
  {
   "cell_type": "code",
   "execution_count": 5,
   "id": "4524e951",
   "metadata": {
    "execution": {
     "iopub.execute_input": "2023-01-21T10:19:58.025883Z",
     "iopub.status.busy": "2023-01-21T10:19:58.025492Z",
     "iopub.status.idle": "2023-01-21T10:20:09.401958Z",
     "shell.execute_reply": "2023-01-21T10:20:09.400709Z"
    },
    "papermill": {
     "duration": 11.384455,
     "end_time": "2023-01-21T10:20:09.404359",
     "exception": false,
     "start_time": "2023-01-21T10:19:58.019904",
     "status": "completed"
    },
    "tags": []
   },
   "outputs": [],
   "source": [
    "df_labels = pd.read_csv(CFG.train_labels_dir)\n",
    "df_labels['game'] = df_labels['game_play'].apply(lambda s: s.split('_')[0])\n",
    "df_games_count = (df_labels.groupby('game').size().reset_index(name='count')\n",
    "                  .sort_values(by='count', ascending=False))"
   ]
  },
  {
   "cell_type": "code",
   "execution_count": 6,
   "id": "6d637062",
   "metadata": {
    "execution": {
     "iopub.execute_input": "2023-01-21T10:20:09.414984Z",
     "iopub.status.busy": "2023-01-21T10:20:09.414614Z",
     "iopub.status.idle": "2023-01-21T10:20:09.714007Z",
     "shell.execute_reply": "2023-01-21T10:20:09.712837Z"
    },
    "papermill": {
     "duration": 0.307266,
     "end_time": "2023-01-21T10:20:09.716210",
     "exception": false,
     "start_time": "2023-01-21T10:20:09.408944",
     "status": "completed"
    },
    "tags": []
   },
   "outputs": [
    {
     "data": {
      "text/plain": [
       "(141, 8)"
      ]
     },
     "execution_count": 6,
     "metadata": {},
     "output_type": "execute_result"
    }
   ],
   "source": [
    "list_games = df_labels['game'].unique()\n",
    "train_ids, valid_ids = train_test_split(list_games, test_size=0.05, random_state=11)\n",
    "len(train_ids), len(valid_ids)"
   ]
  },
  {
   "cell_type": "code",
   "execution_count": 7,
   "id": "6c5de5e3",
   "metadata": {
    "execution": {
     "iopub.execute_input": "2023-01-21T10:20:09.727227Z",
     "iopub.status.busy": "2023-01-21T10:20:09.726042Z",
     "iopub.status.idle": "2023-01-21T10:20:09.734014Z",
     "shell.execute_reply": "2023-01-21T10:20:09.732669Z"
    },
    "papermill": {
     "duration": 0.016465,
     "end_time": "2023-01-21T10:20:09.737195",
     "exception": false,
     "start_time": "2023-01-21T10:20:09.720730",
     "status": "completed"
    },
    "tags": []
   },
   "outputs": [
    {
     "name": "stdout",
     "output_type": "stream",
     "text": [
      "['58227' '58316' '58407' '58314' '58387' '58527' '58567' '58261' '58512'\n",
      " '58326' '58415' '58573' '58330' '58173' '58217' '58285' '58200' '58198'\n",
      " '58571' '58558' '58205' '58399' '58168' '58538' '58541' '58282' '58226'\n",
      " '58518' '58516' '58577' '58251' '58574' '58308' '58362' '58180' '58290'\n",
      " '58514' '58507' '58302' '58247' '58560' '58274' '58503' '58520' '58311'\n",
      " '58582' '58401' '58266' '58215' '58293' '58216' '58221' '58341' '58530'\n",
      " '58579' '58225' '58176' '58233' '58568' '58257' '58517' '58403' '58511'\n",
      " '58537' '58561' '58508' '58241' '58491' '58543' '58536' '58528' '58553'\n",
      " '58279' '58535' '58281' '58211' '58550' '58209' '58510' '58255' '58220'\n",
      " '58213' '58366' '58240' '58336' '58329' '58555' '58406' '58188' '58174'\n",
      " '58172' '58306' '58509' '58284' '58575' '58291' '58177' '58504' '58565'\n",
      " '58260' '58545' '58544' '58295' '58187' '58203' '58270' '58540' '58301'\n",
      " '58190' '58519' '58414' '58551' '58224' '58218' '58506' '58368' '58321'\n",
      " '58548' '58529' '58267' '58331' '58327' '58581' '58580' '58254' '58346'\n",
      " '58552' '58245' '58557' '58546' '58273' '58422' '58524' '58219' '58384'\n",
      " '58332' '58354' '58202' '58382' '58418' '58377']\n",
      "['58526' '58348' '58564' '58297' '58525' '58189' '58325' '58204']\n"
     ]
    }
   ],
   "source": [
    "print(train_ids)\n",
    "print(valid_ids)"
   ]
  },
  {
   "cell_type": "markdown",
   "id": "dd090451",
   "metadata": {
    "execution": {
     "iopub.execute_input": "2023-01-21T09:18:06.803729Z",
     "iopub.status.busy": "2023-01-21T09:18:06.803335Z",
     "iopub.status.idle": "2023-01-21T09:18:06.809041Z",
     "shell.execute_reply": "2023-01-21T09:18:06.807912Z",
     "shell.execute_reply.started": "2023-01-21T09:18:06.803696Z"
    },
    "papermill": {
     "duration": 0.004085,
     "end_time": "2023-01-21T10:20:09.746034",
     "exception": false,
     "start_time": "2023-01-21T10:20:09.741949",
     "status": "completed"
    },
    "tags": []
   },
   "source": [
    "## Save dataset"
   ]
  },
  {
   "cell_type": "code",
   "execution_count": 8,
   "id": "3106ecd4",
   "metadata": {
    "execution": {
     "iopub.execute_input": "2023-01-21T10:20:09.756424Z",
     "iopub.status.busy": "2023-01-21T10:20:09.756048Z",
     "iopub.status.idle": "2023-01-21T10:20:11.211102Z",
     "shell.execute_reply": "2023-01-21T10:20:11.209836Z"
    },
    "papermill": {
     "duration": 1.463287,
     "end_time": "2023-01-21T10:20:11.213741",
     "exception": false,
     "start_time": "2023-01-21T10:20:09.750454",
     "status": "completed"
    },
    "tags": []
   },
   "outputs": [],
   "source": [
    "df_train_p2p_all = df_labels[df_labels['nfl_player_id_2']!='G']\n",
    "df_train_p2g_all = df_labels[df_labels['nfl_player_id_2']=='G']"
   ]
  },
  {
   "cell_type": "code",
   "execution_count": 9,
   "id": "8a45ef4e",
   "metadata": {
    "execution": {
     "iopub.execute_input": "2023-01-21T10:20:11.224571Z",
     "iopub.status.busy": "2023-01-21T10:20:11.224213Z",
     "iopub.status.idle": "2023-01-21T10:20:11.996740Z",
     "shell.execute_reply": "2023-01-21T10:20:11.995144Z"
    },
    "papermill": {
     "duration": 0.781052,
     "end_time": "2023-01-21T10:20:11.999473",
     "exception": false,
     "start_time": "2023-01-21T10:20:11.218421",
     "status": "completed"
    },
    "tags": []
   },
   "outputs": [],
   "source": [
    "df_train_all = df_labels[df_labels['game'].isin(train_ids)]\n",
    "df_valid_all = df_labels[df_labels['game'].isin(valid_ids)]"
   ]
  },
  {
   "cell_type": "code",
   "execution_count": 10,
   "id": "cec013b9",
   "metadata": {
    "execution": {
     "iopub.execute_input": "2023-01-21T10:20:12.010410Z",
     "iopub.status.busy": "2023-01-21T10:20:12.010022Z",
     "iopub.status.idle": "2023-01-21T10:20:14.047366Z",
     "shell.execute_reply": "2023-01-21T10:20:14.045969Z"
    },
    "papermill": {
     "duration": 2.045214,
     "end_time": "2023-01-21T10:20:14.049721",
     "exception": false,
     "start_time": "2023-01-21T10:20:12.004507",
     "status": "completed"
    },
    "tags": []
   },
   "outputs": [],
   "source": [
    "df_train_p2p = df_labels[df_labels['game'].isin(train_ids) & (df_labels['nfl_player_id_2']!='G')]\n",
    "df_train_p2g = df_labels[df_labels['game'].isin(train_ids) & (df_labels['nfl_player_id_2']=='G')]\n",
    "df_valid_p2p = df_labels[df_labels['game'].isin(valid_ids) & (df_labels['nfl_player_id_2']!='G')]\n",
    "df_valid_p2g = df_labels[df_labels['game'].isin(valid_ids) & (df_labels['nfl_player_id_2']=='G')]"
   ]
  },
  {
   "cell_type": "code",
   "execution_count": 11,
   "id": "63b46c52",
   "metadata": {
    "execution": {
     "iopub.execute_input": "2023-01-21T10:20:14.060471Z",
     "iopub.status.busy": "2023-01-21T10:20:14.060074Z",
     "iopub.status.idle": "2023-01-21T10:20:39.680217Z",
     "shell.execute_reply": "2023-01-21T10:20:39.678977Z"
    },
    "papermill": {
     "duration": 25.628593,
     "end_time": "2023-01-21T10:20:39.682901",
     "exception": false,
     "start_time": "2023-01-21T10:20:14.054308",
     "status": "completed"
    },
    "tags": []
   },
   "outputs": [],
   "source": [
    "df_train_all.to_csv('train_labels_all.csv') \n",
    "df_valid_all.to_csv('valid_labels_all.csv')\n",
    "df_train_p2p.to_csv('train_labels_p2p.csv')\n",
    "df_train_p2g.to_csv('train_labels_p2g.csv')\n",
    "df_valid_p2p.to_csv('valid_labels_p2p.csv')\n",
    "df_valid_p2g.to_csv('valid_labels_p2g.csv')"
   ]
  },
  {
   "cell_type": "code",
   "execution_count": 12,
   "id": "50f21266",
   "metadata": {
    "execution": {
     "iopub.execute_input": "2023-01-21T10:20:39.694611Z",
     "iopub.status.busy": "2023-01-21T10:20:39.694175Z",
     "iopub.status.idle": "2023-01-21T10:20:39.980143Z",
     "shell.execute_reply": "2023-01-21T10:20:39.978593Z"
    },
    "papermill": {
     "duration": 0.2952,
     "end_time": "2023-01-21T10:20:39.983091",
     "exception": false,
     "start_time": "2023-01-21T10:20:39.687891",
     "status": "completed"
    },
    "tags": []
   },
   "outputs": [
    {
     "name": "stdout",
     "output_type": "stream",
     "text": [
      "__notebook__.ipynb    train_labels_p2p.csv  valid_labels_p2p.csv\r\n",
      "train_labels_all.csv  valid_labels_all.csv\r\n",
      "train_labels_p2g.csv  valid_labels_p2g.csv\r\n"
     ]
    }
   ],
   "source": [
    "!ls"
   ]
  },
  {
   "cell_type": "markdown",
   "id": "96a7773b",
   "metadata": {
    "papermill": {
     "duration": 0.004389,
     "end_time": "2023-01-21T10:20:39.992446",
     "exception": false,
     "start_time": "2023-01-21T10:20:39.988057",
     "status": "completed"
    },
    "tags": []
   },
   "source": [
    "## Test"
   ]
  },
  {
   "cell_type": "code",
   "execution_count": 13,
   "id": "ff15c048",
   "metadata": {
    "execution": {
     "iopub.execute_input": "2023-01-21T10:20:40.006221Z",
     "iopub.status.busy": "2023-01-21T10:20:40.005768Z",
     "iopub.status.idle": "2023-01-21T10:20:40.169082Z",
     "shell.execute_reply": "2023-01-21T10:20:40.168068Z"
    },
    "papermill": {
     "duration": 0.174024,
     "end_time": "2023-01-21T10:20:40.171753",
     "exception": false,
     "start_time": "2023-01-21T10:20:39.997729",
     "status": "completed"
    },
    "tags": []
   },
   "outputs": [],
   "source": [
    "df_test_labels = CFG.expand_contact_id(pd.read_csv(CFG.test_sub_dir))"
   ]
  },
  {
   "cell_type": "code",
   "execution_count": 14,
   "id": "1485cd74",
   "metadata": {
    "execution": {
     "iopub.execute_input": "2023-01-21T10:20:40.182885Z",
     "iopub.status.busy": "2023-01-21T10:20:40.182511Z",
     "iopub.status.idle": "2023-01-21T10:20:40.208580Z",
     "shell.execute_reply": "2023-01-21T10:20:40.206882Z"
    },
    "papermill": {
     "duration": 0.034589,
     "end_time": "2023-01-21T10:20:40.211250",
     "exception": false,
     "start_time": "2023-01-21T10:20:40.176661",
     "status": "completed"
    },
    "tags": []
   },
   "outputs": [],
   "source": [
    "df_test_p2p = df_test_labels[df_test_labels['nfl_player_id_2']!='G']\n",
    "df_test_p2g = df_test_labels[df_test_labels['nfl_player_id_2']=='G']"
   ]
  },
  {
   "cell_type": "code",
   "execution_count": 15,
   "id": "4da3b4dd",
   "metadata": {
    "execution": {
     "iopub.execute_input": "2023-01-21T10:20:40.222115Z",
     "iopub.status.busy": "2023-01-21T10:20:40.221716Z",
     "iopub.status.idle": "2023-01-21T10:20:40.228424Z",
     "shell.execute_reply": "2023-01-21T10:20:40.227188Z"
    },
    "papermill": {
     "duration": 0.014364,
     "end_time": "2023-01-21T10:20:40.230317",
     "exception": false,
     "start_time": "2023-01-21T10:20:40.215953",
     "status": "completed"
    },
    "tags": []
   },
   "outputs": [
    {
     "data": {
      "text/plain": [
       "(45276, 4312)"
      ]
     },
     "execution_count": 15,
     "metadata": {},
     "output_type": "execute_result"
    }
   ],
   "source": [
    "len(df_test_p2p), len(df_test_p2g)"
   ]
  },
  {
   "cell_type": "code",
   "execution_count": null,
   "id": "02706bf8",
   "metadata": {
    "papermill": {
     "duration": 0.004476,
     "end_time": "2023-01-21T10:20:40.239586",
     "exception": false,
     "start_time": "2023-01-21T10:20:40.235110",
     "status": "completed"
    },
    "tags": []
   },
   "outputs": [],
   "source": []
  }
 ],
 "metadata": {
  "kernelspec": {
   "display_name": "Python 3",
   "language": "python",
   "name": "python3"
  },
  "language_info": {
   "codemirror_mode": {
    "name": "ipython",
    "version": 3
   },
   "file_extension": ".py",
   "mimetype": "text/x-python",
   "name": "python",
   "nbconvert_exporter": "python",
   "pygments_lexer": "ipython3",
   "version": "3.7.12"
  },
  "papermill": {
   "default_parameters": {},
   "duration": 52.486992,
   "end_time": "2023-01-21T10:20:41.568551",
   "environment_variables": {},
   "exception": null,
   "input_path": "__notebook__.ipynb",
   "output_path": "__notebook__.ipynb",
   "parameters": {},
   "start_time": "2023-01-21T10:19:49.081559",
   "version": "2.3.4"
  }
 },
 "nbformat": 4,
 "nbformat_minor": 5
}
