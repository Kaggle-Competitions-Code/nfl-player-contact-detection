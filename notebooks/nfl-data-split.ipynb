{
 "cells": [
  {
   "cell_type": "code",
   "execution_count": 1,
   "id": "987da0d8",
   "metadata": {
    "execution": {
     "iopub.execute_input": "2023-01-22T14:47:59.181778Z",
     "iopub.status.busy": "2023-01-22T14:47:59.180661Z",
     "iopub.status.idle": "2023-01-22T14:48:00.520303Z",
     "shell.execute_reply": "2023-01-22T14:48:00.518743Z"
    },
    "papermill": {
     "duration": 1.352875,
     "end_time": "2023-01-22T14:48:00.523717",
     "exception": false,
     "start_time": "2023-01-22T14:47:59.170842",
     "status": "completed"
    },
    "tags": []
   },
   "outputs": [],
   "source": [
    "import pandas as pd\n",
    "import os\n",
    "from sklearn.model_selection import train_test_split"
   ]
  },
  {
   "cell_type": "code",
   "execution_count": 2,
   "id": "7493a160",
   "metadata": {
    "execution": {
     "iopub.execute_input": "2023-01-22T14:48:00.537440Z",
     "iopub.status.busy": "2023-01-22T14:48:00.536868Z",
     "iopub.status.idle": "2023-01-22T14:48:01.653337Z",
     "shell.execute_reply": "2023-01-22T14:48:01.651603Z"
    },
    "papermill": {
     "duration": 1.126888,
     "end_time": "2023-01-22T14:48:01.656501",
     "exception": false,
     "start_time": "2023-01-22T14:48:00.529613",
     "status": "completed"
    },
    "tags": []
   },
   "outputs": [
    {
     "name": "stdout",
     "output_type": "stream",
     "text": [
      "sample_submission.csv\t   train\r\n",
      "test\t\t\t   train_baseline_helmets.csv\r\n",
      "test_baseline_helmets.csv  train_labels.csv\r\n",
      "test_player_tracking.csv   train_player_tracking.csv\r\n",
      "test_video_metadata.csv    train_video_metadata.csv\r\n"
     ]
    }
   ],
   "source": [
    "!ls /kaggle/input/nfl-player-contact-detection"
   ]
  },
  {
   "cell_type": "code",
   "execution_count": 3,
   "id": "0f3e5974",
   "metadata": {
    "execution": {
     "iopub.execute_input": "2023-01-22T14:48:01.671179Z",
     "iopub.status.busy": "2023-01-22T14:48:01.670576Z",
     "iopub.status.idle": "2023-01-22T14:48:02.770318Z",
     "shell.execute_reply": "2023-01-22T14:48:02.768600Z"
    },
    "papermill": {
     "duration": 1.111255,
     "end_time": "2023-01-22T14:48:02.773619",
     "exception": false,
     "start_time": "2023-01-22T14:48:01.662364",
     "status": "completed"
    },
    "tags": []
   },
   "outputs": [
    {
     "name": "stdout",
     "output_type": "stream",
     "text": [
      "__notebook__.ipynb\r\n"
     ]
    }
   ],
   "source": [
    "!ls /kaggle/working/"
   ]
  },
  {
   "cell_type": "code",
   "execution_count": 4,
   "id": "02bcf1a0",
   "metadata": {
    "execution": {
     "iopub.execute_input": "2023-01-22T14:48:02.788207Z",
     "iopub.status.busy": "2023-01-22T14:48:02.787103Z",
     "iopub.status.idle": "2023-01-22T14:48:02.798609Z",
     "shell.execute_reply": "2023-01-22T14:48:02.796977Z"
    },
    "papermill": {
     "duration": 0.021529,
     "end_time": "2023-01-22T14:48:02.801118",
     "exception": false,
     "start_time": "2023-01-22T14:48:02.779589",
     "status": "completed"
    },
    "tags": []
   },
   "outputs": [],
   "source": [
    "class CFG:\n",
    "    input_dir = '/kaggle/input/nfl-player-contact-detection'\n",
    "    # --------------------- FIXED --------------------- #\n",
    "    train_labels_dir = os.path.join(input_dir, 'train_labels.csv')\n",
    "    test_sub_dir = os.path.join(input_dir, 'sample_submission.csv')\n",
    "    \n",
    "    def expand_contact_id(df):\n",
    "        df['game_play'] = df['contact_id'].str[:12]\n",
    "        df['game'] = df['contact_id'].apply(lambda s: s.split('_')[0])\n",
    "        df['play'] = df['contact_id'].apply(lambda s: s.split('_')[1])\n",
    "        df['step'] = df['contact_id'].apply(lambda s: s.split('_')[2])\n",
    "        df['nfl_player_id_1'] = df['contact_id'].apply(lambda s: s.split('_')[-2])\n",
    "        df['nfl_player_id_2'] = df['contact_id'].apply(lambda s: s.split('_')[-1])\n",
    "        return df"
   ]
  },
  {
   "cell_type": "code",
   "execution_count": 5,
   "id": "65e8ae0c",
   "metadata": {
    "execution": {
     "iopub.execute_input": "2023-01-22T14:48:02.814656Z",
     "iopub.status.busy": "2023-01-22T14:48:02.814156Z",
     "iopub.status.idle": "2023-01-22T14:48:34.845692Z",
     "shell.execute_reply": "2023-01-22T14:48:34.844283Z"
    },
    "papermill": {
     "duration": 32.042561,
     "end_time": "2023-01-22T14:48:34.849341",
     "exception": false,
     "start_time": "2023-01-22T14:48:02.806780",
     "status": "completed"
    },
    "tags": []
   },
   "outputs": [],
   "source": [
    "df_labels = CFG.expand_contact_id(pd.read_csv(CFG.train_labels_dir))\n",
    "df_labels['game'] = df_labels['game_play'].apply(lambda s: s.split('_')[0])\n",
    "df_games_count = (df_labels.groupby('game').size().reset_index(name='count')\n",
    "                  .sort_values(by='count', ascending=False))"
   ]
  },
  {
   "cell_type": "code",
   "execution_count": 6,
   "id": "92ab9401",
   "metadata": {
    "execution": {
     "iopub.execute_input": "2023-01-22T14:48:34.863006Z",
     "iopub.status.busy": "2023-01-22T14:48:34.862473Z",
     "iopub.status.idle": "2023-01-22T14:48:35.241089Z",
     "shell.execute_reply": "2023-01-22T14:48:35.239756Z"
    },
    "papermill": {
     "duration": 0.389036,
     "end_time": "2023-01-22T14:48:35.244190",
     "exception": false,
     "start_time": "2023-01-22T14:48:34.855154",
     "status": "completed"
    },
    "tags": []
   },
   "outputs": [
    {
     "data": {
      "text/plain": [
       "(141, 8)"
      ]
     },
     "execution_count": 6,
     "metadata": {},
     "output_type": "execute_result"
    }
   ],
   "source": [
    "list_games = df_labels['game'].unique()\n",
    "train_ids, valid_ids = train_test_split(list_games, test_size=0.05, random_state=11)\n",
    "len(train_ids), len(valid_ids)"
   ]
  },
  {
   "cell_type": "code",
   "execution_count": 7,
   "id": "87b19328",
   "metadata": {
    "execution": {
     "iopub.execute_input": "2023-01-22T14:48:35.257708Z",
     "iopub.status.busy": "2023-01-22T14:48:35.257209Z",
     "iopub.status.idle": "2023-01-22T14:48:35.264796Z",
     "shell.execute_reply": "2023-01-22T14:48:35.263577Z"
    },
    "papermill": {
     "duration": 0.017841,
     "end_time": "2023-01-22T14:48:35.267688",
     "exception": false,
     "start_time": "2023-01-22T14:48:35.249847",
     "status": "completed"
    },
    "tags": []
   },
   "outputs": [
    {
     "name": "stdout",
     "output_type": "stream",
     "text": [
      "['58227' '58316' '58407' '58314' '58387' '58527' '58567' '58261' '58512'\n",
      " '58326' '58415' '58573' '58330' '58173' '58217' '58285' '58200' '58198'\n",
      " '58571' '58558' '58205' '58399' '58168' '58538' '58541' '58282' '58226'\n",
      " '58518' '58516' '58577' '58251' '58574' '58308' '58362' '58180' '58290'\n",
      " '58514' '58507' '58302' '58247' '58560' '58274' '58503' '58520' '58311'\n",
      " '58582' '58401' '58266' '58215' '58293' '58216' '58221' '58341' '58530'\n",
      " '58579' '58225' '58176' '58233' '58568' '58257' '58517' '58403' '58511'\n",
      " '58537' '58561' '58508' '58241' '58491' '58543' '58536' '58528' '58553'\n",
      " '58279' '58535' '58281' '58211' '58550' '58209' '58510' '58255' '58220'\n",
      " '58213' '58366' '58240' '58336' '58329' '58555' '58406' '58188' '58174'\n",
      " '58172' '58306' '58509' '58284' '58575' '58291' '58177' '58504' '58565'\n",
      " '58260' '58545' '58544' '58295' '58187' '58203' '58270' '58540' '58301'\n",
      " '58190' '58519' '58414' '58551' '58224' '58218' '58506' '58368' '58321'\n",
      " '58548' '58529' '58267' '58331' '58327' '58581' '58580' '58254' '58346'\n",
      " '58552' '58245' '58557' '58546' '58273' '58422' '58524' '58219' '58384'\n",
      " '58332' '58354' '58202' '58382' '58418' '58377']\n",
      "['58526' '58348' '58564' '58297' '58525' '58189' '58325' '58204']\n"
     ]
    }
   ],
   "source": [
    "print(train_ids)\n",
    "print(valid_ids)"
   ]
  },
  {
   "cell_type": "markdown",
   "id": "1076697e",
   "metadata": {
    "execution": {
     "iopub.execute_input": "2023-01-21T09:18:06.803729Z",
     "iopub.status.busy": "2023-01-21T09:18:06.803335Z",
     "iopub.status.idle": "2023-01-21T09:18:06.809041Z",
     "shell.execute_reply": "2023-01-21T09:18:06.807912Z",
     "shell.execute_reply.started": "2023-01-21T09:18:06.803696Z"
    },
    "papermill": {
     "duration": 0.005404,
     "end_time": "2023-01-22T14:48:35.278855",
     "exception": false,
     "start_time": "2023-01-22T14:48:35.273451",
     "status": "completed"
    },
    "tags": []
   },
   "source": [
    "## Save dataset"
   ]
  },
  {
   "cell_type": "code",
   "execution_count": 8,
   "id": "60bc8f28",
   "metadata": {
    "execution": {
     "iopub.execute_input": "2023-01-22T14:48:35.292367Z",
     "iopub.status.busy": "2023-01-22T14:48:35.291844Z",
     "iopub.status.idle": "2023-01-22T14:48:39.057581Z",
     "shell.execute_reply": "2023-01-22T14:48:39.055969Z"
    },
    "papermill": {
     "duration": 3.77624,
     "end_time": "2023-01-22T14:48:39.060625",
     "exception": false,
     "start_time": "2023-01-22T14:48:35.284385",
     "status": "completed"
    },
    "tags": []
   },
   "outputs": [],
   "source": [
    "df_train_p2p_all = df_labels[df_labels['nfl_player_id_2']!='G']\n",
    "df_train_p2g_all = df_labels[df_labels['nfl_player_id_2']=='G']"
   ]
  },
  {
   "cell_type": "code",
   "execution_count": 9,
   "id": "5a456e28",
   "metadata": {
    "execution": {
     "iopub.execute_input": "2023-01-22T14:48:39.077084Z",
     "iopub.status.busy": "2023-01-22T14:48:39.076486Z",
     "iopub.status.idle": "2023-01-22T14:48:40.509712Z",
     "shell.execute_reply": "2023-01-22T14:48:40.508090Z"
    },
    "papermill": {
     "duration": 1.446515,
     "end_time": "2023-01-22T14:48:40.513233",
     "exception": false,
     "start_time": "2023-01-22T14:48:39.066718",
     "status": "completed"
    },
    "tags": []
   },
   "outputs": [],
   "source": [
    "df_train_all = df_labels[df_labels['game'].isin(train_ids)]\n",
    "df_valid_all = df_labels[df_labels['game'].isin(valid_ids)]"
   ]
  },
  {
   "cell_type": "code",
   "execution_count": 10,
   "id": "c9b90692",
   "metadata": {
    "execution": {
     "iopub.execute_input": "2023-01-22T14:48:40.530355Z",
     "iopub.status.busy": "2023-01-22T14:48:40.528765Z",
     "iopub.status.idle": "2023-01-22T14:48:43.538228Z",
     "shell.execute_reply": "2023-01-22T14:48:43.536929Z"
    },
    "papermill": {
     "duration": 3.021415,
     "end_time": "2023-01-22T14:48:43.541717",
     "exception": false,
     "start_time": "2023-01-22T14:48:40.520302",
     "status": "completed"
    },
    "tags": []
   },
   "outputs": [],
   "source": [
    "df_train_p2p = df_labels[df_labels['game'].isin(train_ids) & (df_labels['nfl_player_id_2']!='G')]\n",
    "df_train_p2g = df_labels[df_labels['game'].isin(train_ids) & (df_labels['nfl_player_id_2']=='G')]\n",
    "df_valid_p2p = df_labels[df_labels['game'].isin(valid_ids) & (df_labels['nfl_player_id_2']!='G')]\n",
    "df_valid_p2g = df_labels[df_labels['game'].isin(valid_ids) & (df_labels['nfl_player_id_2']=='G')]"
   ]
  },
  {
   "cell_type": "code",
   "execution_count": 11,
   "id": "da27ca00",
   "metadata": {
    "execution": {
     "iopub.execute_input": "2023-01-22T14:48:43.556274Z",
     "iopub.status.busy": "2023-01-22T14:48:43.555728Z",
     "iopub.status.idle": "2023-01-22T14:48:43.585224Z",
     "shell.execute_reply": "2023-01-22T14:48:43.583589Z"
    },
    "papermill": {
     "duration": 0.040502,
     "end_time": "2023-01-22T14:48:43.588405",
     "exception": false,
     "start_time": "2023-01-22T14:48:43.547903",
     "status": "completed"
    },
    "tags": []
   },
   "outputs": [
    {
     "data": {
      "text/html": [
       "<div>\n",
       "<style scoped>\n",
       "    .dataframe tbody tr th:only-of-type {\n",
       "        vertical-align: middle;\n",
       "    }\n",
       "\n",
       "    .dataframe tbody tr th {\n",
       "        vertical-align: top;\n",
       "    }\n",
       "\n",
       "    .dataframe thead th {\n",
       "        text-align: right;\n",
       "    }\n",
       "</style>\n",
       "<table border=\"1\" class=\"dataframe\">\n",
       "  <thead>\n",
       "    <tr style=\"text-align: right;\">\n",
       "      <th></th>\n",
       "      <th>contact_id</th>\n",
       "      <th>game_play</th>\n",
       "      <th>datetime</th>\n",
       "      <th>step</th>\n",
       "      <th>nfl_player_id_1</th>\n",
       "      <th>nfl_player_id_2</th>\n",
       "      <th>contact</th>\n",
       "      <th>game</th>\n",
       "      <th>play</th>\n",
       "    </tr>\n",
       "  </thead>\n",
       "  <tbody>\n",
       "    <tr>\n",
       "      <th>351923</th>\n",
       "      <td>58189_002566_0_38947_46076</td>\n",
       "      <td>58189_002566</td>\n",
       "      <td>2020-09-20T19:33:09.100Z</td>\n",
       "      <td>0</td>\n",
       "      <td>38947</td>\n",
       "      <td>46076</td>\n",
       "      <td>0</td>\n",
       "      <td>58189</td>\n",
       "      <td>002566</td>\n",
       "    </tr>\n",
       "    <tr>\n",
       "      <th>351924</th>\n",
       "      <td>58189_002566_0_38947_41320</td>\n",
       "      <td>58189_002566</td>\n",
       "      <td>2020-09-20T19:33:09.100Z</td>\n",
       "      <td>0</td>\n",
       "      <td>38947</td>\n",
       "      <td>41320</td>\n",
       "      <td>0</td>\n",
       "      <td>58189</td>\n",
       "      <td>002566</td>\n",
       "    </tr>\n",
       "    <tr>\n",
       "      <th>351925</th>\n",
       "      <td>58189_002566_0_38947_42392</td>\n",
       "      <td>58189_002566</td>\n",
       "      <td>2020-09-20T19:33:09.100Z</td>\n",
       "      <td>0</td>\n",
       "      <td>38947</td>\n",
       "      <td>42392</td>\n",
       "      <td>0</td>\n",
       "      <td>58189</td>\n",
       "      <td>002566</td>\n",
       "    </tr>\n",
       "    <tr>\n",
       "      <th>351926</th>\n",
       "      <td>58189_002566_0_38947_47796</td>\n",
       "      <td>58189_002566</td>\n",
       "      <td>2020-09-20T19:33:09.100Z</td>\n",
       "      <td>0</td>\n",
       "      <td>38947</td>\n",
       "      <td>47796</td>\n",
       "      <td>0</td>\n",
       "      <td>58189</td>\n",
       "      <td>002566</td>\n",
       "    </tr>\n",
       "    <tr>\n",
       "      <th>351927</th>\n",
       "      <td>58189_002566_0_38947_43327</td>\n",
       "      <td>58189_002566</td>\n",
       "      <td>2020-09-20T19:33:09.100Z</td>\n",
       "      <td>0</td>\n",
       "      <td>38947</td>\n",
       "      <td>43327</td>\n",
       "      <td>0</td>\n",
       "      <td>58189</td>\n",
       "      <td>002566</td>\n",
       "    </tr>\n",
       "    <tr>\n",
       "      <th>...</th>\n",
       "      <td>...</td>\n",
       "      <td>...</td>\n",
       "      <td>...</td>\n",
       "      <td>...</td>\n",
       "      <td>...</td>\n",
       "      <td>...</td>\n",
       "      <td>...</td>\n",
       "      <td>...</td>\n",
       "      <td>...</td>\n",
       "    </tr>\n",
       "    <tr>\n",
       "      <th>4432687</th>\n",
       "      <td>58564_000452_63_52697_G</td>\n",
       "      <td>58564_000452</td>\n",
       "      <td>2021-10-03T20:38:51.400Z</td>\n",
       "      <td>63</td>\n",
       "      <td>52697</td>\n",
       "      <td>G</td>\n",
       "      <td>0</td>\n",
       "      <td>58564</td>\n",
       "      <td>000452</td>\n",
       "    </tr>\n",
       "    <tr>\n",
       "      <th>4432688</th>\n",
       "      <td>58564_000452_63_41296_G</td>\n",
       "      <td>58564_000452</td>\n",
       "      <td>2021-10-03T20:38:51.400Z</td>\n",
       "      <td>63</td>\n",
       "      <td>41296</td>\n",
       "      <td>G</td>\n",
       "      <td>0</td>\n",
       "      <td>58564</td>\n",
       "      <td>000452</td>\n",
       "    </tr>\n",
       "    <tr>\n",
       "      <th>4432689</th>\n",
       "      <td>58564_000452_63_41282_G</td>\n",
       "      <td>58564_000452</td>\n",
       "      <td>2021-10-03T20:38:51.400Z</td>\n",
       "      <td>63</td>\n",
       "      <td>41282</td>\n",
       "      <td>G</td>\n",
       "      <td>0</td>\n",
       "      <td>58564</td>\n",
       "      <td>000452</td>\n",
       "    </tr>\n",
       "    <tr>\n",
       "      <th>4432690</th>\n",
       "      <td>58564_000452_63_37139_G</td>\n",
       "      <td>58564_000452</td>\n",
       "      <td>2021-10-03T20:38:51.400Z</td>\n",
       "      <td>63</td>\n",
       "      <td>37139</td>\n",
       "      <td>G</td>\n",
       "      <td>0</td>\n",
       "      <td>58564</td>\n",
       "      <td>000452</td>\n",
       "    </tr>\n",
       "    <tr>\n",
       "      <th>4432691</th>\n",
       "      <td>58564_000452_63_35446_G</td>\n",
       "      <td>58564_000452</td>\n",
       "      <td>2021-10-03T20:38:51.400Z</td>\n",
       "      <td>63</td>\n",
       "      <td>35446</td>\n",
       "      <td>G</td>\n",
       "      <td>0</td>\n",
       "      <td>58564</td>\n",
       "      <td>000452</td>\n",
       "    </tr>\n",
       "  </tbody>\n",
       "</table>\n",
       "<p>302082 rows × 9 columns</p>\n",
       "</div>"
      ],
      "text/plain": [
       "                         contact_id     game_play                  datetime  \\\n",
       "351923   58189_002566_0_38947_46076  58189_002566  2020-09-20T19:33:09.100Z   \n",
       "351924   58189_002566_0_38947_41320  58189_002566  2020-09-20T19:33:09.100Z   \n",
       "351925   58189_002566_0_38947_42392  58189_002566  2020-09-20T19:33:09.100Z   \n",
       "351926   58189_002566_0_38947_47796  58189_002566  2020-09-20T19:33:09.100Z   \n",
       "351927   58189_002566_0_38947_43327  58189_002566  2020-09-20T19:33:09.100Z   \n",
       "...                             ...           ...                       ...   \n",
       "4432687     58564_000452_63_52697_G  58564_000452  2021-10-03T20:38:51.400Z   \n",
       "4432688     58564_000452_63_41296_G  58564_000452  2021-10-03T20:38:51.400Z   \n",
       "4432689     58564_000452_63_41282_G  58564_000452  2021-10-03T20:38:51.400Z   \n",
       "4432690     58564_000452_63_37139_G  58564_000452  2021-10-03T20:38:51.400Z   \n",
       "4432691     58564_000452_63_35446_G  58564_000452  2021-10-03T20:38:51.400Z   \n",
       "\n",
       "        step nfl_player_id_1 nfl_player_id_2  contact   game    play  \n",
       "351923     0           38947           46076        0  58189  002566  \n",
       "351924     0           38947           41320        0  58189  002566  \n",
       "351925     0           38947           42392        0  58189  002566  \n",
       "351926     0           38947           47796        0  58189  002566  \n",
       "351927     0           38947           43327        0  58189  002566  \n",
       "...      ...             ...             ...      ...    ...     ...  \n",
       "4432687   63           52697               G        0  58564  000452  \n",
       "4432688   63           41296               G        0  58564  000452  \n",
       "4432689   63           41282               G        0  58564  000452  \n",
       "4432690   63           37139               G        0  58564  000452  \n",
       "4432691   63           35446               G        0  58564  000452  \n",
       "\n",
       "[302082 rows x 9 columns]"
      ]
     },
     "execution_count": 11,
     "metadata": {},
     "output_type": "execute_result"
    }
   ],
   "source": [
    "df_valid_all"
   ]
  },
  {
   "cell_type": "code",
   "execution_count": 12,
   "id": "23fb6a09",
   "metadata": {
    "execution": {
     "iopub.execute_input": "2023-01-22T14:48:43.604010Z",
     "iopub.status.busy": "2023-01-22T14:48:43.602916Z",
     "iopub.status.idle": "2023-01-22T14:50:04.991215Z",
     "shell.execute_reply": "2023-01-22T14:50:04.989604Z"
    },
    "papermill": {
     "duration": 81.400149,
     "end_time": "2023-01-22T14:50:04.995062",
     "exception": false,
     "start_time": "2023-01-22T14:48:43.594913",
     "status": "completed"
    },
    "tags": []
   },
   "outputs": [],
   "source": [
    "df_labels.to_csv('train_labels.csv')\n",
    "df_train_all.to_csv('train_labels_all.csv') \n",
    "df_valid_all.to_csv('valid_labels_all.csv')\n",
    "df_train_p2p.to_csv('train_labels_p2p.csv')\n",
    "df_train_p2g.to_csv('train_labels_p2g.csv')\n",
    "df_valid_p2p.to_csv('valid_labels_p2p.csv')\n",
    "df_valid_p2g.to_csv('valid_labels_p2g.csv')\n",
    "df_train_p2p_all.to_csv('train_p2p_all.csv')\n",
    "df_train_p2g_all.to_csv('train_p2g_all.csv')"
   ]
  },
  {
   "cell_type": "code",
   "execution_count": 13,
   "id": "41eb9491",
   "metadata": {
    "execution": {
     "iopub.execute_input": "2023-01-22T14:50:05.011011Z",
     "iopub.status.busy": "2023-01-22T14:50:05.009652Z",
     "iopub.status.idle": "2023-01-22T14:50:06.218248Z",
     "shell.execute_reply": "2023-01-22T14:50:06.216386Z"
    },
    "papermill": {
     "duration": 1.220545,
     "end_time": "2023-01-22T14:50:06.221651",
     "exception": false,
     "start_time": "2023-01-22T14:50:05.001106",
     "status": "completed"
    },
    "tags": []
   },
   "outputs": [
    {
     "name": "stdout",
     "output_type": "stream",
     "text": [
      "__notebook__.ipynb    train_labels_p2p.csv  valid_labels_p2g.csv\r\n",
      "train_labels.csv      train_p2g_all.csv     valid_labels_p2p.csv\r\n",
      "train_labels_all.csv  train_p2p_all.csv\r\n",
      "train_labels_p2g.csv  valid_labels_all.csv\r\n"
     ]
    }
   ],
   "source": [
    "!ls"
   ]
  },
  {
   "cell_type": "markdown",
   "id": "69eb7bd1",
   "metadata": {
    "papermill": {
     "duration": 0.006084,
     "end_time": "2023-01-22T14:50:06.234298",
     "exception": false,
     "start_time": "2023-01-22T14:50:06.228214",
     "status": "completed"
    },
    "tags": []
   },
   "source": [
    "## Test"
   ]
  },
  {
   "cell_type": "code",
   "execution_count": 14,
   "id": "054276e9",
   "metadata": {
    "execution": {
     "iopub.execute_input": "2023-01-22T14:50:06.250277Z",
     "iopub.status.busy": "2023-01-22T14:50:06.249699Z",
     "iopub.status.idle": "2023-01-22T14:50:06.482903Z",
     "shell.execute_reply": "2023-01-22T14:50:06.481424Z"
    },
    "papermill": {
     "duration": 0.245345,
     "end_time": "2023-01-22T14:50:06.486291",
     "exception": false,
     "start_time": "2023-01-22T14:50:06.240946",
     "status": "completed"
    },
    "tags": []
   },
   "outputs": [],
   "source": [
    "df_test_labels = CFG.expand_contact_id(pd.read_csv(CFG.test_sub_dir))"
   ]
  },
  {
   "cell_type": "code",
   "execution_count": 15,
   "id": "a8269517",
   "metadata": {
    "execution": {
     "iopub.execute_input": "2023-01-22T14:50:06.502588Z",
     "iopub.status.busy": "2023-01-22T14:50:06.501149Z",
     "iopub.status.idle": "2023-01-22T14:50:06.539617Z",
     "shell.execute_reply": "2023-01-22T14:50:06.538217Z"
    },
    "papermill": {
     "duration": 0.050374,
     "end_time": "2023-01-22T14:50:06.542979",
     "exception": false,
     "start_time": "2023-01-22T14:50:06.492605",
     "status": "completed"
    },
    "tags": []
   },
   "outputs": [],
   "source": [
    "df_test_p2p = df_test_labels[df_test_labels['nfl_player_id_2']!='G']\n",
    "df_test_p2g = df_test_labels[df_test_labels['nfl_player_id_2']=='G']"
   ]
  },
  {
   "cell_type": "code",
   "execution_count": 16,
   "id": "80b3ddd1",
   "metadata": {
    "execution": {
     "iopub.execute_input": "2023-01-22T14:50:06.558074Z",
     "iopub.status.busy": "2023-01-22T14:50:06.556833Z",
     "iopub.status.idle": "2023-01-22T14:50:06.566508Z",
     "shell.execute_reply": "2023-01-22T14:50:06.565149Z"
    },
    "papermill": {
     "duration": 0.020372,
     "end_time": "2023-01-22T14:50:06.569434",
     "exception": false,
     "start_time": "2023-01-22T14:50:06.549062",
     "status": "completed"
    },
    "tags": []
   },
   "outputs": [
    {
     "data": {
      "text/plain": [
       "(45276, 4312)"
      ]
     },
     "execution_count": 16,
     "metadata": {},
     "output_type": "execute_result"
    }
   ],
   "source": [
    "len(df_test_p2p), len(df_test_p2g)"
   ]
  },
  {
   "cell_type": "code",
   "execution_count": null,
   "id": "0423b5fb",
   "metadata": {
    "papermill": {
     "duration": 0.005911,
     "end_time": "2023-01-22T14:50:06.582113",
     "exception": false,
     "start_time": "2023-01-22T14:50:06.576202",
     "status": "completed"
    },
    "tags": []
   },
   "outputs": [],
   "source": []
  }
 ],
 "metadata": {
  "kernelspec": {
   "display_name": "Python 3",
   "language": "python",
   "name": "python3"
  },
  "language_info": {
   "codemirror_mode": {
    "name": "ipython",
    "version": 3
   },
   "file_extension": ".py",
   "mimetype": "text/x-python",
   "name": "python",
   "nbconvert_exporter": "python",
   "pygments_lexer": "ipython3",
   "version": "3.7.12"
  },
  "papermill": {
   "default_parameters": {},
   "duration": 140.90202,
   "end_time": "2023-01-22T14:50:09.312346",
   "environment_variables": {},
   "exception": null,
   "input_path": "__notebook__.ipynb",
   "output_path": "__notebook__.ipynb",
   "parameters": {},
   "start_time": "2023-01-22T14:47:48.410326",
   "version": "2.3.4"
  }
 },
 "nbformat": 4,
 "nbformat_minor": 5
}
