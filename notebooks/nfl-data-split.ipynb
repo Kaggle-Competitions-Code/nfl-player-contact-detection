{
 "cells": [
  {
   "cell_type": "code",
   "execution_count": 1,
   "id": "dc08ae36",
   "metadata": {
    "execution": {
     "iopub.execute_input": "2023-01-21T14:42:30.220722Z",
     "iopub.status.busy": "2023-01-21T14:42:30.220192Z",
     "iopub.status.idle": "2023-01-21T14:42:31.526830Z",
     "shell.execute_reply": "2023-01-21T14:42:31.525537Z"
    },
    "papermill": {
     "duration": 1.3175,
     "end_time": "2023-01-21T14:42:31.529760",
     "exception": false,
     "start_time": "2023-01-21T14:42:30.212260",
     "status": "completed"
    },
    "tags": []
   },
   "outputs": [],
   "source": [
    "import pandas as pd\n",
    "import os\n",
    "from sklearn.model_selection import train_test_split"
   ]
  },
  {
   "cell_type": "code",
   "execution_count": 2,
   "id": "53c30f9c",
   "metadata": {
    "execution": {
     "iopub.execute_input": "2023-01-21T14:42:31.542473Z",
     "iopub.status.busy": "2023-01-21T14:42:31.542017Z",
     "iopub.status.idle": "2023-01-21T14:42:32.649170Z",
     "shell.execute_reply": "2023-01-21T14:42:32.647589Z"
    },
    "papermill": {
     "duration": 1.11655,
     "end_time": "2023-01-21T14:42:32.652044",
     "exception": false,
     "start_time": "2023-01-21T14:42:31.535494",
     "status": "completed"
    },
    "tags": []
   },
   "outputs": [
    {
     "name": "stdout",
     "output_type": "stream",
     "text": [
      "sample_submission.csv\t   train\r\n",
      "test\t\t\t   train_baseline_helmets.csv\r\n",
      "test_baseline_helmets.csv  train_labels.csv\r\n",
      "test_player_tracking.csv   train_player_tracking.csv\r\n",
      "test_video_metadata.csv    train_video_metadata.csv\r\n"
     ]
    }
   ],
   "source": [
    "!ls /kaggle/input/nfl-player-contact-detection"
   ]
  },
  {
   "cell_type": "code",
   "execution_count": 3,
   "id": "79b3bfa4",
   "metadata": {
    "execution": {
     "iopub.execute_input": "2023-01-21T14:42:32.665062Z",
     "iopub.status.busy": "2023-01-21T14:42:32.664617Z",
     "iopub.status.idle": "2023-01-21T14:42:33.777946Z",
     "shell.execute_reply": "2023-01-21T14:42:33.776575Z"
    },
    "papermill": {
     "duration": 1.12354,
     "end_time": "2023-01-21T14:42:33.781125",
     "exception": false,
     "start_time": "2023-01-21T14:42:32.657585",
     "status": "completed"
    },
    "tags": []
   },
   "outputs": [
    {
     "name": "stdout",
     "output_type": "stream",
     "text": [
      "__notebook__.ipynb\r\n"
     ]
    }
   ],
   "source": [
    "!ls /kaggle/working/"
   ]
  },
  {
   "cell_type": "code",
   "execution_count": 4,
   "id": "68ef17b6",
   "metadata": {
    "execution": {
     "iopub.execute_input": "2023-01-21T14:42:33.793345Z",
     "iopub.status.busy": "2023-01-21T14:42:33.792903Z",
     "iopub.status.idle": "2023-01-21T14:42:33.802716Z",
     "shell.execute_reply": "2023-01-21T14:42:33.801542Z"
    },
    "papermill": {
     "duration": 0.018523,
     "end_time": "2023-01-21T14:42:33.804816",
     "exception": false,
     "start_time": "2023-01-21T14:42:33.786293",
     "status": "completed"
    },
    "tags": []
   },
   "outputs": [],
   "source": [
    "class CFG:\n",
    "    input_dir = '/kaggle/input/nfl-player-contact-detection'\n",
    "    # --------------------- FIXED --------------------- #\n",
    "    train_labels_dir = os.path.join(input_dir, 'train_labels.csv')\n",
    "    test_sub_dir = os.path.join(input_dir, 'sample_submission.csv')\n",
    "    \n",
    "    def expand_contact_id(df):\n",
    "        df['game_play'] = df['contact_id'].str[:12]\n",
    "        df['game'] = df['contact_id'].apply(lambda s: s.split('_')[0])\n",
    "        df['play'] = df['contact_id'].apply(lambda s: s.split('_')[1])\n",
    "        df['step'] = df['contact_id'].apply(lambda s: s.split('_')[2])\n",
    "        df['nfl_player_id_1'] = df['contact_id'].apply(lambda s: s.split('_')[-2])\n",
    "        df['nfl_player_id_2'] = df['contact_id'].apply(lambda s: s.split('_')[-1])\n",
    "        return df"
   ]
  },
  {
   "cell_type": "code",
   "execution_count": 5,
   "id": "56ee474d",
   "metadata": {
    "execution": {
     "iopub.execute_input": "2023-01-21T14:42:33.817622Z",
     "iopub.status.busy": "2023-01-21T14:42:33.816845Z",
     "iopub.status.idle": "2023-01-21T14:43:02.929941Z",
     "shell.execute_reply": "2023-01-21T14:43:02.928707Z"
    },
    "papermill": {
     "duration": 29.122783,
     "end_time": "2023-01-21T14:43:02.933075",
     "exception": false,
     "start_time": "2023-01-21T14:42:33.810292",
     "status": "completed"
    },
    "tags": []
   },
   "outputs": [],
   "source": [
    "df_labels = CFG.expand_contact_id(pd.read_csv(CFG.train_labels_dir))\n",
    "df_labels['game'] = df_labels['game_play'].apply(lambda s: s.split('_')[0])\n",
    "df_games_count = (df_labels.groupby('game').size().reset_index(name='count')\n",
    "                  .sort_values(by='count', ascending=False))"
   ]
  },
  {
   "cell_type": "code",
   "execution_count": 6,
   "id": "f97f72e0",
   "metadata": {
    "execution": {
     "iopub.execute_input": "2023-01-21T14:43:02.946762Z",
     "iopub.status.busy": "2023-01-21T14:43:02.944816Z",
     "iopub.status.idle": "2023-01-21T14:43:03.294396Z",
     "shell.execute_reply": "2023-01-21T14:43:03.293286Z"
    },
    "papermill": {
     "duration": 0.358645,
     "end_time": "2023-01-21T14:43:03.296992",
     "exception": false,
     "start_time": "2023-01-21T14:43:02.938347",
     "status": "completed"
    },
    "tags": []
   },
   "outputs": [
    {
     "data": {
      "text/plain": [
       "(141, 8)"
      ]
     },
     "execution_count": 6,
     "metadata": {},
     "output_type": "execute_result"
    }
   ],
   "source": [
    "list_games = df_labels['game'].unique()\n",
    "train_ids, valid_ids = train_test_split(list_games, test_size=0.05, random_state=11)\n",
    "len(train_ids), len(valid_ids)"
   ]
  },
  {
   "cell_type": "code",
   "execution_count": 7,
   "id": "f352d271",
   "metadata": {
    "execution": {
     "iopub.execute_input": "2023-01-21T14:43:03.310148Z",
     "iopub.status.busy": "2023-01-21T14:43:03.309451Z",
     "iopub.status.idle": "2023-01-21T14:43:03.316015Z",
     "shell.execute_reply": "2023-01-21T14:43:03.314888Z"
    },
    "papermill": {
     "duration": 0.016141,
     "end_time": "2023-01-21T14:43:03.318781",
     "exception": false,
     "start_time": "2023-01-21T14:43:03.302640",
     "status": "completed"
    },
    "tags": []
   },
   "outputs": [
    {
     "name": "stdout",
     "output_type": "stream",
     "text": [
      "['58227' '58316' '58407' '58314' '58387' '58527' '58567' '58261' '58512'\n",
      " '58326' '58415' '58573' '58330' '58173' '58217' '58285' '58200' '58198'\n",
      " '58571' '58558' '58205' '58399' '58168' '58538' '58541' '58282' '58226'\n",
      " '58518' '58516' '58577' '58251' '58574' '58308' '58362' '58180' '58290'\n",
      " '58514' '58507' '58302' '58247' '58560' '58274' '58503' '58520' '58311'\n",
      " '58582' '58401' '58266' '58215' '58293' '58216' '58221' '58341' '58530'\n",
      " '58579' '58225' '58176' '58233' '58568' '58257' '58517' '58403' '58511'\n",
      " '58537' '58561' '58508' '58241' '58491' '58543' '58536' '58528' '58553'\n",
      " '58279' '58535' '58281' '58211' '58550' '58209' '58510' '58255' '58220'\n",
      " '58213' '58366' '58240' '58336' '58329' '58555' '58406' '58188' '58174'\n",
      " '58172' '58306' '58509' '58284' '58575' '58291' '58177' '58504' '58565'\n",
      " '58260' '58545' '58544' '58295' '58187' '58203' '58270' '58540' '58301'\n",
      " '58190' '58519' '58414' '58551' '58224' '58218' '58506' '58368' '58321'\n",
      " '58548' '58529' '58267' '58331' '58327' '58581' '58580' '58254' '58346'\n",
      " '58552' '58245' '58557' '58546' '58273' '58422' '58524' '58219' '58384'\n",
      " '58332' '58354' '58202' '58382' '58418' '58377']\n",
      "['58526' '58348' '58564' '58297' '58525' '58189' '58325' '58204']\n"
     ]
    }
   ],
   "source": [
    "print(train_ids)\n",
    "print(valid_ids)"
   ]
  },
  {
   "cell_type": "markdown",
   "id": "442a4a29",
   "metadata": {
    "execution": {
     "iopub.execute_input": "2023-01-21T09:18:06.803729Z",
     "iopub.status.busy": "2023-01-21T09:18:06.803335Z",
     "iopub.status.idle": "2023-01-21T09:18:06.809041Z",
     "shell.execute_reply": "2023-01-21T09:18:06.807912Z",
     "shell.execute_reply.started": "2023-01-21T09:18:06.803696Z"
    },
    "papermill": {
     "duration": 0.005177,
     "end_time": "2023-01-21T14:43:03.330088",
     "exception": false,
     "start_time": "2023-01-21T14:43:03.324911",
     "status": "completed"
    },
    "tags": []
   },
   "source": [
    "## Save dataset"
   ]
  },
  {
   "cell_type": "code",
   "execution_count": 8,
   "id": "5eab9ba7",
   "metadata": {
    "execution": {
     "iopub.execute_input": "2023-01-21T14:43:03.342755Z",
     "iopub.status.busy": "2023-01-21T14:43:03.342340Z",
     "iopub.status.idle": "2023-01-21T14:43:06.518280Z",
     "shell.execute_reply": "2023-01-21T14:43:06.517307Z"
    },
    "papermill": {
     "duration": 3.185533,
     "end_time": "2023-01-21T14:43:06.521066",
     "exception": false,
     "start_time": "2023-01-21T14:43:03.335533",
     "status": "completed"
    },
    "tags": []
   },
   "outputs": [],
   "source": [
    "df_train_p2p_all = df_labels[df_labels['nfl_player_id_2']!='G']\n",
    "df_train_p2g_all = df_labels[df_labels['nfl_player_id_2']=='G']"
   ]
  },
  {
   "cell_type": "code",
   "execution_count": 9,
   "id": "0497dff5",
   "metadata": {
    "execution": {
     "iopub.execute_input": "2023-01-21T14:43:06.536139Z",
     "iopub.status.busy": "2023-01-21T14:43:06.535457Z",
     "iopub.status.idle": "2023-01-21T14:43:07.778063Z",
     "shell.execute_reply": "2023-01-21T14:43:07.776959Z"
    },
    "papermill": {
     "duration": 1.253904,
     "end_time": "2023-01-21T14:43:07.780924",
     "exception": false,
     "start_time": "2023-01-21T14:43:06.527020",
     "status": "completed"
    },
    "tags": []
   },
   "outputs": [],
   "source": [
    "df_train_all = df_labels[df_labels['game'].isin(train_ids)]\n",
    "df_valid_all = df_labels[df_labels['game'].isin(valid_ids)]"
   ]
  },
  {
   "cell_type": "code",
   "execution_count": 10,
   "id": "7865b5be",
   "metadata": {
    "execution": {
     "iopub.execute_input": "2023-01-21T14:43:07.793838Z",
     "iopub.status.busy": "2023-01-21T14:43:07.793331Z",
     "iopub.status.idle": "2023-01-21T14:43:10.567387Z",
     "shell.execute_reply": "2023-01-21T14:43:10.566532Z"
    },
    "papermill": {
     "duration": 2.783801,
     "end_time": "2023-01-21T14:43:10.570188",
     "exception": false,
     "start_time": "2023-01-21T14:43:07.786387",
     "status": "completed"
    },
    "tags": []
   },
   "outputs": [],
   "source": [
    "df_train_p2p = df_labels[df_labels['game'].isin(train_ids) & (df_labels['nfl_player_id_2']!='G')]\n",
    "df_train_p2g = df_labels[df_labels['game'].isin(train_ids) & (df_labels['nfl_player_id_2']=='G')]\n",
    "df_valid_p2p = df_labels[df_labels['game'].isin(valid_ids) & (df_labels['nfl_player_id_2']!='G')]\n",
    "df_valid_p2g = df_labels[df_labels['game'].isin(valid_ids) & (df_labels['nfl_player_id_2']=='G')]"
   ]
  },
  {
   "cell_type": "code",
   "execution_count": 11,
   "id": "c1c00571",
   "metadata": {
    "execution": {
     "iopub.execute_input": "2023-01-21T14:43:10.583201Z",
     "iopub.status.busy": "2023-01-21T14:43:10.582779Z",
     "iopub.status.idle": "2023-01-21T14:43:10.609656Z",
     "shell.execute_reply": "2023-01-21T14:43:10.608199Z"
    },
    "papermill": {
     "duration": 0.036358,
     "end_time": "2023-01-21T14:43:10.612273",
     "exception": false,
     "start_time": "2023-01-21T14:43:10.575915",
     "status": "completed"
    },
    "tags": []
   },
   "outputs": [
    {
     "data": {
      "text/html": [
       "<div>\n",
       "<style scoped>\n",
       "    .dataframe tbody tr th:only-of-type {\n",
       "        vertical-align: middle;\n",
       "    }\n",
       "\n",
       "    .dataframe tbody tr th {\n",
       "        vertical-align: top;\n",
       "    }\n",
       "\n",
       "    .dataframe thead th {\n",
       "        text-align: right;\n",
       "    }\n",
       "</style>\n",
       "<table border=\"1\" class=\"dataframe\">\n",
       "  <thead>\n",
       "    <tr style=\"text-align: right;\">\n",
       "      <th></th>\n",
       "      <th>contact_id</th>\n",
       "      <th>game_play</th>\n",
       "      <th>datetime</th>\n",
       "      <th>step</th>\n",
       "      <th>nfl_player_id_1</th>\n",
       "      <th>nfl_player_id_2</th>\n",
       "      <th>contact</th>\n",
       "      <th>game</th>\n",
       "      <th>play</th>\n",
       "    </tr>\n",
       "  </thead>\n",
       "  <tbody>\n",
       "    <tr>\n",
       "      <th>351923</th>\n",
       "      <td>58189_002566_0_38947_46076</td>\n",
       "      <td>58189_002566</td>\n",
       "      <td>2020-09-20T19:33:09.100Z</td>\n",
       "      <td>0</td>\n",
       "      <td>38947</td>\n",
       "      <td>46076</td>\n",
       "      <td>0</td>\n",
       "      <td>58189</td>\n",
       "      <td>002566</td>\n",
       "    </tr>\n",
       "    <tr>\n",
       "      <th>351924</th>\n",
       "      <td>58189_002566_0_38947_41320</td>\n",
       "      <td>58189_002566</td>\n",
       "      <td>2020-09-20T19:33:09.100Z</td>\n",
       "      <td>0</td>\n",
       "      <td>38947</td>\n",
       "      <td>41320</td>\n",
       "      <td>0</td>\n",
       "      <td>58189</td>\n",
       "      <td>002566</td>\n",
       "    </tr>\n",
       "    <tr>\n",
       "      <th>351925</th>\n",
       "      <td>58189_002566_0_38947_42392</td>\n",
       "      <td>58189_002566</td>\n",
       "      <td>2020-09-20T19:33:09.100Z</td>\n",
       "      <td>0</td>\n",
       "      <td>38947</td>\n",
       "      <td>42392</td>\n",
       "      <td>0</td>\n",
       "      <td>58189</td>\n",
       "      <td>002566</td>\n",
       "    </tr>\n",
       "    <tr>\n",
       "      <th>351926</th>\n",
       "      <td>58189_002566_0_38947_47796</td>\n",
       "      <td>58189_002566</td>\n",
       "      <td>2020-09-20T19:33:09.100Z</td>\n",
       "      <td>0</td>\n",
       "      <td>38947</td>\n",
       "      <td>47796</td>\n",
       "      <td>0</td>\n",
       "      <td>58189</td>\n",
       "      <td>002566</td>\n",
       "    </tr>\n",
       "    <tr>\n",
       "      <th>351927</th>\n",
       "      <td>58189_002566_0_38947_43327</td>\n",
       "      <td>58189_002566</td>\n",
       "      <td>2020-09-20T19:33:09.100Z</td>\n",
       "      <td>0</td>\n",
       "      <td>38947</td>\n",
       "      <td>43327</td>\n",
       "      <td>0</td>\n",
       "      <td>58189</td>\n",
       "      <td>002566</td>\n",
       "    </tr>\n",
       "    <tr>\n",
       "      <th>...</th>\n",
       "      <td>...</td>\n",
       "      <td>...</td>\n",
       "      <td>...</td>\n",
       "      <td>...</td>\n",
       "      <td>...</td>\n",
       "      <td>...</td>\n",
       "      <td>...</td>\n",
       "      <td>...</td>\n",
       "      <td>...</td>\n",
       "    </tr>\n",
       "    <tr>\n",
       "      <th>4432687</th>\n",
       "      <td>58564_000452_63_52697_G</td>\n",
       "      <td>58564_000452</td>\n",
       "      <td>2021-10-03T20:38:51.400Z</td>\n",
       "      <td>63</td>\n",
       "      <td>52697</td>\n",
       "      <td>G</td>\n",
       "      <td>0</td>\n",
       "      <td>58564</td>\n",
       "      <td>000452</td>\n",
       "    </tr>\n",
       "    <tr>\n",
       "      <th>4432688</th>\n",
       "      <td>58564_000452_63_41296_G</td>\n",
       "      <td>58564_000452</td>\n",
       "      <td>2021-10-03T20:38:51.400Z</td>\n",
       "      <td>63</td>\n",
       "      <td>41296</td>\n",
       "      <td>G</td>\n",
       "      <td>0</td>\n",
       "      <td>58564</td>\n",
       "      <td>000452</td>\n",
       "    </tr>\n",
       "    <tr>\n",
       "      <th>4432689</th>\n",
       "      <td>58564_000452_63_41282_G</td>\n",
       "      <td>58564_000452</td>\n",
       "      <td>2021-10-03T20:38:51.400Z</td>\n",
       "      <td>63</td>\n",
       "      <td>41282</td>\n",
       "      <td>G</td>\n",
       "      <td>0</td>\n",
       "      <td>58564</td>\n",
       "      <td>000452</td>\n",
       "    </tr>\n",
       "    <tr>\n",
       "      <th>4432690</th>\n",
       "      <td>58564_000452_63_37139_G</td>\n",
       "      <td>58564_000452</td>\n",
       "      <td>2021-10-03T20:38:51.400Z</td>\n",
       "      <td>63</td>\n",
       "      <td>37139</td>\n",
       "      <td>G</td>\n",
       "      <td>0</td>\n",
       "      <td>58564</td>\n",
       "      <td>000452</td>\n",
       "    </tr>\n",
       "    <tr>\n",
       "      <th>4432691</th>\n",
       "      <td>58564_000452_63_35446_G</td>\n",
       "      <td>58564_000452</td>\n",
       "      <td>2021-10-03T20:38:51.400Z</td>\n",
       "      <td>63</td>\n",
       "      <td>35446</td>\n",
       "      <td>G</td>\n",
       "      <td>0</td>\n",
       "      <td>58564</td>\n",
       "      <td>000452</td>\n",
       "    </tr>\n",
       "  </tbody>\n",
       "</table>\n",
       "<p>302082 rows × 9 columns</p>\n",
       "</div>"
      ],
      "text/plain": [
       "                         contact_id     game_play                  datetime  \\\n",
       "351923   58189_002566_0_38947_46076  58189_002566  2020-09-20T19:33:09.100Z   \n",
       "351924   58189_002566_0_38947_41320  58189_002566  2020-09-20T19:33:09.100Z   \n",
       "351925   58189_002566_0_38947_42392  58189_002566  2020-09-20T19:33:09.100Z   \n",
       "351926   58189_002566_0_38947_47796  58189_002566  2020-09-20T19:33:09.100Z   \n",
       "351927   58189_002566_0_38947_43327  58189_002566  2020-09-20T19:33:09.100Z   \n",
       "...                             ...           ...                       ...   \n",
       "4432687     58564_000452_63_52697_G  58564_000452  2021-10-03T20:38:51.400Z   \n",
       "4432688     58564_000452_63_41296_G  58564_000452  2021-10-03T20:38:51.400Z   \n",
       "4432689     58564_000452_63_41282_G  58564_000452  2021-10-03T20:38:51.400Z   \n",
       "4432690     58564_000452_63_37139_G  58564_000452  2021-10-03T20:38:51.400Z   \n",
       "4432691     58564_000452_63_35446_G  58564_000452  2021-10-03T20:38:51.400Z   \n",
       "\n",
       "        step nfl_player_id_1 nfl_player_id_2  contact   game    play  \n",
       "351923     0           38947           46076        0  58189  002566  \n",
       "351924     0           38947           41320        0  58189  002566  \n",
       "351925     0           38947           42392        0  58189  002566  \n",
       "351926     0           38947           47796        0  58189  002566  \n",
       "351927     0           38947           43327        0  58189  002566  \n",
       "...      ...             ...             ...      ...    ...     ...  \n",
       "4432687   63           52697               G        0  58564  000452  \n",
       "4432688   63           41296               G        0  58564  000452  \n",
       "4432689   63           41282               G        0  58564  000452  \n",
       "4432690   63           37139               G        0  58564  000452  \n",
       "4432691   63           35446               G        0  58564  000452  \n",
       "\n",
       "[302082 rows x 9 columns]"
      ]
     },
     "execution_count": 11,
     "metadata": {},
     "output_type": "execute_result"
    }
   ],
   "source": [
    "df_valid_all"
   ]
  },
  {
   "cell_type": "code",
   "execution_count": 12,
   "id": "bb19a07d",
   "metadata": {
    "execution": {
     "iopub.execute_input": "2023-01-21T14:43:10.626214Z",
     "iopub.status.busy": "2023-01-21T14:43:10.625449Z",
     "iopub.status.idle": "2023-01-21T14:44:07.653156Z",
     "shell.execute_reply": "2023-01-21T14:44:07.652152Z"
    },
    "papermill": {
     "duration": 57.037899,
     "end_time": "2023-01-21T14:44:07.656105",
     "exception": false,
     "start_time": "2023-01-21T14:43:10.618206",
     "status": "completed"
    },
    "tags": []
   },
   "outputs": [],
   "source": [
    "df_labels.to_csv('train_labels.csv')\n",
    "df_train_all.to_csv('train_labels_all.csv') \n",
    "df_valid_all.to_csv('valid_labels_all.csv')\n",
    "df_train_p2p.to_csv('train_labels_p2p.csv')\n",
    "df_train_p2g.to_csv('train_labels_p2g.csv')\n",
    "df_valid_p2p.to_csv('valid_labels_p2p.csv')\n",
    "df_valid_p2g.to_csv('valid_labels_p2g.csv')"
   ]
  },
  {
   "cell_type": "code",
   "execution_count": 13,
   "id": "43dd3a2e",
   "metadata": {
    "execution": {
     "iopub.execute_input": "2023-01-21T14:44:07.670005Z",
     "iopub.status.busy": "2023-01-21T14:44:07.669331Z",
     "iopub.status.idle": "2023-01-21T14:44:08.923623Z",
     "shell.execute_reply": "2023-01-21T14:44:08.922183Z"
    },
    "papermill": {
     "duration": 1.264257,
     "end_time": "2023-01-21T14:44:08.926443",
     "exception": false,
     "start_time": "2023-01-21T14:44:07.662186",
     "status": "completed"
    },
    "tags": []
   },
   "outputs": [
    {
     "name": "stdout",
     "output_type": "stream",
     "text": [
      "__notebook__.ipynb    train_labels_p2g.csv  valid_labels_p2g.csv\r\n",
      "train_labels.csv      train_labels_p2p.csv  valid_labels_p2p.csv\r\n",
      "train_labels_all.csv  valid_labels_all.csv\r\n"
     ]
    }
   ],
   "source": [
    "!ls"
   ]
  },
  {
   "cell_type": "markdown",
   "id": "ffca4a78",
   "metadata": {
    "papermill": {
     "duration": 0.005347,
     "end_time": "2023-01-21T14:44:08.937680",
     "exception": false,
     "start_time": "2023-01-21T14:44:08.932333",
     "status": "completed"
    },
    "tags": []
   },
   "source": [
    "## Test"
   ]
  },
  {
   "cell_type": "code",
   "execution_count": 14,
   "id": "4b12e580",
   "metadata": {
    "execution": {
     "iopub.execute_input": "2023-01-21T14:44:08.951092Z",
     "iopub.status.busy": "2023-01-21T14:44:08.950599Z",
     "iopub.status.idle": "2023-01-21T14:44:09.164461Z",
     "shell.execute_reply": "2023-01-21T14:44:09.163577Z"
    },
    "papermill": {
     "duration": 0.223887,
     "end_time": "2023-01-21T14:44:09.167120",
     "exception": false,
     "start_time": "2023-01-21T14:44:08.943233",
     "status": "completed"
    },
    "tags": []
   },
   "outputs": [],
   "source": [
    "df_test_labels = CFG.expand_contact_id(pd.read_csv(CFG.test_sub_dir))"
   ]
  },
  {
   "cell_type": "code",
   "execution_count": 15,
   "id": "04d4491b",
   "metadata": {
    "execution": {
     "iopub.execute_input": "2023-01-21T14:44:09.180767Z",
     "iopub.status.busy": "2023-01-21T14:44:09.180347Z",
     "iopub.status.idle": "2023-01-21T14:44:09.212211Z",
     "shell.execute_reply": "2023-01-21T14:44:09.210989Z"
    },
    "papermill": {
     "duration": 0.042101,
     "end_time": "2023-01-21T14:44:09.215200",
     "exception": false,
     "start_time": "2023-01-21T14:44:09.173099",
     "status": "completed"
    },
    "tags": []
   },
   "outputs": [],
   "source": [
    "df_test_p2p = df_test_labels[df_test_labels['nfl_player_id_2']!='G']\n",
    "df_test_p2g = df_test_labels[df_test_labels['nfl_player_id_2']=='G']"
   ]
  },
  {
   "cell_type": "code",
   "execution_count": 16,
   "id": "79d9cdef",
   "metadata": {
    "execution": {
     "iopub.execute_input": "2023-01-21T14:44:09.228976Z",
     "iopub.status.busy": "2023-01-21T14:44:09.228554Z",
     "iopub.status.idle": "2023-01-21T14:44:09.235907Z",
     "shell.execute_reply": "2023-01-21T14:44:09.234789Z"
    },
    "papermill": {
     "duration": 0.016986,
     "end_time": "2023-01-21T14:44:09.238236",
     "exception": false,
     "start_time": "2023-01-21T14:44:09.221250",
     "status": "completed"
    },
    "tags": []
   },
   "outputs": [
    {
     "data": {
      "text/plain": [
       "(45276, 4312)"
      ]
     },
     "execution_count": 16,
     "metadata": {},
     "output_type": "execute_result"
    }
   ],
   "source": [
    "len(df_test_p2p), len(df_test_p2g)"
   ]
  },
  {
   "cell_type": "code",
   "execution_count": null,
   "id": "70b21464",
   "metadata": {
    "papermill": {
     "duration": 0.00588,
     "end_time": "2023-01-21T14:44:09.250069",
     "exception": false,
     "start_time": "2023-01-21T14:44:09.244189",
     "status": "completed"
    },
    "tags": []
   },
   "outputs": [],
   "source": []
  }
 ],
 "metadata": {
  "kernelspec": {
   "display_name": "Python 3",
   "language": "python",
   "name": "python3"
  },
  "language_info": {
   "codemirror_mode": {
    "name": "ipython",
    "version": 3
   },
   "file_extension": ".py",
   "mimetype": "text/x-python",
   "name": "python",
   "nbconvert_exporter": "python",
   "pygments_lexer": "ipython3",
   "version": "3.7.12"
  },
  "papermill": {
   "default_parameters": {},
   "duration": 110.618856,
   "end_time": "2023-01-21T14:44:11.877590",
   "environment_variables": {},
   "exception": null,
   "input_path": "__notebook__.ipynb",
   "output_path": "__notebook__.ipynb",
   "parameters": {},
   "start_time": "2023-01-21T14:42:21.258734",
   "version": "2.3.4"
  }
 },
 "nbformat": 4,
 "nbformat_minor": 5
}
