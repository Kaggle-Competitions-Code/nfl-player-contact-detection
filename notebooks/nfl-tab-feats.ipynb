{
 "cells": [
  {
   "cell_type": "code",
   "execution_count": 1,
   "id": "44b4afe1",
   "metadata": {
    "execution": {
     "iopub.execute_input": "2023-01-21T13:32:13.140813Z",
     "iopub.status.busy": "2023-01-21T13:32:13.139640Z",
     "iopub.status.idle": "2023-01-21T13:32:14.452613Z",
     "shell.execute_reply": "2023-01-21T13:32:14.450941Z"
    },
    "papermill": {
     "duration": 1.323419,
     "end_time": "2023-01-21T13:32:14.456050",
     "exception": false,
     "start_time": "2023-01-21T13:32:13.132631",
     "status": "completed"
    },
    "tags": []
   },
   "outputs": [],
   "source": [
    "import os\n",
    "import numpy as np\n",
    "import pandas as pd\n",
    "\n",
    "from sklearn.metrics import matthews_corrcoef\n",
    "from sklearn.model_selection import train_test_split"
   ]
  },
  {
   "cell_type": "code",
   "execution_count": 2,
   "id": "673ae0f3",
   "metadata": {
    "execution": {
     "iopub.execute_input": "2023-01-21T13:32:14.467246Z",
     "iopub.status.busy": "2023-01-21T13:32:14.466725Z",
     "iopub.status.idle": "2023-01-21T13:32:15.583019Z",
     "shell.execute_reply": "2023-01-21T13:32:15.581170Z"
    },
    "papermill": {
     "duration": 1.125191,
     "end_time": "2023-01-21T13:32:15.586047",
     "exception": false,
     "start_time": "2023-01-21T13:32:14.460856",
     "status": "completed"
    },
    "tags": []
   },
   "outputs": [
    {
     "name": "stdout",
     "output_type": "stream",
     "text": [
      "train_labels.csv      train_labels_p2p.csv  valid_labels_p2p.csv\r\n",
      "train_labels_all.csv  valid_labels_all.csv\r\n",
      "train_labels_p2g.csv  valid_labels_p2g.csv\r\n"
     ]
    }
   ],
   "source": [
    "!ls /kaggle/input/nfl-split"
   ]
  },
  {
   "cell_type": "code",
   "execution_count": 3,
   "id": "77ebb54e",
   "metadata": {
    "execution": {
     "iopub.execute_input": "2023-01-21T13:32:15.597338Z",
     "iopub.status.busy": "2023-01-21T13:32:15.596845Z",
     "iopub.status.idle": "2023-01-21T13:32:16.691688Z",
     "shell.execute_reply": "2023-01-21T13:32:16.690411Z"
    },
    "papermill": {
     "duration": 1.103515,
     "end_time": "2023-01-21T13:32:16.694435",
     "exception": false,
     "start_time": "2023-01-21T13:32:15.590920",
     "status": "completed"
    },
    "tags": []
   },
   "outputs": [
    {
     "name": "stdout",
     "output_type": "stream",
     "text": [
      "sample_submission.csv\t   train\r\n",
      "test\t\t\t   train_baseline_helmets.csv\r\n",
      "test_baseline_helmets.csv  train_labels.csv\r\n",
      "test_player_tracking.csv   train_player_tracking.csv\r\n",
      "test_video_metadata.csv    train_video_metadata.csv\r\n"
     ]
    }
   ],
   "source": [
    "!ls /kaggle/input/nfl-player-contact-detection/"
   ]
  },
  {
   "cell_type": "code",
   "execution_count": 4,
   "id": "77423cd9",
   "metadata": {
    "execution": {
     "iopub.execute_input": "2023-01-21T13:32:16.705904Z",
     "iopub.status.busy": "2023-01-21T13:32:16.704400Z",
     "iopub.status.idle": "2023-01-21T13:32:16.718608Z",
     "shell.execute_reply": "2023-01-21T13:32:16.717417Z"
    },
    "papermill": {
     "duration": 0.022633,
     "end_time": "2023-01-21T13:32:16.721327",
     "exception": false,
     "start_time": "2023-01-21T13:32:16.698694",
     "status": "completed"
    },
    "tags": []
   },
   "outputs": [],
   "source": [
    "class CFG:\n",
    "    input_dir = '/kaggle/input/nfl-player-contact-detection'\n",
    "    split_dir = '/kaggle/input/nfl-split'\n",
    "    # --------------------- FIXED --------------------- #\n",
    "    train_labels_dir = os.path.join(input_dir, 'train_labels.csv')\n",
    "    train_tracking_dir = os.path.join(input_dir, 'train_player_tracking.csv')\n",
    "    test_sub_dir = os.path.join(input_dir, 'sample_submission.csv')\n",
    "    test_tracking_dir = os.path.join(input_dir, 'test_player_tracking.csv')\n",
    "    \n",
    "    train_all = os.path.join(split_dir, 'train_labels.csv')\n",
    "    train_labels_all = os.path.join(split_dir, 'train_labels_all.csv')\n",
    "    train_labels_p2p = os.path.join(split_dir, 'train_labels_p2p.csv')\n",
    "    train_labels_p2g = os.path.join(split_dir, 'train_labels_p2g.csv')\n",
    "    valid_labels_all = os.path.join(split_dir, 'valid_labels_all.csv')\n",
    "    valid_labels_p2p = os.path.join(split_dir, 'valid_labels_p2p.csv')\n",
    "    valid_labels_p2g = os.path.join(split_dir, 'valid_labels_p2g.csv')\n",
    "    \n",
    "    \n",
    "    \n",
    "    labels_dict = {\n",
    "        'train': train_all,\n",
    "        'train_all': train_labels_all,\n",
    "        'train_p2p': train_labels_p2p,\n",
    "        'train_p2g': train_labels_p2g,\n",
    "        'valid_all': valid_labels_all,\n",
    "        'valid_p2p': valid_labels_p2p,\n",
    "        'valid_p2g': valid_labels_p2g\n",
    "    }\n",
    "    \n",
    "    # --------------------- SPECIFY ----------------------- #\n",
    "    default_labels = labels_dict['valid_all']\n",
    "    \n",
    "    \n",
    "    def expand_contact_id(df):\n",
    "        df['game_play'] = df['contact_id'].str[:12]\n",
    "        df['game'] = df['contact_id'].apply(lambda s: s.split('_')[0])\n",
    "        df['play'] = df['contact_id'].apply(lambda s: s.split('_')[1])\n",
    "        df['step'] = df['contact_id'].apply(lambda s: s.split('_')[2])\n",
    "        df['nfl_player_id_1'] = df['contact_id'].apply(lambda s: s.split('_')[-2])\n",
    "        df['nfl_player_id_2'] = df['contact_id'].apply(lambda s: s.split('_')[-1])\n",
    "        return df"
   ]
  },
  {
   "cell_type": "code",
   "execution_count": 5,
   "id": "33077d32",
   "metadata": {
    "execution": {
     "iopub.execute_input": "2023-01-21T13:32:16.731647Z",
     "iopub.status.busy": "2023-01-21T13:32:16.731231Z",
     "iopub.status.idle": "2023-01-21T13:32:22.500800Z",
     "shell.execute_reply": "2023-01-21T13:32:22.499332Z"
    },
    "papermill": {
     "duration": 5.778835,
     "end_time": "2023-01-21T13:32:22.504407",
     "exception": false,
     "start_time": "2023-01-21T13:32:16.725572",
     "status": "completed"
    },
    "tags": []
   },
   "outputs": [],
   "source": [
    "train_labels = pd.read_csv(CFG.default_labels, index_col=0)\n",
    "train_tracking = pd.read_csv(CFG.train_tracking_dir)\n",
    "# train_helmets = pd.read_csv(\"/kaggle/input/nfl-player-contact-detection/train_baseline_helmets.csv\")\n",
    "# train_video_metadata = pd.read_csv(\"/kaggle/input/nfl-player-contact-detection/train_video_metadata.csv\")"
   ]
  },
  {
   "cell_type": "code",
   "execution_count": 6,
   "id": "5b8eb20d",
   "metadata": {
    "execution": {
     "iopub.execute_input": "2023-01-21T13:32:22.516492Z",
     "iopub.status.busy": "2023-01-21T13:32:22.515098Z",
     "iopub.status.idle": "2023-01-21T13:32:22.526950Z",
     "shell.execute_reply": "2023-01-21T13:32:22.525794Z"
    },
    "papermill": {
     "duration": 0.020625,
     "end_time": "2023-01-21T13:32:22.529642",
     "exception": false,
     "start_time": "2023-01-21T13:32:22.509017",
     "status": "completed"
    },
    "tags": []
   },
   "outputs": [],
   "source": [
    "def create_features(df_label, df_tracking, cols, merge_col=\"step\"):\n",
    "    df_combo = (\n",
    "        df_label.astype({\"nfl_player_id_1\": str, \"nfl_player_id_2\": str})\n",
    "        .merge(\n",
    "            df_tracking[[\"game_play\", merge_col, \"nfl_player_id\"] + cols]\n",
    "                .astype({\"nfl_player_id\": \"str\"}),\n",
    "            left_on=[\"game_play\", merge_col, \"nfl_player_id_1\"],\n",
    "            right_on=[\"game_play\", merge_col, \"nfl_player_id\"],\n",
    "            how=\"left\",)\n",
    "        .drop(columns=[\"nfl_player_id\"])\n",
    "        .merge(\n",
    "            df_tracking[[\"game_play\", merge_col, \"nfl_player_id\"] + cols]\n",
    "                .astype({\"nfl_player_id\": \"str\"}),\n",
    "            left_on=[\"game_play\", merge_col, \"nfl_player_id_2\"],\n",
    "            right_on=[\"game_play\", merge_col, \"nfl_player_id\"],\n",
    "            how=\"left\",\n",
    "            suffixes=['_1', '_2']\n",
    "        )\n",
    "        .drop(columns=[\"nfl_player_id\"])\n",
    "        .sort_values([\"game_play\", merge_col, \"nfl_player_id_1\", \"nfl_player_id_2\"])\n",
    "        .reset_index(drop=True)\n",
    "    )\n",
    "    \n",
    "    \n",
    "    df_combo['distance_x'] = np.abs(df_combo['x_position_1']-df_combo['x_position_2'])\n",
    "    df_combo['distance_y'] = np.abs(df_combo['y_position_1']-df_combo['y_position_2'])\n",
    "    dist_pow = df_combo['distance_x']**2 + df_combo['distance_y']**2\n",
    "    df_combo['distance'] = np.sqrt(dist_pow)\n",
    "        \n",
    "    return df_combo"
   ]
  },
  {
   "cell_type": "code",
   "execution_count": 7,
   "id": "c27999ae",
   "metadata": {
    "execution": {
     "iopub.execute_input": "2023-01-21T13:32:22.541238Z",
     "iopub.status.busy": "2023-01-21T13:32:22.540320Z",
     "iopub.status.idle": "2023-01-21T13:32:26.855659Z",
     "shell.execute_reply": "2023-01-21T13:32:26.854373Z"
    },
    "papermill": {
     "duration": 4.324503,
     "end_time": "2023-01-21T13:32:26.858736",
     "exception": false,
     "start_time": "2023-01-21T13:32:22.534233",
     "status": "completed"
    },
    "tags": []
   },
   "outputs": [],
   "source": [
    "use_cols = [\n",
    "    'x_position', 'y_position', 'speed', 'distance',\n",
    "    'direction', 'orientation', 'acceleration', 'sa'\n",
    "]\n",
    "\n",
    "feats = ['contact_id', 'contact', 'x_position_1',\n",
    "       'y_position_1', 'speed_1', 'distance_1', 'direction_1', 'orientation_1',\n",
    "       'acceleration_1', 'sa_1', 'x_position_2', 'y_position_2', 'speed_2',\n",
    "       'distance_2', 'direction_2', 'orientation_2', 'acceleration_2', 'sa_2',\n",
    "       'distance']\n",
    "\n",
    "df_train = create_features(train_labels, train_tracking, use_cols)"
   ]
  },
  {
   "cell_type": "code",
   "execution_count": 8,
   "id": "17afac9f",
   "metadata": {
    "execution": {
     "iopub.execute_input": "2023-01-21T13:32:26.869094Z",
     "iopub.status.busy": "2023-01-21T13:32:26.868670Z",
     "iopub.status.idle": "2023-01-21T13:37:39.450581Z",
     "shell.execute_reply": "2023-01-21T13:37:39.448887Z"
    },
    "papermill": {
     "duration": 312.590475,
     "end_time": "2023-01-21T13:37:39.453736",
     "exception": false,
     "start_time": "2023-01-21T13:32:26.863261",
     "status": "completed"
    },
    "tags": []
   },
   "outputs": [
    {
     "name": "stdout",
     "output_type": "stream",
     "text": [
      "train /kaggle/input/nfl-split/train_labels.csv\n",
      "train_all /kaggle/input/nfl-split/train_labels_all.csv\n",
      "train_p2p /kaggle/input/nfl-split/train_labels_p2p.csv\n",
      "train_p2g /kaggle/input/nfl-split/train_labels_p2g.csv\n",
      "valid_all /kaggle/input/nfl-split/valid_labels_all.csv\n",
      "valid_p2p /kaggle/input/nfl-split/valid_labels_p2p.csv\n",
      "valid_p2g /kaggle/input/nfl-split/valid_labels_p2g.csv\n"
     ]
    }
   ],
   "source": [
    "for label, dir_ in CFG.labels_dict.items():\n",
    "    print(label, dir_)\n",
    "    train_labels = pd.read_csv(dir_)\n",
    "    \n",
    "    df_train = create_features(train_labels, train_tracking, use_cols)[feats]\n",
    "    df_train.to_csv(f'{label}_feats.csv')"
   ]
  },
  {
   "cell_type": "code",
   "execution_count": 9,
   "id": "8aafbd60",
   "metadata": {
    "execution": {
     "iopub.execute_input": "2023-01-21T13:37:39.465237Z",
     "iopub.status.busy": "2023-01-21T13:37:39.464831Z",
     "iopub.status.idle": "2023-01-21T13:37:39.508651Z",
     "shell.execute_reply": "2023-01-21T13:37:39.507426Z"
    },
    "papermill": {
     "duration": 0.052943,
     "end_time": "2023-01-21T13:37:39.511421",
     "exception": false,
     "start_time": "2023-01-21T13:37:39.458478",
     "status": "completed"
    },
    "tags": []
   },
   "outputs": [
    {
     "data": {
      "text/html": [
       "<div>\n",
       "<style scoped>\n",
       "    .dataframe tbody tr th:only-of-type {\n",
       "        vertical-align: middle;\n",
       "    }\n",
       "\n",
       "    .dataframe tbody tr th {\n",
       "        vertical-align: top;\n",
       "    }\n",
       "\n",
       "    .dataframe thead th {\n",
       "        text-align: right;\n",
       "    }\n",
       "</style>\n",
       "<table border=\"1\" class=\"dataframe\">\n",
       "  <thead>\n",
       "    <tr style=\"text-align: right;\">\n",
       "      <th></th>\n",
       "      <th>contact_id</th>\n",
       "      <th>contact</th>\n",
       "      <th>x_position_1</th>\n",
       "      <th>y_position_1</th>\n",
       "      <th>speed_1</th>\n",
       "      <th>distance_1</th>\n",
       "      <th>direction_1</th>\n",
       "      <th>orientation_1</th>\n",
       "      <th>acceleration_1</th>\n",
       "      <th>sa_1</th>\n",
       "      <th>x_position_2</th>\n",
       "      <th>y_position_2</th>\n",
       "      <th>speed_2</th>\n",
       "      <th>distance_2</th>\n",
       "      <th>direction_2</th>\n",
       "      <th>orientation_2</th>\n",
       "      <th>acceleration_2</th>\n",
       "      <th>sa_2</th>\n",
       "      <th>distance</th>\n",
       "    </tr>\n",
       "  </thead>\n",
       "  <tbody>\n",
       "    <tr>\n",
       "      <th>0</th>\n",
       "      <td>58189_002566_0_38947_G</td>\n",
       "      <td>0</td>\n",
       "      <td>76.91</td>\n",
       "      <td>18.90</td>\n",
       "      <td>0.00</td>\n",
       "      <td>0.00</td>\n",
       "      <td>237.78</td>\n",
       "      <td>287.29</td>\n",
       "      <td>0.00</td>\n",
       "      <td>0.00</td>\n",
       "      <td>NaN</td>\n",
       "      <td>NaN</td>\n",
       "      <td>NaN</td>\n",
       "      <td>NaN</td>\n",
       "      <td>NaN</td>\n",
       "      <td>NaN</td>\n",
       "      <td>NaN</td>\n",
       "      <td>NaN</td>\n",
       "      <td>NaN</td>\n",
       "    </tr>\n",
       "    <tr>\n",
       "      <th>1</th>\n",
       "      <td>58189_002566_0_41269_G</td>\n",
       "      <td>0</td>\n",
       "      <td>71.88</td>\n",
       "      <td>26.83</td>\n",
       "      <td>1.72</td>\n",
       "      <td>0.17</td>\n",
       "      <td>131.03</td>\n",
       "      <td>244.81</td>\n",
       "      <td>4.46</td>\n",
       "      <td>4.46</td>\n",
       "      <td>NaN</td>\n",
       "      <td>NaN</td>\n",
       "      <td>NaN</td>\n",
       "      <td>NaN</td>\n",
       "      <td>NaN</td>\n",
       "      <td>NaN</td>\n",
       "      <td>NaN</td>\n",
       "      <td>NaN</td>\n",
       "      <td>NaN</td>\n",
       "    </tr>\n",
       "    <tr>\n",
       "      <th>2</th>\n",
       "      <td>58189_002566_0_41320_G</td>\n",
       "      <td>0</td>\n",
       "      <td>76.04</td>\n",
       "      <td>11.04</td>\n",
       "      <td>0.07</td>\n",
       "      <td>0.00</td>\n",
       "      <td>264.56</td>\n",
       "      <td>302.44</td>\n",
       "      <td>0.87</td>\n",
       "      <td>0.87</td>\n",
       "      <td>NaN</td>\n",
       "      <td>NaN</td>\n",
       "      <td>NaN</td>\n",
       "      <td>NaN</td>\n",
       "      <td>NaN</td>\n",
       "      <td>NaN</td>\n",
       "      <td>NaN</td>\n",
       "      <td>NaN</td>\n",
       "      <td>NaN</td>\n",
       "    </tr>\n",
       "    <tr>\n",
       "      <th>3</th>\n",
       "      <td>58189_002566_0_42390_G</td>\n",
       "      <td>0</td>\n",
       "      <td>69.75</td>\n",
       "      <td>33.14</td>\n",
       "      <td>0.33</td>\n",
       "      <td>0.04</td>\n",
       "      <td>172.23</td>\n",
       "      <td>81.97</td>\n",
       "      <td>0.32</td>\n",
       "      <td>0.31</td>\n",
       "      <td>NaN</td>\n",
       "      <td>NaN</td>\n",
       "      <td>NaN</td>\n",
       "      <td>NaN</td>\n",
       "      <td>NaN</td>\n",
       "      <td>NaN</td>\n",
       "      <td>NaN</td>\n",
       "      <td>NaN</td>\n",
       "      <td>NaN</td>\n",
       "    </tr>\n",
       "    <tr>\n",
       "      <th>4</th>\n",
       "      <td>58189_002566_0_42392_G</td>\n",
       "      <td>0</td>\n",
       "      <td>75.70</td>\n",
       "      <td>29.76</td>\n",
       "      <td>0.39</td>\n",
       "      <td>0.04</td>\n",
       "      <td>225.21</td>\n",
       "      <td>263.85</td>\n",
       "      <td>1.82</td>\n",
       "      <td>1.82</td>\n",
       "      <td>NaN</td>\n",
       "      <td>NaN</td>\n",
       "      <td>NaN</td>\n",
       "      <td>NaN</td>\n",
       "      <td>NaN</td>\n",
       "      <td>NaN</td>\n",
       "      <td>NaN</td>\n",
       "      <td>NaN</td>\n",
       "      <td>NaN</td>\n",
       "    </tr>\n",
       "    <tr>\n",
       "      <th>...</th>\n",
       "      <td>...</td>\n",
       "      <td>...</td>\n",
       "      <td>...</td>\n",
       "      <td>...</td>\n",
       "      <td>...</td>\n",
       "      <td>...</td>\n",
       "      <td>...</td>\n",
       "      <td>...</td>\n",
       "      <td>...</td>\n",
       "      <td>...</td>\n",
       "      <td>...</td>\n",
       "      <td>...</td>\n",
       "      <td>...</td>\n",
       "      <td>...</td>\n",
       "      <td>...</td>\n",
       "      <td>...</td>\n",
       "      <td>...</td>\n",
       "      <td>...</td>\n",
       "      <td>...</td>\n",
       "    </tr>\n",
       "    <tr>\n",
       "      <th>26263</th>\n",
       "      <td>58564_000452_63_52600_G</td>\n",
       "      <td>0</td>\n",
       "      <td>69.99</td>\n",
       "      <td>28.92</td>\n",
       "      <td>0.46</td>\n",
       "      <td>0.04</td>\n",
       "      <td>249.27</td>\n",
       "      <td>235.60</td>\n",
       "      <td>0.34</td>\n",
       "      <td>0.24</td>\n",
       "      <td>NaN</td>\n",
       "      <td>NaN</td>\n",
       "      <td>NaN</td>\n",
       "      <td>NaN</td>\n",
       "      <td>NaN</td>\n",
       "      <td>NaN</td>\n",
       "      <td>NaN</td>\n",
       "      <td>NaN</td>\n",
       "      <td>NaN</td>\n",
       "    </tr>\n",
       "    <tr>\n",
       "      <th>26264</th>\n",
       "      <td>58564_000452_63_52697_G</td>\n",
       "      <td>0</td>\n",
       "      <td>79.23</td>\n",
       "      <td>31.94</td>\n",
       "      <td>2.00</td>\n",
       "      <td>0.20</td>\n",
       "      <td>272.95</td>\n",
       "      <td>279.22</td>\n",
       "      <td>0.75</td>\n",
       "      <td>0.21</td>\n",
       "      <td>NaN</td>\n",
       "      <td>NaN</td>\n",
       "      <td>NaN</td>\n",
       "      <td>NaN</td>\n",
       "      <td>NaN</td>\n",
       "      <td>NaN</td>\n",
       "      <td>NaN</td>\n",
       "      <td>NaN</td>\n",
       "      <td>NaN</td>\n",
       "    </tr>\n",
       "    <tr>\n",
       "      <th>26265</th>\n",
       "      <td>58564_000452_63_53491_G</td>\n",
       "      <td>0</td>\n",
       "      <td>71.69</td>\n",
       "      <td>28.81</td>\n",
       "      <td>0.95</td>\n",
       "      <td>0.10</td>\n",
       "      <td>258.64</td>\n",
       "      <td>238.82</td>\n",
       "      <td>0.97</td>\n",
       "      <td>0.97</td>\n",
       "      <td>NaN</td>\n",
       "      <td>NaN</td>\n",
       "      <td>NaN</td>\n",
       "      <td>NaN</td>\n",
       "      <td>NaN</td>\n",
       "      <td>NaN</td>\n",
       "      <td>NaN</td>\n",
       "      <td>NaN</td>\n",
       "      <td>NaN</td>\n",
       "    </tr>\n",
       "    <tr>\n",
       "      <th>26266</th>\n",
       "      <td>58564_000452_63_53571_G</td>\n",
       "      <td>0</td>\n",
       "      <td>73.22</td>\n",
       "      <td>28.43</td>\n",
       "      <td>0.53</td>\n",
       "      <td>0.06</td>\n",
       "      <td>205.08</td>\n",
       "      <td>224.03</td>\n",
       "      <td>0.41</td>\n",
       "      <td>0.07</td>\n",
       "      <td>NaN</td>\n",
       "      <td>NaN</td>\n",
       "      <td>NaN</td>\n",
       "      <td>NaN</td>\n",
       "      <td>NaN</td>\n",
       "      <td>NaN</td>\n",
       "      <td>NaN</td>\n",
       "      <td>NaN</td>\n",
       "      <td>NaN</td>\n",
       "    </tr>\n",
       "    <tr>\n",
       "      <th>26267</th>\n",
       "      <td>58564_000452_63_53674_G</td>\n",
       "      <td>0</td>\n",
       "      <td>71.99</td>\n",
       "      <td>22.79</td>\n",
       "      <td>3.76</td>\n",
       "      <td>0.38</td>\n",
       "      <td>297.23</td>\n",
       "      <td>289.47</td>\n",
       "      <td>1.19</td>\n",
       "      <td>-0.88</td>\n",
       "      <td>NaN</td>\n",
       "      <td>NaN</td>\n",
       "      <td>NaN</td>\n",
       "      <td>NaN</td>\n",
       "      <td>NaN</td>\n",
       "      <td>NaN</td>\n",
       "      <td>NaN</td>\n",
       "      <td>NaN</td>\n",
       "      <td>NaN</td>\n",
       "    </tr>\n",
       "  </tbody>\n",
       "</table>\n",
       "<p>26268 rows × 19 columns</p>\n",
       "</div>"
      ],
      "text/plain": [
       "                    contact_id  contact  x_position_1  y_position_1  speed_1  \\\n",
       "0       58189_002566_0_38947_G        0         76.91         18.90     0.00   \n",
       "1       58189_002566_0_41269_G        0         71.88         26.83     1.72   \n",
       "2       58189_002566_0_41320_G        0         76.04         11.04     0.07   \n",
       "3       58189_002566_0_42390_G        0         69.75         33.14     0.33   \n",
       "4       58189_002566_0_42392_G        0         75.70         29.76     0.39   \n",
       "...                        ...      ...           ...           ...      ...   \n",
       "26263  58564_000452_63_52600_G        0         69.99         28.92     0.46   \n",
       "26264  58564_000452_63_52697_G        0         79.23         31.94     2.00   \n",
       "26265  58564_000452_63_53491_G        0         71.69         28.81     0.95   \n",
       "26266  58564_000452_63_53571_G        0         73.22         28.43     0.53   \n",
       "26267  58564_000452_63_53674_G        0         71.99         22.79     3.76   \n",
       "\n",
       "       distance_1  direction_1  orientation_1  acceleration_1  sa_1  \\\n",
       "0            0.00       237.78         287.29            0.00  0.00   \n",
       "1            0.17       131.03         244.81            4.46  4.46   \n",
       "2            0.00       264.56         302.44            0.87  0.87   \n",
       "3            0.04       172.23          81.97            0.32  0.31   \n",
       "4            0.04       225.21         263.85            1.82  1.82   \n",
       "...           ...          ...            ...             ...   ...   \n",
       "26263        0.04       249.27         235.60            0.34  0.24   \n",
       "26264        0.20       272.95         279.22            0.75  0.21   \n",
       "26265        0.10       258.64         238.82            0.97  0.97   \n",
       "26266        0.06       205.08         224.03            0.41  0.07   \n",
       "26267        0.38       297.23         289.47            1.19 -0.88   \n",
       "\n",
       "       x_position_2  y_position_2  speed_2  distance_2  direction_2  \\\n",
       "0               NaN           NaN      NaN         NaN          NaN   \n",
       "1               NaN           NaN      NaN         NaN          NaN   \n",
       "2               NaN           NaN      NaN         NaN          NaN   \n",
       "3               NaN           NaN      NaN         NaN          NaN   \n",
       "4               NaN           NaN      NaN         NaN          NaN   \n",
       "...             ...           ...      ...         ...          ...   \n",
       "26263           NaN           NaN      NaN         NaN          NaN   \n",
       "26264           NaN           NaN      NaN         NaN          NaN   \n",
       "26265           NaN           NaN      NaN         NaN          NaN   \n",
       "26266           NaN           NaN      NaN         NaN          NaN   \n",
       "26267           NaN           NaN      NaN         NaN          NaN   \n",
       "\n",
       "       orientation_2  acceleration_2  sa_2  distance  \n",
       "0                NaN             NaN   NaN       NaN  \n",
       "1                NaN             NaN   NaN       NaN  \n",
       "2                NaN             NaN   NaN       NaN  \n",
       "3                NaN             NaN   NaN       NaN  \n",
       "4                NaN             NaN   NaN       NaN  \n",
       "...              ...             ...   ...       ...  \n",
       "26263            NaN             NaN   NaN       NaN  \n",
       "26264            NaN             NaN   NaN       NaN  \n",
       "26265            NaN             NaN   NaN       NaN  \n",
       "26266            NaN             NaN   NaN       NaN  \n",
       "26267            NaN             NaN   NaN       NaN  \n",
       "\n",
       "[26268 rows x 19 columns]"
      ]
     },
     "execution_count": 9,
     "metadata": {},
     "output_type": "execute_result"
    }
   ],
   "source": [
    "df_train"
   ]
  },
  {
   "cell_type": "code",
   "execution_count": 10,
   "id": "c44fba7b",
   "metadata": {
    "execution": {
     "iopub.execute_input": "2023-01-21T13:37:39.526680Z",
     "iopub.status.busy": "2023-01-21T13:37:39.525551Z",
     "iopub.status.idle": "2023-01-21T13:37:40.629320Z",
     "shell.execute_reply": "2023-01-21T13:37:40.628014Z"
    },
    "papermill": {
     "duration": 1.115491,
     "end_time": "2023-01-21T13:37:40.632190",
     "exception": false,
     "start_time": "2023-01-21T13:37:39.516699",
     "status": "completed"
    },
    "tags": []
   },
   "outputs": [
    {
     "name": "stdout",
     "output_type": "stream",
     "text": [
      "__notebook__.ipynb   train_p2g_feats.csv  valid_p2g_feats.csv\r\n",
      "train_all_feats.csv  train_p2p_feats.csv  valid_p2p_feats.csv\r\n",
      "train_feats.csv      valid_all_feats.csv\r\n"
     ]
    }
   ],
   "source": [
    "!ls /kaggle/working"
   ]
  },
  {
   "cell_type": "code",
   "execution_count": 11,
   "id": "a6abce03",
   "metadata": {
    "execution": {
     "iopub.execute_input": "2023-01-21T13:37:40.644897Z",
     "iopub.status.busy": "2023-01-21T13:37:40.644417Z",
     "iopub.status.idle": "2023-01-21T13:37:40.650900Z",
     "shell.execute_reply": "2023-01-21T13:37:40.649778Z"
    },
    "papermill": {
     "duration": 0.015779,
     "end_time": "2023-01-21T13:37:40.653297",
     "exception": false,
     "start_time": "2023-01-21T13:37:40.637518",
     "status": "completed"
    },
    "tags": []
   },
   "outputs": [],
   "source": [
    "feats = ['contact_id', 'contact', 'x_position_1',\n",
    "       'y_position_1', 'speed_1', 'distance_1', 'direction_1', 'orientation_1',\n",
    "       'acceleration_1', 'sa_1', 'x_position_2', 'y_position_2', 'speed_2',\n",
    "       'distance_2', 'direction_2', 'orientation_2', 'acceleration_2', 'sa_2',\n",
    "       'distance']"
   ]
  },
  {
   "cell_type": "markdown",
   "id": "a75b1b67",
   "metadata": {
    "papermill": {
     "duration": 0.005052,
     "end_time": "2023-01-21T13:37:40.663714",
     "exception": false,
     "start_time": "2023-01-21T13:37:40.658662",
     "status": "completed"
    },
    "tags": []
   },
   "source": [
    "## Test"
   ]
  },
  {
   "cell_type": "code",
   "execution_count": 12,
   "id": "cf1673be",
   "metadata": {
    "execution": {
     "iopub.execute_input": "2023-01-21T13:37:40.676354Z",
     "iopub.status.busy": "2023-01-21T13:37:40.675917Z",
     "iopub.status.idle": "2023-01-21T13:37:40.926067Z",
     "shell.execute_reply": "2023-01-21T13:37:40.925153Z"
    },
    "papermill": {
     "duration": 0.259442,
     "end_time": "2023-01-21T13:37:40.928609",
     "exception": false,
     "start_time": "2023-01-21T13:37:40.669167",
     "status": "completed"
    },
    "tags": []
   },
   "outputs": [],
   "source": [
    "labels = CFG.expand_contact_id(pd.read_csv(CFG.test_sub_dir))\n",
    "test_tracking = pd.read_csv(CFG.test_tracking_dir)\n",
    "# test_helmets = pd.read_csv(\"/kaggle/input/nfl-player-contact-detection/test_baseline_helmets.csv\")\n",
    "# test_video_metadata = pd.read_csv(\"/kaggle/input/nfl-player-contact-detection/test_video_metadata.csv\")"
   ]
  },
  {
   "cell_type": "code",
   "execution_count": null,
   "id": "0665076b",
   "metadata": {
    "papermill": {
     "duration": 0.005055,
     "end_time": "2023-01-21T13:37:40.939202",
     "exception": false,
     "start_time": "2023-01-21T13:37:40.934147",
     "status": "completed"
    },
    "tags": []
   },
   "outputs": [],
   "source": []
  },
  {
   "cell_type": "code",
   "execution_count": null,
   "id": "bf10c47f",
   "metadata": {
    "papermill": {
     "duration": 0.004969,
     "end_time": "2023-01-21T13:37:40.949397",
     "exception": false,
     "start_time": "2023-01-21T13:37:40.944428",
     "status": "completed"
    },
    "tags": []
   },
   "outputs": [],
   "source": []
  }
 ],
 "metadata": {
  "kernelspec": {
   "display_name": "Python 3",
   "language": "python",
   "name": "python3"
  },
  "language_info": {
   "codemirror_mode": {
    "name": "ipython",
    "version": 3
   },
   "file_extension": ".py",
   "mimetype": "text/x-python",
   "name": "python",
   "nbconvert_exporter": "python",
   "pygments_lexer": "ipython3",
   "version": "3.7.12"
  },
  "papermill": {
   "default_parameters": {},
   "duration": 337.762988,
   "end_time": "2023-01-21T13:37:41.879667",
   "environment_variables": {},
   "exception": null,
   "input_path": "__notebook__.ipynb",
   "output_path": "__notebook__.ipynb",
   "parameters": {},
   "start_time": "2023-01-21T13:32:04.116679",
   "version": "2.3.4"
  }
 },
 "nbformat": 4,
 "nbformat_minor": 5
}
