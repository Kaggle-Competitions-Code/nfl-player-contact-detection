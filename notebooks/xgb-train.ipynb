{
 "cells": [
  {
   "cell_type": "code",
   "execution_count": 1,
   "id": "279a9a48",
   "metadata": {
    "_cell_guid": "b1076dfc-b9ad-4769-8c92-a6c4dae69d19",
    "_uuid": "8f2839f25d086af736a60e9eeb907d3b93b6e0e5",
    "execution": {
     "iopub.execute_input": "2023-01-31T10:13:04.624451Z",
     "iopub.status.busy": "2023-01-31T10:13:04.623987Z",
     "iopub.status.idle": "2023-01-31T10:13:05.742972Z",
     "shell.execute_reply": "2023-01-31T10:13:05.741938Z"
    },
    "papermill": {
     "duration": 1.133876,
     "end_time": "2023-01-31T10:13:05.745931",
     "exception": false,
     "start_time": "2023-01-31T10:13:04.612055",
     "status": "completed"
    },
    "tags": []
   },
   "outputs": [],
   "source": [
    "import os\n",
    "import gc\n",
    "from glob import glob\n",
    "import joblib\n",
    "import pandas as pd\n",
    "import numpy as np\n",
    "import xgboost as xgb\n",
    "from sklearn.model_selection import GroupKFold\n",
    "from sklearn.metrics import roc_auc_score, matthews_corrcoef\n",
    "from sklearn.metrics import confusion_matrix\n",
    "from scipy.optimize import minimize\n",
    "from IPython.display import display"
   ]
  },
  {
   "cell_type": "code",
   "execution_count": 2,
   "id": "6d6d6de1",
   "metadata": {
    "execution": {
     "iopub.execute_input": "2023-01-31T10:13:05.765959Z",
     "iopub.status.busy": "2023-01-31T10:13:05.765599Z",
     "iopub.status.idle": "2023-01-31T10:13:06.865793Z",
     "shell.execute_reply": "2023-01-31T10:13:06.864665Z"
    },
    "papermill": {
     "duration": 1.113006,
     "end_time": "2023-01-31T10:13:06.868525",
     "exception": false,
     "start_time": "2023-01-31T10:13:05.755519",
     "status": "completed"
    },
    "tags": []
   },
   "outputs": [
    {
     "name": "stdout",
     "output_type": "stream",
     "text": [
      "p2g_all_feats.csv    train_feats.csv\t  valid_all_feats.csv\r\n",
      "p2p_all_feats.csv    train_p2g_feats.csv  valid_p2g_feats.csv\r\n",
      "train_all_feats.csv  train_p2p_feats.csv  valid_p2p_feats.csv\r\n"
     ]
    }
   ],
   "source": [
    "!ls /kaggle/input/nfl-feats-tab/"
   ]
  },
  {
   "cell_type": "code",
   "execution_count": 3,
   "id": "3e17687a",
   "metadata": {
    "execution": {
     "iopub.execute_input": "2023-01-31T10:13:06.889077Z",
     "iopub.status.busy": "2023-01-31T10:13:06.888282Z",
     "iopub.status.idle": "2023-01-31T10:13:09.053765Z",
     "shell.execute_reply": "2023-01-31T10:13:09.052379Z"
    },
    "papermill": {
     "duration": 2.178688,
     "end_time": "2023-01-31T10:13:09.056654",
     "exception": false,
     "start_time": "2023-01-31T10:13:06.877966",
     "status": "completed"
    },
    "tags": []
   },
   "outputs": [],
   "source": [
    "!mkdir model\n",
    "!mkdir preds"
   ]
  },
  {
   "cell_type": "code",
   "execution_count": 4,
   "id": "08ca612a",
   "metadata": {
    "execution": {
     "iopub.execute_input": "2023-01-31T10:13:09.077254Z",
     "iopub.status.busy": "2023-01-31T10:13:09.076830Z",
     "iopub.status.idle": "2023-01-31T10:13:09.107756Z",
     "shell.execute_reply": "2023-01-31T10:13:09.106792Z"
    },
    "papermill": {
     "duration": 0.044199,
     "end_time": "2023-01-31T10:13:09.110083",
     "exception": false,
     "start_time": "2023-01-31T10:13:09.065884",
     "status": "completed"
    },
    "tags": []
   },
   "outputs": [],
   "source": [
    "class CFG:\n",
    "    name = 'yy'\n",
    "    suffix = 'default_kfold_test_helmet'\n",
    "    dist_thresh = 2.5\n",
    "    \n",
    "    input_dir = '/kaggle/input/nfl-player-contact-detection'\n",
    "    split_dir = '/kaggle/input/nfl-split'\n",
    "    feats_dir = '/kaggle/input/nfl-feats-tab'\n",
    "    \n",
    "    working_dir = '/kaggle/working'\n",
    "    \n",
    "    model_dir = os.path.join(working_dir, 'model')\n",
    "    preds_dir = os.path.join(working_dir, 'preds')\n",
    "    \n",
    "    num_folds = 5\n",
    "    \n",
    "    xgb_params = {\n",
    "        'objective': 'binary:logistic',\n",
    "        'eval_metric': 'auc',\n",
    "        'learning_rate':0.03,\n",
    "        'tree_method':'hist'\n",
    "    }\n",
    "    \n",
    "    \n",
    "    # --------------------- FIXED --------------------- #\n",
    "    train_labels_dir = os.path.join(input_dir, 'train_labels.csv')\n",
    "    train_tracking_dir = os.path.join(input_dir, 'train_player_tracking.csv')\n",
    "    test_sub_dir = os.path.join(input_dir, 'sample_submission.csv')\n",
    "    test_tracking_dir = os.path.join(input_dir, 'test_player_tracking.csv')\n",
    "    train_helmets_dir = os.path.join(input_dir, 'train_baseline_helmets.csv')\n",
    "    test_helmets_dir = os.path.join(input_dir, 'test_baseline_helmets.csv')\n",
    "    \n",
    "    ## feats\n",
    "    train_all_feats = os.path.join(feats_dir, 'train_feats.csv')\n",
    "    train_feats_all = os.path.join(feats_dir, 'train_all_feats.csv')\n",
    "    train_feats_p2p = os.path.join(feats_dir, 'train_feats_p2p.csv')\n",
    "    train_feats_p2g = os.path.join(feats_dir, 'train_feats_p2g.csv')\n",
    "    valid_feats_all = os.path.join(feats_dir, 'valid_all_feats.csv')\n",
    "    valid_feats_p2p = os.path.join(feats_dir, 'valid_feats_p2p.csv')\n",
    "    valid_feats_p2g = os.path.join(feats_dir, 'valid_feats_p2g.csv')\n",
    "    feats_p2p = os.path.join(feats_dir, 'p2p_all_feats.csv')\n",
    "    feats_p2g = os.path.join(feats_dir, 'p2g_all_feats.csv')\n",
    "    \n",
    "    feats_dict = {\n",
    "        'train': train_all_feats,\n",
    "        'train_all': train_feats_all,\n",
    "        'train_p2p': train_feats_p2p,\n",
    "        'train_p2g': train_feats_p2g,\n",
    "        'valid_all': valid_feats_all,\n",
    "        'valid_p2p': valid_feats_p2p,\n",
    "        'valid_p2g': valid_feats_p2g,\n",
    "        'p2p': feats_p2p,\n",
    "        'p2g': feats_p2g\n",
    "    }\n",
    "    \n",
    "    \n",
    "    def expand_contact_id(df):\n",
    "        df['game_play'] = df['contact_id'].str[:12]\n",
    "        df['game'] = df['contact_id'].apply(lambda s: s.split('_')[0])\n",
    "        df['play'] = df['contact_id'].apply(lambda s: s.split('_')[1])\n",
    "        df['step'] = df['contact_id'].apply(lambda s: s.split('_')[2]).astype(int)\n",
    "        df['nfl_player_id_1'] = df['contact_id'].apply(lambda s: s.split('_')[-2])\n",
    "        df['nfl_player_id_2'] = df['contact_id'].apply(lambda s: s.split('_')[-1])\n",
    "        return df\n",
    "    \n",
    "    def merge_helmet_views(helmets):\n",
    "        df = helmets.drop(columns=['play_id', 'video'])\n",
    "        on_cols = ['game_key', 'game_play', 'frame', 'nfl_player_id', 'player_label']\n",
    "        df_view = df[df['view']=='Endzone'].merge(\n",
    "            df[df['view']=='Sideline'], on=on_cols, how='outer', suffixes=['_end', '_side'])\n",
    "        del df_view['view_end'], df_view['view_side'], df_view['player_label']\n",
    "        return df_view\n",
    "    \n",
    "    def merge_label_helmet(label, helmet):\n",
    "        if 'frame' not in label.columns:\n",
    "            label['frame'] = np.round(label['step']/10*59.94+5*59.94).astype(int)\n",
    "        helmet = helmet.copy(deep=True)\n",
    "        helmet['nfl_player_id'] = helmet['nfl_player_id'].astype(str)\n",
    "        df = label.merge(helmet, \n",
    "                         left_on=['game_play', 'frame', 'nfl_player_id_1'],\n",
    "                         right_on=['game_play', 'frame', 'nfl_player_id'],\n",
    "                         how='left')\n",
    "        df = df.merge(helmet, \n",
    "                         left_on=['game_play', 'frame', 'nfl_player_id_2'],\n",
    "                         right_on=['game_play', 'frame', 'nfl_player_id'],\n",
    "                         how='left', suffixes=['_p1','_p2'])\n",
    "        df = df.drop(columns=['nfl_player_id_p1', 'nfl_player_id_p2', 'game_key_p1', 'game_key_p2'])\n",
    "        return df\n",
    "    \n",
    "    \n",
    "    def get_groupkfold(train, n_splits):\n",
    "        kf = GroupKFold(n_splits=n_splits)\n",
    "        generator = kf.split(train, train['contact'], train['contact_id'].str[:5], )\n",
    "        fold_series = []\n",
    "        for fold, (idx_train, idx_valid) in enumerate(generator):\n",
    "            fold_series.append(pd.Series(fold, index=idx_valid))\n",
    "        fold_series = pd.concat(fold_series).sort_index()\n",
    "        return fold_series\n",
    "    \n",
    "    \n",
    "    def fit_xgboost(X_train, y_train, X_valid, y_valid, xgb_params):\n",
    "        xgb_train = xgb.DMatrix(X_train, y_train)\n",
    "        xgb_valid = xgb.DMatrix(X_valid, y_valid)\n",
    "        display(pd.Series(y_valid).value_counts())\n",
    "        evals = [(xgb_train, 'train'), (xgb_valid, 'valid')]\n",
    "\n",
    "        model = xgb.train(\n",
    "            xgb_params, \n",
    "            xgb_train,\n",
    "            num_boost_round=10_000,\n",
    "            early_stopping_rounds=100,\n",
    "            evals=evals,\n",
    "            verbose_eval=100,\n",
    "        )\n",
    "        return model\n",
    "    \n",
    "    def fit_xgboost_kfold(X, y, xgb_params, folds, name='', suffix=''):\n",
    "        oof_pred = np.zeros(len(y), dtype=np.float32)\n",
    "        for fold in sorted(CFG.folds.unique()):\n",
    "            if fold == -1: continue\n",
    "            idx_train = (CFG.folds!=fold)\n",
    "            idx_valid = (CFG.folds==fold)\n",
    "            x_train, y_train = X[idx_train], y[idx_train]\n",
    "            x_valid, y_valid = X[idx_valid], y[idx_valid]\n",
    "            print(f\"Fold -- {fold} -- \")\n",
    "            model = CFG.fit_xgboost(x_train, y_train, x_valid, y_valid, xgb_params)\n",
    "            model_path = os.path.join(CFG.model_dir, f'xgb_fold_{fold}_{name}_{suffix}.joblib')\n",
    "            joblib.dump(model, model_path)\n",
    "            pred_i = model.predict(xgb.DMatrix(x_valid, y_valid))\n",
    "\n",
    "            oof_pred[x_valid.index] = pred_i\n",
    "            score = round(roc_auc_score(y_valid, pred_i), 5)\n",
    "            print(f'Performance of the prediction: {score}\\n')\n",
    "            del model; gc.collect()\n",
    "\n",
    "        np.save(os.path.join(CFG.preds_dir, f'oof_pred{name}{suffix}'), oof_pred)\n",
    "        score = round(roc_auc_score(y, oof_pred), 5)\n",
    "        print(f'All Performance of the prediction: {score}')\n",
    "        return oof_pred\n",
    "    "
   ]
  },
  {
   "cell_type": "code",
   "execution_count": 5,
   "id": "d69ada80",
   "metadata": {
    "execution": {
     "iopub.execute_input": "2023-01-31T10:13:09.132061Z",
     "iopub.status.busy": "2023-01-31T10:13:09.131145Z",
     "iopub.status.idle": "2023-01-31T10:14:52.731148Z",
     "shell.execute_reply": "2023-01-31T10:14:52.729898Z"
    },
    "papermill": {
     "duration": 103.61305,
     "end_time": "2023-01-31T10:14:52.734052",
     "exception": false,
     "start_time": "2023-01-31T10:13:09.121002",
     "status": "completed"
    },
    "tags": []
   },
   "outputs": [],
   "source": [
    "CFG.default_feats = CFG.feats_dict['train']\n",
    "CFG.folds = CFG.get_groupkfold(pd.read_csv(CFG.default_feats, index_col=0), CFG.num_folds)\n",
    "\n",
    "CFG.p2p_feats = CFG.feats_dict['p2p']\n",
    "CFG.p2g_feats = CFG.feats_dict['p2g']\n",
    "CFG.p2p_folds = CFG.get_groupkfold(pd.read_csv(CFG.p2p_feats, index_col=0), CFG.num_folds)\n",
    "CFG.p2g_folds = CFG.get_groupkfold(pd.read_csv(CFG.p2g_feats, index_col=0), CFG.num_folds)"
   ]
  },
  {
   "cell_type": "markdown",
   "id": "d8f0878b",
   "metadata": {
    "papermill": {
     "duration": 0.008779,
     "end_time": "2023-01-31T10:14:52.752221",
     "exception": false,
     "start_time": "2023-01-31T10:14:52.743442",
     "status": "completed"
    },
    "tags": []
   },
   "source": [
    "### train all"
   ]
  },
  {
   "cell_type": "code",
   "execution_count": 6,
   "id": "6496cca5",
   "metadata": {
    "execution": {
     "iopub.execute_input": "2023-01-31T10:14:52.771786Z",
     "iopub.status.busy": "2023-01-31T10:14:52.771373Z",
     "iopub.status.idle": "2023-01-31T10:14:52.777504Z",
     "shell.execute_reply": "2023-01-31T10:14:52.776371Z"
    },
    "papermill": {
     "duration": 0.018471,
     "end_time": "2023-01-31T10:14:52.779686",
     "exception": false,
     "start_time": "2023-01-31T10:14:52.761215",
     "status": "completed"
    },
    "tags": []
   },
   "outputs": [],
   "source": [
    "feats = ['contact_id', 'contact', 'G_flag', 'x_position_1',\n",
    "       'y_position_1', 'speed_1', 'distance_1', 'direction_1', 'orientation_1',\n",
    "       'acceleration_1', 'sa_1', 'x_position_2', 'y_position_2', 'speed_2',\n",
    "       'distance_2', 'direction_2', 'orientation_2', 'acceleration_2', 'sa_2',\n",
    "       'distance', ] + ['left_side_p1', 'width_side_p1', 'top_side_p1', 'height_side_p1',\n",
    "       'left_end_p2', 'width_end_p2', 'top_end_p2', 'height_end_p2',\n",
    "       'left_side_p2', 'width_side_p2', 'top_side_p2', 'height_side_p2']"
   ]
  },
  {
   "cell_type": "code",
   "execution_count": 7,
   "id": "ac898fc8",
   "metadata": {
    "execution": {
     "iopub.execute_input": "2023-01-31T10:14:52.799727Z",
     "iopub.status.busy": "2023-01-31T10:14:52.799304Z",
     "iopub.status.idle": "2023-01-31T10:15:23.732818Z",
     "shell.execute_reply": "2023-01-31T10:15:23.731644Z"
    },
    "papermill": {
     "duration": 30.94677,
     "end_time": "2023-01-31T10:15:23.735609",
     "exception": false,
     "start_time": "2023-01-31T10:14:52.788839",
     "status": "completed"
    },
    "tags": []
   },
   "outputs": [],
   "source": [
    "df = pd.read_csv(CFG.default_feats, index_col=0)[feats]\n",
    "df_ = df[(df['distance']<CFG.dist_thresh) | df['distance'].isna()].reset_index(drop=True)\n",
    "X = df_.drop(columns=['contact_id', 'contact'])\n",
    "y = df_['contact']\n",
    "CFG.folds = CFG.get_groupkfold(df_, CFG.num_folds)"
   ]
  },
  {
   "cell_type": "code",
   "execution_count": 8,
   "id": "08181489",
   "metadata": {
    "execution": {
     "iopub.execute_input": "2023-01-31T10:15:23.755425Z",
     "iopub.status.busy": "2023-01-31T10:15:23.755012Z",
     "iopub.status.idle": "2023-01-31T10:15:23.772380Z",
     "shell.execute_reply": "2023-01-31T10:15:23.771504Z"
    },
    "papermill": {
     "duration": 0.030385,
     "end_time": "2023-01-31T10:15:23.775154",
     "exception": false,
     "start_time": "2023-01-31T10:15:23.744769",
     "status": "completed"
    },
    "tags": []
   },
   "outputs": [
    {
     "data": {
      "text/plain": [
       "0    700880\n",
       "1     64427\n",
       "Name: contact, dtype: int64"
      ]
     },
     "execution_count": 8,
     "metadata": {},
     "output_type": "execute_result"
    }
   ],
   "source": [
    "df_['contact'].value_counts()"
   ]
  },
  {
   "cell_type": "markdown",
   "id": "3dce7215",
   "metadata": {
    "papermill": {
     "duration": 0.009583,
     "end_time": "2023-01-31T10:15:23.794803",
     "exception": false,
     "start_time": "2023-01-31T10:15:23.785220",
     "status": "completed"
    },
    "tags": []
   },
   "source": [
    "### p2p & p2g"
   ]
  },
  {
   "cell_type": "code",
   "execution_count": 9,
   "id": "eb3c00e5",
   "metadata": {
    "execution": {
     "iopub.execute_input": "2023-01-31T10:15:23.815974Z",
     "iopub.status.busy": "2023-01-31T10:15:23.815510Z",
     "iopub.status.idle": "2023-01-31T10:15:23.820734Z",
     "shell.execute_reply": "2023-01-31T10:15:23.819648Z"
    },
    "papermill": {
     "duration": 0.018253,
     "end_time": "2023-01-31T10:15:23.822874",
     "exception": false,
     "start_time": "2023-01-31T10:15:23.804621",
     "status": "completed"
    },
    "tags": []
   },
   "outputs": [],
   "source": [
    "# df_p2p = pd.read_csv(CFG.p2p_feats, index_col=0)\n",
    "# df_p2g = pd.read_csv(CFG.p2g_feats, index_col=0)\n",
    "# X_p2p = df_p2p.drop(columns=['contact_id', 'contact'])\n",
    "# y_p2p = df_p2p['contact']\n",
    "# X_p2g = df_p2g.drop(columns=['contact_id', 'contact'])\n",
    "# y_p2g = df_p2g['contact']"
   ]
  },
  {
   "cell_type": "code",
   "execution_count": 10,
   "id": "2970bf39",
   "metadata": {
    "execution": {
     "iopub.execute_input": "2023-01-31T10:15:23.843780Z",
     "iopub.status.busy": "2023-01-31T10:15:23.842608Z",
     "iopub.status.idle": "2023-01-31T10:15:23.847452Z",
     "shell.execute_reply": "2023-01-31T10:15:23.846647Z"
    },
    "papermill": {
     "duration": 0.017499,
     "end_time": "2023-01-31T10:15:23.849656",
     "exception": false,
     "start_time": "2023-01-31T10:15:23.832157",
     "status": "completed"
    },
    "tags": []
   },
   "outputs": [],
   "source": [
    "# CFG.p2p_folds.value_counts(), CFG.p2g_folds.value_counts()"
   ]
  },
  {
   "cell_type": "code",
   "execution_count": 11,
   "id": "5d4add35",
   "metadata": {
    "execution": {
     "iopub.execute_input": "2023-01-31T10:15:23.871503Z",
     "iopub.status.busy": "2023-01-31T10:15:23.870400Z",
     "iopub.status.idle": "2023-01-31T10:15:23.874707Z",
     "shell.execute_reply": "2023-01-31T10:15:23.873861Z"
    },
    "papermill": {
     "duration": 0.017467,
     "end_time": "2023-01-31T10:15:23.876955",
     "exception": false,
     "start_time": "2023-01-31T10:15:23.859488",
     "status": "completed"
    },
    "tags": []
   },
   "outputs": [],
   "source": [
    "# %%time\n",
    "# p2g_oof_pred = CFG.fit_xgboost_kfold(X_p2g, y_p2g, CFG.xgb_params, CFG.p2g_folds, CFG.name, 'p2g')"
   ]
  },
  {
   "cell_type": "code",
   "execution_count": 12,
   "id": "f2e3add6",
   "metadata": {
    "execution": {
     "iopub.execute_input": "2023-01-31T10:15:23.898002Z",
     "iopub.status.busy": "2023-01-31T10:15:23.897553Z",
     "iopub.status.idle": "2023-01-31T10:15:23.901773Z",
     "shell.execute_reply": "2023-01-31T10:15:23.901012Z"
    },
    "papermill": {
     "duration": 0.016643,
     "end_time": "2023-01-31T10:15:23.903721",
     "exception": false,
     "start_time": "2023-01-31T10:15:23.887078",
     "status": "completed"
    },
    "tags": []
   },
   "outputs": [],
   "source": [
    "# %%time\n",
    "# p2p_oof_pred = CFG.fit_xgboost_kfold(X_p2p, y_p2p, CFG.xgb_params, CFG.p2p_folds, CFG.name, 'p2p')"
   ]
  },
  {
   "cell_type": "code",
   "execution_count": 13,
   "id": "d0a8a247",
   "metadata": {
    "execution": {
     "iopub.execute_input": "2023-01-31T10:15:23.925296Z",
     "iopub.status.busy": "2023-01-31T10:15:23.924017Z",
     "iopub.status.idle": "2023-01-31T10:26:24.582314Z",
     "shell.execute_reply": "2023-01-31T10:26:24.580870Z"
    },
    "papermill": {
     "duration": 660.671848,
     "end_time": "2023-01-31T10:26:24.585099",
     "exception": false,
     "start_time": "2023-01-31T10:15:23.913251",
     "status": "completed"
    },
    "tags": []
   },
   "outputs": [
    {
     "name": "stdout",
     "output_type": "stream",
     "text": [
      "Fold -- 0 -- \n"
     ]
    },
    {
     "data": {
      "text/plain": [
       "0    139185\n",
       "1     14139\n",
       "Name: contact, dtype: int64"
      ]
     },
     "metadata": {},
     "output_type": "display_data"
    },
    {
     "name": "stdout",
     "output_type": "stream",
     "text": [
      "[0]\ttrain-auc:0.91065\tvalid-auc:0.90160\n",
      "[100]\ttrain-auc:0.93910\tvalid-auc:0.92579\n",
      "[200]\ttrain-auc:0.94926\tvalid-auc:0.93160\n",
      "[300]\ttrain-auc:0.95611\tvalid-auc:0.93326\n",
      "[400]\ttrain-auc:0.96064\tvalid-auc:0.93405\n",
      "[500]\ttrain-auc:0.96470\tvalid-auc:0.93434\n",
      "[600]\ttrain-auc:0.96744\tvalid-auc:0.93444\n",
      "[700]\ttrain-auc:0.96998\tvalid-auc:0.93452\n",
      "[800]\ttrain-auc:0.97243\tvalid-auc:0.93466\n",
      "[900]\ttrain-auc:0.97428\tvalid-auc:0.93470\n",
      "[956]\ttrain-auc:0.97551\tvalid-auc:0.93468\n",
      "Performance of the prediction: 0.93469\n",
      "\n",
      "Fold -- 1 -- \n"
     ]
    },
    {
     "data": {
      "text/plain": [
       "0    139647\n",
       "1     12571\n",
       "Name: contact, dtype: int64"
      ]
     },
     "metadata": {},
     "output_type": "display_data"
    },
    {
     "name": "stdout",
     "output_type": "stream",
     "text": [
      "[0]\ttrain-auc:0.91044\tvalid-auc:0.91303\n",
      "[100]\ttrain-auc:0.93712\tvalid-auc:0.93505\n",
      "[200]\ttrain-auc:0.94683\tvalid-auc:0.94097\n",
      "[300]\ttrain-auc:0.95343\tvalid-auc:0.94362\n",
      "[400]\ttrain-auc:0.95815\tvalid-auc:0.94495\n",
      "[500]\ttrain-auc:0.96255\tvalid-auc:0.94620\n",
      "[600]\ttrain-auc:0.96557\tvalid-auc:0.94670\n",
      "[700]\ttrain-auc:0.96845\tvalid-auc:0.94702\n",
      "[800]\ttrain-auc:0.97090\tvalid-auc:0.94726\n",
      "[900]\ttrain-auc:0.97332\tvalid-auc:0.94748\n",
      "[1000]\ttrain-auc:0.97495\tvalid-auc:0.94728\n",
      "[1005]\ttrain-auc:0.97505\tvalid-auc:0.94729\n",
      "Performance of the prediction: 0.94729\n",
      "\n",
      "Fold -- 2 -- \n"
     ]
    },
    {
     "data": {
      "text/plain": [
       "0    141269\n",
       "1     11922\n",
       "Name: contact, dtype: int64"
      ]
     },
     "metadata": {},
     "output_type": "display_data"
    },
    {
     "name": "stdout",
     "output_type": "stream",
     "text": [
      "[0]\ttrain-auc:0.90916\tvalid-auc:0.91855\n",
      "[100]\ttrain-auc:0.93687\tvalid-auc:0.93953\n",
      "[200]\ttrain-auc:0.94718\tvalid-auc:0.94404\n",
      "[300]\ttrain-auc:0.95402\tvalid-auc:0.94611\n",
      "[400]\ttrain-auc:0.95882\tvalid-auc:0.94711\n",
      "[500]\ttrain-auc:0.96281\tvalid-auc:0.94757\n",
      "[600]\ttrain-auc:0.96569\tvalid-auc:0.94808\n",
      "[700]\ttrain-auc:0.96814\tvalid-auc:0.94824\n",
      "[800]\ttrain-auc:0.97043\tvalid-auc:0.94825\n",
      "[877]\ttrain-auc:0.97192\tvalid-auc:0.94824\n",
      "Performance of the prediction: 0.94824\n",
      "\n",
      "Fold -- 3 -- \n"
     ]
    },
    {
     "data": {
      "text/plain": [
       "0    140833\n",
       "1     12388\n",
       "Name: contact, dtype: int64"
      ]
     },
     "metadata": {},
     "output_type": "display_data"
    },
    {
     "name": "stdout",
     "output_type": "stream",
     "text": [
      "[0]\ttrain-auc:0.91119\tvalid-auc:0.90741\n",
      "[100]\ttrain-auc:0.93850\tvalid-auc:0.93081\n",
      "[200]\ttrain-auc:0.94856\tvalid-auc:0.93643\n",
      "[300]\ttrain-auc:0.95544\tvalid-auc:0.93808\n",
      "[400]\ttrain-auc:0.96010\tvalid-auc:0.93917\n",
      "[500]\ttrain-auc:0.96377\tvalid-auc:0.93962\n",
      "[600]\ttrain-auc:0.96642\tvalid-auc:0.93996\n",
      "[700]\ttrain-auc:0.96908\tvalid-auc:0.93999\n",
      "[800]\ttrain-auc:0.97121\tvalid-auc:0.94010\n",
      "[900]\ttrain-auc:0.97344\tvalid-auc:0.94017\n",
      "[1000]\ttrain-auc:0.97529\tvalid-auc:0.94021\n",
      "[1060]\ttrain-auc:0.97626\tvalid-auc:0.94015\n",
      "Performance of the prediction: 0.94015\n",
      "\n",
      "Fold -- 4 -- \n"
     ]
    },
    {
     "data": {
      "text/plain": [
       "0    139946\n",
       "1     13407\n",
       "Name: contact, dtype: int64"
      ]
     },
     "metadata": {},
     "output_type": "display_data"
    },
    {
     "name": "stdout",
     "output_type": "stream",
     "text": [
      "[0]\ttrain-auc:0.91095\tvalid-auc:0.89523\n",
      "[100]\ttrain-auc:0.93971\tvalid-auc:0.92247\n",
      "[200]\ttrain-auc:0.94969\tvalid-auc:0.93001\n",
      "[300]\ttrain-auc:0.95660\tvalid-auc:0.93337\n",
      "[400]\ttrain-auc:0.96118\tvalid-auc:0.93481\n",
      "[500]\ttrain-auc:0.96468\tvalid-auc:0.93579\n",
      "[600]\ttrain-auc:0.96800\tvalid-auc:0.93603\n",
      "[700]\ttrain-auc:0.97041\tvalid-auc:0.93637\n",
      "[800]\ttrain-auc:0.97244\tvalid-auc:0.93640\n",
      "[900]\ttrain-auc:0.97443\tvalid-auc:0.93640\n",
      "[937]\ttrain-auc:0.97509\tvalid-auc:0.93636\n",
      "Performance of the prediction: 0.93637\n",
      "\n",
      "All Performance of the prediction: 0.94109\n",
      "CPU times: user 42min 51s, sys: 4.89 s, total: 42min 56s\n",
      "Wall time: 11min\n"
     ]
    }
   ],
   "source": [
    "%%time\n",
    "oof_pred = CFG.fit_xgboost_kfold(X, y, CFG.xgb_params, CFG.folds, CFG.name, 'all')"
   ]
  },
  {
   "cell_type": "code",
   "execution_count": 14,
   "id": "548766f1",
   "metadata": {
    "execution": {
     "iopub.execute_input": "2023-01-31T10:26:24.614694Z",
     "iopub.status.busy": "2023-01-31T10:26:24.614269Z",
     "iopub.status.idle": "2023-01-31T10:26:25.732006Z",
     "shell.execute_reply": "2023-01-31T10:26:25.730840Z"
    },
    "papermill": {
     "duration": 1.135628,
     "end_time": "2023-01-31T10:26:25.734500",
     "exception": false,
     "start_time": "2023-01-31T10:26:24.598872",
     "status": "completed"
    },
    "tags": []
   },
   "outputs": [
    {
     "name": "stdout",
     "output_type": "stream",
     "text": [
      "xgb_fold_0_yy_all.joblib  xgb_fold_2_yy_all.joblib  xgb_fold_4_yy_all.joblib\r\n",
      "xgb_fold_1_yy_all.joblib  xgb_fold_3_yy_all.joblib\r\n"
     ]
    }
   ],
   "source": [
    "!ls model/"
   ]
  },
  {
   "cell_type": "markdown",
   "id": "a4aa0b23",
   "metadata": {
    "papermill": {
     "duration": 0.013543,
     "end_time": "2023-01-31T10:26:25.761732",
     "exception": false,
     "start_time": "2023-01-31T10:26:25.748189",
     "status": "completed"
    },
    "tags": []
   },
   "source": [
    "## Optimize"
   ]
  },
  {
   "cell_type": "markdown",
   "id": "83b2d6b7",
   "metadata": {
    "papermill": {
     "duration": 0.013266,
     "end_time": "2023-01-31T10:26:25.788903",
     "exception": false,
     "start_time": "2023-01-31T10:26:25.775637",
     "status": "completed"
    },
    "tags": []
   },
   "source": [
    "### train all"
   ]
  },
  {
   "cell_type": "code",
   "execution_count": 15,
   "id": "0aeb7fad",
   "metadata": {
    "_kg_hide-input": false,
    "execution": {
     "iopub.execute_input": "2023-01-31T10:26:25.818345Z",
     "iopub.status.busy": "2023-01-31T10:26:25.817927Z",
     "iopub.status.idle": "2023-01-31T10:26:34.712008Z",
     "shell.execute_reply": "2023-01-31T10:26:34.710726Z"
    },
    "papermill": {
     "duration": 8.911993,
     "end_time": "2023-01-31T10:26:34.714453",
     "exception": false,
     "start_time": "2023-01-31T10:26:25.802460",
     "status": "completed"
    },
    "tags": []
   },
   "outputs": [
    {
     "name": "stdout",
     "output_type": "stream",
     "text": [
      "score: 0.58078\n",
      "threshold 0.31113\n"
     ]
    }
   ],
   "source": [
    "def func(x_list):\n",
    "    score = matthews_corrcoef(df_['contact'], oof_pred>x_list[0])\n",
    "    return -score\n",
    "\n",
    "x0 = [0.5]\n",
    "result = minimize(func, x0,  method=\"nelder-mead\")\n",
    "CFG.threshold = result.x[0]\n",
    "print(\"score:\", round(matthews_corrcoef(df_['contact'], oof_pred>CFG.threshold), 5))\n",
    "print(\"threshold\", round(CFG.threshold, 5))"
   ]
  },
  {
   "cell_type": "code",
   "execution_count": 16,
   "id": "42ebae9c",
   "metadata": {
    "execution": {
     "iopub.execute_input": "2023-01-31T10:26:34.743668Z",
     "iopub.status.busy": "2023-01-31T10:26:34.743231Z",
     "iopub.status.idle": "2023-01-31T10:26:34.901427Z",
     "shell.execute_reply": "2023-01-31T10:26:34.900261Z"
    },
    "papermill": {
     "duration": 0.175955,
     "end_time": "2023-01-31T10:26:34.904017",
     "exception": false,
     "start_time": "2023-01-31T10:26:34.728062",
     "status": "completed"
    },
    "tags": []
   },
   "outputs": [
    {
     "data": {
      "text/plain": [
       "array([[672437,  28443],\n",
       "       [ 22997,  41430]])"
      ]
     },
     "execution_count": 16,
     "metadata": {},
     "output_type": "execute_result"
    }
   ],
   "source": [
    "confusion_matrix(df_['contact'], (oof_pred>CFG.threshold).astype(int))"
   ]
  },
  {
   "cell_type": "markdown",
   "id": "06f9e862",
   "metadata": {
    "papermill": {
     "duration": 0.013465,
     "end_time": "2023-01-31T10:26:34.931696",
     "exception": false,
     "start_time": "2023-01-31T10:26:34.918231",
     "status": "completed"
    },
    "tags": []
   },
   "source": [
    "## p2p & p2g"
   ]
  },
  {
   "cell_type": "code",
   "execution_count": 17,
   "id": "78fd966a",
   "metadata": {
    "execution": {
     "iopub.execute_input": "2023-01-31T10:26:34.960833Z",
     "iopub.status.busy": "2023-01-31T10:26:34.960411Z",
     "iopub.status.idle": "2023-01-31T10:26:34.966060Z",
     "shell.execute_reply": "2023-01-31T10:26:34.964912Z"
    },
    "papermill": {
     "duration": 0.023054,
     "end_time": "2023-01-31T10:26:34.968375",
     "exception": false,
     "start_time": "2023-01-31T10:26:34.945321",
     "status": "completed"
    },
    "tags": []
   },
   "outputs": [],
   "source": [
    "# def func_p2g(x_list):\n",
    "#     return -matthews_corrcoef(df_p2g['contact'], p2g_oof_pred>x_list[0])\n",
    "\n",
    "# def func_p2p(x_list):\n",
    "#     return -matthews_corrcoef(df_p2p['contact'], p2p_oof_pred>x_list[0])\n",
    "\n",
    "# x_p2g = [0.5]\n",
    "# res_p2g = minimize(func_p2g, x_p2g,  method=\"nelder-mead\")\n",
    "# CFG.p2g_threshold = res_p2g.x[0]\n",
    "# print(\"p2g score:\", round(matthews_corrcoef(df_p2g['contact'], p2g_oof_pred>CFG.p2g_threshold), 5))\n",
    "# print(\"p2g threshold:\", round(CFG.p2g_threshold, 5))\n",
    "\n",
    "# x_p2p = [0.5]\n",
    "# res_p2p = minimize(func_p2p, x_p2p,  method=\"nelder-mead\")\n",
    "# CFG.p2p_threshold = res_p2p.x[0]\n",
    "# print(\"p2p score:\", round(matthews_corrcoef(df_p2p['contact'], p2p_oof_pred>CFG.p2p_threshold), 5))\n",
    "# print(\"p2p threshold:\", round(CFG.p2p_threshold, 5))"
   ]
  },
  {
   "cell_type": "markdown",
   "id": "8b564b8a",
   "metadata": {
    "papermill": {
     "duration": 0.013272,
     "end_time": "2023-01-31T10:26:34.995319",
     "exception": false,
     "start_time": "2023-01-31T10:26:34.982047",
     "status": "completed"
    },
    "tags": []
   },
   "source": [
    "## Pred"
   ]
  },
  {
   "cell_type": "code",
   "execution_count": 18,
   "id": "f906efdd",
   "metadata": {
    "execution": {
     "iopub.execute_input": "2023-01-31T10:26:35.024847Z",
     "iopub.status.busy": "2023-01-31T10:26:35.024059Z",
     "iopub.status.idle": "2023-01-31T10:26:35.031406Z",
     "shell.execute_reply": "2023-01-31T10:26:35.030550Z"
    },
    "papermill": {
     "duration": 0.024879,
     "end_time": "2023-01-31T10:26:35.033864",
     "exception": false,
     "start_time": "2023-01-31T10:26:35.008985",
     "status": "completed"
    },
    "tags": []
   },
   "outputs": [],
   "source": [
    "def pred_xgboost(X, data_dir, add_suffix=''):\n",
    "    models = glob(os.path.join(data_dir, f'xgb_fold*{add_suffix}.joblib'))\n",
    "    print(models)\n",
    "    models = [joblib.load(model) for model in models]\n",
    "    X_Dmatrix = xgb.DMatrix(X)\n",
    "    preds = np.array([model.predict(X_Dmatrix) for model in models])\n",
    "    preds = np.mean(preds, axis=0)\n",
    "    return preds"
   ]
  },
  {
   "cell_type": "code",
   "execution_count": 19,
   "id": "994d49bf",
   "metadata": {
    "execution": {
     "iopub.execute_input": "2023-01-31T10:26:35.064338Z",
     "iopub.status.busy": "2023-01-31T10:26:35.063470Z",
     "iopub.status.idle": "2023-01-31T10:26:35.074651Z",
     "shell.execute_reply": "2023-01-31T10:26:35.073725Z"
    },
    "papermill": {
     "duration": 0.029307,
     "end_time": "2023-01-31T10:26:35.077114",
     "exception": false,
     "start_time": "2023-01-31T10:26:35.047807",
     "status": "completed"
    },
    "tags": []
   },
   "outputs": [],
   "source": [
    "def create_features(df_label, df_tracking, cols, merge_col=\"step\"):\n",
    "    df_combo = (\n",
    "        df_label.astype({\"nfl_player_id_1\": str, \"nfl_player_id_2\": str})\n",
    "        .merge(\n",
    "            df_tracking[[\"game_play\", merge_col, \"nfl_player_id\"] + cols]\n",
    "                .astype({\"nfl_player_id\": \"str\"}),\n",
    "            left_on=[\"game_play\", merge_col, \"nfl_player_id_1\"],\n",
    "            right_on=[\"game_play\", merge_col, \"nfl_player_id\"],\n",
    "            how=\"left\",)\n",
    "        .drop(columns=[\"nfl_player_id\"])\n",
    "        .merge(\n",
    "            df_tracking[[\"game_play\", merge_col, \"nfl_player_id\"] + cols]\n",
    "                .astype({\"nfl_player_id\": \"str\"}),\n",
    "            left_on=[\"game_play\", merge_col, \"nfl_player_id_2\"],\n",
    "            right_on=[\"game_play\", merge_col, \"nfl_player_id\"],\n",
    "            how=\"left\",\n",
    "            suffixes=['_1', '_2']\n",
    "        )\n",
    "        .drop(columns=[\"nfl_player_id\"])\n",
    "        .sort_values([\"game_play\", merge_col, \"nfl_player_id_1\", \"nfl_player_id_2\"])\n",
    "        .reset_index(drop=True)\n",
    "    )\n",
    "    df_combo['G_flag'] = (df_combo['nfl_player_id_2']=='G').astype(int)\n",
    "    \n",
    "    df_combo['distance_x'] = np.abs(df_combo['x_position_1']-df_combo['x_position_2'])\n",
    "    df_combo['distance_y'] = np.abs(df_combo['y_position_1']-df_combo['y_position_2'])\n",
    "    dist_pow = df_combo['distance_x']**2 + df_combo['distance_y']**2\n",
    "    df_combo['distance'] = np.sqrt(dist_pow)\n",
    "        \n",
    "    return df_combo"
   ]
  },
  {
   "cell_type": "code",
   "execution_count": 20,
   "id": "d1b7cf34",
   "metadata": {
    "execution": {
     "iopub.execute_input": "2023-01-31T10:26:35.107336Z",
     "iopub.status.busy": "2023-01-31T10:26:35.106530Z",
     "iopub.status.idle": "2023-01-31T10:26:35.630938Z",
     "shell.execute_reply": "2023-01-31T10:26:35.630034Z"
    },
    "papermill": {
     "duration": 0.542167,
     "end_time": "2023-01-31T10:26:35.633529",
     "exception": false,
     "start_time": "2023-01-31T10:26:35.091362",
     "status": "completed"
    },
    "tags": []
   },
   "outputs": [],
   "source": [
    "test_labels = CFG.expand_contact_id(pd.read_csv(CFG.test_sub_dir))\n",
    "test_tracking = pd.read_csv(CFG.test_tracking_dir)\n",
    "# test_helmets = pd.read_csv(\"/kaggle/input/nfl-player-contact-detection/test_baseline_helmets.csv\")\n",
    "# test_video_metadata = pd.read_csv(\"/kaggle/input/nfl-player-contact-detection/test_video_metadata.csv\")\n",
    "use_cols = [\n",
    "    'x_position', 'y_position', 'speed', 'distance',\n",
    "    'direction', 'orientation', 'acceleration', 'sa'\n",
    "]\n",
    "\n",
    "df_test = create_features(test_labels, test_tracking, use_cols)"
   ]
  },
  {
   "cell_type": "code",
   "execution_count": 21,
   "id": "0ad54e0a",
   "metadata": {
    "execution": {
     "iopub.execute_input": "2023-01-31T10:26:35.663063Z",
     "iopub.status.busy": "2023-01-31T10:26:35.662377Z",
     "iopub.status.idle": "2023-01-31T10:26:35.676691Z",
     "shell.execute_reply": "2023-01-31T10:26:35.675821Z"
    },
    "papermill": {
     "duration": 0.03159,
     "end_time": "2023-01-31T10:26:35.678992",
     "exception": false,
     "start_time": "2023-01-31T10:26:35.647402",
     "status": "completed"
    },
    "tags": []
   },
   "outputs": [],
   "source": [
    "df_test_pred = df_test.copy(deep=True)\n",
    "# df_test_pred = df_test[(df_test['distance']<CFG.dist_thresh) | df_test['distance'].isna()]"
   ]
  },
  {
   "cell_type": "code",
   "execution_count": 22,
   "id": "09f58706",
   "metadata": {
    "execution": {
     "iopub.execute_input": "2023-01-31T10:26:35.708344Z",
     "iopub.status.busy": "2023-01-31T10:26:35.707960Z",
     "iopub.status.idle": "2023-01-31T10:26:35.714801Z",
     "shell.execute_reply": "2023-01-31T10:26:35.713695Z"
    },
    "papermill": {
     "duration": 0.024194,
     "end_time": "2023-01-31T10:26:35.716997",
     "exception": false,
     "start_time": "2023-01-31T10:26:35.692803",
     "status": "completed"
    },
    "tags": []
   },
   "outputs": [
    {
     "data": {
      "text/plain": [
       "Index(['contact_id', 'contact', 'game_play', 'game', 'play', 'step',\n",
       "       'nfl_player_id_1', 'nfl_player_id_2', 'x_position_1', 'y_position_1',\n",
       "       'speed_1', 'distance_1', 'direction_1', 'orientation_1',\n",
       "       'acceleration_1', 'sa_1', 'x_position_2', 'y_position_2', 'speed_2',\n",
       "       'distance_2', 'direction_2', 'orientation_2', 'acceleration_2', 'sa_2',\n",
       "       'G_flag', 'distance_x', 'distance_y', 'distance'],\n",
       "      dtype='object')"
      ]
     },
     "execution_count": 22,
     "metadata": {},
     "output_type": "execute_result"
    }
   ],
   "source": [
    "df_test.columns"
   ]
  },
  {
   "cell_type": "code",
   "execution_count": 23,
   "id": "62b2e422",
   "metadata": {
    "execution": {
     "iopub.execute_input": "2023-01-31T10:26:35.746470Z",
     "iopub.status.busy": "2023-01-31T10:26:35.746079Z",
     "iopub.status.idle": "2023-01-31T10:26:36.080774Z",
     "shell.execute_reply": "2023-01-31T10:26:36.079822Z"
    },
    "papermill": {
     "duration": 0.352576,
     "end_time": "2023-01-31T10:26:36.083307",
     "exception": false,
     "start_time": "2023-01-31T10:26:35.730731",
     "status": "completed"
    },
    "tags": []
   },
   "outputs": [],
   "source": [
    "df_test_pred['frame'] = np.round(df_test_pred['step']/10*59.94+5*59.94).astype(int)\n",
    "test_helmets = pd.read_csv(CFG.test_helmets_dir)\n",
    "# merge two helmet views of the same player\n",
    "df_test_helmets = CFG.merge_helmet_views(test_helmets)\n",
    "# merge helmet views of two players\n",
    "df_feats = CFG.merge_label_helmet(df_test_pred, df_test_helmets)"
   ]
  },
  {
   "cell_type": "code",
   "execution_count": 24,
   "id": "ed6b832f",
   "metadata": {
    "execution": {
     "iopub.execute_input": "2023-01-31T10:26:36.112945Z",
     "iopub.status.busy": "2023-01-31T10:26:36.112558Z",
     "iopub.status.idle": "2023-01-31T10:26:36.125023Z",
     "shell.execute_reply": "2023-01-31T10:26:36.123916Z"
    },
    "papermill": {
     "duration": 0.029813,
     "end_time": "2023-01-31T10:26:36.127116",
     "exception": false,
     "start_time": "2023-01-31T10:26:36.097303",
     "status": "completed"
    },
    "tags": []
   },
   "outputs": [
    {
     "data": {
      "text/plain": [
       "Index(['contact_id', 'contact', 'G_flag', 'x_position_1', 'y_position_1',\n",
       "       'speed_1', 'distance_1', 'direction_1', 'orientation_1',\n",
       "       'acceleration_1', 'sa_1', 'x_position_2', 'y_position_2', 'speed_2',\n",
       "       'distance_2', 'direction_2', 'orientation_2', 'acceleration_2', 'sa_2',\n",
       "       'distance', 'left_side_p1', 'width_side_p1', 'top_side_p1',\n",
       "       'height_side_p1', 'left_end_p2', 'width_end_p2', 'top_end_p2',\n",
       "       'height_end_p2', 'left_side_p2', 'width_side_p2', 'top_side_p2',\n",
       "       'height_side_p2'],\n",
       "      dtype='object')"
      ]
     },
     "execution_count": 24,
     "metadata": {},
     "output_type": "execute_result"
    }
   ],
   "source": [
    "df_feats[feats].columns"
   ]
  },
  {
   "cell_type": "code",
   "execution_count": 25,
   "id": "0ab88306",
   "metadata": {
    "execution": {
     "iopub.execute_input": "2023-01-31T10:26:36.156718Z",
     "iopub.status.busy": "2023-01-31T10:26:36.156259Z",
     "iopub.status.idle": "2023-01-31T10:26:39.208081Z",
     "shell.execute_reply": "2023-01-31T10:26:39.207185Z"
    },
    "papermill": {
     "duration": 3.069179,
     "end_time": "2023-01-31T10:26:39.210205",
     "exception": false,
     "start_time": "2023-01-31T10:26:36.141026",
     "status": "completed"
    },
    "tags": []
   },
   "outputs": [
    {
     "name": "stdout",
     "output_type": "stream",
     "text": [
      "['/kaggle/working/model/xgb_fold_0_yy_all.joblib', '/kaggle/working/model/xgb_fold_4_yy_all.joblib', '/kaggle/working/model/xgb_fold_1_yy_all.joblib', '/kaggle/working/model/xgb_fold_2_yy_all.joblib', '/kaggle/working/model/xgb_fold_3_yy_all.joblib']\n"
     ]
    },
    {
     "data": {
      "text/plain": [
       "0    48701\n",
       "1      887\n",
       "Name: contact, dtype: int64"
      ]
     },
     "execution_count": 25,
     "metadata": {},
     "output_type": "execute_result"
    }
   ],
   "source": [
    "sub_pred = pred_xgboost(\n",
    "    df_feats[feats].drop(columns=['contact_id', 'contact', ]), \n",
    "    CFG.model_dir, f'{CFG.name}_all')\n",
    "df_test.loc[df_feats.index, 'contact'] = (sub_pred>CFG.threshold).astype(int)\n",
    "# df_test[['contact_id', 'contact']].to_csv('submission.csv', index=False)\n",
    "df_test['contact'].value_counts()\n"
   ]
  },
  {
   "cell_type": "code",
   "execution_count": 26,
   "id": "66cde1aa",
   "metadata": {
    "execution": {
     "iopub.execute_input": "2023-01-31T10:26:39.241249Z",
     "iopub.status.busy": "2023-01-31T10:26:39.240218Z",
     "iopub.status.idle": "2023-01-31T10:26:39.344530Z",
     "shell.execute_reply": "2023-01-31T10:26:39.343363Z"
    },
    "papermill": {
     "duration": 0.122347,
     "end_time": "2023-01-31T10:26:39.346891",
     "exception": false,
     "start_time": "2023-01-31T10:26:39.224544",
     "status": "completed"
    },
    "tags": []
   },
   "outputs": [
    {
     "data": {
      "text/html": [
       "<div>\n",
       "<style scoped>\n",
       "    .dataframe tbody tr th:only-of-type {\n",
       "        vertical-align: middle;\n",
       "    }\n",
       "\n",
       "    .dataframe tbody tr th {\n",
       "        vertical-align: top;\n",
       "    }\n",
       "\n",
       "    .dataframe thead th {\n",
       "        text-align: right;\n",
       "    }\n",
       "</style>\n",
       "<table border=\"1\" class=\"dataframe\">\n",
       "  <thead>\n",
       "    <tr style=\"text-align: right;\">\n",
       "      <th></th>\n",
       "      <th>contact_id</th>\n",
       "      <th>contact</th>\n",
       "    </tr>\n",
       "  </thead>\n",
       "  <tbody>\n",
       "    <tr>\n",
       "      <th>0</th>\n",
       "      <td>58168_003392_0_37084_37211</td>\n",
       "      <td>0</td>\n",
       "    </tr>\n",
       "    <tr>\n",
       "      <th>1</th>\n",
       "      <td>58168_003392_0_37084_38556</td>\n",
       "      <td>0</td>\n",
       "    </tr>\n",
       "    <tr>\n",
       "      <th>2</th>\n",
       "      <td>58168_003392_0_37084_38567</td>\n",
       "      <td>0</td>\n",
       "    </tr>\n",
       "    <tr>\n",
       "      <th>3</th>\n",
       "      <td>58168_003392_0_37084_38590</td>\n",
       "      <td>0</td>\n",
       "    </tr>\n",
       "    <tr>\n",
       "      <th>4</th>\n",
       "      <td>58168_003392_0_37084_39947</td>\n",
       "      <td>0</td>\n",
       "    </tr>\n",
       "    <tr>\n",
       "      <th>...</th>\n",
       "      <td>...</td>\n",
       "      <td>...</td>\n",
       "    </tr>\n",
       "    <tr>\n",
       "      <th>49583</th>\n",
       "      <td>58172_003247_125_52521_52939</td>\n",
       "      <td>0</td>\n",
       "    </tr>\n",
       "    <tr>\n",
       "      <th>49584</th>\n",
       "      <td>58172_003247_125_52521_G</td>\n",
       "      <td>0</td>\n",
       "    </tr>\n",
       "    <tr>\n",
       "      <th>49585</th>\n",
       "      <td>58172_003247_125_52852_52939</td>\n",
       "      <td>0</td>\n",
       "    </tr>\n",
       "    <tr>\n",
       "      <th>49586</th>\n",
       "      <td>58172_003247_125_52852_G</td>\n",
       "      <td>0</td>\n",
       "    </tr>\n",
       "    <tr>\n",
       "      <th>49587</th>\n",
       "      <td>58172_003247_125_52939_G</td>\n",
       "      <td>0</td>\n",
       "    </tr>\n",
       "  </tbody>\n",
       "</table>\n",
       "<p>49588 rows × 2 columns</p>\n",
       "</div>"
      ],
      "text/plain": [
       "                         contact_id  contact\n",
       "0        58168_003392_0_37084_37211        0\n",
       "1        58168_003392_0_37084_38556        0\n",
       "2        58168_003392_0_37084_38567        0\n",
       "3        58168_003392_0_37084_38590        0\n",
       "4        58168_003392_0_37084_39947        0\n",
       "...                             ...      ...\n",
       "49583  58172_003247_125_52521_52939        0\n",
       "49584      58172_003247_125_52521_G        0\n",
       "49585  58172_003247_125_52852_52939        0\n",
       "49586      58172_003247_125_52852_G        0\n",
       "49587      58172_003247_125_52939_G        0\n",
       "\n",
       "[49588 rows x 2 columns]"
      ]
     },
     "execution_count": 26,
     "metadata": {},
     "output_type": "execute_result"
    }
   ],
   "source": [
    "df_test[['contact_id', 'contact']].to_csv('submission.csv', index=False)\n",
    "df_test[['contact_id', 'contact']]"
   ]
  },
  {
   "cell_type": "code",
   "execution_count": 27,
   "id": "80b84efe",
   "metadata": {
    "execution": {
     "iopub.execute_input": "2023-01-31T10:26:39.378295Z",
     "iopub.status.busy": "2023-01-31T10:26:39.377632Z",
     "iopub.status.idle": "2023-01-31T10:26:39.381696Z",
     "shell.execute_reply": "2023-01-31T10:26:39.380821Z"
    },
    "papermill": {
     "duration": 0.022203,
     "end_time": "2023-01-31T10:26:39.383889",
     "exception": false,
     "start_time": "2023-01-31T10:26:39.361686",
     "status": "completed"
    },
    "tags": []
   },
   "outputs": [],
   "source": [
    "# sub_pred = pred_xgboost(df_test.drop(columns=['contact_id', 'contact']), \n",
    "#                         CFG.model_dir, f'{CFG.name}_{CFG.suffix}')\n",
    "# df_test['contact'] = (sub_pred > CFG.threshold).astype(int)\n",
    "# df_test = CFG.expand_contact_id(df_test)\n",
    "# df_test[['contact_id', 'contact']].to_csv('submission.csv', index=False)\n",
    "# display(df_test[['contact_id', 'contact']].head())"
   ]
  },
  {
   "cell_type": "code",
   "execution_count": 28,
   "id": "c4ff100a",
   "metadata": {
    "execution": {
     "iopub.execute_input": "2023-01-31T10:26:39.415562Z",
     "iopub.status.busy": "2023-01-31T10:26:39.414879Z",
     "iopub.status.idle": "2023-01-31T10:26:40.545179Z",
     "shell.execute_reply": "2023-01-31T10:26:40.543815Z"
    },
    "papermill": {
     "duration": 1.149266,
     "end_time": "2023-01-31T10:26:40.547989",
     "exception": false,
     "start_time": "2023-01-31T10:26:39.398723",
     "status": "completed"
    },
    "tags": []
   },
   "outputs": [
    {
     "name": "stdout",
     "output_type": "stream",
     "text": [
      "xgb_fold_0_yy_all.joblib  xgb_fold_2_yy_all.joblib  xgb_fold_4_yy_all.joblib\r\n",
      "xgb_fold_1_yy_all.joblib  xgb_fold_3_yy_all.joblib\r\n"
     ]
    }
   ],
   "source": [
    "!ls model/"
   ]
  },
  {
   "cell_type": "code",
   "execution_count": 29,
   "id": "dc5f3dcf",
   "metadata": {
    "execution": {
     "iopub.execute_input": "2023-01-31T10:26:40.581577Z",
     "iopub.status.busy": "2023-01-31T10:26:40.580446Z",
     "iopub.status.idle": "2023-01-31T10:26:40.585614Z",
     "shell.execute_reply": "2023-01-31T10:26:40.584498Z"
    },
    "papermill": {
     "duration": 0.023793,
     "end_time": "2023-01-31T10:26:40.587702",
     "exception": false,
     "start_time": "2023-01-31T10:26:40.563909",
     "status": "completed"
    },
    "tags": []
   },
   "outputs": [],
   "source": [
    "# df_test_p2g = df_test[df_test['G_flag']==1]\n",
    "# df_test_p2p = df_test[df_test['G_flag']==0]"
   ]
  },
  {
   "cell_type": "code",
   "execution_count": 30,
   "id": "afef2a40",
   "metadata": {
    "execution": {
     "iopub.execute_input": "2023-01-31T10:26:40.618963Z",
     "iopub.status.busy": "2023-01-31T10:26:40.618530Z",
     "iopub.status.idle": "2023-01-31T10:26:40.623312Z",
     "shell.execute_reply": "2023-01-31T10:26:40.622198Z"
    },
    "papermill": {
     "duration": 0.022816,
     "end_time": "2023-01-31T10:26:40.625528",
     "exception": false,
     "start_time": "2023-01-31T10:26:40.602712",
     "status": "completed"
    },
    "tags": []
   },
   "outputs": [],
   "source": [
    "# sub_pred_p2g = pred_xgboost(df_test_p2g.drop(columns=['contact_id', 'contact']),\n",
    "#                            CFG.model_dir, f'{CFG.name}_p2g')\n",
    "# sub_pred_p2p = pred_xgboost(df_test_p2p.drop(columns=['contact_id', 'contact']),\n",
    "#                            CFG.model_dir, f'{CFG.name}_p2p')\n",
    "# df_test_p2g['contact'] = (sub_pred_p2g > CFG.p2p_threshold).astype(int)\n",
    "# df_test_p2p['contact'] = (sub_pred_p2p > CFG.p2g_threshold).astype(int)"
   ]
  },
  {
   "cell_type": "code",
   "execution_count": 31,
   "id": "51001760",
   "metadata": {
    "execution": {
     "iopub.execute_input": "2023-01-31T10:26:40.657496Z",
     "iopub.status.busy": "2023-01-31T10:26:40.657139Z",
     "iopub.status.idle": "2023-01-31T10:26:40.661800Z",
     "shell.execute_reply": "2023-01-31T10:26:40.660648Z"
    },
    "papermill": {
     "duration": 0.023155,
     "end_time": "2023-01-31T10:26:40.663958",
     "exception": false,
     "start_time": "2023-01-31T10:26:40.640803",
     "status": "completed"
    },
    "tags": []
   },
   "outputs": [],
   "source": [
    "# df_test_ = pd.concat([df_test_p2g, df_test_p2p]).sort_index()\n",
    "# df_test_[['contact_id', 'contact']].to_csv('submission.csv', index=False)\n",
    "# df_test_"
   ]
  },
  {
   "cell_type": "code",
   "execution_count": 32,
   "id": "53370c83",
   "metadata": {
    "execution": {
     "iopub.execute_input": "2023-01-31T10:26:40.698624Z",
     "iopub.status.busy": "2023-01-31T10:26:40.697404Z",
     "iopub.status.idle": "2023-01-31T10:26:40.702323Z",
     "shell.execute_reply": "2023-01-31T10:26:40.701457Z"
    },
    "papermill": {
     "duration": 0.024369,
     "end_time": "2023-01-31T10:26:40.704510",
     "exception": false,
     "start_time": "2023-01-31T10:26:40.680141",
     "status": "completed"
    },
    "tags": []
   },
   "outputs": [],
   "source": [
    "# df_test_['contact'].value_counts()"
   ]
  },
  {
   "cell_type": "code",
   "execution_count": 33,
   "id": "1890b315",
   "metadata": {
    "execution": {
     "iopub.execute_input": "2023-01-31T10:26:40.736132Z",
     "iopub.status.busy": "2023-01-31T10:26:40.735784Z",
     "iopub.status.idle": "2023-01-31T10:26:40.739866Z",
     "shell.execute_reply": "2023-01-31T10:26:40.738834Z"
    },
    "papermill": {
     "duration": 0.022354,
     "end_time": "2023-01-31T10:26:40.742011",
     "exception": false,
     "start_time": "2023-01-31T10:26:40.719657",
     "status": "completed"
    },
    "tags": []
   },
   "outputs": [],
   "source": [
    "# df_test_p2p['contact'].value_counts()"
   ]
  },
  {
   "cell_type": "code",
   "execution_count": 34,
   "id": "ec4c5990",
   "metadata": {
    "execution": {
     "iopub.execute_input": "2023-01-31T10:26:40.772366Z",
     "iopub.status.busy": "2023-01-31T10:26:40.772009Z",
     "iopub.status.idle": "2023-01-31T10:26:40.776336Z",
     "shell.execute_reply": "2023-01-31T10:26:40.775240Z"
    },
    "papermill": {
     "duration": 0.022277,
     "end_time": "2023-01-31T10:26:40.778709",
     "exception": false,
     "start_time": "2023-01-31T10:26:40.756432",
     "status": "completed"
    },
    "tags": []
   },
   "outputs": [],
   "source": [
    "# df_test_p2g['contact'].value_counts()"
   ]
  }
 ],
 "metadata": {
  "kernelspec": {
   "display_name": "Python 3",
   "language": "python",
   "name": "python3"
  },
  "language_info": {
   "codemirror_mode": {
    "name": "ipython",
    "version": 3
   },
   "file_extension": ".py",
   "mimetype": "text/x-python",
   "name": "python",
   "nbconvert_exporter": "python",
   "pygments_lexer": "ipython3",
   "version": "3.7.12"
  },
  "papermill": {
   "default_parameters": {},
   "duration": 825.755183,
   "end_time": "2023-01-31T10:26:42.120413",
   "environment_variables": {},
   "exception": null,
   "input_path": "__notebook__.ipynb",
   "output_path": "__notebook__.ipynb",
   "parameters": {},
   "start_time": "2023-01-31T10:12:56.365230",
   "version": "2.3.4"
  }
 },
 "nbformat": 4,
 "nbformat_minor": 5
}
