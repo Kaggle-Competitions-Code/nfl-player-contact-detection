{
 "cells": [
  {
   "cell_type": "code",
   "execution_count": 1,
   "id": "51af6a3f",
   "metadata": {
    "_cell_guid": "b1076dfc-b9ad-4769-8c92-a6c4dae69d19",
    "_uuid": "8f2839f25d086af736a60e9eeb907d3b93b6e0e5",
    "execution": {
     "iopub.execute_input": "2023-01-22T17:39:13.726616Z",
     "iopub.status.busy": "2023-01-22T17:39:13.726050Z",
     "iopub.status.idle": "2023-01-22T17:39:14.949274Z",
     "shell.execute_reply": "2023-01-22T17:39:14.948046Z"
    },
    "papermill": {
     "duration": 1.236034,
     "end_time": "2023-01-22T17:39:14.952215",
     "exception": false,
     "start_time": "2023-01-22T17:39:13.716181",
     "status": "completed"
    },
    "tags": []
   },
   "outputs": [],
   "source": [
    "import os\n",
    "import gc\n",
    "from glob import glob\n",
    "import joblib\n",
    "import pandas as pd\n",
    "import numpy as np\n",
    "import xgboost as xgb\n",
    "from sklearn.model_selection import GroupKFold\n",
    "from sklearn.metrics import roc_auc_score, matthews_corrcoef\n",
    "from scipy.optimize import minimize\n",
    "from IPython.display import display"
   ]
  },
  {
   "cell_type": "code",
   "execution_count": 2,
   "id": "efecf5bb",
   "metadata": {
    "execution": {
     "iopub.execute_input": "2023-01-22T17:39:14.967842Z",
     "iopub.status.busy": "2023-01-22T17:39:14.967439Z",
     "iopub.status.idle": "2023-01-22T17:39:16.059727Z",
     "shell.execute_reply": "2023-01-22T17:39:16.058226Z"
    },
    "papermill": {
     "duration": 1.103307,
     "end_time": "2023-01-22T17:39:16.062631",
     "exception": false,
     "start_time": "2023-01-22T17:39:14.959324",
     "status": "completed"
    },
    "tags": []
   },
   "outputs": [
    {
     "name": "stdout",
     "output_type": "stream",
     "text": [
      "p2g_all_feats.csv    train_feats.csv\t  valid_all_feats.csv\r\n",
      "p2p_all_feats.csv    train_p2g_feats.csv  valid_p2g_feats.csv\r\n",
      "train_all_feats.csv  train_p2p_feats.csv  valid_p2p_feats.csv\r\n"
     ]
    }
   ],
   "source": [
    "!ls /kaggle/input/nfl-feats-tab/"
   ]
  },
  {
   "cell_type": "code",
   "execution_count": 3,
   "id": "79536915",
   "metadata": {
    "execution": {
     "iopub.execute_input": "2023-01-22T17:39:16.079584Z",
     "iopub.status.busy": "2023-01-22T17:39:16.079140Z",
     "iopub.status.idle": "2023-01-22T17:39:18.266289Z",
     "shell.execute_reply": "2023-01-22T17:39:18.264611Z"
    },
    "papermill": {
     "duration": 2.199196,
     "end_time": "2023-01-22T17:39:18.269284",
     "exception": false,
     "start_time": "2023-01-22T17:39:16.070088",
     "status": "completed"
    },
    "tags": []
   },
   "outputs": [],
   "source": [
    "!mkdir model\n",
    "!mkdir preds"
   ]
  },
  {
   "cell_type": "code",
   "execution_count": 4,
   "id": "a3ed84cd",
   "metadata": {
    "execution": {
     "iopub.execute_input": "2023-01-22T17:39:18.285446Z",
     "iopub.status.busy": "2023-01-22T17:39:18.284942Z",
     "iopub.status.idle": "2023-01-22T17:39:18.313223Z",
     "shell.execute_reply": "2023-01-22T17:39:18.311731Z"
    },
    "papermill": {
     "duration": 0.040452,
     "end_time": "2023-01-22T17:39:18.316679",
     "exception": false,
     "start_time": "2023-01-22T17:39:18.276227",
     "status": "completed"
    },
    "tags": []
   },
   "outputs": [],
   "source": [
    "class CFG:\n",
    "    name = 'yy'\n",
    "    suffix = 'default_kfold_test'\n",
    "    \n",
    "    input_dir = '/kaggle/input/nfl-player-contact-detection'\n",
    "    split_dir = '/kaggle/input/nfl-split'\n",
    "    feats_dir = '/kaggle/input/nfl-feats-tab'\n",
    "    \n",
    "    working_dir = '/kaggle/working'\n",
    "    \n",
    "    model_dir = os.path.join(working_dir, 'model')\n",
    "    preds_dir = os.path.join(working_dir, 'preds')\n",
    "    \n",
    "    num_folds = 5\n",
    "    \n",
    "    xgb_params = {\n",
    "        'objective': 'binary:logistic',\n",
    "        'eval_metric': 'auc',\n",
    "        'learning_rate':0.03,\n",
    "        'tree_method':'hist'\n",
    "    }\n",
    "    \n",
    "    \n",
    "    # --------------------- FIXED --------------------- #\n",
    "    train_labels_dir = os.path.join(input_dir, 'train_labels.csv')\n",
    "    train_tracking_dir = os.path.join(input_dir, 'train_player_tracking.csv')\n",
    "    test_sub_dir = os.path.join(input_dir, 'sample_submission.csv')\n",
    "    test_tracking_dir = os.path.join(input_dir, 'test_player_tracking.csv')\n",
    "    \n",
    "    ## feats\n",
    "    train_all_feats = os.path.join(feats_dir, 'train_feats.csv')\n",
    "    train_feats_all = os.path.join(feats_dir, 'train_all_feats.csv')\n",
    "    train_feats_p2p = os.path.join(feats_dir, 'train_feats_p2p.csv')\n",
    "    train_feats_p2g = os.path.join(feats_dir, 'train_feats_p2g.csv')\n",
    "    valid_feats_all = os.path.join(feats_dir, 'valid_all_feats.csv')\n",
    "    valid_feats_p2p = os.path.join(feats_dir, 'valid_feats_p2p.csv')\n",
    "    valid_feats_p2g = os.path.join(feats_dir, 'valid_feats_p2g.csv')\n",
    "    feats_p2p = os.path.join(feats_dir, 'p2p_all_feats.csv')\n",
    "    feats_p2g = os.path.join(feats_dir, 'p2g_all_feats.csv')\n",
    "    \n",
    "    feats_dict = {\n",
    "        'train': train_all_feats,\n",
    "        'train_all': train_feats_all,\n",
    "        'train_p2p': train_feats_p2p,\n",
    "        'train_p2g': train_feats_p2g,\n",
    "        'valid_all': valid_feats_all,\n",
    "        'valid_p2p': valid_feats_p2p,\n",
    "        'valid_p2g': valid_feats_p2g,\n",
    "        'p2p': feats_p2p,\n",
    "        'p2g': feats_p2g\n",
    "    }\n",
    "    \n",
    "    \n",
    "    def expand_contact_id(df):\n",
    "        df['game_play'] = df['contact_id'].str[:12]\n",
    "        df['game'] = df['contact_id'].apply(lambda s: s.split('_')[0])\n",
    "        df['play'] = df['contact_id'].apply(lambda s: s.split('_')[1])\n",
    "        df['step'] = df['contact_id'].apply(lambda s: s.split('_')[2]).astype(int)\n",
    "        df['nfl_player_id_1'] = df['contact_id'].apply(lambda s: s.split('_')[-2])\n",
    "        df['nfl_player_id_2'] = df['contact_id'].apply(lambda s: s.split('_')[-1])\n",
    "        return df\n",
    "    \n",
    "    def get_groupkfold(train, n_splits):\n",
    "        kf = GroupKFold(n_splits=n_splits)\n",
    "        generator = kf.split(train, train['contact'], train['contact_id'].str[:5], )\n",
    "        fold_series = []\n",
    "        for fold, (idx_train, idx_valid) in enumerate(generator):\n",
    "            fold_series.append(pd.Series(fold, index=idx_valid))\n",
    "        fold_series = pd.concat(fold_series).sort_index()\n",
    "        return fold_series\n",
    "    \n",
    "    \n",
    "    def fit_xgboost(X_train, y_train, X_valid, y_valid, xgb_params):\n",
    "        xgb_train = xgb.DMatrix(X_train, y_train)\n",
    "        xgb_valid = xgb.DMatrix(X_valid, y_valid)\n",
    "        display(pd.Series(y_valid).value_counts())\n",
    "        evals = [(xgb_train, 'train'), (xgb_valid, 'valid')]\n",
    "\n",
    "        model = xgb.train(\n",
    "            xgb_params, \n",
    "            xgb_train,\n",
    "            num_boost_round=10_000,\n",
    "            early_stopping_rounds=100,\n",
    "            evals=evals,\n",
    "            verbose_eval=100,\n",
    "        )\n",
    "        return model\n",
    "    \n",
    "    def fit_xgboost_kfold(X, y, xgb_params, folds, name='', suffix=''):\n",
    "        oof_pred = np.zeros(len(y), dtype=np.float32)\n",
    "        for fold in sorted(CFG.folds.unique()):\n",
    "            if fold == -1: continue\n",
    "            idx_train = (CFG.folds!=fold)\n",
    "            idx_valid = (CFG.folds==fold)\n",
    "            x_train, y_train = X[idx_train], y[idx_train]\n",
    "            x_valid, y_valid = X[idx_valid], y[idx_valid]\n",
    "            print(f\"Fold -- {fold} -- \")\n",
    "            model = CFG.fit_xgboost(x_train, y_train, x_valid, y_valid, xgb_params)\n",
    "            model_path = os.path.join(CFG.model_dir, f'xgb_fold_{fold}_{name}_{suffix}.joblib')\n",
    "            joblib.dump(model, model_path)\n",
    "            pred_i = model.predict(xgb.DMatrix(x_valid, y_valid))\n",
    "\n",
    "            oof_pred[x_valid.index] = pred_i\n",
    "            score = round(roc_auc_score(y_valid, pred_i), 5)\n",
    "            print(f'Performance of the prediction: {score}\\n')\n",
    "            del model; gc.collect()\n",
    "\n",
    "        np.save(os.path.join(CFG.preds_dir, f'oof_pred{name}{suffix}'), oof_pred)\n",
    "        score = round(roc_auc_score(y, oof_pred), 5)\n",
    "        print(f'All Performance of the prediction: {score}')\n",
    "        return oof_pred\n",
    "    "
   ]
  },
  {
   "cell_type": "code",
   "execution_count": 5,
   "id": "6008048c",
   "metadata": {
    "execution": {
     "iopub.execute_input": "2023-01-22T17:39:18.334001Z",
     "iopub.status.busy": "2023-01-22T17:39:18.333565Z",
     "iopub.status.idle": "2023-01-22T17:40:19.562864Z",
     "shell.execute_reply": "2023-01-22T17:40:19.561073Z"
    },
    "papermill": {
     "duration": 61.241495,
     "end_time": "2023-01-22T17:40:19.566000",
     "exception": false,
     "start_time": "2023-01-22T17:39:18.324505",
     "status": "completed"
    },
    "tags": []
   },
   "outputs": [],
   "source": [
    "CFG.default_feats = CFG.feats_dict['train']\n",
    "CFG.folds = CFG.get_groupkfold(pd.read_csv(CFG.default_feats, index_col=0), CFG.num_folds)\n",
    "\n",
    "CFG.p2p_feats = CFG.feats_dict['p2p']\n",
    "CFG.p2g_feats = CFG.feats_dict['p2g']\n",
    "CFG.p2p_folds = CFG.get_groupkfold(pd.read_csv(CFG.p2p_feats, index_col=0), CFG.num_folds)\n",
    "CFG.p2g_folds = CFG.get_groupkfold(pd.read_csv(CFG.p2g_feats, index_col=0), CFG.num_folds)"
   ]
  },
  {
   "cell_type": "markdown",
   "id": "5d1ab6f6",
   "metadata": {
    "papermill": {
     "duration": 0.006564,
     "end_time": "2023-01-22T17:40:19.580158",
     "exception": false,
     "start_time": "2023-01-22T17:40:19.573594",
     "status": "completed"
    },
    "tags": []
   },
   "source": [
    "### train all"
   ]
  },
  {
   "cell_type": "code",
   "execution_count": 6,
   "id": "7cd5b63a",
   "metadata": {
    "execution": {
     "iopub.execute_input": "2023-01-22T17:40:19.597434Z",
     "iopub.status.busy": "2023-01-22T17:40:19.597030Z",
     "iopub.status.idle": "2023-01-22T17:40:19.602514Z",
     "shell.execute_reply": "2023-01-22T17:40:19.600844Z"
    },
    "papermill": {
     "duration": 0.016267,
     "end_time": "2023-01-22T17:40:19.605058",
     "exception": false,
     "start_time": "2023-01-22T17:40:19.588791",
     "status": "completed"
    },
    "tags": []
   },
   "outputs": [],
   "source": [
    "# df = pd.read_csv(CFG.default_feats, index_col=0)\n",
    "# X = df.drop(columns=['contact_id', 'contact'])\n",
    "# y = df['contact']"
   ]
  },
  {
   "cell_type": "markdown",
   "id": "6c213858",
   "metadata": {
    "papermill": {
     "duration": 0.006739,
     "end_time": "2023-01-22T17:40:19.618997",
     "exception": false,
     "start_time": "2023-01-22T17:40:19.612258",
     "status": "completed"
    },
    "tags": []
   },
   "source": [
    "### p2p & p2g"
   ]
  },
  {
   "cell_type": "code",
   "execution_count": 7,
   "id": "16f366be",
   "metadata": {
    "execution": {
     "iopub.execute_input": "2023-01-22T17:40:19.634473Z",
     "iopub.status.busy": "2023-01-22T17:40:19.634048Z",
     "iopub.status.idle": "2023-01-22T17:40:36.818202Z",
     "shell.execute_reply": "2023-01-22T17:40:36.816963Z"
    },
    "papermill": {
     "duration": 17.194958,
     "end_time": "2023-01-22T17:40:36.820864",
     "exception": false,
     "start_time": "2023-01-22T17:40:19.625906",
     "status": "completed"
    },
    "tags": []
   },
   "outputs": [],
   "source": [
    "df_p2p = pd.read_csv(CFG.p2p_feats, index_col=0)\n",
    "df_p2g = pd.read_csv(CFG.p2g_feats, index_col=0)\n",
    "X_p2p = df_p2p.drop(columns=['contact_id', 'contact'])\n",
    "y_p2p = df_p2p['contact']\n",
    "X_p2g = df_p2g.drop(columns=['contact_id', 'contact'])\n",
    "y_p2g = df_p2g['contact']"
   ]
  },
  {
   "cell_type": "code",
   "execution_count": 8,
   "id": "2f25222a",
   "metadata": {
    "execution": {
     "iopub.execute_input": "2023-01-22T17:40:36.838797Z",
     "iopub.status.busy": "2023-01-22T17:40:36.836383Z",
     "iopub.status.idle": "2023-01-22T17:40:36.898778Z",
     "shell.execute_reply": "2023-01-22T17:40:36.897737Z"
    },
    "papermill": {
     "duration": 0.073271,
     "end_time": "2023-01-22T17:40:36.901415",
     "exception": false,
     "start_time": "2023-01-22T17:40:36.828144",
     "status": "completed"
    },
    "tags": []
   },
   "outputs": [
    {
     "data": {
      "text/plain": [
       "(3    866250\n",
       " 0    863478\n",
       " 2    863310\n",
       " 1    863247\n",
       " 4    854700\n",
       " dtype: int64,\n",
       " 3    82500\n",
       " 0    82236\n",
       " 1    82236\n",
       " 4    82236\n",
       " 2    81425\n",
       " dtype: int64)"
      ]
     },
     "execution_count": 8,
     "metadata": {},
     "output_type": "execute_result"
    }
   ],
   "source": [
    "CFG.p2p_folds.value_counts(), CFG.p2g_folds.value_counts()"
   ]
  },
  {
   "cell_type": "code",
   "execution_count": 9,
   "id": "c93db341",
   "metadata": {
    "execution": {
     "iopub.execute_input": "2023-01-22T17:40:36.918745Z",
     "iopub.status.busy": "2023-01-22T17:40:36.917882Z",
     "iopub.status.idle": "2023-01-22T17:40:37.020875Z",
     "shell.execute_reply": "2023-01-22T17:40:37.019982Z"
    },
    "papermill": {
     "duration": 0.114249,
     "end_time": "2023-01-22T17:40:37.023342",
     "exception": false,
     "start_time": "2023-01-22T17:40:36.909093",
     "status": "completed"
    },
    "tags": []
   },
   "outputs": [],
   "source": [
    "# def fit_xgboost_kfold(X, y, xgb_params, name='', suffix=''):\n",
    "#     oof_pred = np.zeros(len(y), dtype=np.float32)\n",
    "#     for fold in sorted(CFG.folds.unique()):\n",
    "#         if fold == -1: continue\n",
    "#         idx_train = (CFG.folds!=fold)\n",
    "#         idx_valid = (CFG.folds==fold)\n",
    "#         x_train, y_train = X[idx_train], y[idx_train]\n",
    "#         x_valid, y_valid = X[idx_valid], y[idx_valid]\n",
    "#         print(f\"Fold -- {fold} -- \")\n",
    "#         model = CFG.fit_xgboost(x_train, y_train, x_valid, y_valid, xgb_params)\n",
    "#         model_path = os.path.join(CFG.model_dir, f'xgb_fold_{fold}_{name}_{suffix}.joblib')\n",
    "#         joblib.dump(model, model_path)\n",
    "#         pred_i = model.predict(xgb.DMatrix(x_valid, y_valid))\n",
    "        \n",
    "#         oof_pred[x_valid.index] = pred_i\n",
    "#         score = round(roc_auc_score(y_valid, pred_i), 5)\n",
    "#         print(f'Performance of the prediction: {score}\\n')\n",
    "#         del model; gc.collect()\n",
    "\n",
    "#     np.save(os.path.join(CFG.preds_dir, f'oof_pred{name}{suffix}'), oof_pred)\n",
    "#     score = round(roc_auc_score(y, oof_pred), 5)\n",
    "#     print(f'All Performance of the prediction: {score}')\n",
    "#     return oof_pred"
   ]
  },
  {
   "cell_type": "code",
   "execution_count": 10,
   "id": "6f21b7dd",
   "metadata": {
    "execution": {
     "iopub.execute_input": "2023-01-22T17:40:37.039680Z",
     "iopub.status.busy": "2023-01-22T17:40:37.038927Z",
     "iopub.status.idle": "2023-01-22T17:42:11.204521Z",
     "shell.execute_reply": "2023-01-22T17:42:11.203001Z"
    },
    "papermill": {
     "duration": 94.176869,
     "end_time": "2023-01-22T17:42:11.207250",
     "exception": false,
     "start_time": "2023-01-22T17:40:37.030381",
     "status": "completed"
    },
    "tags": []
   },
   "outputs": [
    {
     "name": "stderr",
     "output_type": "stream",
     "text": [
      "/opt/conda/lib/python3.7/site-packages/ipykernel_launcher.py:95: UserWarning: Boolean Series key will be reindexed to match DataFrame index.\n"
     ]
    },
    {
     "name": "stdout",
     "output_type": "stream",
     "text": [
      "Fold -- 0 -- \n"
     ]
    },
    {
     "name": "stderr",
     "output_type": "stream",
     "text": [
      "/opt/conda/lib/python3.7/site-packages/ipykernel_launcher.py:96: UserWarning: Boolean Series key will be reindexed to match DataFrame index.\n"
     ]
    },
    {
     "data": {
      "text/plain": [
       "0    203976\n",
       "1      8797\n",
       "Name: contact, dtype: int64"
      ]
     },
     "metadata": {},
     "output_type": "display_data"
    },
    {
     "name": "stdout",
     "output_type": "stream",
     "text": [
      "[0]\ttrain-auc:0.87825\tvalid-auc:0.84511\n",
      "[100]\ttrain-auc:0.91730\tvalid-auc:0.87485\n",
      "[200]\ttrain-auc:0.94095\tvalid-auc:0.87392\n",
      "[220]\ttrain-auc:0.94533\tvalid-auc:0.87224\n",
      "Performance of the prediction: 0.87224\n",
      "\n"
     ]
    },
    {
     "name": "stderr",
     "output_type": "stream",
     "text": [
      "/opt/conda/lib/python3.7/site-packages/ipykernel_launcher.py:95: UserWarning: Boolean Series key will be reindexed to match DataFrame index.\n",
      "/opt/conda/lib/python3.7/site-packages/ipykernel_launcher.py:96: UserWarning: Boolean Series key will be reindexed to match DataFrame index.\n"
     ]
    },
    {
     "name": "stdout",
     "output_type": "stream",
     "text": [
      "Fold -- 1 -- \n"
     ]
    },
    {
     "data": {
      "text/plain": [
       "0    49942\n",
       "1     2429\n",
       "Name: contact, dtype: int64"
      ]
     },
     "metadata": {},
     "output_type": "display_data"
    },
    {
     "name": "stdout",
     "output_type": "stream",
     "text": [
      "[0]\ttrain-auc:0.87108\tvalid-auc:0.85750\n",
      "[100]\ttrain-auc:0.90444\tvalid-auc:0.87936\n",
      "[200]\ttrain-auc:0.92176\tvalid-auc:0.88648\n",
      "[300]\ttrain-auc:0.93859\tvalid-auc:0.88780\n",
      "[381]\ttrain-auc:0.94783\tvalid-auc:0.88657\n",
      "Performance of the prediction: 0.88649\n",
      "\n"
     ]
    },
    {
     "name": "stderr",
     "output_type": "stream",
     "text": [
      "/opt/conda/lib/python3.7/site-packages/ipykernel_launcher.py:95: UserWarning: Boolean Series key will be reindexed to match DataFrame index.\n",
      "/opt/conda/lib/python3.7/site-packages/ipykernel_launcher.py:96: UserWarning: Boolean Series key will be reindexed to match DataFrame index.\n"
     ]
    },
    {
     "name": "stdout",
     "output_type": "stream",
     "text": [
      "Fold -- 2 -- \n"
     ]
    },
    {
     "data": {
      "text/plain": [
       "0    40388\n",
       "1     1104\n",
       "Name: contact, dtype: int64"
      ]
     },
     "metadata": {},
     "output_type": "display_data"
    },
    {
     "name": "stdout",
     "output_type": "stream",
     "text": [
      "[0]\ttrain-auc:0.86837\tvalid-auc:0.85883\n",
      "[100]\ttrain-auc:0.90363\tvalid-auc:0.88733\n",
      "[200]\ttrain-auc:0.92120\tvalid-auc:0.88165\n",
      "[205]\ttrain-auc:0.92184\tvalid-auc:0.88187\n",
      "Performance of the prediction: 0.88187\n",
      "\n"
     ]
    },
    {
     "name": "stderr",
     "output_type": "stream",
     "text": [
      "/opt/conda/lib/python3.7/site-packages/ipykernel_launcher.py:95: UserWarning: Boolean Series key will be reindexed to match DataFrame index.\n",
      "/opt/conda/lib/python3.7/site-packages/ipykernel_launcher.py:96: UserWarning: Boolean Series key will be reindexed to match DataFrame index.\n"
     ]
    },
    {
     "name": "stdout",
     "output_type": "stream",
     "text": [
      "Fold -- 3 -- \n"
     ]
    },
    {
     "data": {
      "text/plain": [
       "0    14077\n",
       "1      850\n",
       "Name: contact, dtype: int64"
      ]
     },
     "metadata": {},
     "output_type": "display_data"
    },
    {
     "name": "stdout",
     "output_type": "stream",
     "text": [
      "[0]\ttrain-auc:0.86792\tvalid-auc:0.88597\n",
      "[100]\ttrain-auc:0.90163\tvalid-auc:0.89976\n",
      "[200]\ttrain-auc:0.91968\tvalid-auc:0.90016\n",
      "[262]\ttrain-auc:0.93021\tvalid-auc:0.89953\n",
      "Performance of the prediction: 0.89953\n",
      "\n"
     ]
    },
    {
     "name": "stderr",
     "output_type": "stream",
     "text": [
      "/opt/conda/lib/python3.7/site-packages/ipykernel_launcher.py:95: UserWarning: Boolean Series key will be reindexed to match DataFrame index.\n",
      "/opt/conda/lib/python3.7/site-packages/ipykernel_launcher.py:96: UserWarning: Boolean Series key will be reindexed to match DataFrame index.\n"
     ]
    },
    {
     "name": "stdout",
     "output_type": "stream",
     "text": [
      "Fold -- 4 -- \n"
     ]
    },
    {
     "data": {
      "text/plain": [
       "0    85436\n",
       "1     3634\n",
       "Name: contact, dtype: int64"
      ]
     },
     "metadata": {},
     "output_type": "display_data"
    },
    {
     "name": "stdout",
     "output_type": "stream",
     "text": [
      "[0]\ttrain-auc:0.87286\tvalid-auc:0.84375\n",
      "[100]\ttrain-auc:0.90816\tvalid-auc:0.87646\n",
      "[200]\ttrain-auc:0.92638\tvalid-auc:0.87916\n",
      "[300]\ttrain-auc:0.94481\tvalid-auc:0.87490\n",
      "[313]\ttrain-auc:0.94635\tvalid-auc:0.87443\n",
      "Performance of the prediction: 0.8744\n",
      "\n",
      "All Performance of the prediction: 0.8755\n",
      "CPU times: user 6min 3s, sys: 641 ms, total: 6min 4s\n",
      "Wall time: 1min 34s\n"
     ]
    }
   ],
   "source": [
    "%%time\n",
    "p2g_oof_pred = CFG.fit_xgboost_kfold(X_p2g, y_p2g, CFG.xgb_params, CFG.p2g_folds, CFG.name, 'p2g')"
   ]
  },
  {
   "cell_type": "code",
   "execution_count": 11,
   "id": "057e6e6b",
   "metadata": {
    "execution": {
     "iopub.execute_input": "2023-01-22T17:42:11.230053Z",
     "iopub.status.busy": "2023-01-22T17:42:11.228979Z",
     "iopub.status.idle": "2023-01-22T18:50:53.656082Z",
     "shell.execute_reply": "2023-01-22T18:50:53.654626Z"
    },
    "papermill": {
     "duration": 4122.441317,
     "end_time": "2023-01-22T18:50:53.658533",
     "exception": false,
     "start_time": "2023-01-22T17:42:11.217216",
     "status": "completed"
    },
    "tags": []
   },
   "outputs": [
    {
     "name": "stderr",
     "output_type": "stream",
     "text": [
      "/opt/conda/lib/python3.7/site-packages/ipykernel_launcher.py:95: UserWarning: Boolean Series key will be reindexed to match DataFrame index.\n",
      "/opt/conda/lib/python3.7/site-packages/ipykernel_launcher.py:96: UserWarning: Boolean Series key will be reindexed to match DataFrame index.\n"
     ]
    },
    {
     "name": "stdout",
     "output_type": "stream",
     "text": [
      "Fold -- 0 -- \n"
     ]
    },
    {
     "data": {
      "text/plain": [
       "0    793093\n",
       "1      9676\n",
       "Name: contact, dtype: int64"
      ]
     },
     "metadata": {},
     "output_type": "display_data"
    },
    {
     "name": "stdout",
     "output_type": "stream",
     "text": [
      "[0]\ttrain-auc:0.99060\tvalid-auc:0.99190\n",
      "[100]\ttrain-auc:0.99468\tvalid-auc:0.99449\n",
      "[200]\ttrain-auc:0.99589\tvalid-auc:0.99475\n",
      "[300]\ttrain-auc:0.99633\tvalid-auc:0.99499\n",
      "[400]\ttrain-auc:0.99668\tvalid-auc:0.99520\n",
      "[500]\ttrain-auc:0.99706\tvalid-auc:0.99539\n",
      "[600]\ttrain-auc:0.99742\tvalid-auc:0.99549\n",
      "[700]\ttrain-auc:0.99766\tvalid-auc:0.99552\n",
      "[800]\ttrain-auc:0.99789\tvalid-auc:0.99554\n",
      "[900]\ttrain-auc:0.99806\tvalid-auc:0.99554\n",
      "[1000]\ttrain-auc:0.99822\tvalid-auc:0.99555\n",
      "[1100]\ttrain-auc:0.99836\tvalid-auc:0.99555\n",
      "[1106]\ttrain-auc:0.99837\tvalid-auc:0.99555\n",
      "Performance of the prediction: 0.99555\n",
      "\n"
     ]
    },
    {
     "name": "stderr",
     "output_type": "stream",
     "text": [
      "/opt/conda/lib/python3.7/site-packages/ipykernel_launcher.py:95: UserWarning: Boolean Series key will be reindexed to match DataFrame index.\n",
      "/opt/conda/lib/python3.7/site-packages/ipykernel_launcher.py:96: UserWarning: Boolean Series key will be reindexed to match DataFrame index.\n"
     ]
    },
    {
     "name": "stdout",
     "output_type": "stream",
     "text": [
      "Fold -- 1 -- \n"
     ]
    },
    {
     "data": {
      "text/plain": [
       "0    890456\n",
       "1      9971\n",
       "Name: contact, dtype: int64"
      ]
     },
     "metadata": {},
     "output_type": "display_data"
    },
    {
     "name": "stdout",
     "output_type": "stream",
     "text": [
      "[0]\ttrain-auc:0.99106\tvalid-auc:0.98859\n",
      "[100]\ttrain-auc:0.99488\tvalid-auc:0.99375\n",
      "[200]\ttrain-auc:0.99603\tvalid-auc:0.99462\n",
      "[300]\ttrain-auc:0.99650\tvalid-auc:0.99490\n",
      "[400]\ttrain-auc:0.99684\tvalid-auc:0.99505\n",
      "[500]\ttrain-auc:0.99720\tvalid-auc:0.99511\n",
      "[600]\ttrain-auc:0.99748\tvalid-auc:0.99512\n",
      "[700]\ttrain-auc:0.99775\tvalid-auc:0.99512\n",
      "[731]\ttrain-auc:0.99782\tvalid-auc:0.99513\n",
      "Performance of the prediction: 0.99513\n",
      "\n"
     ]
    },
    {
     "name": "stderr",
     "output_type": "stream",
     "text": [
      "/opt/conda/lib/python3.7/site-packages/ipykernel_launcher.py:95: UserWarning: Boolean Series key will be reindexed to match DataFrame index.\n",
      "/opt/conda/lib/python3.7/site-packages/ipykernel_launcher.py:96: UserWarning: Boolean Series key will be reindexed to match DataFrame index.\n"
     ]
    },
    {
     "name": "stdout",
     "output_type": "stream",
     "text": [
      "Fold -- 2 -- \n"
     ]
    },
    {
     "data": {
      "text/plain": [
       "0    837005\n",
       "1      8892\n",
       "Name: contact, dtype: int64"
      ]
     },
     "metadata": {},
     "output_type": "display_data"
    },
    {
     "name": "stdout",
     "output_type": "stream",
     "text": [
      "[0]\ttrain-auc:0.99247\tvalid-auc:0.99102\n",
      "[100]\ttrain-auc:0.99491\tvalid-auc:0.99354\n",
      "[200]\ttrain-auc:0.99575\tvalid-auc:0.99403\n",
      "[300]\ttrain-auc:0.99615\tvalid-auc:0.99416\n",
      "[400]\ttrain-auc:0.99657\tvalid-auc:0.99538\n",
      "[500]\ttrain-auc:0.99694\tvalid-auc:0.99550\n",
      "[600]\ttrain-auc:0.99727\tvalid-auc:0.99559\n",
      "[700]\ttrain-auc:0.99755\tvalid-auc:0.99566\n",
      "[800]\ttrain-auc:0.99778\tvalid-auc:0.99570\n",
      "[900]\ttrain-auc:0.99798\tvalid-auc:0.99571\n",
      "[1000]\ttrain-auc:0.99813\tvalid-auc:0.99572\n",
      "[1100]\ttrain-auc:0.99828\tvalid-auc:0.99574\n",
      "[1200]\ttrain-auc:0.99841\tvalid-auc:0.99577\n",
      "[1300]\ttrain-auc:0.99854\tvalid-auc:0.99578\n",
      "[1392]\ttrain-auc:0.99864\tvalid-auc:0.99577\n",
      "Performance of the prediction: 0.99577\n",
      "\n"
     ]
    },
    {
     "name": "stderr",
     "output_type": "stream",
     "text": [
      "/opt/conda/lib/python3.7/site-packages/ipykernel_launcher.py:95: UserWarning: Boolean Series key will be reindexed to match DataFrame index.\n",
      "/opt/conda/lib/python3.7/site-packages/ipykernel_launcher.py:96: UserWarning: Boolean Series key will be reindexed to match DataFrame index.\n"
     ]
    },
    {
     "name": "stdout",
     "output_type": "stream",
     "text": [
      "Fold -- 3 -- \n"
     ]
    },
    {
     "data": {
      "text/plain": [
       "0    859045\n",
       "1      9504\n",
       "Name: contact, dtype: int64"
      ]
     },
     "metadata": {},
     "output_type": "display_data"
    },
    {
     "name": "stdout",
     "output_type": "stream",
     "text": [
      "[0]\ttrain-auc:0.99076\tvalid-auc:0.99260\n",
      "[100]\ttrain-auc:0.99463\tvalid-auc:0.99520\n",
      "[200]\ttrain-auc:0.99579\tvalid-auc:0.99528\n",
      "[300]\ttrain-auc:0.99634\tvalid-auc:0.99587\n",
      "[400]\ttrain-auc:0.99667\tvalid-auc:0.99597\n",
      "[500]\ttrain-auc:0.99702\tvalid-auc:0.99605\n",
      "[600]\ttrain-auc:0.99733\tvalid-auc:0.99608\n",
      "[700]\ttrain-auc:0.99761\tvalid-auc:0.99612\n",
      "[800]\ttrain-auc:0.99787\tvalid-auc:0.99616\n",
      "[900]\ttrain-auc:0.99804\tvalid-auc:0.99617\n",
      "[1000]\ttrain-auc:0.99821\tvalid-auc:0.99618\n",
      "[1100]\ttrain-auc:0.99834\tvalid-auc:0.99618\n",
      "[1102]\ttrain-auc:0.99834\tvalid-auc:0.99618\n",
      "Performance of the prediction: 0.99618\n",
      "\n"
     ]
    },
    {
     "name": "stderr",
     "output_type": "stream",
     "text": [
      "/opt/conda/lib/python3.7/site-packages/ipykernel_launcher.py:95: UserWarning: Boolean Series key will be reindexed to match DataFrame index.\n",
      "/opt/conda/lib/python3.7/site-packages/ipykernel_launcher.py:96: UserWarning: Boolean Series key will be reindexed to match DataFrame index.\n"
     ]
    },
    {
     "name": "stdout",
     "output_type": "stream",
     "text": [
      "Fold -- 4 -- \n"
     ]
    },
    {
     "data": {
      "text/plain": [
       "0    883678\n",
       "1      9665\n",
       "Name: contact, dtype: int64"
      ]
     },
     "metadata": {},
     "output_type": "display_data"
    },
    {
     "name": "stdout",
     "output_type": "stream",
     "text": [
      "[0]\ttrain-auc:0.99235\tvalid-auc:0.99152\n",
      "[100]\ttrain-auc:0.99473\tvalid-auc:0.99420\n",
      "[200]\ttrain-auc:0.99591\tvalid-auc:0.99478\n",
      "[300]\ttrain-auc:0.99640\tvalid-auc:0.99524\n",
      "[400]\ttrain-auc:0.99677\tvalid-auc:0.99544\n",
      "[500]\ttrain-auc:0.99713\tvalid-auc:0.99555\n",
      "[600]\ttrain-auc:0.99744\tvalid-auc:0.99559\n",
      "[700]\ttrain-auc:0.99767\tvalid-auc:0.99562\n",
      "[800]\ttrain-auc:0.99790\tvalid-auc:0.99564\n",
      "[900]\ttrain-auc:0.99807\tvalid-auc:0.99565\n",
      "[1000]\ttrain-auc:0.99824\tvalid-auc:0.99568\n",
      "[1100]\ttrain-auc:0.99838\tvalid-auc:0.99568\n",
      "[1157]\ttrain-auc:0.99845\tvalid-auc:0.99568\n",
      "Performance of the prediction: 0.99568\n",
      "\n",
      "All Performance of the prediction: 0.99563\n",
      "CPU times: user 4h 2min 44s, sys: 57.7 s, total: 4h 3min 41s\n",
      "Wall time: 1h 8min 42s\n"
     ]
    }
   ],
   "source": [
    "%%time\n",
    "p2p_oof_pred = CFG.fit_xgboost_kfold(X_p2p, y_p2p, CFG.xgb_params, CFG.p2p_folds, CFG.name, 'p2p')"
   ]
  },
  {
   "cell_type": "code",
   "execution_count": 12,
   "id": "02b21663",
   "metadata": {
    "execution": {
     "iopub.execute_input": "2023-01-22T18:50:53.692070Z",
     "iopub.status.busy": "2023-01-22T18:50:53.691546Z",
     "iopub.status.idle": "2023-01-22T18:50:54.846679Z",
     "shell.execute_reply": "2023-01-22T18:50:54.845296Z"
    },
    "papermill": {
     "duration": 1.175581,
     "end_time": "2023-01-22T18:50:54.849663",
     "exception": false,
     "start_time": "2023-01-22T18:50:53.674082",
     "status": "completed"
    },
    "tags": []
   },
   "outputs": [
    {
     "name": "stdout",
     "output_type": "stream",
     "text": [
      "xgb_fold_0_yy_p2g.joblib  xgb_fold_2_yy_p2g.joblib  xgb_fold_4_yy_p2g.joblib\r\n",
      "xgb_fold_0_yy_p2p.joblib  xgb_fold_2_yy_p2p.joblib  xgb_fold_4_yy_p2p.joblib\r\n",
      "xgb_fold_1_yy_p2g.joblib  xgb_fold_3_yy_p2g.joblib\r\n",
      "xgb_fold_1_yy_p2p.joblib  xgb_fold_3_yy_p2p.joblib\r\n"
     ]
    }
   ],
   "source": [
    "!ls model/"
   ]
  },
  {
   "cell_type": "markdown",
   "id": "d00e6f2d",
   "metadata": {
    "papermill": {
     "duration": 0.01514,
     "end_time": "2023-01-22T18:50:54.880666",
     "exception": false,
     "start_time": "2023-01-22T18:50:54.865526",
     "status": "completed"
    },
    "tags": []
   },
   "source": [
    "## Optimize"
   ]
  },
  {
   "cell_type": "markdown",
   "id": "ff169ae0",
   "metadata": {
    "papermill": {
     "duration": 0.015655,
     "end_time": "2023-01-22T18:50:54.912436",
     "exception": false,
     "start_time": "2023-01-22T18:50:54.896781",
     "status": "completed"
    },
    "tags": []
   },
   "source": [
    "### train all"
   ]
  },
  {
   "cell_type": "code",
   "execution_count": 13,
   "id": "b36d86da",
   "metadata": {
    "_kg_hide-input": false,
    "execution": {
     "iopub.execute_input": "2023-01-22T18:50:54.945512Z",
     "iopub.status.busy": "2023-01-22T18:50:54.944997Z",
     "iopub.status.idle": "2023-01-22T18:50:54.950582Z",
     "shell.execute_reply": "2023-01-22T18:50:54.949594Z"
    },
    "papermill": {
     "duration": 0.02521,
     "end_time": "2023-01-22T18:50:54.953043",
     "exception": false,
     "start_time": "2023-01-22T18:50:54.927833",
     "status": "completed"
    },
    "tags": []
   },
   "outputs": [],
   "source": [
    "# def func(x_list):\n",
    "#     score = matthews_corrcoef(df['contact'], oof_pred>x_list[0])\n",
    "#     return -score\n",
    "\n",
    "# x0 = [0.5]\n",
    "# result = minimize(func, x0,  method=\"nelder-mead\")\n",
    "# CFG.threshold = result.x[0]\n",
    "# print(\"score:\", round(matthews_corrcoef(df['contact'], oof_pred>CFG.threshold), 5))\n",
    "# print(\"threshold\", round(CFG.threshold, 5))"
   ]
  },
  {
   "cell_type": "markdown",
   "id": "6a8ee472",
   "metadata": {
    "papermill": {
     "duration": 0.01513,
     "end_time": "2023-01-22T18:50:54.983734",
     "exception": false,
     "start_time": "2023-01-22T18:50:54.968604",
     "status": "completed"
    },
    "tags": []
   },
   "source": [
    "## p2p & p2g"
   ]
  },
  {
   "cell_type": "code",
   "execution_count": 14,
   "id": "44a59b5d",
   "metadata": {
    "execution": {
     "iopub.execute_input": "2023-01-22T18:50:55.016774Z",
     "iopub.status.busy": "2023-01-22T18:50:55.016349Z",
     "iopub.status.idle": "2023-01-22T18:51:55.372326Z",
     "shell.execute_reply": "2023-01-22T18:51:55.370748Z"
    },
    "papermill": {
     "duration": 60.388571,
     "end_time": "2023-01-22T18:51:55.387938",
     "exception": false,
     "start_time": "2023-01-22T18:50:54.999367",
     "status": "completed"
    },
    "tags": []
   },
   "outputs": [
    {
     "name": "stdout",
     "output_type": "stream",
     "text": [
      "p2g score: 0.29475\n",
      "p2g threshold: 0.06826\n",
      "p2p score: 0.67806\n",
      "p2p threshold: 0.31533\n"
     ]
    }
   ],
   "source": [
    "def func_p2g(x_list):\n",
    "    return -matthews_corrcoef(df_p2g['contact'], p2g_oof_pred>x_list[0])\n",
    "\n",
    "def func_p2p(x_list):\n",
    "    return -matthews_corrcoef(df_p2p['contact'], p2p_oof_pred>x_list[0])\n",
    "\n",
    "x_p2g = [0.5]\n",
    "res_p2g = minimize(func_p2g, x_p2g,  method=\"nelder-mead\")\n",
    "CFG.p2g_threshold = res_p2g.x[0]\n",
    "print(\"p2g score:\", round(matthews_corrcoef(df_p2g['contact'], p2g_oof_pred>CFG.p2g_threshold), 5))\n",
    "print(\"p2g threshold:\", round(CFG.p2g_threshold, 5))\n",
    "\n",
    "x_p2p = [0.5]\n",
    "res_p2p = minimize(func_p2p, x_p2p,  method=\"nelder-mead\")\n",
    "CFG.p2p_threshold = res_p2p.x[0]\n",
    "print(\"p2p score:\", round(matthews_corrcoef(df_p2p['contact'], p2p_oof_pred>CFG.p2p_threshold), 5))\n",
    "print(\"p2p threshold:\", round(CFG.p2p_threshold, 5))"
   ]
  },
  {
   "cell_type": "markdown",
   "id": "f6d8313a",
   "metadata": {
    "papermill": {
     "duration": 0.015332,
     "end_time": "2023-01-22T18:51:55.419360",
     "exception": false,
     "start_time": "2023-01-22T18:51:55.404028",
     "status": "completed"
    },
    "tags": []
   },
   "source": [
    "## Pred"
   ]
  },
  {
   "cell_type": "code",
   "execution_count": 15,
   "id": "96fa6fb1",
   "metadata": {
    "execution": {
     "iopub.execute_input": "2023-01-22T18:51:55.452744Z",
     "iopub.status.busy": "2023-01-22T18:51:55.452341Z",
     "iopub.status.idle": "2023-01-22T18:51:55.459750Z",
     "shell.execute_reply": "2023-01-22T18:51:55.458318Z"
    },
    "papermill": {
     "duration": 0.026966,
     "end_time": "2023-01-22T18:51:55.462351",
     "exception": false,
     "start_time": "2023-01-22T18:51:55.435385",
     "status": "completed"
    },
    "tags": []
   },
   "outputs": [],
   "source": [
    "def pred_xgboost(X, data_dir, add_suffix=''):\n",
    "    models = glob(os.path.join(data_dir, f'xgb_fold*{add_suffix}.joblib'))\n",
    "    print(models)\n",
    "    models = [joblib.load(model) for model in models]\n",
    "    X_Dmatrix = xgb.DMatrix(X)\n",
    "    preds = np.array([model.predict(X_Dmatrix) for model in models])\n",
    "    preds = np.mean(preds, axis=0)\n",
    "    return preds"
   ]
  },
  {
   "cell_type": "code",
   "execution_count": 16,
   "id": "1b3b67db",
   "metadata": {
    "execution": {
     "iopub.execute_input": "2023-01-22T18:51:55.496694Z",
     "iopub.status.busy": "2023-01-22T18:51:55.496305Z",
     "iopub.status.idle": "2023-01-22T18:51:55.506775Z",
     "shell.execute_reply": "2023-01-22T18:51:55.505542Z"
    },
    "papermill": {
     "duration": 0.03108,
     "end_time": "2023-01-22T18:51:55.509324",
     "exception": false,
     "start_time": "2023-01-22T18:51:55.478244",
     "status": "completed"
    },
    "tags": []
   },
   "outputs": [],
   "source": [
    "def create_features(df_label, df_tracking, cols, merge_col=\"step\"):\n",
    "    df_combo = (\n",
    "        df_label.astype({\"nfl_player_id_1\": str, \"nfl_player_id_2\": str})\n",
    "        .merge(\n",
    "            df_tracking[[\"game_play\", merge_col, \"nfl_player_id\"] + cols]\n",
    "                .astype({\"nfl_player_id\": \"str\"}),\n",
    "            left_on=[\"game_play\", merge_col, \"nfl_player_id_1\"],\n",
    "            right_on=[\"game_play\", merge_col, \"nfl_player_id\"],\n",
    "            how=\"left\",)\n",
    "        .drop(columns=[\"nfl_player_id\"])\n",
    "        .merge(\n",
    "            df_tracking[[\"game_play\", merge_col, \"nfl_player_id\"] + cols]\n",
    "                .astype({\"nfl_player_id\": \"str\"}),\n",
    "            left_on=[\"game_play\", merge_col, \"nfl_player_id_2\"],\n",
    "            right_on=[\"game_play\", merge_col, \"nfl_player_id\"],\n",
    "            how=\"left\",\n",
    "            suffixes=['_1', '_2']\n",
    "        )\n",
    "        .drop(columns=[\"nfl_player_id\"])\n",
    "        .sort_values([\"game_play\", merge_col, \"nfl_player_id_1\", \"nfl_player_id_2\"])\n",
    "        .reset_index(drop=True)\n",
    "    )\n",
    "    df_combo['G_flag'] = (df_combo['nfl_player_id_2']=='G').astype(int)\n",
    "    \n",
    "    df_combo['distance_x'] = np.abs(df_combo['x_position_1']-df_combo['x_position_2'])\n",
    "    df_combo['distance_y'] = np.abs(df_combo['y_position_1']-df_combo['y_position_2'])\n",
    "    dist_pow = df_combo['distance_x']**2 + df_combo['distance_y']**2\n",
    "    df_combo['distance'] = np.sqrt(dist_pow)\n",
    "        \n",
    "    return df_combo"
   ]
  },
  {
   "cell_type": "code",
   "execution_count": 17,
   "id": "6d2aa0d1",
   "metadata": {
    "execution": {
     "iopub.execute_input": "2023-01-22T18:51:55.543324Z",
     "iopub.status.busy": "2023-01-22T18:51:55.542935Z",
     "iopub.status.idle": "2023-01-22T18:51:56.047460Z",
     "shell.execute_reply": "2023-01-22T18:51:56.046201Z"
    },
    "papermill": {
     "duration": 0.52523,
     "end_time": "2023-01-22T18:51:56.050594",
     "exception": false,
     "start_time": "2023-01-22T18:51:55.525364",
     "status": "completed"
    },
    "tags": []
   },
   "outputs": [],
   "source": [
    "test_labels = CFG.expand_contact_id(pd.read_csv(CFG.test_sub_dir))\n",
    "test_tracking = pd.read_csv(CFG.test_tracking_dir)\n",
    "# test_helmets = pd.read_csv(\"/kaggle/input/nfl-player-contact-detection/test_baseline_helmets.csv\")\n",
    "# test_video_metadata = pd.read_csv(\"/kaggle/input/nfl-player-contact-detection/test_video_metadata.csv\")\n",
    "use_cols = [\n",
    "    'x_position', 'y_position', 'speed', 'distance',\n",
    "    'direction', 'orientation', 'acceleration', 'sa'\n",
    "]\n",
    "\n",
    "feats = ['contact_id', 'contact', 'G_flag', 'x_position_1',\n",
    "       'y_position_1', 'speed_1', 'distance_1', 'direction_1', 'orientation_1',\n",
    "       'acceleration_1', 'sa_1', 'x_position_2', 'y_position_2', 'speed_2',\n",
    "       'distance_2', 'direction_2', 'orientation_2', 'acceleration_2', 'sa_2',\n",
    "       'distance', ]\n",
    "\n",
    "df_test = create_features(test_labels, test_tracking, use_cols)[feats]"
   ]
  },
  {
   "cell_type": "code",
   "execution_count": 18,
   "id": "a4d62c64",
   "metadata": {
    "execution": {
     "iopub.execute_input": "2023-01-22T18:51:56.085183Z",
     "iopub.status.busy": "2023-01-22T18:51:56.084734Z",
     "iopub.status.idle": "2023-01-22T18:51:56.126026Z",
     "shell.execute_reply": "2023-01-22T18:51:56.124674Z"
    },
    "papermill": {
     "duration": 0.061139,
     "end_time": "2023-01-22T18:51:56.128770",
     "exception": false,
     "start_time": "2023-01-22T18:51:56.067631",
     "status": "completed"
    },
    "tags": []
   },
   "outputs": [
    {
     "data": {
      "text/html": [
       "<div>\n",
       "<style scoped>\n",
       "    .dataframe tbody tr th:only-of-type {\n",
       "        vertical-align: middle;\n",
       "    }\n",
       "\n",
       "    .dataframe tbody tr th {\n",
       "        vertical-align: top;\n",
       "    }\n",
       "\n",
       "    .dataframe thead th {\n",
       "        text-align: right;\n",
       "    }\n",
       "</style>\n",
       "<table border=\"1\" class=\"dataframe\">\n",
       "  <thead>\n",
       "    <tr style=\"text-align: right;\">\n",
       "      <th></th>\n",
       "      <th>contact_id</th>\n",
       "      <th>contact</th>\n",
       "      <th>G_flag</th>\n",
       "      <th>x_position_1</th>\n",
       "      <th>y_position_1</th>\n",
       "      <th>speed_1</th>\n",
       "      <th>distance_1</th>\n",
       "      <th>direction_1</th>\n",
       "      <th>orientation_1</th>\n",
       "      <th>acceleration_1</th>\n",
       "      <th>sa_1</th>\n",
       "      <th>x_position_2</th>\n",
       "      <th>y_position_2</th>\n",
       "      <th>speed_2</th>\n",
       "      <th>distance_2</th>\n",
       "      <th>direction_2</th>\n",
       "      <th>orientation_2</th>\n",
       "      <th>acceleration_2</th>\n",
       "      <th>sa_2</th>\n",
       "      <th>distance</th>\n",
       "    </tr>\n",
       "  </thead>\n",
       "  <tbody>\n",
       "    <tr>\n",
       "      <th>0</th>\n",
       "      <td>58168_003392_0_37084_37211</td>\n",
       "      <td>0</td>\n",
       "      <td>0</td>\n",
       "      <td>41.90</td>\n",
       "      <td>20.08</td>\n",
       "      <td>0.54</td>\n",
       "      <td>0.06</td>\n",
       "      <td>252.69</td>\n",
       "      <td>262.31</td>\n",
       "      <td>0.92</td>\n",
       "      <td>0.90</td>\n",
       "      <td>39.59</td>\n",
       "      <td>17.07</td>\n",
       "      <td>0.53</td>\n",
       "      <td>0.05</td>\n",
       "      <td>134.84</td>\n",
       "      <td>84.73</td>\n",
       "      <td>1.43</td>\n",
       "      <td>1.42</td>\n",
       "      <td>3.794232</td>\n",
       "    </tr>\n",
       "    <tr>\n",
       "      <th>1</th>\n",
       "      <td>58168_003392_0_37084_38556</td>\n",
       "      <td>0</td>\n",
       "      <td>0</td>\n",
       "      <td>41.90</td>\n",
       "      <td>20.08</td>\n",
       "      <td>0.54</td>\n",
       "      <td>0.06</td>\n",
       "      <td>252.69</td>\n",
       "      <td>262.31</td>\n",
       "      <td>0.92</td>\n",
       "      <td>0.90</td>\n",
       "      <td>41.93</td>\n",
       "      <td>30.61</td>\n",
       "      <td>0.67</td>\n",
       "      <td>0.05</td>\n",
       "      <td>232.50</td>\n",
       "      <td>227.00</td>\n",
       "      <td>1.82</td>\n",
       "      <td>1.61</td>\n",
       "      <td>10.530043</td>\n",
       "    </tr>\n",
       "    <tr>\n",
       "      <th>2</th>\n",
       "      <td>58168_003392_0_37084_38567</td>\n",
       "      <td>0</td>\n",
       "      <td>0</td>\n",
       "      <td>41.90</td>\n",
       "      <td>20.08</td>\n",
       "      <td>0.54</td>\n",
       "      <td>0.06</td>\n",
       "      <td>252.69</td>\n",
       "      <td>262.31</td>\n",
       "      <td>0.92</td>\n",
       "      <td>0.90</td>\n",
       "      <td>40.37</td>\n",
       "      <td>19.88</td>\n",
       "      <td>0.66</td>\n",
       "      <td>0.07</td>\n",
       "      <td>136.70</td>\n",
       "      <td>88.92</td>\n",
       "      <td>0.90</td>\n",
       "      <td>0.89</td>\n",
       "      <td>1.543017</td>\n",
       "    </tr>\n",
       "    <tr>\n",
       "      <th>3</th>\n",
       "      <td>58168_003392_0_37084_38590</td>\n",
       "      <td>0</td>\n",
       "      <td>0</td>\n",
       "      <td>41.90</td>\n",
       "      <td>20.08</td>\n",
       "      <td>0.54</td>\n",
       "      <td>0.06</td>\n",
       "      <td>252.69</td>\n",
       "      <td>262.31</td>\n",
       "      <td>0.92</td>\n",
       "      <td>0.90</td>\n",
       "      <td>40.33</td>\n",
       "      <td>25.28</td>\n",
       "      <td>0.52</td>\n",
       "      <td>0.06</td>\n",
       "      <td>141.08</td>\n",
       "      <td>100.37</td>\n",
       "      <td>0.59</td>\n",
       "      <td>0.58</td>\n",
       "      <td>5.431841</td>\n",
       "    </tr>\n",
       "    <tr>\n",
       "      <th>4</th>\n",
       "      <td>58168_003392_0_37084_39947</td>\n",
       "      <td>0</td>\n",
       "      <td>0</td>\n",
       "      <td>41.90</td>\n",
       "      <td>20.08</td>\n",
       "      <td>0.54</td>\n",
       "      <td>0.06</td>\n",
       "      <td>252.69</td>\n",
       "      <td>262.31</td>\n",
       "      <td>0.92</td>\n",
       "      <td>0.90</td>\n",
       "      <td>40.11</td>\n",
       "      <td>26.73</td>\n",
       "      <td>0.99</td>\n",
       "      <td>0.09</td>\n",
       "      <td>163.38</td>\n",
       "      <td>90.69</td>\n",
       "      <td>1.68</td>\n",
       "      <td>1.64</td>\n",
       "      <td>6.886697</td>\n",
       "    </tr>\n",
       "    <tr>\n",
       "      <th>...</th>\n",
       "      <td>...</td>\n",
       "      <td>...</td>\n",
       "      <td>...</td>\n",
       "      <td>...</td>\n",
       "      <td>...</td>\n",
       "      <td>...</td>\n",
       "      <td>...</td>\n",
       "      <td>...</td>\n",
       "      <td>...</td>\n",
       "      <td>...</td>\n",
       "      <td>...</td>\n",
       "      <td>...</td>\n",
       "      <td>...</td>\n",
       "      <td>...</td>\n",
       "      <td>...</td>\n",
       "      <td>...</td>\n",
       "      <td>...</td>\n",
       "      <td>...</td>\n",
       "      <td>...</td>\n",
       "      <td>...</td>\n",
       "    </tr>\n",
       "    <tr>\n",
       "      <th>49583</th>\n",
       "      <td>58172_003247_125_52521_52939</td>\n",
       "      <td>0</td>\n",
       "      <td>0</td>\n",
       "      <td>23.44</td>\n",
       "      <td>4.04</td>\n",
       "      <td>1.41</td>\n",
       "      <td>0.15</td>\n",
       "      <td>163.22</td>\n",
       "      <td>185.42</td>\n",
       "      <td>0.75</td>\n",
       "      <td>-0.58</td>\n",
       "      <td>37.94</td>\n",
       "      <td>2.10</td>\n",
       "      <td>2.29</td>\n",
       "      <td>0.24</td>\n",
       "      <td>211.73</td>\n",
       "      <td>215.11</td>\n",
       "      <td>2.43</td>\n",
       "      <td>-2.43</td>\n",
       "      <td>14.629204</td>\n",
       "    </tr>\n",
       "    <tr>\n",
       "      <th>49584</th>\n",
       "      <td>58172_003247_125_52521_G</td>\n",
       "      <td>0</td>\n",
       "      <td>1</td>\n",
       "      <td>23.44</td>\n",
       "      <td>4.04</td>\n",
       "      <td>1.41</td>\n",
       "      <td>0.15</td>\n",
       "      <td>163.22</td>\n",
       "      <td>185.42</td>\n",
       "      <td>0.75</td>\n",
       "      <td>-0.58</td>\n",
       "      <td>NaN</td>\n",
       "      <td>NaN</td>\n",
       "      <td>NaN</td>\n",
       "      <td>NaN</td>\n",
       "      <td>NaN</td>\n",
       "      <td>NaN</td>\n",
       "      <td>NaN</td>\n",
       "      <td>NaN</td>\n",
       "      <td>NaN</td>\n",
       "    </tr>\n",
       "    <tr>\n",
       "      <th>49585</th>\n",
       "      <td>58172_003247_125_52852_52939</td>\n",
       "      <td>0</td>\n",
       "      <td>0</td>\n",
       "      <td>32.67</td>\n",
       "      <td>2.18</td>\n",
       "      <td>2.34</td>\n",
       "      <td>0.24</td>\n",
       "      <td>113.19</td>\n",
       "      <td>119.09</td>\n",
       "      <td>1.03</td>\n",
       "      <td>-0.97</td>\n",
       "      <td>37.94</td>\n",
       "      <td>2.10</td>\n",
       "      <td>2.29</td>\n",
       "      <td>0.24</td>\n",
       "      <td>211.73</td>\n",
       "      <td>215.11</td>\n",
       "      <td>2.43</td>\n",
       "      <td>-2.43</td>\n",
       "      <td>5.270607</td>\n",
       "    </tr>\n",
       "    <tr>\n",
       "      <th>49586</th>\n",
       "      <td>58172_003247_125_52852_G</td>\n",
       "      <td>0</td>\n",
       "      <td>1</td>\n",
       "      <td>32.67</td>\n",
       "      <td>2.18</td>\n",
       "      <td>2.34</td>\n",
       "      <td>0.24</td>\n",
       "      <td>113.19</td>\n",
       "      <td>119.09</td>\n",
       "      <td>1.03</td>\n",
       "      <td>-0.97</td>\n",
       "      <td>NaN</td>\n",
       "      <td>NaN</td>\n",
       "      <td>NaN</td>\n",
       "      <td>NaN</td>\n",
       "      <td>NaN</td>\n",
       "      <td>NaN</td>\n",
       "      <td>NaN</td>\n",
       "      <td>NaN</td>\n",
       "      <td>NaN</td>\n",
       "    </tr>\n",
       "    <tr>\n",
       "      <th>49587</th>\n",
       "      <td>58172_003247_125_52939_G</td>\n",
       "      <td>0</td>\n",
       "      <td>1</td>\n",
       "      <td>37.94</td>\n",
       "      <td>2.10</td>\n",
       "      <td>2.29</td>\n",
       "      <td>0.24</td>\n",
       "      <td>211.73</td>\n",
       "      <td>215.11</td>\n",
       "      <td>2.43</td>\n",
       "      <td>-2.43</td>\n",
       "      <td>NaN</td>\n",
       "      <td>NaN</td>\n",
       "      <td>NaN</td>\n",
       "      <td>NaN</td>\n",
       "      <td>NaN</td>\n",
       "      <td>NaN</td>\n",
       "      <td>NaN</td>\n",
       "      <td>NaN</td>\n",
       "      <td>NaN</td>\n",
       "    </tr>\n",
       "  </tbody>\n",
       "</table>\n",
       "<p>49588 rows × 20 columns</p>\n",
       "</div>"
      ],
      "text/plain": [
       "                         contact_id  contact  G_flag  x_position_1  \\\n",
       "0        58168_003392_0_37084_37211        0       0         41.90   \n",
       "1        58168_003392_0_37084_38556        0       0         41.90   \n",
       "2        58168_003392_0_37084_38567        0       0         41.90   \n",
       "3        58168_003392_0_37084_38590        0       0         41.90   \n",
       "4        58168_003392_0_37084_39947        0       0         41.90   \n",
       "...                             ...      ...     ...           ...   \n",
       "49583  58172_003247_125_52521_52939        0       0         23.44   \n",
       "49584      58172_003247_125_52521_G        0       1         23.44   \n",
       "49585  58172_003247_125_52852_52939        0       0         32.67   \n",
       "49586      58172_003247_125_52852_G        0       1         32.67   \n",
       "49587      58172_003247_125_52939_G        0       1         37.94   \n",
       "\n",
       "       y_position_1  speed_1  distance_1  direction_1  orientation_1  \\\n",
       "0             20.08     0.54        0.06       252.69         262.31   \n",
       "1             20.08     0.54        0.06       252.69         262.31   \n",
       "2             20.08     0.54        0.06       252.69         262.31   \n",
       "3             20.08     0.54        0.06       252.69         262.31   \n",
       "4             20.08     0.54        0.06       252.69         262.31   \n",
       "...             ...      ...         ...          ...            ...   \n",
       "49583          4.04     1.41        0.15       163.22         185.42   \n",
       "49584          4.04     1.41        0.15       163.22         185.42   \n",
       "49585          2.18     2.34        0.24       113.19         119.09   \n",
       "49586          2.18     2.34        0.24       113.19         119.09   \n",
       "49587          2.10     2.29        0.24       211.73         215.11   \n",
       "\n",
       "       acceleration_1  sa_1  x_position_2  y_position_2  speed_2  distance_2  \\\n",
       "0                0.92  0.90         39.59         17.07     0.53        0.05   \n",
       "1                0.92  0.90         41.93         30.61     0.67        0.05   \n",
       "2                0.92  0.90         40.37         19.88     0.66        0.07   \n",
       "3                0.92  0.90         40.33         25.28     0.52        0.06   \n",
       "4                0.92  0.90         40.11         26.73     0.99        0.09   \n",
       "...               ...   ...           ...           ...      ...         ...   \n",
       "49583            0.75 -0.58         37.94          2.10     2.29        0.24   \n",
       "49584            0.75 -0.58           NaN           NaN      NaN         NaN   \n",
       "49585            1.03 -0.97         37.94          2.10     2.29        0.24   \n",
       "49586            1.03 -0.97           NaN           NaN      NaN         NaN   \n",
       "49587            2.43 -2.43           NaN           NaN      NaN         NaN   \n",
       "\n",
       "       direction_2  orientation_2  acceleration_2  sa_2   distance  \n",
       "0           134.84          84.73            1.43  1.42   3.794232  \n",
       "1           232.50         227.00            1.82  1.61  10.530043  \n",
       "2           136.70          88.92            0.90  0.89   1.543017  \n",
       "3           141.08         100.37            0.59  0.58   5.431841  \n",
       "4           163.38          90.69            1.68  1.64   6.886697  \n",
       "...            ...            ...             ...   ...        ...  \n",
       "49583       211.73         215.11            2.43 -2.43  14.629204  \n",
       "49584          NaN            NaN             NaN   NaN        NaN  \n",
       "49585       211.73         215.11            2.43 -2.43   5.270607  \n",
       "49586          NaN            NaN             NaN   NaN        NaN  \n",
       "49587          NaN            NaN             NaN   NaN        NaN  \n",
       "\n",
       "[49588 rows x 20 columns]"
      ]
     },
     "execution_count": 18,
     "metadata": {},
     "output_type": "execute_result"
    }
   ],
   "source": [
    "df_test"
   ]
  },
  {
   "cell_type": "code",
   "execution_count": 19,
   "id": "2b996331",
   "metadata": {
    "execution": {
     "iopub.execute_input": "2023-01-22T18:51:56.164440Z",
     "iopub.status.busy": "2023-01-22T18:51:56.163936Z",
     "iopub.status.idle": "2023-01-22T18:51:56.169002Z",
     "shell.execute_reply": "2023-01-22T18:51:56.167854Z"
    },
    "papermill": {
     "duration": 0.02566,
     "end_time": "2023-01-22T18:51:56.171422",
     "exception": false,
     "start_time": "2023-01-22T18:51:56.145762",
     "status": "completed"
    },
    "tags": []
   },
   "outputs": [],
   "source": [
    "# sub_pred = pred_xgboost(df_test.drop(columns=['contact_id', 'contact']), \n",
    "#                         CFG.model_dir, f'{CFG.name}_{CFG.suffix}')\n",
    "# df_test['contact'] = (sub_pred > CFG.threshold).astype(int)\n",
    "# df_test = CFG.expand_contact_id(df_test)\n",
    "# df_test[['contact_id', 'contact']].to_csv('submission.csv', index=False)\n",
    "# display(df_test[['contact_id', 'contact']].head())"
   ]
  },
  {
   "cell_type": "code",
   "execution_count": 20,
   "id": "d811fac7",
   "metadata": {
    "execution": {
     "iopub.execute_input": "2023-01-22T18:51:56.208223Z",
     "iopub.status.busy": "2023-01-22T18:51:56.207417Z",
     "iopub.status.idle": "2023-01-22T18:51:57.330906Z",
     "shell.execute_reply": "2023-01-22T18:51:57.329606Z"
    },
    "papermill": {
     "duration": 1.145816,
     "end_time": "2023-01-22T18:51:57.333719",
     "exception": false,
     "start_time": "2023-01-22T18:51:56.187903",
     "status": "completed"
    },
    "tags": []
   },
   "outputs": [
    {
     "name": "stdout",
     "output_type": "stream",
     "text": [
      "xgb_fold_0_yy_p2g.joblib  xgb_fold_2_yy_p2g.joblib  xgb_fold_4_yy_p2g.joblib\r\n",
      "xgb_fold_0_yy_p2p.joblib  xgb_fold_2_yy_p2p.joblib  xgb_fold_4_yy_p2p.joblib\r\n",
      "xgb_fold_1_yy_p2g.joblib  xgb_fold_3_yy_p2g.joblib\r\n",
      "xgb_fold_1_yy_p2p.joblib  xgb_fold_3_yy_p2p.joblib\r\n"
     ]
    }
   ],
   "source": [
    "!ls model/"
   ]
  },
  {
   "cell_type": "code",
   "execution_count": 21,
   "id": "72099f3e",
   "metadata": {
    "execution": {
     "iopub.execute_input": "2023-01-22T18:51:57.370494Z",
     "iopub.status.busy": "2023-01-22T18:51:57.369633Z",
     "iopub.status.idle": "2023-01-22T18:51:57.388621Z",
     "shell.execute_reply": "2023-01-22T18:51:57.386934Z"
    },
    "papermill": {
     "duration": 0.04073,
     "end_time": "2023-01-22T18:51:57.391764",
     "exception": false,
     "start_time": "2023-01-22T18:51:57.351034",
     "status": "completed"
    },
    "tags": []
   },
   "outputs": [],
   "source": [
    "df_test_p2g = df_test[df_test['G_flag']==1]\n",
    "df_test_p2p = df_test[df_test['G_flag']==0]"
   ]
  },
  {
   "cell_type": "code",
   "execution_count": 22,
   "id": "acc5dbaf",
   "metadata": {
    "execution": {
     "iopub.execute_input": "2023-01-22T18:51:57.426838Z",
     "iopub.status.busy": "2023-01-22T18:51:57.426400Z",
     "iopub.status.idle": "2023-01-22T18:51:59.941832Z",
     "shell.execute_reply": "2023-01-22T18:51:59.940911Z"
    },
    "papermill": {
     "duration": 2.535972,
     "end_time": "2023-01-22T18:51:59.944454",
     "exception": false,
     "start_time": "2023-01-22T18:51:57.408482",
     "status": "completed"
    },
    "tags": []
   },
   "outputs": [
    {
     "name": "stdout",
     "output_type": "stream",
     "text": [
      "['/kaggle/working/model/xgb_fold_4_yy_p2g.joblib', '/kaggle/working/model/xgb_fold_2_yy_p2g.joblib', '/kaggle/working/model/xgb_fold_1_yy_p2g.joblib', '/kaggle/working/model/xgb_fold_3_yy_p2g.joblib', '/kaggle/working/model/xgb_fold_0_yy_p2g.joblib']\n",
      "['/kaggle/working/model/xgb_fold_4_yy_p2p.joblib', '/kaggle/working/model/xgb_fold_0_yy_p2p.joblib', '/kaggle/working/model/xgb_fold_1_yy_p2p.joblib', '/kaggle/working/model/xgb_fold_3_yy_p2p.joblib', '/kaggle/working/model/xgb_fold_2_yy_p2p.joblib']\n"
     ]
    },
    {
     "name": "stderr",
     "output_type": "stream",
     "text": [
      "/opt/conda/lib/python3.7/site-packages/ipykernel_launcher.py:5: SettingWithCopyWarning: \n",
      "A value is trying to be set on a copy of a slice from a DataFrame.\n",
      "Try using .loc[row_indexer,col_indexer] = value instead\n",
      "\n",
      "See the caveats in the documentation: https://pandas.pydata.org/pandas-docs/stable/user_guide/indexing.html#returning-a-view-versus-a-copy\n",
      "  \"\"\"\n",
      "/opt/conda/lib/python3.7/site-packages/ipykernel_launcher.py:6: SettingWithCopyWarning: \n",
      "A value is trying to be set on a copy of a slice from a DataFrame.\n",
      "Try using .loc[row_indexer,col_indexer] = value instead\n",
      "\n",
      "See the caveats in the documentation: https://pandas.pydata.org/pandas-docs/stable/user_guide/indexing.html#returning-a-view-versus-a-copy\n",
      "  \n"
     ]
    }
   ],
   "source": [
    "sub_pred_p2g = pred_xgboost(df_test_p2g.drop(columns=['contact_id', 'contact']),\n",
    "                           CFG.model_dir, f'{CFG.name}_p2g')\n",
    "sub_pred_p2p = pred_xgboost(df_test_p2p.drop(columns=['contact_id', 'contact']),\n",
    "                           CFG.model_dir, f'{CFG.name}_p2p')\n",
    "df_test_p2g['contact'] = (sub_pred_p2g > CFG.p2g_threshold).astype(int)\n",
    "df_test_p2p['contact'] = (sub_pred_p2p > CFG.p2p_threshold).astype(int)"
   ]
  },
  {
   "cell_type": "code",
   "execution_count": 23,
   "id": "7e43f27a",
   "metadata": {
    "execution": {
     "iopub.execute_input": "2023-01-22T18:51:59.981361Z",
     "iopub.status.busy": "2023-01-22T18:51:59.980630Z",
     "iopub.status.idle": "2023-01-22T18:52:00.107463Z",
     "shell.execute_reply": "2023-01-22T18:52:00.106125Z"
    },
    "papermill": {
     "duration": 0.148114,
     "end_time": "2023-01-22T18:52:00.110491",
     "exception": false,
     "start_time": "2023-01-22T18:51:59.962377",
     "status": "completed"
    },
    "tags": []
   },
   "outputs": [
    {
     "data": {
      "text/html": [
       "<div>\n",
       "<style scoped>\n",
       "    .dataframe tbody tr th:only-of-type {\n",
       "        vertical-align: middle;\n",
       "    }\n",
       "\n",
       "    .dataframe tbody tr th {\n",
       "        vertical-align: top;\n",
       "    }\n",
       "\n",
       "    .dataframe thead th {\n",
       "        text-align: right;\n",
       "    }\n",
       "</style>\n",
       "<table border=\"1\" class=\"dataframe\">\n",
       "  <thead>\n",
       "    <tr style=\"text-align: right;\">\n",
       "      <th></th>\n",
       "      <th>contact_id</th>\n",
       "      <th>contact</th>\n",
       "      <th>G_flag</th>\n",
       "      <th>x_position_1</th>\n",
       "      <th>y_position_1</th>\n",
       "      <th>speed_1</th>\n",
       "      <th>distance_1</th>\n",
       "      <th>direction_1</th>\n",
       "      <th>orientation_1</th>\n",
       "      <th>acceleration_1</th>\n",
       "      <th>sa_1</th>\n",
       "      <th>x_position_2</th>\n",
       "      <th>y_position_2</th>\n",
       "      <th>speed_2</th>\n",
       "      <th>distance_2</th>\n",
       "      <th>direction_2</th>\n",
       "      <th>orientation_2</th>\n",
       "      <th>acceleration_2</th>\n",
       "      <th>sa_2</th>\n",
       "      <th>distance</th>\n",
       "    </tr>\n",
       "  </thead>\n",
       "  <tbody>\n",
       "    <tr>\n",
       "      <th>0</th>\n",
       "      <td>58168_003392_0_37084_37211</td>\n",
       "      <td>0</td>\n",
       "      <td>0</td>\n",
       "      <td>41.90</td>\n",
       "      <td>20.08</td>\n",
       "      <td>0.54</td>\n",
       "      <td>0.06</td>\n",
       "      <td>252.69</td>\n",
       "      <td>262.31</td>\n",
       "      <td>0.92</td>\n",
       "      <td>0.90</td>\n",
       "      <td>39.59</td>\n",
       "      <td>17.07</td>\n",
       "      <td>0.53</td>\n",
       "      <td>0.05</td>\n",
       "      <td>134.84</td>\n",
       "      <td>84.73</td>\n",
       "      <td>1.43</td>\n",
       "      <td>1.42</td>\n",
       "      <td>3.794232</td>\n",
       "    </tr>\n",
       "    <tr>\n",
       "      <th>1</th>\n",
       "      <td>58168_003392_0_37084_38556</td>\n",
       "      <td>0</td>\n",
       "      <td>0</td>\n",
       "      <td>41.90</td>\n",
       "      <td>20.08</td>\n",
       "      <td>0.54</td>\n",
       "      <td>0.06</td>\n",
       "      <td>252.69</td>\n",
       "      <td>262.31</td>\n",
       "      <td>0.92</td>\n",
       "      <td>0.90</td>\n",
       "      <td>41.93</td>\n",
       "      <td>30.61</td>\n",
       "      <td>0.67</td>\n",
       "      <td>0.05</td>\n",
       "      <td>232.50</td>\n",
       "      <td>227.00</td>\n",
       "      <td>1.82</td>\n",
       "      <td>1.61</td>\n",
       "      <td>10.530043</td>\n",
       "    </tr>\n",
       "    <tr>\n",
       "      <th>2</th>\n",
       "      <td>58168_003392_0_37084_38567</td>\n",
       "      <td>0</td>\n",
       "      <td>0</td>\n",
       "      <td>41.90</td>\n",
       "      <td>20.08</td>\n",
       "      <td>0.54</td>\n",
       "      <td>0.06</td>\n",
       "      <td>252.69</td>\n",
       "      <td>262.31</td>\n",
       "      <td>0.92</td>\n",
       "      <td>0.90</td>\n",
       "      <td>40.37</td>\n",
       "      <td>19.88</td>\n",
       "      <td>0.66</td>\n",
       "      <td>0.07</td>\n",
       "      <td>136.70</td>\n",
       "      <td>88.92</td>\n",
       "      <td>0.90</td>\n",
       "      <td>0.89</td>\n",
       "      <td>1.543017</td>\n",
       "    </tr>\n",
       "    <tr>\n",
       "      <th>3</th>\n",
       "      <td>58168_003392_0_37084_38590</td>\n",
       "      <td>0</td>\n",
       "      <td>0</td>\n",
       "      <td>41.90</td>\n",
       "      <td>20.08</td>\n",
       "      <td>0.54</td>\n",
       "      <td>0.06</td>\n",
       "      <td>252.69</td>\n",
       "      <td>262.31</td>\n",
       "      <td>0.92</td>\n",
       "      <td>0.90</td>\n",
       "      <td>40.33</td>\n",
       "      <td>25.28</td>\n",
       "      <td>0.52</td>\n",
       "      <td>0.06</td>\n",
       "      <td>141.08</td>\n",
       "      <td>100.37</td>\n",
       "      <td>0.59</td>\n",
       "      <td>0.58</td>\n",
       "      <td>5.431841</td>\n",
       "    </tr>\n",
       "    <tr>\n",
       "      <th>4</th>\n",
       "      <td>58168_003392_0_37084_39947</td>\n",
       "      <td>0</td>\n",
       "      <td>0</td>\n",
       "      <td>41.90</td>\n",
       "      <td>20.08</td>\n",
       "      <td>0.54</td>\n",
       "      <td>0.06</td>\n",
       "      <td>252.69</td>\n",
       "      <td>262.31</td>\n",
       "      <td>0.92</td>\n",
       "      <td>0.90</td>\n",
       "      <td>40.11</td>\n",
       "      <td>26.73</td>\n",
       "      <td>0.99</td>\n",
       "      <td>0.09</td>\n",
       "      <td>163.38</td>\n",
       "      <td>90.69</td>\n",
       "      <td>1.68</td>\n",
       "      <td>1.64</td>\n",
       "      <td>6.886697</td>\n",
       "    </tr>\n",
       "    <tr>\n",
       "      <th>...</th>\n",
       "      <td>...</td>\n",
       "      <td>...</td>\n",
       "      <td>...</td>\n",
       "      <td>...</td>\n",
       "      <td>...</td>\n",
       "      <td>...</td>\n",
       "      <td>...</td>\n",
       "      <td>...</td>\n",
       "      <td>...</td>\n",
       "      <td>...</td>\n",
       "      <td>...</td>\n",
       "      <td>...</td>\n",
       "      <td>...</td>\n",
       "      <td>...</td>\n",
       "      <td>...</td>\n",
       "      <td>...</td>\n",
       "      <td>...</td>\n",
       "      <td>...</td>\n",
       "      <td>...</td>\n",
       "      <td>...</td>\n",
       "    </tr>\n",
       "    <tr>\n",
       "      <th>49583</th>\n",
       "      <td>58172_003247_125_52521_52939</td>\n",
       "      <td>0</td>\n",
       "      <td>0</td>\n",
       "      <td>23.44</td>\n",
       "      <td>4.04</td>\n",
       "      <td>1.41</td>\n",
       "      <td>0.15</td>\n",
       "      <td>163.22</td>\n",
       "      <td>185.42</td>\n",
       "      <td>0.75</td>\n",
       "      <td>-0.58</td>\n",
       "      <td>37.94</td>\n",
       "      <td>2.10</td>\n",
       "      <td>2.29</td>\n",
       "      <td>0.24</td>\n",
       "      <td>211.73</td>\n",
       "      <td>215.11</td>\n",
       "      <td>2.43</td>\n",
       "      <td>-2.43</td>\n",
       "      <td>14.629204</td>\n",
       "    </tr>\n",
       "    <tr>\n",
       "      <th>49584</th>\n",
       "      <td>58172_003247_125_52521_G</td>\n",
       "      <td>0</td>\n",
       "      <td>1</td>\n",
       "      <td>23.44</td>\n",
       "      <td>4.04</td>\n",
       "      <td>1.41</td>\n",
       "      <td>0.15</td>\n",
       "      <td>163.22</td>\n",
       "      <td>185.42</td>\n",
       "      <td>0.75</td>\n",
       "      <td>-0.58</td>\n",
       "      <td>NaN</td>\n",
       "      <td>NaN</td>\n",
       "      <td>NaN</td>\n",
       "      <td>NaN</td>\n",
       "      <td>NaN</td>\n",
       "      <td>NaN</td>\n",
       "      <td>NaN</td>\n",
       "      <td>NaN</td>\n",
       "      <td>NaN</td>\n",
       "    </tr>\n",
       "    <tr>\n",
       "      <th>49585</th>\n",
       "      <td>58172_003247_125_52852_52939</td>\n",
       "      <td>0</td>\n",
       "      <td>0</td>\n",
       "      <td>32.67</td>\n",
       "      <td>2.18</td>\n",
       "      <td>2.34</td>\n",
       "      <td>0.24</td>\n",
       "      <td>113.19</td>\n",
       "      <td>119.09</td>\n",
       "      <td>1.03</td>\n",
       "      <td>-0.97</td>\n",
       "      <td>37.94</td>\n",
       "      <td>2.10</td>\n",
       "      <td>2.29</td>\n",
       "      <td>0.24</td>\n",
       "      <td>211.73</td>\n",
       "      <td>215.11</td>\n",
       "      <td>2.43</td>\n",
       "      <td>-2.43</td>\n",
       "      <td>5.270607</td>\n",
       "    </tr>\n",
       "    <tr>\n",
       "      <th>49586</th>\n",
       "      <td>58172_003247_125_52852_G</td>\n",
       "      <td>0</td>\n",
       "      <td>1</td>\n",
       "      <td>32.67</td>\n",
       "      <td>2.18</td>\n",
       "      <td>2.34</td>\n",
       "      <td>0.24</td>\n",
       "      <td>113.19</td>\n",
       "      <td>119.09</td>\n",
       "      <td>1.03</td>\n",
       "      <td>-0.97</td>\n",
       "      <td>NaN</td>\n",
       "      <td>NaN</td>\n",
       "      <td>NaN</td>\n",
       "      <td>NaN</td>\n",
       "      <td>NaN</td>\n",
       "      <td>NaN</td>\n",
       "      <td>NaN</td>\n",
       "      <td>NaN</td>\n",
       "      <td>NaN</td>\n",
       "    </tr>\n",
       "    <tr>\n",
       "      <th>49587</th>\n",
       "      <td>58172_003247_125_52939_G</td>\n",
       "      <td>1</td>\n",
       "      <td>1</td>\n",
       "      <td>37.94</td>\n",
       "      <td>2.10</td>\n",
       "      <td>2.29</td>\n",
       "      <td>0.24</td>\n",
       "      <td>211.73</td>\n",
       "      <td>215.11</td>\n",
       "      <td>2.43</td>\n",
       "      <td>-2.43</td>\n",
       "      <td>NaN</td>\n",
       "      <td>NaN</td>\n",
       "      <td>NaN</td>\n",
       "      <td>NaN</td>\n",
       "      <td>NaN</td>\n",
       "      <td>NaN</td>\n",
       "      <td>NaN</td>\n",
       "      <td>NaN</td>\n",
       "      <td>NaN</td>\n",
       "    </tr>\n",
       "  </tbody>\n",
       "</table>\n",
       "<p>49588 rows × 20 columns</p>\n",
       "</div>"
      ],
      "text/plain": [
       "                         contact_id  contact  G_flag  x_position_1  \\\n",
       "0        58168_003392_0_37084_37211        0       0         41.90   \n",
       "1        58168_003392_0_37084_38556        0       0         41.90   \n",
       "2        58168_003392_0_37084_38567        0       0         41.90   \n",
       "3        58168_003392_0_37084_38590        0       0         41.90   \n",
       "4        58168_003392_0_37084_39947        0       0         41.90   \n",
       "...                             ...      ...     ...           ...   \n",
       "49583  58172_003247_125_52521_52939        0       0         23.44   \n",
       "49584      58172_003247_125_52521_G        0       1         23.44   \n",
       "49585  58172_003247_125_52852_52939        0       0         32.67   \n",
       "49586      58172_003247_125_52852_G        0       1         32.67   \n",
       "49587      58172_003247_125_52939_G        1       1         37.94   \n",
       "\n",
       "       y_position_1  speed_1  distance_1  direction_1  orientation_1  \\\n",
       "0             20.08     0.54        0.06       252.69         262.31   \n",
       "1             20.08     0.54        0.06       252.69         262.31   \n",
       "2             20.08     0.54        0.06       252.69         262.31   \n",
       "3             20.08     0.54        0.06       252.69         262.31   \n",
       "4             20.08     0.54        0.06       252.69         262.31   \n",
       "...             ...      ...         ...          ...            ...   \n",
       "49583          4.04     1.41        0.15       163.22         185.42   \n",
       "49584          4.04     1.41        0.15       163.22         185.42   \n",
       "49585          2.18     2.34        0.24       113.19         119.09   \n",
       "49586          2.18     2.34        0.24       113.19         119.09   \n",
       "49587          2.10     2.29        0.24       211.73         215.11   \n",
       "\n",
       "       acceleration_1  sa_1  x_position_2  y_position_2  speed_2  distance_2  \\\n",
       "0                0.92  0.90         39.59         17.07     0.53        0.05   \n",
       "1                0.92  0.90         41.93         30.61     0.67        0.05   \n",
       "2                0.92  0.90         40.37         19.88     0.66        0.07   \n",
       "3                0.92  0.90         40.33         25.28     0.52        0.06   \n",
       "4                0.92  0.90         40.11         26.73     0.99        0.09   \n",
       "...               ...   ...           ...           ...      ...         ...   \n",
       "49583            0.75 -0.58         37.94          2.10     2.29        0.24   \n",
       "49584            0.75 -0.58           NaN           NaN      NaN         NaN   \n",
       "49585            1.03 -0.97         37.94          2.10     2.29        0.24   \n",
       "49586            1.03 -0.97           NaN           NaN      NaN         NaN   \n",
       "49587            2.43 -2.43           NaN           NaN      NaN         NaN   \n",
       "\n",
       "       direction_2  orientation_2  acceleration_2  sa_2   distance  \n",
       "0           134.84          84.73            1.43  1.42   3.794232  \n",
       "1           232.50         227.00            1.82  1.61  10.530043  \n",
       "2           136.70          88.92            0.90  0.89   1.543017  \n",
       "3           141.08         100.37            0.59  0.58   5.431841  \n",
       "4           163.38          90.69            1.68  1.64   6.886697  \n",
       "...            ...            ...             ...   ...        ...  \n",
       "49583       211.73         215.11            2.43 -2.43  14.629204  \n",
       "49584          NaN            NaN             NaN   NaN        NaN  \n",
       "49585       211.73         215.11            2.43 -2.43   5.270607  \n",
       "49586          NaN            NaN             NaN   NaN        NaN  \n",
       "49587          NaN            NaN             NaN   NaN        NaN  \n",
       "\n",
       "[49588 rows x 20 columns]"
      ]
     },
     "execution_count": 23,
     "metadata": {},
     "output_type": "execute_result"
    }
   ],
   "source": [
    "df_test_ = pd.concat([df_test_p2g, df_test_p2p]).sort_index()\n",
    "df_test_[['contact_id', 'contact']].to_csv('submission.csv', index=False)\n",
    "df_test_"
   ]
  },
  {
   "cell_type": "code",
   "execution_count": 24,
   "id": "b8b5be47",
   "metadata": {
    "execution": {
     "iopub.execute_input": "2023-01-22T18:52:00.147807Z",
     "iopub.status.busy": "2023-01-22T18:52:00.146931Z",
     "iopub.status.idle": "2023-01-22T18:52:00.157280Z",
     "shell.execute_reply": "2023-01-22T18:52:00.155896Z"
    },
    "papermill": {
     "duration": 0.032029,
     "end_time": "2023-01-22T18:52:00.160013",
     "exception": false,
     "start_time": "2023-01-22T18:52:00.127984",
     "status": "completed"
    },
    "tags": []
   },
   "outputs": [
    {
     "data": {
      "text/plain": [
       "0    48289\n",
       "1     1299\n",
       "Name: contact, dtype: int64"
      ]
     },
     "execution_count": 24,
     "metadata": {},
     "output_type": "execute_result"
    }
   ],
   "source": [
    "df_test_['contact'].value_counts()"
   ]
  },
  {
   "cell_type": "code",
   "execution_count": 25,
   "id": "4050571e",
   "metadata": {
    "execution": {
     "iopub.execute_input": "2023-01-22T18:52:00.200720Z",
     "iopub.status.busy": "2023-01-22T18:52:00.199870Z",
     "iopub.status.idle": "2023-01-22T18:52:00.210639Z",
     "shell.execute_reply": "2023-01-22T18:52:00.209543Z"
    },
    "papermill": {
     "duration": 0.034781,
     "end_time": "2023-01-22T18:52:00.213343",
     "exception": false,
     "start_time": "2023-01-22T18:52:00.178562",
     "status": "completed"
    },
    "tags": []
   },
   "outputs": [
    {
     "data": {
      "text/plain": [
       "0    44617\n",
       "1      659\n",
       "Name: contact, dtype: int64"
      ]
     },
     "execution_count": 25,
     "metadata": {},
     "output_type": "execute_result"
    }
   ],
   "source": [
    "df_test_p2p['contact'].value_counts()"
   ]
  },
  {
   "cell_type": "code",
   "execution_count": 26,
   "id": "e31e8994",
   "metadata": {
    "execution": {
     "iopub.execute_input": "2023-01-22T18:52:00.251187Z",
     "iopub.status.busy": "2023-01-22T18:52:00.250748Z",
     "iopub.status.idle": "2023-01-22T18:52:00.260153Z",
     "shell.execute_reply": "2023-01-22T18:52:00.258857Z"
    },
    "papermill": {
     "duration": 0.031258,
     "end_time": "2023-01-22T18:52:00.262729",
     "exception": false,
     "start_time": "2023-01-22T18:52:00.231471",
     "status": "completed"
    },
    "tags": []
   },
   "outputs": [
    {
     "data": {
      "text/plain": [
       "0    3672\n",
       "1     640\n",
       "Name: contact, dtype: int64"
      ]
     },
     "execution_count": 26,
     "metadata": {},
     "output_type": "execute_result"
    }
   ],
   "source": [
    "df_test_p2g['contact'].value_counts()"
   ]
  }
 ],
 "metadata": {
  "kernelspec": {
   "display_name": "Python 3",
   "language": "python",
   "name": "python3"
  },
  "language_info": {
   "codemirror_mode": {
    "name": "ipython",
    "version": 3
   },
   "file_extension": ".py",
   "mimetype": "text/x-python",
   "name": "python",
   "nbconvert_exporter": "python",
   "pygments_lexer": "ipython3",
   "version": "3.7.12"
  },
  "papermill": {
   "default_parameters": {},
   "duration": 4377.472459,
   "end_time": "2023-01-22T18:52:02.099048",
   "environment_variables": {},
   "exception": null,
   "input_path": "__notebook__.ipynb",
   "output_path": "__notebook__.ipynb",
   "parameters": {},
   "start_time": "2023-01-22T17:39:04.626589",
   "version": "2.3.4"
  }
 },
 "nbformat": 4,
 "nbformat_minor": 5
}
