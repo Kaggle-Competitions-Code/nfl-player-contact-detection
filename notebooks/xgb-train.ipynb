{
 "cells": [
  {
   "cell_type": "code",
   "execution_count": 1,
   "id": "13c4f165",
   "metadata": {
    "_cell_guid": "b1076dfc-b9ad-4769-8c92-a6c4dae69d19",
    "_uuid": "8f2839f25d086af736a60e9eeb907d3b93b6e0e5",
    "execution": {
     "iopub.execute_input": "2023-01-31T10:11:00.097581Z",
     "iopub.status.busy": "2023-01-31T10:11:00.096696Z",
     "iopub.status.idle": "2023-01-31T10:11:01.213390Z",
     "shell.execute_reply": "2023-01-31T10:11:01.212222Z"
    },
    "papermill": {
     "duration": 1.134011,
     "end_time": "2023-01-31T10:11:01.216798",
     "exception": false,
     "start_time": "2023-01-31T10:11:00.082787",
     "status": "completed"
    },
    "tags": []
   },
   "outputs": [],
   "source": [
    "import os\n",
    "import gc\n",
    "from glob import glob\n",
    "import joblib\n",
    "import pandas as pd\n",
    "import numpy as np\n",
    "import xgboost as xgb\n",
    "from sklearn.model_selection import GroupKFold\n",
    "from sklearn.metrics import roc_auc_score, matthews_corrcoef\n",
    "from sklearn.metrics import confusion_matrix\n",
    "from scipy.optimize import minimize\n",
    "from IPython.display import display"
   ]
  },
  {
   "cell_type": "code",
   "execution_count": 2,
   "id": "44848b03",
   "metadata": {
    "execution": {
     "iopub.execute_input": "2023-01-31T10:11:01.237538Z",
     "iopub.status.busy": "2023-01-31T10:11:01.237115Z",
     "iopub.status.idle": "2023-01-31T10:11:02.337987Z",
     "shell.execute_reply": "2023-01-31T10:11:02.336673Z"
    },
    "papermill": {
     "duration": 1.11428,
     "end_time": "2023-01-31T10:11:02.340895",
     "exception": false,
     "start_time": "2023-01-31T10:11:01.226615",
     "status": "completed"
    },
    "tags": []
   },
   "outputs": [
    {
     "name": "stdout",
     "output_type": "stream",
     "text": [
      "p2g_all_feats.csv    train_feats.csv\t  valid_all_feats.csv\r\n",
      "p2p_all_feats.csv    train_p2g_feats.csv  valid_p2g_feats.csv\r\n",
      "train_all_feats.csv  train_p2p_feats.csv  valid_p2p_feats.csv\r\n"
     ]
    }
   ],
   "source": [
    "!ls /kaggle/input/nfl-feats-tab/"
   ]
  },
  {
   "cell_type": "code",
   "execution_count": 3,
   "id": "b9452abe",
   "metadata": {
    "execution": {
     "iopub.execute_input": "2023-01-31T10:11:02.361555Z",
     "iopub.status.busy": "2023-01-31T10:11:02.361102Z",
     "iopub.status.idle": "2023-01-31T10:11:04.537477Z",
     "shell.execute_reply": "2023-01-31T10:11:04.535597Z"
    },
    "papermill": {
     "duration": 2.190011,
     "end_time": "2023-01-31T10:11:04.540321",
     "exception": false,
     "start_time": "2023-01-31T10:11:02.350310",
     "status": "completed"
    },
    "tags": []
   },
   "outputs": [],
   "source": [
    "!mkdir model\n",
    "!mkdir preds"
   ]
  },
  {
   "cell_type": "code",
   "execution_count": 4,
   "id": "535bdc69",
   "metadata": {
    "execution": {
     "iopub.execute_input": "2023-01-31T10:11:04.561335Z",
     "iopub.status.busy": "2023-01-31T10:11:04.560874Z",
     "iopub.status.idle": "2023-01-31T10:11:04.593049Z",
     "shell.execute_reply": "2023-01-31T10:11:04.591914Z"
    },
    "papermill": {
     "duration": 0.045949,
     "end_time": "2023-01-31T10:11:04.595480",
     "exception": false,
     "start_time": "2023-01-31T10:11:04.549531",
     "status": "completed"
    },
    "tags": []
   },
   "outputs": [],
   "source": [
    "class CFG:\n",
    "    name = 'yy'\n",
    "    suffix = 'default_kfold_test_helmet'\n",
    "    dist_thresh = 2.5\n",
    "    \n",
    "    input_dir = '/kaggle/input/nfl-player-contact-detection'\n",
    "    split_dir = '/kaggle/input/nfl-split'\n",
    "    feats_dir = '/kaggle/input/nfl-feats-tab'\n",
    "    \n",
    "    working_dir = '/kaggle/working'\n",
    "    \n",
    "    model_dir = os.path.join(working_dir, 'model')\n",
    "    preds_dir = os.path.join(working_dir, 'preds')\n",
    "    \n",
    "    num_folds = 5\n",
    "    \n",
    "    xgb_params = {\n",
    "        'objective': 'binary:logistic',\n",
    "        'eval_metric': 'auc',\n",
    "        'learning_rate':0.03,\n",
    "        'tree_method':'hist'\n",
    "    }\n",
    "    \n",
    "    \n",
    "    # --------------------- FIXED --------------------- #\n",
    "    train_labels_dir = os.path.join(input_dir, 'train_labels.csv')\n",
    "    train_tracking_dir = os.path.join(input_dir, 'train_player_tracking.csv')\n",
    "    test_sub_dir = os.path.join(input_dir, 'sample_submission.csv')\n",
    "    test_tracking_dir = os.path.join(input_dir, 'test_player_tracking.csv')\n",
    "    train_helmets_dir = os.path.join(input_dir, 'train_baseline_helmets.csv')\n",
    "    test_helmets_dir = os.path.join(input_dir, 'test_baseline_helmets.csv')\n",
    "    \n",
    "    ## feats\n",
    "    train_all_feats = os.path.join(feats_dir, 'train_feats.csv')\n",
    "    train_feats_all = os.path.join(feats_dir, 'train_all_feats.csv')\n",
    "    train_feats_p2p = os.path.join(feats_dir, 'train_feats_p2p.csv')\n",
    "    train_feats_p2g = os.path.join(feats_dir, 'train_feats_p2g.csv')\n",
    "    valid_feats_all = os.path.join(feats_dir, 'valid_all_feats.csv')\n",
    "    valid_feats_p2p = os.path.join(feats_dir, 'valid_feats_p2p.csv')\n",
    "    valid_feats_p2g = os.path.join(feats_dir, 'valid_feats_p2g.csv')\n",
    "    feats_p2p = os.path.join(feats_dir, 'p2p_all_feats.csv')\n",
    "    feats_p2g = os.path.join(feats_dir, 'p2g_all_feats.csv')\n",
    "    \n",
    "    feats_dict = {\n",
    "        'train': train_all_feats,\n",
    "        'train_all': train_feats_all,\n",
    "        'train_p2p': train_feats_p2p,\n",
    "        'train_p2g': train_feats_p2g,\n",
    "        'valid_all': valid_feats_all,\n",
    "        'valid_p2p': valid_feats_p2p,\n",
    "        'valid_p2g': valid_feats_p2g,\n",
    "        'p2p': feats_p2p,\n",
    "        'p2g': feats_p2g\n",
    "    }\n",
    "    \n",
    "    \n",
    "    def expand_contact_id(df):\n",
    "        df['game_play'] = df['contact_id'].str[:12]\n",
    "        df['game'] = df['contact_id'].apply(lambda s: s.split('_')[0])\n",
    "        df['play'] = df['contact_id'].apply(lambda s: s.split('_')[1])\n",
    "        df['step'] = df['contact_id'].apply(lambda s: s.split('_')[2]).astype(int)\n",
    "        df['nfl_player_id_1'] = df['contact_id'].apply(lambda s: s.split('_')[-2])\n",
    "        df['nfl_player_id_2'] = df['contact_id'].apply(lambda s: s.split('_')[-1])\n",
    "        return df\n",
    "    \n",
    "    def merge_helmet_views(helmets):\n",
    "        df = helmets.drop(columns=['play_id', 'video'])\n",
    "        on_cols = ['game_key', 'game_play', 'frame', 'nfl_player_id', 'player_label']\n",
    "        df_view = df[df['view']=='Endzone'].merge(\n",
    "            df[df['view']=='Sideline'], on=on_cols, how='outer', suffixes=['_end', '_side'])\n",
    "        del df_view['view_end'], df_view['view_side'], df_view['player_label']\n",
    "        return df_view\n",
    "    \n",
    "    def merge_label_helmet(label, helmet):\n",
    "        if 'frame' not in label.columns:\n",
    "            label['frame'] = np.round(label['step']/10*59.94+5*59.94).astype(int)\n",
    "        helmet = helmet.copy(deep=True)\n",
    "        helmet['nfl_player_id'] = helmet['nfl_player_id'].astype(str)\n",
    "        df = label.merge(helmet, \n",
    "                         left_on=['game_play', 'frame', 'nfl_player_id_1'],\n",
    "                         right_on=['game_play', 'frame', 'nfl_player_id'],\n",
    "                         how='left')\n",
    "        df = df.merge(helmet, \n",
    "                         left_on=['game_play', 'frame', 'nfl_player_id_2'],\n",
    "                         right_on=['game_play', 'frame', 'nfl_player_id'],\n",
    "                         how='left', suffixes=['_p1','_p2'])\n",
    "        df = df.drop(columns=['nfl_player_id_p1', 'nfl_player_id_p2', 'game_key_p1', 'game_key_p2'])\n",
    "        return df\n",
    "    \n",
    "    \n",
    "    def get_groupkfold(train, n_splits):\n",
    "        kf = GroupKFold(n_splits=n_splits)\n",
    "        generator = kf.split(train, train['contact'], train['contact_id'].str[:5], )\n",
    "        fold_series = []\n",
    "        for fold, (idx_train, idx_valid) in enumerate(generator):\n",
    "            fold_series.append(pd.Series(fold, index=idx_valid))\n",
    "        fold_series = pd.concat(fold_series).sort_index()\n",
    "        return fold_series\n",
    "    \n",
    "    \n",
    "    def fit_xgboost(X_train, y_train, X_valid, y_valid, xgb_params):\n",
    "        xgb_train = xgb.DMatrix(X_train, y_train)\n",
    "        xgb_valid = xgb.DMatrix(X_valid, y_valid)\n",
    "        display(pd.Series(y_valid).value_counts())\n",
    "        evals = [(xgb_train, 'train'), (xgb_valid, 'valid')]\n",
    "\n",
    "        model = xgb.train(\n",
    "            xgb_params, \n",
    "            xgb_train,\n",
    "            num_boost_round=10_000,\n",
    "            early_stopping_rounds=100,\n",
    "            evals=evals,\n",
    "            verbose_eval=100,\n",
    "        )\n",
    "        return model\n",
    "    \n",
    "    def fit_xgboost_kfold(X, y, xgb_params, folds, name='', suffix=''):\n",
    "        oof_pred = np.zeros(len(y), dtype=np.float32)\n",
    "        for fold in sorted(CFG.folds.unique()):\n",
    "            if fold == -1: continue\n",
    "            idx_train = (CFG.folds!=fold)\n",
    "            idx_valid = (CFG.folds==fold)\n",
    "            x_train, y_train = X[idx_train], y[idx_train]\n",
    "            x_valid, y_valid = X[idx_valid], y[idx_valid]\n",
    "            print(f\"Fold -- {fold} -- \")\n",
    "            model = CFG.fit_xgboost(x_train, y_train, x_valid, y_valid, xgb_params)\n",
    "            model_path = os.path.join(CFG.model_dir, f'xgb_fold_{fold}_{name}_{suffix}.joblib')\n",
    "            joblib.dump(model, model_path)\n",
    "            pred_i = model.predict(xgb.DMatrix(x_valid, y_valid))\n",
    "\n",
    "            oof_pred[x_valid.index] = pred_i\n",
    "            score = round(roc_auc_score(y_valid, pred_i), 5)\n",
    "            print(f'Performance of the prediction: {score}\\n')\n",
    "            del model; gc.collect()\n",
    "\n",
    "        np.save(os.path.join(CFG.preds_dir, f'oof_pred{name}{suffix}'), oof_pred)\n",
    "        score = round(roc_auc_score(y, oof_pred), 5)\n",
    "        print(f'All Performance of the prediction: {score}')\n",
    "        return oof_pred\n",
    "    "
   ]
  },
  {
   "cell_type": "code",
   "execution_count": 5,
   "id": "dbdc3d3a",
   "metadata": {
    "execution": {
     "iopub.execute_input": "2023-01-31T10:11:04.617098Z",
     "iopub.status.busy": "2023-01-31T10:11:04.616738Z",
     "iopub.status.idle": "2023-01-31T10:12:44.073394Z",
     "shell.execute_reply": "2023-01-31T10:12:44.072319Z"
    },
    "papermill": {
     "duration": 99.470022,
     "end_time": "2023-01-31T10:12:44.076240",
     "exception": false,
     "start_time": "2023-01-31T10:11:04.606218",
     "status": "completed"
    },
    "tags": []
   },
   "outputs": [],
   "source": [
    "CFG.default_feats = CFG.feats_dict['train']\n",
    "CFG.folds = CFG.get_groupkfold(pd.read_csv(CFG.default_feats, index_col=0), CFG.num_folds)\n",
    "\n",
    "CFG.p2p_feats = CFG.feats_dict['p2p']\n",
    "CFG.p2g_feats = CFG.feats_dict['p2g']\n",
    "CFG.p2p_folds = CFG.get_groupkfold(pd.read_csv(CFG.p2p_feats, index_col=0), CFG.num_folds)\n",
    "CFG.p2g_folds = CFG.get_groupkfold(pd.read_csv(CFG.p2g_feats, index_col=0), CFG.num_folds)"
   ]
  },
  {
   "cell_type": "markdown",
   "id": "b3db5ec2",
   "metadata": {
    "papermill": {
     "duration": 0.00895,
     "end_time": "2023-01-31T10:12:44.095016",
     "exception": false,
     "start_time": "2023-01-31T10:12:44.086066",
     "status": "completed"
    },
    "tags": []
   },
   "source": [
    "### train all"
   ]
  },
  {
   "cell_type": "code",
   "execution_count": 6,
   "id": "16f87a18",
   "metadata": {
    "execution": {
     "iopub.execute_input": "2023-01-31T10:12:44.116528Z",
     "iopub.status.busy": "2023-01-31T10:12:44.115312Z",
     "iopub.status.idle": "2023-01-31T10:12:44.122152Z",
     "shell.execute_reply": "2023-01-31T10:12:44.120834Z"
    },
    "papermill": {
     "duration": 0.020116,
     "end_time": "2023-01-31T10:12:44.124708",
     "exception": false,
     "start_time": "2023-01-31T10:12:44.104592",
     "status": "completed"
    },
    "tags": []
   },
   "outputs": [],
   "source": [
    "feats = ['contact_id', 'contact', 'G_flag', 'x_position_1',\n",
    "       'y_position_1', 'speed_1', 'distance_1', 'direction_1', 'orientation_1',\n",
    "       'acceleration_1', 'sa_1', 'x_position_2', 'y_position_2', 'speed_2',\n",
    "       'distance_2', 'direction_2', 'orientation_2', 'acceleration_2', 'sa_2',\n",
    "       'distance', ] + ['left_side_p1', 'width_side_p1', 'top_side_p1', 'height_side_p1',\n",
    "       'left_end_p2', 'width_end_p2', 'top_end_p2', 'height_end_p2',\n",
    "       'left_side_p2', 'width_side_p2', 'top_side_p2', 'height_side_p2']"
   ]
  },
  {
   "cell_type": "code",
   "execution_count": 7,
   "id": "aa657da8",
   "metadata": {
    "execution": {
     "iopub.execute_input": "2023-01-31T10:12:44.145473Z",
     "iopub.status.busy": "2023-01-31T10:12:44.145044Z",
     "iopub.status.idle": "2023-01-31T10:13:14.588035Z",
     "shell.execute_reply": "2023-01-31T10:13:14.586995Z"
    },
    "papermill": {
     "duration": 30.456426,
     "end_time": "2023-01-31T10:13:14.590744",
     "exception": false,
     "start_time": "2023-01-31T10:12:44.134318",
     "status": "completed"
    },
    "tags": []
   },
   "outputs": [],
   "source": [
    "df = pd.read_csv(CFG.default_feats, index_col=0)[feats]\n",
    "df_ = df[(df['distance']<CFG.dist_thresh) | df['distance'].isna()].reset_index(drop=True)\n",
    "X = df_.drop(columns=['contact_id', 'contact'])\n",
    "y = df_['contact']\n",
    "CFG.folds = CFG.get_groupkfold(df_, CFG.num_folds)"
   ]
  },
  {
   "cell_type": "code",
   "execution_count": 8,
   "id": "589ca1e9",
   "metadata": {
    "execution": {
     "iopub.execute_input": "2023-01-31T10:13:14.611419Z",
     "iopub.status.busy": "2023-01-31T10:13:14.610991Z",
     "iopub.status.idle": "2023-01-31T10:13:14.629344Z",
     "shell.execute_reply": "2023-01-31T10:13:14.628197Z"
    },
    "papermill": {
     "duration": 0.031548,
     "end_time": "2023-01-31T10:13:14.631582",
     "exception": false,
     "start_time": "2023-01-31T10:13:14.600034",
     "status": "completed"
    },
    "tags": []
   },
   "outputs": [
    {
     "data": {
      "text/plain": [
       "0    700880\n",
       "1     64427\n",
       "Name: contact, dtype: int64"
      ]
     },
     "execution_count": 8,
     "metadata": {},
     "output_type": "execute_result"
    }
   ],
   "source": [
    "df_['contact'].value_counts()"
   ]
  },
  {
   "cell_type": "markdown",
   "id": "e9af15a2",
   "metadata": {
    "papermill": {
     "duration": 0.008848,
     "end_time": "2023-01-31T10:13:14.649749",
     "exception": false,
     "start_time": "2023-01-31T10:13:14.640901",
     "status": "completed"
    },
    "tags": []
   },
   "source": [
    "### p2p & p2g"
   ]
  },
  {
   "cell_type": "code",
   "execution_count": 9,
   "id": "2079b549",
   "metadata": {
    "execution": {
     "iopub.execute_input": "2023-01-31T10:13:14.670172Z",
     "iopub.status.busy": "2023-01-31T10:13:14.669535Z",
     "iopub.status.idle": "2023-01-31T10:13:14.674029Z",
     "shell.execute_reply": "2023-01-31T10:13:14.673321Z"
    },
    "papermill": {
     "duration": 0.017204,
     "end_time": "2023-01-31T10:13:14.676092",
     "exception": false,
     "start_time": "2023-01-31T10:13:14.658888",
     "status": "completed"
    },
    "tags": []
   },
   "outputs": [],
   "source": [
    "# df_p2p = pd.read_csv(CFG.p2p_feats, index_col=0)\n",
    "# df_p2g = pd.read_csv(CFG.p2g_feats, index_col=0)\n",
    "# X_p2p = df_p2p.drop(columns=['contact_id', 'contact'])\n",
    "# y_p2p = df_p2p['contact']\n",
    "# X_p2g = df_p2g.drop(columns=['contact_id', 'contact'])\n",
    "# y_p2g = df_p2g['contact']"
   ]
  },
  {
   "cell_type": "code",
   "execution_count": 10,
   "id": "5923d612",
   "metadata": {
    "execution": {
     "iopub.execute_input": "2023-01-31T10:13:14.696567Z",
     "iopub.status.busy": "2023-01-31T10:13:14.695913Z",
     "iopub.status.idle": "2023-01-31T10:13:14.700303Z",
     "shell.execute_reply": "2023-01-31T10:13:14.699559Z"
    },
    "papermill": {
     "duration": 0.017018,
     "end_time": "2023-01-31T10:13:14.702387",
     "exception": false,
     "start_time": "2023-01-31T10:13:14.685369",
     "status": "completed"
    },
    "tags": []
   },
   "outputs": [],
   "source": [
    "# CFG.p2p_folds.value_counts(), CFG.p2g_folds.value_counts()"
   ]
  },
  {
   "cell_type": "code",
   "execution_count": 11,
   "id": "ec14c2d5",
   "metadata": {
    "execution": {
     "iopub.execute_input": "2023-01-31T10:13:14.724645Z",
     "iopub.status.busy": "2023-01-31T10:13:14.724205Z",
     "iopub.status.idle": "2023-01-31T10:13:14.728101Z",
     "shell.execute_reply": "2023-01-31T10:13:14.727375Z"
    },
    "papermill": {
     "duration": 0.0183,
     "end_time": "2023-01-31T10:13:14.730008",
     "exception": false,
     "start_time": "2023-01-31T10:13:14.711708",
     "status": "completed"
    },
    "tags": []
   },
   "outputs": [],
   "source": [
    "# %%time\n",
    "# p2g_oof_pred = CFG.fit_xgboost_kfold(X_p2g, y_p2g, CFG.xgb_params, CFG.p2g_folds, CFG.name, 'p2g')"
   ]
  },
  {
   "cell_type": "code",
   "execution_count": 12,
   "id": "d8319036",
   "metadata": {
    "execution": {
     "iopub.execute_input": "2023-01-31T10:13:14.750348Z",
     "iopub.status.busy": "2023-01-31T10:13:14.749502Z",
     "iopub.status.idle": "2023-01-31T10:13:14.753396Z",
     "shell.execute_reply": "2023-01-31T10:13:14.752664Z"
    },
    "papermill": {
     "duration": 0.016053,
     "end_time": "2023-01-31T10:13:14.755281",
     "exception": false,
     "start_time": "2023-01-31T10:13:14.739228",
     "status": "completed"
    },
    "tags": []
   },
   "outputs": [],
   "source": [
    "# %%time\n",
    "# p2p_oof_pred = CFG.fit_xgboost_kfold(X_p2p, y_p2p, CFG.xgb_params, CFG.p2p_folds, CFG.name, 'p2p')"
   ]
  },
  {
   "cell_type": "code",
   "execution_count": 13,
   "id": "a6dc6b08",
   "metadata": {
    "execution": {
     "iopub.execute_input": "2023-01-31T10:13:14.775172Z",
     "iopub.status.busy": "2023-01-31T10:13:14.774559Z",
     "iopub.status.idle": "2023-01-31T10:24:26.158809Z",
     "shell.execute_reply": "2023-01-31T10:24:26.157563Z"
    },
    "papermill": {
     "duration": 671.396969,
     "end_time": "2023-01-31T10:24:26.161372",
     "exception": false,
     "start_time": "2023-01-31T10:13:14.764403",
     "status": "completed"
    },
    "tags": []
   },
   "outputs": [
    {
     "name": "stdout",
     "output_type": "stream",
     "text": [
      "Fold -- 0 -- \n"
     ]
    },
    {
     "data": {
      "text/plain": [
       "0    139185\n",
       "1     14139\n",
       "Name: contact, dtype: int64"
      ]
     },
     "metadata": {},
     "output_type": "display_data"
    },
    {
     "name": "stdout",
     "output_type": "stream",
     "text": [
      "[0]\ttrain-auc:0.91065\tvalid-auc:0.90160\n",
      "[100]\ttrain-auc:0.93910\tvalid-auc:0.92579\n",
      "[200]\ttrain-auc:0.94926\tvalid-auc:0.93160\n",
      "[300]\ttrain-auc:0.95611\tvalid-auc:0.93326\n",
      "[400]\ttrain-auc:0.96064\tvalid-auc:0.93405\n",
      "[500]\ttrain-auc:0.96470\tvalid-auc:0.93434\n",
      "[600]\ttrain-auc:0.96744\tvalid-auc:0.93444\n",
      "[700]\ttrain-auc:0.96998\tvalid-auc:0.93452\n",
      "[800]\ttrain-auc:0.97243\tvalid-auc:0.93466\n",
      "[900]\ttrain-auc:0.97428\tvalid-auc:0.93470\n",
      "[957]\ttrain-auc:0.97552\tvalid-auc:0.93469\n",
      "Performance of the prediction: 0.93469\n",
      "\n",
      "Fold -- 1 -- \n"
     ]
    },
    {
     "data": {
      "text/plain": [
       "0    139647\n",
       "1     12571\n",
       "Name: contact, dtype: int64"
      ]
     },
     "metadata": {},
     "output_type": "display_data"
    },
    {
     "name": "stdout",
     "output_type": "stream",
     "text": [
      "[0]\ttrain-auc:0.91044\tvalid-auc:0.91303\n",
      "[100]\ttrain-auc:0.93712\tvalid-auc:0.93505\n",
      "[200]\ttrain-auc:0.94683\tvalid-auc:0.94097\n",
      "[300]\ttrain-auc:0.95343\tvalid-auc:0.94362\n",
      "[400]\ttrain-auc:0.95815\tvalid-auc:0.94495\n",
      "[500]\ttrain-auc:0.96255\tvalid-auc:0.94620\n",
      "[600]\ttrain-auc:0.96557\tvalid-auc:0.94670\n",
      "[700]\ttrain-auc:0.96845\tvalid-auc:0.94702\n",
      "[800]\ttrain-auc:0.97090\tvalid-auc:0.94726\n",
      "[900]\ttrain-auc:0.97332\tvalid-auc:0.94748\n",
      "[1000]\ttrain-auc:0.97495\tvalid-auc:0.94728\n",
      "[1006]\ttrain-auc:0.97507\tvalid-auc:0.94729\n",
      "Performance of the prediction: 0.94729\n",
      "\n",
      "Fold -- 2 -- \n"
     ]
    },
    {
     "data": {
      "text/plain": [
       "0    141269\n",
       "1     11922\n",
       "Name: contact, dtype: int64"
      ]
     },
     "metadata": {},
     "output_type": "display_data"
    },
    {
     "name": "stdout",
     "output_type": "stream",
     "text": [
      "[0]\ttrain-auc:0.90916\tvalid-auc:0.91855\n",
      "[100]\ttrain-auc:0.93687\tvalid-auc:0.93953\n",
      "[200]\ttrain-auc:0.94718\tvalid-auc:0.94404\n",
      "[300]\ttrain-auc:0.95402\tvalid-auc:0.94611\n",
      "[400]\ttrain-auc:0.95882\tvalid-auc:0.94711\n",
      "[500]\ttrain-auc:0.96281\tvalid-auc:0.94757\n",
      "[600]\ttrain-auc:0.96569\tvalid-auc:0.94808\n",
      "[700]\ttrain-auc:0.96814\tvalid-auc:0.94824\n",
      "[800]\ttrain-auc:0.97043\tvalid-auc:0.94825\n",
      "[877]\ttrain-auc:0.97192\tvalid-auc:0.94824\n",
      "Performance of the prediction: 0.94824\n",
      "\n",
      "Fold -- 3 -- \n"
     ]
    },
    {
     "data": {
      "text/plain": [
       "0    140833\n",
       "1     12388\n",
       "Name: contact, dtype: int64"
      ]
     },
     "metadata": {},
     "output_type": "display_data"
    },
    {
     "name": "stdout",
     "output_type": "stream",
     "text": [
      "[0]\ttrain-auc:0.91119\tvalid-auc:0.90741\n",
      "[100]\ttrain-auc:0.93850\tvalid-auc:0.93081\n",
      "[200]\ttrain-auc:0.94856\tvalid-auc:0.93643\n",
      "[300]\ttrain-auc:0.95544\tvalid-auc:0.93808\n",
      "[400]\ttrain-auc:0.96010\tvalid-auc:0.93917\n",
      "[500]\ttrain-auc:0.96377\tvalid-auc:0.93962\n",
      "[600]\ttrain-auc:0.96642\tvalid-auc:0.93996\n",
      "[700]\ttrain-auc:0.96908\tvalid-auc:0.93999\n",
      "[800]\ttrain-auc:0.97121\tvalid-auc:0.94010\n",
      "[900]\ttrain-auc:0.97344\tvalid-auc:0.94017\n",
      "[1000]\ttrain-auc:0.97529\tvalid-auc:0.94021\n",
      "[1061]\ttrain-auc:0.97627\tvalid-auc:0.94015\n",
      "Performance of the prediction: 0.94015\n",
      "\n",
      "Fold -- 4 -- \n"
     ]
    },
    {
     "data": {
      "text/plain": [
       "0    139946\n",
       "1     13407\n",
       "Name: contact, dtype: int64"
      ]
     },
     "metadata": {},
     "output_type": "display_data"
    },
    {
     "name": "stdout",
     "output_type": "stream",
     "text": [
      "[0]\ttrain-auc:0.91095\tvalid-auc:0.89523\n",
      "[100]\ttrain-auc:0.93971\tvalid-auc:0.92247\n",
      "[200]\ttrain-auc:0.94969\tvalid-auc:0.93001\n",
      "[300]\ttrain-auc:0.95660\tvalid-auc:0.93337\n",
      "[400]\ttrain-auc:0.96118\tvalid-auc:0.93481\n",
      "[500]\ttrain-auc:0.96468\tvalid-auc:0.93579\n",
      "[600]\ttrain-auc:0.96800\tvalid-auc:0.93603\n",
      "[700]\ttrain-auc:0.97041\tvalid-auc:0.93637\n",
      "[800]\ttrain-auc:0.97244\tvalid-auc:0.93640\n",
      "[900]\ttrain-auc:0.97443\tvalid-auc:0.93640\n",
      "[938]\ttrain-auc:0.97512\tvalid-auc:0.93637\n",
      "Performance of the prediction: 0.93637\n",
      "\n",
      "All Performance of the prediction: 0.94109\n",
      "CPU times: user 43min 28s, sys: 4.28 s, total: 43min 32s\n",
      "Wall time: 11min 11s\n"
     ]
    }
   ],
   "source": [
    "%%time\n",
    "oof_pred = CFG.fit_xgboost_kfold(X, y, CFG.xgb_params, CFG.folds, CFG.name, 'all')"
   ]
  },
  {
   "cell_type": "code",
   "execution_count": 14,
   "id": "730f3fbd",
   "metadata": {
    "execution": {
     "iopub.execute_input": "2023-01-31T10:24:26.197494Z",
     "iopub.status.busy": "2023-01-31T10:24:26.197035Z",
     "iopub.status.idle": "2023-01-31T10:24:27.349123Z",
     "shell.execute_reply": "2023-01-31T10:24:27.347891Z"
    },
    "papermill": {
     "duration": 1.174753,
     "end_time": "2023-01-31T10:24:27.351511",
     "exception": false,
     "start_time": "2023-01-31T10:24:26.176758",
     "status": "completed"
    },
    "tags": []
   },
   "outputs": [
    {
     "name": "stdout",
     "output_type": "stream",
     "text": [
      "xgb_fold_0_yy_all.joblib  xgb_fold_2_yy_all.joblib  xgb_fold_4_yy_all.joblib\r\n",
      "xgb_fold_1_yy_all.joblib  xgb_fold_3_yy_all.joblib\r\n"
     ]
    }
   ],
   "source": [
    "!ls model/"
   ]
  },
  {
   "cell_type": "markdown",
   "id": "74bca9b1",
   "metadata": {
    "papermill": {
     "duration": 0.013357,
     "end_time": "2023-01-31T10:24:27.378859",
     "exception": false,
     "start_time": "2023-01-31T10:24:27.365502",
     "status": "completed"
    },
    "tags": []
   },
   "source": [
    "## Optimize"
   ]
  },
  {
   "cell_type": "markdown",
   "id": "f62accf4",
   "metadata": {
    "papermill": {
     "duration": 0.013325,
     "end_time": "2023-01-31T10:24:27.405819",
     "exception": false,
     "start_time": "2023-01-31T10:24:27.392494",
     "status": "completed"
    },
    "tags": []
   },
   "source": [
    "### train all"
   ]
  },
  {
   "cell_type": "code",
   "execution_count": 15,
   "id": "35f0a8ad",
   "metadata": {
    "_kg_hide-input": false,
    "execution": {
     "iopub.execute_input": "2023-01-31T10:24:27.435319Z",
     "iopub.status.busy": "2023-01-31T10:24:27.434900Z",
     "iopub.status.idle": "2023-01-31T10:24:36.274153Z",
     "shell.execute_reply": "2023-01-31T10:24:36.272961Z"
    },
    "papermill": {
     "duration": 8.8571,
     "end_time": "2023-01-31T10:24:36.276590",
     "exception": false,
     "start_time": "2023-01-31T10:24:27.419490",
     "status": "completed"
    },
    "tags": []
   },
   "outputs": [
    {
     "name": "stdout",
     "output_type": "stream",
     "text": [
      "score: 0.58078\n",
      "threshold 0.31113\n"
     ]
    }
   ],
   "source": [
    "def func(x_list):\n",
    "    score = matthews_corrcoef(df_['contact'], oof_pred>x_list[0])\n",
    "    return -score\n",
    "\n",
    "x0 = [0.5]\n",
    "result = minimize(func, x0,  method=\"nelder-mead\")\n",
    "CFG.threshold = result.x[0]\n",
    "print(\"score:\", round(matthews_corrcoef(df_['contact'], oof_pred>CFG.threshold), 5))\n",
    "print(\"threshold\", round(CFG.threshold, 5))"
   ]
  },
  {
   "cell_type": "code",
   "execution_count": 16,
   "id": "a0ea776f",
   "metadata": {
    "execution": {
     "iopub.execute_input": "2023-01-31T10:24:36.306090Z",
     "iopub.status.busy": "2023-01-31T10:24:36.305730Z",
     "iopub.status.idle": "2023-01-31T10:24:36.460283Z",
     "shell.execute_reply": "2023-01-31T10:24:36.459238Z"
    },
    "papermill": {
     "duration": 0.172115,
     "end_time": "2023-01-31T10:24:36.462704",
     "exception": false,
     "start_time": "2023-01-31T10:24:36.290589",
     "status": "completed"
    },
    "tags": []
   },
   "outputs": [
    {
     "data": {
      "text/plain": [
       "array([[672437,  28443],\n",
       "       [ 22997,  41430]])"
      ]
     },
     "execution_count": 16,
     "metadata": {},
     "output_type": "execute_result"
    }
   ],
   "source": [
    "confusion_matrix(df_['contact'], (oof_pred>CFG.threshold).astype(int))"
   ]
  },
  {
   "cell_type": "markdown",
   "id": "c4ed851d",
   "metadata": {
    "papermill": {
     "duration": 0.013722,
     "end_time": "2023-01-31T10:24:36.490573",
     "exception": false,
     "start_time": "2023-01-31T10:24:36.476851",
     "status": "completed"
    },
    "tags": []
   },
   "source": [
    "## p2p & p2g"
   ]
  },
  {
   "cell_type": "code",
   "execution_count": 17,
   "id": "c771e0de",
   "metadata": {
    "execution": {
     "iopub.execute_input": "2023-01-31T10:24:36.520140Z",
     "iopub.status.busy": "2023-01-31T10:24:36.519767Z",
     "iopub.status.idle": "2023-01-31T10:24:36.524031Z",
     "shell.execute_reply": "2023-01-31T10:24:36.523313Z"
    },
    "papermill": {
     "duration": 0.021353,
     "end_time": "2023-01-31T10:24:36.525977",
     "exception": false,
     "start_time": "2023-01-31T10:24:36.504624",
     "status": "completed"
    },
    "tags": []
   },
   "outputs": [],
   "source": [
    "# def func_p2g(x_list):\n",
    "#     return -matthews_corrcoef(df_p2g['contact'], p2g_oof_pred>x_list[0])\n",
    "\n",
    "# def func_p2p(x_list):\n",
    "#     return -matthews_corrcoef(df_p2p['contact'], p2p_oof_pred>x_list[0])\n",
    "\n",
    "# x_p2g = [0.5]\n",
    "# res_p2g = minimize(func_p2g, x_p2g,  method=\"nelder-mead\")\n",
    "# CFG.p2g_threshold = res_p2g.x[0]\n",
    "# print(\"p2g score:\", round(matthews_corrcoef(df_p2g['contact'], p2g_oof_pred>CFG.p2g_threshold), 5))\n",
    "# print(\"p2g threshold:\", round(CFG.p2g_threshold, 5))\n",
    "\n",
    "# x_p2p = [0.5]\n",
    "# res_p2p = minimize(func_p2p, x_p2p,  method=\"nelder-mead\")\n",
    "# CFG.p2p_threshold = res_p2p.x[0]\n",
    "# print(\"p2p score:\", round(matthews_corrcoef(df_p2p['contact'], p2p_oof_pred>CFG.p2p_threshold), 5))\n",
    "# print(\"p2p threshold:\", round(CFG.p2p_threshold, 5))"
   ]
  },
  {
   "cell_type": "markdown",
   "id": "b86f7b54",
   "metadata": {
    "papermill": {
     "duration": 0.01347,
     "end_time": "2023-01-31T10:24:36.553112",
     "exception": false,
     "start_time": "2023-01-31T10:24:36.539642",
     "status": "completed"
    },
    "tags": []
   },
   "source": [
    "## Pred"
   ]
  },
  {
   "cell_type": "code",
   "execution_count": 18,
   "id": "45aee090",
   "metadata": {
    "execution": {
     "iopub.execute_input": "2023-01-31T10:24:36.582020Z",
     "iopub.status.busy": "2023-01-31T10:24:36.581611Z",
     "iopub.status.idle": "2023-01-31T10:24:36.588298Z",
     "shell.execute_reply": "2023-01-31T10:24:36.587304Z"
    },
    "papermill": {
     "duration": 0.023651,
     "end_time": "2023-01-31T10:24:36.590327",
     "exception": false,
     "start_time": "2023-01-31T10:24:36.566676",
     "status": "completed"
    },
    "tags": []
   },
   "outputs": [],
   "source": [
    "def pred_xgboost(X, data_dir, add_suffix=''):\n",
    "    models = glob(os.path.join(data_dir, f'xgb_fold*{add_suffix}.joblib'))\n",
    "    print(models)\n",
    "    models = [joblib.load(model) for model in models]\n",
    "    X_Dmatrix = xgb.DMatrix(X)\n",
    "    preds = np.array([model.predict(X_Dmatrix) for model in models])\n",
    "    preds = np.mean(preds, axis=0)\n",
    "    return preds"
   ]
  },
  {
   "cell_type": "code",
   "execution_count": 19,
   "id": "9e98f244",
   "metadata": {
    "execution": {
     "iopub.execute_input": "2023-01-31T10:24:36.619619Z",
     "iopub.status.busy": "2023-01-31T10:24:36.619216Z",
     "iopub.status.idle": "2023-01-31T10:24:36.629196Z",
     "shell.execute_reply": "2023-01-31T10:24:36.628484Z"
    },
    "papermill": {
     "duration": 0.026865,
     "end_time": "2023-01-31T10:24:36.631000",
     "exception": false,
     "start_time": "2023-01-31T10:24:36.604135",
     "status": "completed"
    },
    "tags": []
   },
   "outputs": [],
   "source": [
    "def create_features(df_label, df_tracking, cols, merge_col=\"step\"):\n",
    "    df_combo = (\n",
    "        df_label.astype({\"nfl_player_id_1\": str, \"nfl_player_id_2\": str})\n",
    "        .merge(\n",
    "            df_tracking[[\"game_play\", merge_col, \"nfl_player_id\"] + cols]\n",
    "                .astype({\"nfl_player_id\": \"str\"}),\n",
    "            left_on=[\"game_play\", merge_col, \"nfl_player_id_1\"],\n",
    "            right_on=[\"game_play\", merge_col, \"nfl_player_id\"],\n",
    "            how=\"left\",)\n",
    "        .drop(columns=[\"nfl_player_id\"])\n",
    "        .merge(\n",
    "            df_tracking[[\"game_play\", merge_col, \"nfl_player_id\"] + cols]\n",
    "                .astype({\"nfl_player_id\": \"str\"}),\n",
    "            left_on=[\"game_play\", merge_col, \"nfl_player_id_2\"],\n",
    "            right_on=[\"game_play\", merge_col, \"nfl_player_id\"],\n",
    "            how=\"left\",\n",
    "            suffixes=['_1', '_2']\n",
    "        )\n",
    "        .drop(columns=[\"nfl_player_id\"])\n",
    "        .sort_values([\"game_play\", merge_col, \"nfl_player_id_1\", \"nfl_player_id_2\"])\n",
    "        .reset_index(drop=True)\n",
    "    )\n",
    "    df_combo['G_flag'] = (df_combo['nfl_player_id_2']=='G').astype(int)\n",
    "    \n",
    "    df_combo['distance_x'] = np.abs(df_combo['x_position_1']-df_combo['x_position_2'])\n",
    "    df_combo['distance_y'] = np.abs(df_combo['y_position_1']-df_combo['y_position_2'])\n",
    "    dist_pow = df_combo['distance_x']**2 + df_combo['distance_y']**2\n",
    "    df_combo['distance'] = np.sqrt(dist_pow)\n",
    "        \n",
    "    return df_combo"
   ]
  },
  {
   "cell_type": "code",
   "execution_count": 20,
   "id": "3c9fb857",
   "metadata": {
    "execution": {
     "iopub.execute_input": "2023-01-31T10:24:36.660378Z",
     "iopub.status.busy": "2023-01-31T10:24:36.659708Z",
     "iopub.status.idle": "2023-01-31T10:24:37.141543Z",
     "shell.execute_reply": "2023-01-31T10:24:37.139748Z"
    },
    "papermill": {
     "duration": 0.49955,
     "end_time": "2023-01-31T10:24:37.144250",
     "exception": false,
     "start_time": "2023-01-31T10:24:36.644700",
     "status": "completed"
    },
    "tags": []
   },
   "outputs": [],
   "source": [
    "test_labels = CFG.expand_contact_id(pd.read_csv(CFG.test_sub_dir))\n",
    "test_tracking = pd.read_csv(CFG.test_tracking_dir)\n",
    "# test_helmets = pd.read_csv(\"/kaggle/input/nfl-player-contact-detection/test_baseline_helmets.csv\")\n",
    "# test_video_metadata = pd.read_csv(\"/kaggle/input/nfl-player-contact-detection/test_video_metadata.csv\")\n",
    "use_cols = [\n",
    "    'x_position', 'y_position', 'speed', 'distance',\n",
    "    'direction', 'orientation', 'acceleration', 'sa'\n",
    "]\n",
    "\n",
    "df_test = create_features(test_labels, test_tracking, use_cols)"
   ]
  },
  {
   "cell_type": "code",
   "execution_count": 21,
   "id": "460f2144",
   "metadata": {
    "execution": {
     "iopub.execute_input": "2023-01-31T10:24:37.185092Z",
     "iopub.status.busy": "2023-01-31T10:24:37.184692Z",
     "iopub.status.idle": "2023-01-31T10:24:37.201432Z",
     "shell.execute_reply": "2023-01-31T10:24:37.200276Z"
    },
    "papermill": {
     "duration": 0.042712,
     "end_time": "2023-01-31T10:24:37.203997",
     "exception": false,
     "start_time": "2023-01-31T10:24:37.161285",
     "status": "completed"
    },
    "tags": []
   },
   "outputs": [],
   "source": [
    "df_test_pred = df_test[(df_test['distance']<CFG.dist_thresh) | df_test['distance'].isna()]"
   ]
  },
  {
   "cell_type": "code",
   "execution_count": 22,
   "id": "77556ab7",
   "metadata": {
    "execution": {
     "iopub.execute_input": "2023-01-31T10:24:37.234711Z",
     "iopub.status.busy": "2023-01-31T10:24:37.233971Z",
     "iopub.status.idle": "2023-01-31T10:24:37.240344Z",
     "shell.execute_reply": "2023-01-31T10:24:37.239443Z"
    },
    "papermill": {
     "duration": 0.023852,
     "end_time": "2023-01-31T10:24:37.242312",
     "exception": false,
     "start_time": "2023-01-31T10:24:37.218460",
     "status": "completed"
    },
    "tags": []
   },
   "outputs": [
    {
     "data": {
      "text/plain": [
       "Index(['contact_id', 'contact', 'game_play', 'game', 'play', 'step',\n",
       "       'nfl_player_id_1', 'nfl_player_id_2', 'x_position_1', 'y_position_1',\n",
       "       'speed_1', 'distance_1', 'direction_1', 'orientation_1',\n",
       "       'acceleration_1', 'sa_1', 'x_position_2', 'y_position_2', 'speed_2',\n",
       "       'distance_2', 'direction_2', 'orientation_2', 'acceleration_2', 'sa_2',\n",
       "       'G_flag', 'distance_x', 'distance_y', 'distance'],\n",
       "      dtype='object')"
      ]
     },
     "execution_count": 22,
     "metadata": {},
     "output_type": "execute_result"
    }
   ],
   "source": [
    "df_test.columns"
   ]
  },
  {
   "cell_type": "code",
   "execution_count": 23,
   "id": "78dfd5e3",
   "metadata": {
    "execution": {
     "iopub.execute_input": "2023-01-31T10:24:37.272489Z",
     "iopub.status.busy": "2023-01-31T10:24:37.271478Z",
     "iopub.status.idle": "2023-01-31T10:24:37.485714Z",
     "shell.execute_reply": "2023-01-31T10:24:37.484501Z"
    },
    "papermill": {
     "duration": 0.231982,
     "end_time": "2023-01-31T10:24:37.488393",
     "exception": false,
     "start_time": "2023-01-31T10:24:37.256411",
     "status": "completed"
    },
    "tags": []
   },
   "outputs": [
    {
     "name": "stderr",
     "output_type": "stream",
     "text": [
      "/opt/conda/lib/python3.7/site-packages/ipykernel_launcher.py:1: SettingWithCopyWarning: \n",
      "A value is trying to be set on a copy of a slice from a DataFrame.\n",
      "Try using .loc[row_indexer,col_indexer] = value instead\n",
      "\n",
      "See the caveats in the documentation: https://pandas.pydata.org/pandas-docs/stable/user_guide/indexing.html#returning-a-view-versus-a-copy\n",
      "  \"\"\"Entry point for launching an IPython kernel.\n"
     ]
    }
   ],
   "source": [
    "df_test_pred['frame'] = np.round(df_test_pred['step']/10*59.94+5*59.94).astype(int)\n",
    "test_helmets = pd.read_csv(CFG.test_helmets_dir)\n",
    "# merge two helmet views of the same player\n",
    "df_test_helmets = CFG.merge_helmet_views(test_helmets)\n",
    "# merge helmet views of two players\n",
    "df_feats = CFG.merge_label_helmet(df_test_pred, df_test_helmets)"
   ]
  },
  {
   "cell_type": "code",
   "execution_count": 24,
   "id": "aceed18e",
   "metadata": {
    "execution": {
     "iopub.execute_input": "2023-01-31T10:24:37.518490Z",
     "iopub.status.busy": "2023-01-31T10:24:37.518110Z",
     "iopub.status.idle": "2023-01-31T10:24:37.526386Z",
     "shell.execute_reply": "2023-01-31T10:24:37.525332Z"
    },
    "papermill": {
     "duration": 0.026237,
     "end_time": "2023-01-31T10:24:37.528891",
     "exception": false,
     "start_time": "2023-01-31T10:24:37.502654",
     "status": "completed"
    },
    "tags": []
   },
   "outputs": [
    {
     "data": {
      "text/plain": [
       "Index(['contact_id', 'contact', 'G_flag', 'x_position_1', 'y_position_1',\n",
       "       'speed_1', 'distance_1', 'direction_1', 'orientation_1',\n",
       "       'acceleration_1', 'sa_1', 'x_position_2', 'y_position_2', 'speed_2',\n",
       "       'distance_2', 'direction_2', 'orientation_2', 'acceleration_2', 'sa_2',\n",
       "       'distance', 'left_side_p1', 'width_side_p1', 'top_side_p1',\n",
       "       'height_side_p1', 'left_end_p2', 'width_end_p2', 'top_end_p2',\n",
       "       'height_end_p2', 'left_side_p2', 'width_side_p2', 'top_side_p2',\n",
       "       'height_side_p2'],\n",
       "      dtype='object')"
      ]
     },
     "execution_count": 24,
     "metadata": {},
     "output_type": "execute_result"
    }
   ],
   "source": [
    "df_feats[feats].columns"
   ]
  },
  {
   "cell_type": "code",
   "execution_count": 25,
   "id": "28d13775",
   "metadata": {
    "execution": {
     "iopub.execute_input": "2023-01-31T10:24:37.559405Z",
     "iopub.status.busy": "2023-01-31T10:24:37.558318Z",
     "iopub.status.idle": "2023-01-31T10:24:38.219633Z",
     "shell.execute_reply": "2023-01-31T10:24:38.218718Z"
    },
    "papermill": {
     "duration": 0.678944,
     "end_time": "2023-01-31T10:24:38.222028",
     "exception": false,
     "start_time": "2023-01-31T10:24:37.543084",
     "status": "completed"
    },
    "tags": []
   },
   "outputs": [
    {
     "name": "stdout",
     "output_type": "stream",
     "text": [
      "['/kaggle/working/model/xgb_fold_2_yy_all.joblib', '/kaggle/working/model/xgb_fold_1_yy_all.joblib', '/kaggle/working/model/xgb_fold_3_yy_all.joblib', '/kaggle/working/model/xgb_fold_4_yy_all.joblib', '/kaggle/working/model/xgb_fold_0_yy_all.joblib']\n"
     ]
    },
    {
     "data": {
      "text/plain": [
       "0    48701\n",
       "1      887\n",
       "Name: contact, dtype: int64"
      ]
     },
     "execution_count": 25,
     "metadata": {},
     "output_type": "execute_result"
    }
   ],
   "source": [
    "sub_pred = pred_xgboost(\n",
    "    df_feats[feats].drop(columns=['contact_id', 'contact', ]), \n",
    "    CFG.model_dir, f'{CFG.name}_all')\n",
    "df_test.loc[df_feats.index, 'contact'] = (sub_pred>CFG.threshold).astype(int)\n",
    "# df_test[['contact_id', 'contact']].to_csv('submission.csv', index=False)\n",
    "df_test['contact'].value_counts()\n"
   ]
  },
  {
   "cell_type": "code",
   "execution_count": 26,
   "id": "be893be3",
   "metadata": {
    "execution": {
     "iopub.execute_input": "2023-01-31T10:24:38.253400Z",
     "iopub.status.busy": "2023-01-31T10:24:38.252287Z",
     "iopub.status.idle": "2023-01-31T10:24:38.345711Z",
     "shell.execute_reply": "2023-01-31T10:24:38.344658Z"
    },
    "papermill": {
     "duration": 0.111411,
     "end_time": "2023-01-31T10:24:38.347980",
     "exception": false,
     "start_time": "2023-01-31T10:24:38.236569",
     "status": "completed"
    },
    "tags": []
   },
   "outputs": [
    {
     "data": {
      "text/html": [
       "<div>\n",
       "<style scoped>\n",
       "    .dataframe tbody tr th:only-of-type {\n",
       "        vertical-align: middle;\n",
       "    }\n",
       "\n",
       "    .dataframe tbody tr th {\n",
       "        vertical-align: top;\n",
       "    }\n",
       "\n",
       "    .dataframe thead th {\n",
       "        text-align: right;\n",
       "    }\n",
       "</style>\n",
       "<table border=\"1\" class=\"dataframe\">\n",
       "  <thead>\n",
       "    <tr style=\"text-align: right;\">\n",
       "      <th></th>\n",
       "      <th>contact_id</th>\n",
       "      <th>contact</th>\n",
       "    </tr>\n",
       "  </thead>\n",
       "  <tbody>\n",
       "    <tr>\n",
       "      <th>0</th>\n",
       "      <td>58168_003392_0_37084_37211</td>\n",
       "      <td>0</td>\n",
       "    </tr>\n",
       "    <tr>\n",
       "      <th>1</th>\n",
       "      <td>58168_003392_0_37084_38556</td>\n",
       "      <td>0</td>\n",
       "    </tr>\n",
       "    <tr>\n",
       "      <th>2</th>\n",
       "      <td>58168_003392_0_37084_38567</td>\n",
       "      <td>0</td>\n",
       "    </tr>\n",
       "    <tr>\n",
       "      <th>3</th>\n",
       "      <td>58168_003392_0_37084_38590</td>\n",
       "      <td>0</td>\n",
       "    </tr>\n",
       "    <tr>\n",
       "      <th>4</th>\n",
       "      <td>58168_003392_0_37084_39947</td>\n",
       "      <td>0</td>\n",
       "    </tr>\n",
       "    <tr>\n",
       "      <th>...</th>\n",
       "      <td>...</td>\n",
       "      <td>...</td>\n",
       "    </tr>\n",
       "    <tr>\n",
       "      <th>49583</th>\n",
       "      <td>58172_003247_125_52521_52939</td>\n",
       "      <td>0</td>\n",
       "    </tr>\n",
       "    <tr>\n",
       "      <th>49584</th>\n",
       "      <td>58172_003247_125_52521_G</td>\n",
       "      <td>0</td>\n",
       "    </tr>\n",
       "    <tr>\n",
       "      <th>49585</th>\n",
       "      <td>58172_003247_125_52852_52939</td>\n",
       "      <td>0</td>\n",
       "    </tr>\n",
       "    <tr>\n",
       "      <th>49586</th>\n",
       "      <td>58172_003247_125_52852_G</td>\n",
       "      <td>0</td>\n",
       "    </tr>\n",
       "    <tr>\n",
       "      <th>49587</th>\n",
       "      <td>58172_003247_125_52939_G</td>\n",
       "      <td>0</td>\n",
       "    </tr>\n",
       "  </tbody>\n",
       "</table>\n",
       "<p>49588 rows × 2 columns</p>\n",
       "</div>"
      ],
      "text/plain": [
       "                         contact_id  contact\n",
       "0        58168_003392_0_37084_37211        0\n",
       "1        58168_003392_0_37084_38556        0\n",
       "2        58168_003392_0_37084_38567        0\n",
       "3        58168_003392_0_37084_38590        0\n",
       "4        58168_003392_0_37084_39947        0\n",
       "...                             ...      ...\n",
       "49583  58172_003247_125_52521_52939        0\n",
       "49584      58172_003247_125_52521_G        0\n",
       "49585  58172_003247_125_52852_52939        0\n",
       "49586      58172_003247_125_52852_G        0\n",
       "49587      58172_003247_125_52939_G        0\n",
       "\n",
       "[49588 rows x 2 columns]"
      ]
     },
     "execution_count": 26,
     "metadata": {},
     "output_type": "execute_result"
    }
   ],
   "source": [
    "df_test[['contact_id', 'contact']].to_csv('submission.csv', index=False)\n",
    "df_test[['contact_id', 'contact']]"
   ]
  },
  {
   "cell_type": "code",
   "execution_count": 27,
   "id": "94be946d",
   "metadata": {
    "execution": {
     "iopub.execute_input": "2023-01-31T10:24:38.379010Z",
     "iopub.status.busy": "2023-01-31T10:24:38.378631Z",
     "iopub.status.idle": "2023-01-31T10:24:38.383090Z",
     "shell.execute_reply": "2023-01-31T10:24:38.381937Z"
    },
    "papermill": {
     "duration": 0.022917,
     "end_time": "2023-01-31T10:24:38.385555",
     "exception": false,
     "start_time": "2023-01-31T10:24:38.362638",
     "status": "completed"
    },
    "tags": []
   },
   "outputs": [],
   "source": [
    "# sub_pred = pred_xgboost(df_test.drop(columns=['contact_id', 'contact']), \n",
    "#                         CFG.model_dir, f'{CFG.name}_{CFG.suffix}')\n",
    "# df_test['contact'] = (sub_pred > CFG.threshold).astype(int)\n",
    "# df_test = CFG.expand_contact_id(df_test)\n",
    "# df_test[['contact_id', 'contact']].to_csv('submission.csv', index=False)\n",
    "# display(df_test[['contact_id', 'contact']].head())"
   ]
  },
  {
   "cell_type": "code",
   "execution_count": 28,
   "id": "ef25f36e",
   "metadata": {
    "execution": {
     "iopub.execute_input": "2023-01-31T10:24:38.416734Z",
     "iopub.status.busy": "2023-01-31T10:24:38.415849Z",
     "iopub.status.idle": "2023-01-31T10:24:39.530189Z",
     "shell.execute_reply": "2023-01-31T10:24:39.529028Z"
    },
    "papermill": {
     "duration": 1.132875,
     "end_time": "2023-01-31T10:24:39.532959",
     "exception": false,
     "start_time": "2023-01-31T10:24:38.400084",
     "status": "completed"
    },
    "tags": []
   },
   "outputs": [
    {
     "name": "stdout",
     "output_type": "stream",
     "text": [
      "xgb_fold_0_yy_all.joblib  xgb_fold_2_yy_all.joblib  xgb_fold_4_yy_all.joblib\r\n",
      "xgb_fold_1_yy_all.joblib  xgb_fold_3_yy_all.joblib\r\n"
     ]
    }
   ],
   "source": [
    "!ls model/"
   ]
  },
  {
   "cell_type": "code",
   "execution_count": 29,
   "id": "a25b8d04",
   "metadata": {
    "execution": {
     "iopub.execute_input": "2023-01-31T10:24:39.566245Z",
     "iopub.status.busy": "2023-01-31T10:24:39.565455Z",
     "iopub.status.idle": "2023-01-31T10:24:39.570375Z",
     "shell.execute_reply": "2023-01-31T10:24:39.569556Z"
    },
    "papermill": {
     "duration": 0.024315,
     "end_time": "2023-01-31T10:24:39.572663",
     "exception": false,
     "start_time": "2023-01-31T10:24:39.548348",
     "status": "completed"
    },
    "tags": []
   },
   "outputs": [],
   "source": [
    "# df_test_p2g = df_test[df_test['G_flag']==1]\n",
    "# df_test_p2p = df_test[df_test['G_flag']==0]"
   ]
  },
  {
   "cell_type": "code",
   "execution_count": 30,
   "id": "a2e108e3",
   "metadata": {
    "execution": {
     "iopub.execute_input": "2023-01-31T10:24:39.603818Z",
     "iopub.status.busy": "2023-01-31T10:24:39.603408Z",
     "iopub.status.idle": "2023-01-31T10:24:39.608517Z",
     "shell.execute_reply": "2023-01-31T10:24:39.607538Z"
    },
    "papermill": {
     "duration": 0.023015,
     "end_time": "2023-01-31T10:24:39.610543",
     "exception": false,
     "start_time": "2023-01-31T10:24:39.587528",
     "status": "completed"
    },
    "tags": []
   },
   "outputs": [],
   "source": [
    "# sub_pred_p2g = pred_xgboost(df_test_p2g.drop(columns=['contact_id', 'contact']),\n",
    "#                            CFG.model_dir, f'{CFG.name}_p2g')\n",
    "# sub_pred_p2p = pred_xgboost(df_test_p2p.drop(columns=['contact_id', 'contact']),\n",
    "#                            CFG.model_dir, f'{CFG.name}_p2p')\n",
    "# df_test_p2g['contact'] = (sub_pred_p2g > CFG.p2p_threshold).astype(int)\n",
    "# df_test_p2p['contact'] = (sub_pred_p2p > CFG.p2g_threshold).astype(int)"
   ]
  },
  {
   "cell_type": "code",
   "execution_count": 31,
   "id": "acb41dc2",
   "metadata": {
    "execution": {
     "iopub.execute_input": "2023-01-31T10:24:39.642005Z",
     "iopub.status.busy": "2023-01-31T10:24:39.641382Z",
     "iopub.status.idle": "2023-01-31T10:24:39.646030Z",
     "shell.execute_reply": "2023-01-31T10:24:39.645119Z"
    },
    "papermill": {
     "duration": 0.023052,
     "end_time": "2023-01-31T10:24:39.648235",
     "exception": false,
     "start_time": "2023-01-31T10:24:39.625183",
     "status": "completed"
    },
    "tags": []
   },
   "outputs": [],
   "source": [
    "# df_test_ = pd.concat([df_test_p2g, df_test_p2p]).sort_index()\n",
    "# df_test_[['contact_id', 'contact']].to_csv('submission.csv', index=False)\n",
    "# df_test_"
   ]
  },
  {
   "cell_type": "code",
   "execution_count": 32,
   "id": "55109712",
   "metadata": {
    "execution": {
     "iopub.execute_input": "2023-01-31T10:24:39.680253Z",
     "iopub.status.busy": "2023-01-31T10:24:39.679174Z",
     "iopub.status.idle": "2023-01-31T10:24:39.684177Z",
     "shell.execute_reply": "2023-01-31T10:24:39.683422Z"
    },
    "papermill": {
     "duration": 0.023012,
     "end_time": "2023-01-31T10:24:39.686234",
     "exception": false,
     "start_time": "2023-01-31T10:24:39.663222",
     "status": "completed"
    },
    "tags": []
   },
   "outputs": [],
   "source": [
    "# df_test_['contact'].value_counts()"
   ]
  },
  {
   "cell_type": "code",
   "execution_count": 33,
   "id": "a96e1153",
   "metadata": {
    "execution": {
     "iopub.execute_input": "2023-01-31T10:24:39.717634Z",
     "iopub.status.busy": "2023-01-31T10:24:39.716694Z",
     "iopub.status.idle": "2023-01-31T10:24:39.721239Z",
     "shell.execute_reply": "2023-01-31T10:24:39.720525Z"
    },
    "papermill": {
     "duration": 0.022504,
     "end_time": "2023-01-31T10:24:39.723307",
     "exception": false,
     "start_time": "2023-01-31T10:24:39.700803",
     "status": "completed"
    },
    "tags": []
   },
   "outputs": [],
   "source": [
    "# df_test_p2p['contact'].value_counts()"
   ]
  },
  {
   "cell_type": "code",
   "execution_count": 34,
   "id": "3fdf7cd2",
   "metadata": {
    "execution": {
     "iopub.execute_input": "2023-01-31T10:24:39.755078Z",
     "iopub.status.busy": "2023-01-31T10:24:39.754462Z",
     "iopub.status.idle": "2023-01-31T10:24:39.759129Z",
     "shell.execute_reply": "2023-01-31T10:24:39.757872Z"
    },
    "papermill": {
     "duration": 0.023066,
     "end_time": "2023-01-31T10:24:39.761296",
     "exception": false,
     "start_time": "2023-01-31T10:24:39.738230",
     "status": "completed"
    },
    "tags": []
   },
   "outputs": [],
   "source": [
    "# df_test_p2g['contact'].value_counts()"
   ]
  }
 ],
 "metadata": {
  "kernelspec": {
   "display_name": "Python 3",
   "language": "python",
   "name": "python3"
  },
  "language_info": {
   "codemirror_mode": {
    "name": "ipython",
    "version": 3
   },
   "file_extension": ".py",
   "mimetype": "text/x-python",
   "name": "python",
   "nbconvert_exporter": "python",
   "pygments_lexer": "ipython3",
   "version": "3.7.12"
  },
  "papermill": {
   "default_parameters": {},
   "duration": 829.236643,
   "end_time": "2023-01-31T10:24:41.001370",
   "environment_variables": {},
   "exception": null,
   "input_path": "__notebook__.ipynb",
   "output_path": "__notebook__.ipynb",
   "parameters": {},
   "start_time": "2023-01-31T10:10:51.764727",
   "version": "2.3.4"
  }
 },
 "nbformat": 4,
 "nbformat_minor": 5
}
