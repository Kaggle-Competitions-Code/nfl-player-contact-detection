{
 "cells": [
  {
   "cell_type": "code",
   "execution_count": 1,
   "id": "f21fb4ba",
   "metadata": {
    "execution": {
     "iopub.execute_input": "2023-02-06T08:52:57.068343Z",
     "iopub.status.busy": "2023-02-06T08:52:57.067363Z",
     "iopub.status.idle": "2023-02-06T08:52:57.923959Z",
     "shell.execute_reply": "2023-02-06T08:52:57.922784Z"
    },
    "papermill": {
     "duration": 0.866848,
     "end_time": "2023-02-06T08:52:57.927040",
     "exception": false,
     "start_time": "2023-02-06T08:52:57.060192",
     "status": "completed"
    },
    "tags": []
   },
   "outputs": [],
   "source": [
    "import pandas as pd\n",
    "import os\n",
    "\n",
    "from tqdm import tqdm\n",
    "from sklearn.model_selection import StratifiedGroupKFold\n",
    "\n",
    "pd.set_option('display.max_rows', 100)"
   ]
  },
  {
   "cell_type": "code",
   "execution_count": 2,
   "id": "396412ef",
   "metadata": {
    "execution": {
     "iopub.execute_input": "2023-02-06T08:52:57.937806Z",
     "iopub.status.busy": "2023-02-06T08:52:57.937422Z",
     "iopub.status.idle": "2023-02-06T08:52:57.944034Z",
     "shell.execute_reply": "2023-02-06T08:52:57.942965Z"
    },
    "papermill": {
     "duration": 0.01415,
     "end_time": "2023-02-06T08:52:57.946203",
     "exception": false,
     "start_time": "2023-02-06T08:52:57.932053",
     "status": "completed"
    },
    "tags": []
   },
   "outputs": [],
   "source": [
    "class CFG:\n",
    "    input_dir = '/kaggle/input/learning-equality-curriculum-recommendations'\n",
    "    content_dir = os.path.join(input_dir, 'content.csv')\n",
    "    correlations_dir = os.path.join(input_dir, 'correlations.csv')\n",
    "    submission_dir = os.path.join(input_dir, 'sample_submission.csv')\n",
    "    topic_dir = os.path.join(input_dir, 'topics.csv')"
   ]
  },
  {
   "cell_type": "code",
   "execution_count": 3,
   "id": "58f89ee8",
   "metadata": {
    "execution": {
     "iopub.execute_input": "2023-02-06T08:52:57.955669Z",
     "iopub.status.busy": "2023-02-06T08:52:57.955306Z",
     "iopub.status.idle": "2023-02-06T08:53:20.463219Z",
     "shell.execute_reply": "2023-02-06T08:53:20.462211Z"
    },
    "papermill": {
     "duration": 22.515699,
     "end_time": "2023-02-06T08:53:20.465942",
     "exception": false,
     "start_time": "2023-02-06T08:52:57.950243",
     "status": "completed"
    },
    "tags": []
   },
   "outputs": [],
   "source": [
    "df_content = pd.read_csv(CFG.content_dir)\n",
    "df_corr = pd.read_csv(CFG.correlations_dir)\n",
    "df_sub = pd.read_csv(CFG.submission_dir)\n",
    "df_topic = pd.read_csv(CFG.topic_dir)"
   ]
  },
  {
   "cell_type": "code",
   "execution_count": 4,
   "id": "b09e3464",
   "metadata": {
    "execution": {
     "iopub.execute_input": "2023-02-06T08:53:20.475775Z",
     "iopub.status.busy": "2023-02-06T08:53:20.475336Z",
     "iopub.status.idle": "2023-02-06T08:53:20.494542Z",
     "shell.execute_reply": "2023-02-06T08:53:20.493472Z"
    },
    "papermill": {
     "duration": 0.027034,
     "end_time": "2023-02-06T08:53:20.497294",
     "exception": false,
     "start_time": "2023-02-06T08:53:20.470260",
     "status": "completed"
    },
    "tags": []
   },
   "outputs": [
    {
     "data": {
      "text/plain": [
       "True     61517\n",
       "False    15455\n",
       "Name: has_content, dtype: int64"
      ]
     },
     "execution_count": 4,
     "metadata": {},
     "output_type": "execute_result"
    }
   ],
   "source": [
    "df_topic['has_content'].value_counts()"
   ]
  },
  {
   "cell_type": "markdown",
   "id": "5ecb54f5",
   "metadata": {
    "papermill": {
     "duration": 0.003906,
     "end_time": "2023-02-06T08:53:20.505498",
     "exception": false,
     "start_time": "2023-02-06T08:53:20.501592",
     "status": "completed"
    },
    "tags": []
   },
   "source": [
    "## 为叶子topic抽取先前节点的特征\n",
    "仅包含has_content=True的特征"
   ]
  },
  {
   "cell_type": "code",
   "execution_count": 5,
   "id": "8a53b6fd",
   "metadata": {
    "execution": {
     "iopub.execute_input": "2023-02-06T08:53:20.515413Z",
     "iopub.status.busy": "2023-02-06T08:53:20.515023Z",
     "iopub.status.idle": "2023-02-06T08:53:20.525386Z",
     "shell.execute_reply": "2023-02-06T08:53:20.524330Z"
    },
    "papermill": {
     "duration": 0.018171,
     "end_time": "2023-02-06T08:53:20.527801",
     "exception": false,
     "start_time": "2023-02-06T08:53:20.509630",
     "status": "completed"
    },
    "tags": []
   },
   "outputs": [],
   "source": [
    "# function to extract the level features for each leaf topic\n",
    "def get_level_features(df_topic, level_cols=['title']):\n",
    "    df_hier = df_topic[set(level_cols + ['id', 'parent', 'level', 'has_content'])]\n",
    "    highest_level = df_hier['level'].max()\n",
    "    print(f'Highest Level: {highest_level}')\n",
    "    \n",
    "    df_level = df_hier.query('level == 0').copy(deep=True)\n",
    "    level_list = list()\n",
    "    for col in level_cols:\n",
    "        df_level[f'{col}_level'] = df_level[f'{col}'].apply(lambda x: [x])\n",
    "\n",
    "    for i in tqdm(range(highest_level + 1)):\n",
    "        level_list.append(df_level[df_level['has_content']])\n",
    "        df_level_high = df_hier.query('level == @i+1')\n",
    "        df_level = df_level_high.merge(df_level, left_on='parent', right_on='id', suffixes=['', '_parent'], how='inner')\n",
    "        for col in level_cols:\n",
    "            df_level[f'{col}_level'] = df_level[f'{col}_level'] + df_level[f'{col}'].apply(lambda x: [x])\n",
    "        for col in df_level.columns:\n",
    "            if col.endswith('_parent'):\n",
    "                del df_level[col]\n",
    "    df = pd.concat(level_list).reset_index(drop=True)\n",
    "    return df[set(['id'] + [f'{col}_level' for col in level_cols])]"
   ]
  },
  {
   "cell_type": "code",
   "execution_count": 6,
   "id": "acc21ff6",
   "metadata": {
    "execution": {
     "iopub.execute_input": "2023-02-06T08:53:20.538186Z",
     "iopub.status.busy": "2023-02-06T08:53:20.537481Z",
     "iopub.status.idle": "2023-02-06T08:53:22.321483Z",
     "shell.execute_reply": "2023-02-06T08:53:22.320440Z"
    },
    "papermill": {
     "duration": 1.791634,
     "end_time": "2023-02-06T08:53:22.323751",
     "exception": false,
     "start_time": "2023-02-06T08:53:20.532117",
     "status": "completed"
    },
    "tags": []
   },
   "outputs": [
    {
     "name": "stdout",
     "output_type": "stream",
     "text": [
      "Highest Level: 10\n"
     ]
    },
    {
     "name": "stderr",
     "output_type": "stream",
     "text": [
      "100%|██████████| 11/11 [00:01<00:00,  7.13it/s]\n"
     ]
    },
    {
     "data": {
      "text/html": [
       "<div>\n",
       "<style scoped>\n",
       "    .dataframe tbody tr th:only-of-type {\n",
       "        vertical-align: middle;\n",
       "    }\n",
       "\n",
       "    .dataframe tbody tr th {\n",
       "        vertical-align: top;\n",
       "    }\n",
       "\n",
       "    .dataframe thead th {\n",
       "        text-align: right;\n",
       "    }\n",
       "</style>\n",
       "<table border=\"1\" class=\"dataframe\">\n",
       "  <thead>\n",
       "    <tr style=\"text-align: right;\">\n",
       "      <th></th>\n",
       "      <th>has_content_level</th>\n",
       "      <th>title_level</th>\n",
       "      <th>level_level</th>\n",
       "      <th>language_level</th>\n",
       "      <th>description_level</th>\n",
       "      <th>id_level</th>\n",
       "      <th>id</th>\n",
       "    </tr>\n",
       "  </thead>\n",
       "  <tbody>\n",
       "    <tr>\n",
       "      <th>0</th>\n",
       "      <td>[True]</td>\n",
       "      <td>[قناة كم كلمة لتمكين المعلّمين الناطقين باللغة...</td>\n",
       "      <td>[0]</td>\n",
       "      <td>[ar]</td>\n",
       "      <td>[]</td>\n",
       "      <td>[t_10035396d740]</td>\n",
       "      <td>t_10035396d740</td>\n",
       "    </tr>\n",
       "    <tr>\n",
       "      <th>1</th>\n",
       "      <td>[True]</td>\n",
       "      <td>[Medicine]</td>\n",
       "      <td>[0]</td>\n",
       "      <td>[en]</td>\n",
       "      <td>[]</td>\n",
       "      <td>[t_30dd476279c8]</td>\n",
       "      <td>t_30dd476279c8</td>\n",
       "    </tr>\n",
       "    <tr>\n",
       "      <th>2</th>\n",
       "      <td>[True]</td>\n",
       "      <td>[وزارة التربية والتعليم الأردنية]</td>\n",
       "      <td>[0]</td>\n",
       "      <td>[ar]</td>\n",
       "      <td>[]</td>\n",
       "      <td>[t_3efcae0132f0]</td>\n",
       "      <td>t_3efcae0132f0</td>\n",
       "    </tr>\n",
       "    <tr>\n",
       "      <th>3</th>\n",
       "      <td>[True]</td>\n",
       "      <td>[Khan Academy - Standardized Test Preparation]</td>\n",
       "      <td>[0]</td>\n",
       "      <td>[en]</td>\n",
       "      <td>[]</td>\n",
       "      <td>[t_470986f56fbe]</td>\n",
       "      <td>t_470986f56fbe</td>\n",
       "    </tr>\n",
       "    <tr>\n",
       "      <th>4</th>\n",
       "      <td>[True]</td>\n",
       "      <td>[Matemáticas Quinto Grado (Guatemala)]</td>\n",
       "      <td>[0]</td>\n",
       "      <td>[es]</td>\n",
       "      <td>[]</td>\n",
       "      <td>[t_72d1321023d9]</td>\n",
       "      <td>t_72d1321023d9</td>\n",
       "    </tr>\n",
       "    <tr>\n",
       "      <th>...</th>\n",
       "      <td>...</td>\n",
       "      <td>...</td>\n",
       "      <td>...</td>\n",
       "      <td>...</td>\n",
       "      <td>...</td>\n",
       "      <td>...</td>\n",
       "      <td>...</td>\n",
       "    </tr>\n",
       "    <tr>\n",
       "      <th>61512</th>\n",
       "      <td>[False, False, True, False, True, True, True, ...</td>\n",
       "      <td>[Ganar - Habilidades para el Trabajo, Laborato...</td>\n",
       "      <td>[0, 1, 2, 3, 4, 5, 6, 7, 8, 9]</td>\n",
       "      <td>[es, es, es, es, es, es, es, es, es, es]</td>\n",
       "      <td>[, , , , , , , , , ]</td>\n",
       "      <td>[t_44623019938d, t_0d57669638bd, t_4cc29e19e15...</td>\n",
       "      <td>t_ed58066fa353</td>\n",
       "    </tr>\n",
       "    <tr>\n",
       "      <th>61513</th>\n",
       "      <td>[False, False, True, False, True, True, True, ...</td>\n",
       "      <td>[Ganar - Habilidades para el Trabajo, Laborato...</td>\n",
       "      <td>[0, 1, 2, 3, 4, 5, 6, 7, 8, 9]</td>\n",
       "      <td>[es, es, es, es, es, es, es, es, es, es]</td>\n",
       "      <td>[, , , , , , , , , ]</td>\n",
       "      <td>[t_44623019938d, t_0d57669638bd, t_4cc29e19e15...</td>\n",
       "      <td>t_d7e92d224506</td>\n",
       "    </tr>\n",
       "    <tr>\n",
       "      <th>61514</th>\n",
       "      <td>[False, False, True, False, True, False, True,...</td>\n",
       "      <td>[Ganar - Habilidades para el Trabajo, Laborato...</td>\n",
       "      <td>[0, 1, 2, 3, 4, 5, 6, 7, 8, 9]</td>\n",
       "      <td>[es, es, es, es, es, es, es, es, es, es]</td>\n",
       "      <td>[, , , , , , , , , ]</td>\n",
       "      <td>[t_44623019938d, t_0d57669638bd, t_4cc29e19e15...</td>\n",
       "      <td>t_f60d6940436e</td>\n",
       "    </tr>\n",
       "    <tr>\n",
       "      <th>61515</th>\n",
       "      <td>[False, False, True, False, True, True, True, ...</td>\n",
       "      <td>[Ganar - Habilidades para el Trabajo, Laborato...</td>\n",
       "      <td>[0, 1, 2, 3, 4, 5, 6, 7, 8, 9, 10]</td>\n",
       "      <td>[es, es, es, es, es, es, es, es, es, es, es]</td>\n",
       "      <td>[, , , , , , , , , , ]</td>\n",
       "      <td>[t_44623019938d, t_0d57669638bd, t_4cc29e19e15...</td>\n",
       "      <td>t_2cb874d9bfed</td>\n",
       "    </tr>\n",
       "    <tr>\n",
       "      <th>61516</th>\n",
       "      <td>[False, False, True, False, True, True, True, ...</td>\n",
       "      <td>[Ganar - Habilidades para el Trabajo, Laborato...</td>\n",
       "      <td>[0, 1, 2, 3, 4, 5, 6, 7, 8, 9, 10]</td>\n",
       "      <td>[es, es, es, es, es, es, es, es, es, es, es]</td>\n",
       "      <td>[, , , , , , , , , , ]</td>\n",
       "      <td>[t_44623019938d, t_0d57669638bd, t_4cc29e19e15...</td>\n",
       "      <td>t_b245cd8697dd</td>\n",
       "    </tr>\n",
       "  </tbody>\n",
       "</table>\n",
       "<p>61517 rows × 7 columns</p>\n",
       "</div>"
      ],
      "text/plain": [
       "                                       has_content_level  \\\n",
       "0                                                 [True]   \n",
       "1                                                 [True]   \n",
       "2                                                 [True]   \n",
       "3                                                 [True]   \n",
       "4                                                 [True]   \n",
       "...                                                  ...   \n",
       "61512  [False, False, True, False, True, True, True, ...   \n",
       "61513  [False, False, True, False, True, True, True, ...   \n",
       "61514  [False, False, True, False, True, False, True,...   \n",
       "61515  [False, False, True, False, True, True, True, ...   \n",
       "61516  [False, False, True, False, True, True, True, ...   \n",
       "\n",
       "                                             title_level  \\\n",
       "0      [قناة كم كلمة لتمكين المعلّمين الناطقين باللغة...   \n",
       "1                                             [Medicine]   \n",
       "2                      [وزارة التربية والتعليم الأردنية]   \n",
       "3         [Khan Academy - Standardized Test Preparation]   \n",
       "4                 [Matemáticas Quinto Grado (Guatemala)]   \n",
       "...                                                  ...   \n",
       "61512  [Ganar - Habilidades para el Trabajo, Laborato...   \n",
       "61513  [Ganar - Habilidades para el Trabajo, Laborato...   \n",
       "61514  [Ganar - Habilidades para el Trabajo, Laborato...   \n",
       "61515  [Ganar - Habilidades para el Trabajo, Laborato...   \n",
       "61516  [Ganar - Habilidades para el Trabajo, Laborato...   \n",
       "\n",
       "                              level_level  \\\n",
       "0                                     [0]   \n",
       "1                                     [0]   \n",
       "2                                     [0]   \n",
       "3                                     [0]   \n",
       "4                                     [0]   \n",
       "...                                   ...   \n",
       "61512      [0, 1, 2, 3, 4, 5, 6, 7, 8, 9]   \n",
       "61513      [0, 1, 2, 3, 4, 5, 6, 7, 8, 9]   \n",
       "61514      [0, 1, 2, 3, 4, 5, 6, 7, 8, 9]   \n",
       "61515  [0, 1, 2, 3, 4, 5, 6, 7, 8, 9, 10]   \n",
       "61516  [0, 1, 2, 3, 4, 5, 6, 7, 8, 9, 10]   \n",
       "\n",
       "                                     language_level       description_level  \\\n",
       "0                                              [ar]                      []   \n",
       "1                                              [en]                      []   \n",
       "2                                              [ar]                      []   \n",
       "3                                              [en]                      []   \n",
       "4                                              [es]                      []   \n",
       "...                                             ...                     ...   \n",
       "61512      [es, es, es, es, es, es, es, es, es, es]    [, , , , , , , , , ]   \n",
       "61513      [es, es, es, es, es, es, es, es, es, es]    [, , , , , , , , , ]   \n",
       "61514      [es, es, es, es, es, es, es, es, es, es]    [, , , , , , , , , ]   \n",
       "61515  [es, es, es, es, es, es, es, es, es, es, es]  [, , , , , , , , , , ]   \n",
       "61516  [es, es, es, es, es, es, es, es, es, es, es]  [, , , , , , , , , , ]   \n",
       "\n",
       "                                                id_level              id  \n",
       "0                                       [t_10035396d740]  t_10035396d740  \n",
       "1                                       [t_30dd476279c8]  t_30dd476279c8  \n",
       "2                                       [t_3efcae0132f0]  t_3efcae0132f0  \n",
       "3                                       [t_470986f56fbe]  t_470986f56fbe  \n",
       "4                                       [t_72d1321023d9]  t_72d1321023d9  \n",
       "...                                                  ...             ...  \n",
       "61512  [t_44623019938d, t_0d57669638bd, t_4cc29e19e15...  t_ed58066fa353  \n",
       "61513  [t_44623019938d, t_0d57669638bd, t_4cc29e19e15...  t_d7e92d224506  \n",
       "61514  [t_44623019938d, t_0d57669638bd, t_4cc29e19e15...  t_f60d6940436e  \n",
       "61515  [t_44623019938d, t_0d57669638bd, t_4cc29e19e15...  t_2cb874d9bfed  \n",
       "61516  [t_44623019938d, t_0d57669638bd, t_4cc29e19e15...  t_b245cd8697dd  \n",
       "\n",
       "[61517 rows x 7 columns]"
      ]
     },
     "execution_count": 6,
     "metadata": {},
     "output_type": "execute_result"
    }
   ],
   "source": [
    "level_cols = ['id', 'title', 'description', 'level', 'language', 'has_content']\n",
    "df_level = get_level_features(df_topic.fillna(''), level_cols)\n",
    "df_level"
   ]
  },
  {
   "cell_type": "markdown",
   "id": "cf591ff9",
   "metadata": {
    "papermill": {
     "duration": 0.004782,
     "end_time": "2023-02-06T08:53:22.333703",
     "exception": false,
     "start_time": "2023-02-06T08:53:22.328921",
     "status": "completed"
    },
    "tags": []
   },
   "source": [
    "## TODOs"
   ]
  },
  {
   "cell_type": "markdown",
   "id": "fd05de71",
   "metadata": {
    "papermill": {
     "duration": 0.004579,
     "end_time": "2023-02-06T08:53:22.343128",
     "exception": false,
     "start_time": "2023-02-06T08:53:22.338549",
     "status": "completed"
    },
    "tags": []
   },
   "source": [
    "### Train Valid Split\n",
    "1. 同一个channel的category唯一\n",
    "2. 不同语言的字数统计方式不同，按字长分可能对部分语言不友好\n",
    "3. 合适的candidate feature for split有channel category language[???]\n",
    "4. test set中的channel会出现训练集中有过的channel + 全新的channel\n",
    "5. test set中的category只有aligned和supplemental，没有source\n",
    "6. 将train set和valid set中的content分很开可能没用，因为测试环境中的content是训练集content的超集"
   ]
  },
  {
   "cell_type": "markdown",
   "id": "bb95b5a0",
   "metadata": {
    "papermill": {
     "duration": 0.004623,
     "end_time": "2023-02-06T08:53:22.352634",
     "exception": false,
     "start_time": "2023-02-06T08:53:22.348011",
     "status": "completed"
    },
    "tags": []
   },
   "source": [
    "category为source的topic不会在test set中出现"
   ]
  },
  {
   "cell_type": "code",
   "execution_count": 7,
   "id": "aade76dc",
   "metadata": {
    "execution": {
     "iopub.execute_input": "2023-02-06T08:53:22.366001Z",
     "iopub.status.busy": "2023-02-06T08:53:22.364754Z",
     "iopub.status.idle": "2023-02-06T08:53:22.392615Z",
     "shell.execute_reply": "2023-02-06T08:53:22.391445Z"
    },
    "papermill": {
     "duration": 0.036633,
     "end_time": "2023-02-06T08:53:22.395136",
     "exception": false,
     "start_time": "2023-02-06T08:53:22.358503",
     "status": "completed"
    },
    "tags": []
   },
   "outputs": [
    {
     "data": {
      "text/html": [
       "<div>\n",
       "<style scoped>\n",
       "    .dataframe tbody tr th:only-of-type {\n",
       "        vertical-align: middle;\n",
       "    }\n",
       "\n",
       "    .dataframe tbody tr th {\n",
       "        vertical-align: top;\n",
       "    }\n",
       "\n",
       "    .dataframe thead th {\n",
       "        text-align: right;\n",
       "    }\n",
       "</style>\n",
       "<table border=\"1\" class=\"dataframe\">\n",
       "  <thead>\n",
       "    <tr style=\"text-align: right;\">\n",
       "      <th></th>\n",
       "      <th>id</th>\n",
       "      <th>title</th>\n",
       "      <th>description</th>\n",
       "      <th>channel</th>\n",
       "      <th>category</th>\n",
       "      <th>level</th>\n",
       "      <th>language</th>\n",
       "      <th>parent</th>\n",
       "      <th>has_content</th>\n",
       "    </tr>\n",
       "  </thead>\n",
       "  <tbody>\n",
       "    <tr>\n",
       "      <th>1</th>\n",
       "      <td>t_000095e03056</td>\n",
       "      <td>Unit 3.3 Enlargements and Similarities</td>\n",
       "      <td>NaN</td>\n",
       "      <td>b3f329</td>\n",
       "      <td>aligned</td>\n",
       "      <td>2</td>\n",
       "      <td>en</td>\n",
       "      <td>t_aa32fb6252dc</td>\n",
       "      <td>False</td>\n",
       "    </tr>\n",
       "    <tr>\n",
       "      <th>5</th>\n",
       "      <td>t_0008768bdee6</td>\n",
       "      <td>100 સુધીનો સરવાળો</td>\n",
       "      <td>37 અને 49 જેવી બે-અંકની સંખ્યાઓ ઉમેરતા શીખો.</td>\n",
       "      <td>5223e0</td>\n",
       "      <td>supplemental</td>\n",
       "      <td>4</td>\n",
       "      <td>gu</td>\n",
       "      <td>t_0da7a331d666</td>\n",
       "      <td>True</td>\n",
       "    </tr>\n",
       "    <tr>\n",
       "      <th>6</th>\n",
       "      <td>t_0008a1bd84ba</td>\n",
       "      <td>12. 20: Bird Reproduction</td>\n",
       "      <td>NaN</td>\n",
       "      <td>ebc86c</td>\n",
       "      <td>supplemental</td>\n",
       "      <td>5</td>\n",
       "      <td>en</td>\n",
       "      <td>t_c44ac9711007</td>\n",
       "      <td>True</td>\n",
       "    </tr>\n",
       "    <tr>\n",
       "      <th>8</th>\n",
       "      <td>t_000d1fb3f2f5</td>\n",
       "      <td>2.1.2 - Logarithms</td>\n",
       "      <td>NaN</td>\n",
       "      <td>e77b55</td>\n",
       "      <td>aligned</td>\n",
       "      <td>5</td>\n",
       "      <td>en</td>\n",
       "      <td>t_b897d168db90</td>\n",
       "      <td>True</td>\n",
       "    </tr>\n",
       "    <tr>\n",
       "      <th>10</th>\n",
       "      <td>t_00102869fbcb</td>\n",
       "      <td>Triangles and polygons</td>\n",
       "      <td>Learning outcomes: students must be able to so...</td>\n",
       "      <td>a91e32</td>\n",
       "      <td>aligned</td>\n",
       "      <td>3</td>\n",
       "      <td>en</td>\n",
       "      <td>t_039cecc12bb8</td>\n",
       "      <td>True</td>\n",
       "    </tr>\n",
       "  </tbody>\n",
       "</table>\n",
       "</div>"
      ],
      "text/plain": [
       "                id                                   title  \\\n",
       "1   t_000095e03056  Unit 3.3 Enlargements and Similarities   \n",
       "5   t_0008768bdee6                       100 સુધીનો સરવાળો   \n",
       "6   t_0008a1bd84ba               12. 20: Bird Reproduction   \n",
       "8   t_000d1fb3f2f5                      2.1.2 - Logarithms   \n",
       "10  t_00102869fbcb                  Triangles and polygons   \n",
       "\n",
       "                                          description channel      category  \\\n",
       "1                                                 NaN  b3f329       aligned   \n",
       "5        37 અને 49 જેવી બે-અંકની સંખ્યાઓ ઉમેરતા શીખો.  5223e0  supplemental   \n",
       "6                                                 NaN  ebc86c  supplemental   \n",
       "8                                                 NaN  e77b55       aligned   \n",
       "10  Learning outcomes: students must be able to so...  a91e32       aligned   \n",
       "\n",
       "    level language          parent  has_content  \n",
       "1       2       en  t_aa32fb6252dc        False  \n",
       "5       4       gu  t_0da7a331d666         True  \n",
       "6       5       en  t_c44ac9711007         True  \n",
       "8       5       en  t_b897d168db90         True  \n",
       "10      3       en  t_039cecc12bb8         True  "
      ]
     },
     "execution_count": 7,
     "metadata": {},
     "output_type": "execute_result"
    }
   ],
   "source": [
    "# Exclude source category since they won't appear in test set\n",
    "df_valid_candidate = df_topic[df_topic['category']!='source']\n",
    "df_valid_candidate.head()"
   ]
  },
  {
   "cell_type": "code",
   "execution_count": 8,
   "id": "16416626",
   "metadata": {
    "execution": {
     "iopub.execute_input": "2023-02-06T08:53:22.408168Z",
     "iopub.status.busy": "2023-02-06T08:53:22.407643Z",
     "iopub.status.idle": "2023-02-06T08:53:22.428175Z",
     "shell.execute_reply": "2023-02-06T08:53:22.427009Z"
    },
    "papermill": {
     "duration": 0.029869,
     "end_time": "2023-02-06T08:53:22.430484",
     "exception": false,
     "start_time": "2023-02-06T08:53:22.400615",
     "status": "completed"
    },
    "tags": []
   },
   "outputs": [
    {
     "data": {
      "text/html": [
       "<div>\n",
       "<style scoped>\n",
       "    .dataframe tbody tr th:only-of-type {\n",
       "        vertical-align: middle;\n",
       "    }\n",
       "\n",
       "    .dataframe tbody tr th {\n",
       "        vertical-align: top;\n",
       "    }\n",
       "\n",
       "    .dataframe thead th {\n",
       "        text-align: right;\n",
       "    }\n",
       "</style>\n",
       "<table border=\"1\" class=\"dataframe\">\n",
       "  <thead>\n",
       "    <tr style=\"text-align: right;\">\n",
       "      <th></th>\n",
       "      <th>id</th>\n",
       "      <th>title</th>\n",
       "      <th>description</th>\n",
       "      <th>channel</th>\n",
       "      <th>category</th>\n",
       "      <th>level</th>\n",
       "      <th>language</th>\n",
       "      <th>parent</th>\n",
       "      <th>has_content</th>\n",
       "    </tr>\n",
       "  </thead>\n",
       "  <tbody>\n",
       "    <tr>\n",
       "      <th>1</th>\n",
       "      <td>t_000095e03056</td>\n",
       "      <td>Unit 3.3 Enlargements and Similarities</td>\n",
       "      <td>NaN</td>\n",
       "      <td>b3f329</td>\n",
       "      <td>aligned</td>\n",
       "      <td>2</td>\n",
       "      <td>en</td>\n",
       "      <td>t_aa32fb6252dc</td>\n",
       "      <td>False</td>\n",
       "    </tr>\n",
       "    <tr>\n",
       "      <th>5</th>\n",
       "      <td>t_0008768bdee6</td>\n",
       "      <td>100 સુધીનો સરવાળો</td>\n",
       "      <td>37 અને 49 જેવી બે-અંકની સંખ્યાઓ ઉમેરતા શીખો.</td>\n",
       "      <td>5223e0</td>\n",
       "      <td>supplemental</td>\n",
       "      <td>4</td>\n",
       "      <td>gu</td>\n",
       "      <td>t_0da7a331d666</td>\n",
       "      <td>True</td>\n",
       "    </tr>\n",
       "    <tr>\n",
       "      <th>6</th>\n",
       "      <td>t_0008a1bd84ba</td>\n",
       "      <td>12. 20: Bird Reproduction</td>\n",
       "      <td>NaN</td>\n",
       "      <td>ebc86c</td>\n",
       "      <td>supplemental</td>\n",
       "      <td>5</td>\n",
       "      <td>en</td>\n",
       "      <td>t_c44ac9711007</td>\n",
       "      <td>True</td>\n",
       "    </tr>\n",
       "    <tr>\n",
       "      <th>8</th>\n",
       "      <td>t_000d1fb3f2f5</td>\n",
       "      <td>2.1.2 - Logarithms</td>\n",
       "      <td>NaN</td>\n",
       "      <td>e77b55</td>\n",
       "      <td>aligned</td>\n",
       "      <td>5</td>\n",
       "      <td>en</td>\n",
       "      <td>t_b897d168db90</td>\n",
       "      <td>True</td>\n",
       "    </tr>\n",
       "    <tr>\n",
       "      <th>10</th>\n",
       "      <td>t_00102869fbcb</td>\n",
       "      <td>Triangles and polygons</td>\n",
       "      <td>Learning outcomes: students must be able to so...</td>\n",
       "      <td>a91e32</td>\n",
       "      <td>aligned</td>\n",
       "      <td>3</td>\n",
       "      <td>en</td>\n",
       "      <td>t_039cecc12bb8</td>\n",
       "      <td>True</td>\n",
       "    </tr>\n",
       "    <tr>\n",
       "      <th>...</th>\n",
       "      <td>...</td>\n",
       "      <td>...</td>\n",
       "      <td>...</td>\n",
       "      <td>...</td>\n",
       "      <td>...</td>\n",
       "      <td>...</td>\n",
       "      <td>...</td>\n",
       "      <td>...</td>\n",
       "      <td>...</td>\n",
       "    </tr>\n",
       "    <tr>\n",
       "      <th>76964</th>\n",
       "      <td>t_fff80f4eee89</td>\n",
       "      <td>Polynomial division</td>\n",
       "      <td>After we have added, subtracted, and multiplie...</td>\n",
       "      <td>6b09a4</td>\n",
       "      <td>supplemental</td>\n",
       "      <td>5</td>\n",
       "      <td>en</td>\n",
       "      <td>t_e93f4fad3893</td>\n",
       "      <td>False</td>\n",
       "    </tr>\n",
       "    <tr>\n",
       "      <th>76966</th>\n",
       "      <td>t_fff9e5407d13</td>\n",
       "      <td>NA_U06 - El periódico</td>\n",
       "      <td>NaN</td>\n",
       "      <td>71fd51</td>\n",
       "      <td>supplemental</td>\n",
       "      <td>2</td>\n",
       "      <td>es</td>\n",
       "      <td>t_5bd8f6ae9f7d</td>\n",
       "      <td>True</td>\n",
       "    </tr>\n",
       "    <tr>\n",
       "      <th>76967</th>\n",
       "      <td>t_fffb0bf2801d</td>\n",
       "      <td>4.3 Graph of functions</td>\n",
       "      <td>NaN</td>\n",
       "      <td>e77b55</td>\n",
       "      <td>aligned</td>\n",
       "      <td>4</td>\n",
       "      <td>en</td>\n",
       "      <td>t_676e6a1a4dc7</td>\n",
       "      <td>False</td>\n",
       "    </tr>\n",
       "    <tr>\n",
       "      <th>76969</th>\n",
       "      <td>t_fffe14f1be1e</td>\n",
       "      <td>Lección 7</td>\n",
       "      <td>NaN</td>\n",
       "      <td>6e90a7</td>\n",
       "      <td>aligned</td>\n",
       "      <td>6</td>\n",
       "      <td>es</td>\n",
       "      <td>t_d448c707984d</td>\n",
       "      <td>True</td>\n",
       "    </tr>\n",
       "    <tr>\n",
       "      <th>76971</th>\n",
       "      <td>t_fffe88835149</td>\n",
       "      <td>Formation of shadows and eclipses (umbra and p...</td>\n",
       "      <td>NaN</td>\n",
       "      <td>c7ca13</td>\n",
       "      <td>aligned</td>\n",
       "      <td>4</td>\n",
       "      <td>en</td>\n",
       "      <td>t_988923176459</td>\n",
       "      <td>False</td>\n",
       "    </tr>\n",
       "  </tbody>\n",
       "</table>\n",
       "<p>33485 rows × 9 columns</p>\n",
       "</div>"
      ],
      "text/plain": [
       "                   id                                              title  \\\n",
       "1      t_000095e03056             Unit 3.3 Enlargements and Similarities   \n",
       "5      t_0008768bdee6                                  100 સુધીનો સરવાળો   \n",
       "6      t_0008a1bd84ba                          12. 20: Bird Reproduction   \n",
       "8      t_000d1fb3f2f5                                 2.1.2 - Logarithms   \n",
       "10     t_00102869fbcb                             Triangles and polygons   \n",
       "...               ...                                                ...   \n",
       "76964  t_fff80f4eee89                                Polynomial division   \n",
       "76966  t_fff9e5407d13                              NA_U06 - El periódico   \n",
       "76967  t_fffb0bf2801d                             4.3 Graph of functions   \n",
       "76969  t_fffe14f1be1e                                          Lección 7   \n",
       "76971  t_fffe88835149  Formation of shadows and eclipses (umbra and p...   \n",
       "\n",
       "                                             description channel  \\\n",
       "1                                                    NaN  b3f329   \n",
       "5           37 અને 49 જેવી બે-અંકની સંખ્યાઓ ઉમેરતા શીખો.  5223e0   \n",
       "6                                                    NaN  ebc86c   \n",
       "8                                                    NaN  e77b55   \n",
       "10     Learning outcomes: students must be able to so...  a91e32   \n",
       "...                                                  ...     ...   \n",
       "76964  After we have added, subtracted, and multiplie...  6b09a4   \n",
       "76966                                                NaN  71fd51   \n",
       "76967                                                NaN  e77b55   \n",
       "76969                                                NaN  6e90a7   \n",
       "76971                                                NaN  c7ca13   \n",
       "\n",
       "           category  level language          parent  has_content  \n",
       "1           aligned      2       en  t_aa32fb6252dc        False  \n",
       "5      supplemental      4       gu  t_0da7a331d666         True  \n",
       "6      supplemental      5       en  t_c44ac9711007         True  \n",
       "8           aligned      5       en  t_b897d168db90         True  \n",
       "10          aligned      3       en  t_039cecc12bb8         True  \n",
       "...             ...    ...      ...             ...          ...  \n",
       "76964  supplemental      5       en  t_e93f4fad3893        False  \n",
       "76966  supplemental      2       es  t_5bd8f6ae9f7d         True  \n",
       "76967       aligned      4       en  t_676e6a1a4dc7        False  \n",
       "76969       aligned      6       es  t_d448c707984d         True  \n",
       "76971       aligned      4       en  t_988923176459        False  \n",
       "\n",
       "[33485 rows x 9 columns]"
      ]
     },
     "execution_count": 8,
     "metadata": {},
     "output_type": "execute_result"
    }
   ],
   "source": [
    "df_valid_candidate"
   ]
  },
  {
   "cell_type": "code",
   "execution_count": 9,
   "id": "16ab27fc",
   "metadata": {
    "execution": {
     "iopub.execute_input": "2023-02-06T08:53:22.443349Z",
     "iopub.status.busy": "2023-02-06T08:53:22.442982Z",
     "iopub.status.idle": "2023-02-06T08:53:22.449963Z",
     "shell.execute_reply": "2023-02-06T08:53:22.448896Z"
    },
    "papermill": {
     "duration": 0.015746,
     "end_time": "2023-02-06T08:53:22.452159",
     "exception": false,
     "start_time": "2023-02-06T08:53:22.436413",
     "status": "completed"
    },
    "tags": []
   },
   "outputs": [
    {
     "data": {
      "text/plain": [
       "sklearn.model_selection._split.StratifiedGroupKFold"
      ]
     },
     "execution_count": 9,
     "metadata": {},
     "output_type": "execute_result"
    }
   ],
   "source": [
    "StratifiedGroupKFold"
   ]
  },
  {
   "cell_type": "markdown",
   "id": "4fa8ebb7",
   "metadata": {
    "papermill": {
     "duration": 0.00534,
     "end_time": "2023-02-06T08:53:22.463270",
     "exception": false,
     "start_time": "2023-02-06T08:53:22.457930",
     "status": "completed"
    },
    "tags": []
   },
   "source": [
    "## Content"
   ]
  },
  {
   "cell_type": "markdown",
   "id": "c2fab3a0",
   "metadata": {
    "papermill": {
     "duration": 0.005286,
     "end_time": "2023-02-06T08:53:22.474039",
     "exception": false,
     "start_time": "2023-02-06T08:53:22.468753",
     "status": "completed"
    },
    "tags": []
   },
   "source": [
    "Content 会存在少数title为空的row，训练集中9条暂时不用管"
   ]
  },
  {
   "cell_type": "code",
   "execution_count": null,
   "id": "b7690e13",
   "metadata": {
    "papermill": {
     "duration": 0.005266,
     "end_time": "2023-02-06T08:53:22.484840",
     "exception": false,
     "start_time": "2023-02-06T08:53:22.479574",
     "status": "completed"
    },
    "tags": []
   },
   "outputs": [],
   "source": []
  }
 ],
 "metadata": {
  "kernelspec": {
   "display_name": "Python 3",
   "language": "python",
   "name": "python3"
  },
  "language_info": {
   "codemirror_mode": {
    "name": "ipython",
    "version": 3
   },
   "file_extension": ".py",
   "mimetype": "text/x-python",
   "name": "python",
   "nbconvert_exporter": "python",
   "pygments_lexer": "ipython3",
   "version": "3.7.12"
  },
  "papermill": {
   "default_parameters": {},
   "duration": 34.150612,
   "end_time": "2023-02-06T08:53:23.312583",
   "environment_variables": {},
   "exception": null,
   "input_path": "__notebook__.ipynb",
   "output_path": "__notebook__.ipynb",
   "parameters": {},
   "start_time": "2023-02-06T08:52:49.161971",
   "version": "2.3.4"
  }
 },
 "nbformat": 4,
 "nbformat_minor": 5
}
