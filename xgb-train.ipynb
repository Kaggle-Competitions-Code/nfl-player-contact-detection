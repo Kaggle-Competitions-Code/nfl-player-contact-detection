{
 "cells": [
  {
   "cell_type": "code",
   "execution_count": 1,
   "id": "086ef0e9",
   "metadata": {
    "_cell_guid": "b1076dfc-b9ad-4769-8c92-a6c4dae69d19",
    "_uuid": "8f2839f25d086af736a60e9eeb907d3b93b6e0e5",
    "execution": {
     "iopub.execute_input": "2023-01-22T11:35:18.825986Z",
     "iopub.status.busy": "2023-01-22T11:35:18.825538Z",
     "iopub.status.idle": "2023-01-22T11:35:20.067172Z",
     "shell.execute_reply": "2023-01-22T11:35:20.066125Z"
    },
    "papermill": {
     "duration": 1.253423,
     "end_time": "2023-01-22T11:35:20.070070",
     "exception": false,
     "start_time": "2023-01-22T11:35:18.816647",
     "status": "completed"
    },
    "tags": []
   },
   "outputs": [],
   "source": [
    "import os\n",
    "import gc\n",
    "from glob import glob\n",
    "import joblib\n",
    "import pandas as pd\n",
    "import numpy as np\n",
    "import xgboost as xgb\n",
    "from sklearn.model_selection import GroupKFold\n",
    "from sklearn.metrics import roc_auc_score, matthews_corrcoef\n",
    "from scipy.optimize import minimize\n",
    "from IPython.display import display"
   ]
  },
  {
   "cell_type": "code",
   "execution_count": 2,
   "id": "ff079004",
   "metadata": {
    "execution": {
     "iopub.execute_input": "2023-01-22T11:35:20.083168Z",
     "iopub.status.busy": "2023-01-22T11:35:20.082767Z",
     "iopub.status.idle": "2023-01-22T11:35:21.197433Z",
     "shell.execute_reply": "2023-01-22T11:35:21.195967Z"
    },
    "papermill": {
     "duration": 1.124476,
     "end_time": "2023-01-22T11:35:21.200368",
     "exception": false,
     "start_time": "2023-01-22T11:35:20.075892",
     "status": "completed"
    },
    "tags": []
   },
   "outputs": [
    {
     "name": "stdout",
     "output_type": "stream",
     "text": [
      "train_all_feats.csv  train_p2p_feats.csv  valid_p2p_feats.csv\r\n",
      "train_feats.csv      valid_all_feats.csv\r\n",
      "train_p2g_feats.csv  valid_p2g_feats.csv\r\n"
     ]
    }
   ],
   "source": [
    "!ls /kaggle/input/nfl-feats-tab/"
   ]
  },
  {
   "cell_type": "code",
   "execution_count": 3,
   "id": "9da1bc85",
   "metadata": {
    "execution": {
     "iopub.execute_input": "2023-01-22T11:35:21.214571Z",
     "iopub.status.busy": "2023-01-22T11:35:21.213280Z",
     "iopub.status.idle": "2023-01-22T11:35:23.382656Z",
     "shell.execute_reply": "2023-01-22T11:35:23.381029Z"
    },
    "papermill": {
     "duration": 2.179372,
     "end_time": "2023-01-22T11:35:23.385452",
     "exception": false,
     "start_time": "2023-01-22T11:35:21.206080",
     "status": "completed"
    },
    "tags": []
   },
   "outputs": [],
   "source": [
    "!mkdir model\n",
    "!mkdir preds"
   ]
  },
  {
   "cell_type": "code",
   "execution_count": 4,
   "id": "3bf7098b",
   "metadata": {
    "execution": {
     "iopub.execute_input": "2023-01-22T11:35:23.399629Z",
     "iopub.status.busy": "2023-01-22T11:35:23.399168Z",
     "iopub.status.idle": "2023-01-22T11:35:53.910349Z",
     "shell.execute_reply": "2023-01-22T11:35:53.908773Z"
    },
    "papermill": {
     "duration": 30.523322,
     "end_time": "2023-01-22T11:35:53.914422",
     "exception": false,
     "start_time": "2023-01-22T11:35:23.391100",
     "status": "completed"
    },
    "tags": []
   },
   "outputs": [],
   "source": [
    "class CFG:\n",
    "    name = 'yy'\n",
    "    suffix = 'default_kfold_test'\n",
    "    \n",
    "    input_dir = '/kaggle/input/nfl-player-contact-detection'\n",
    "    split_dir = '/kaggle/input/nfl-split'\n",
    "    feats_dir = '/kaggle/input/nfl-feats-tab'\n",
    "    \n",
    "    working_dir = '/kaggle/working'\n",
    "    \n",
    "    model_dir = os.path.join(working_dir, 'model')\n",
    "    preds_dir = os.path.join(working_dir, 'preds')\n",
    "    \n",
    "    num_folds = 5\n",
    "    \n",
    "    xgb_params = {\n",
    "        'objective': 'binary:logistic',\n",
    "        'eval_metric': 'auc',\n",
    "        'learning_rate':0.03,\n",
    "        'tree_method':'hist'\n",
    "    }\n",
    "    \n",
    "    \n",
    "    # --------------------- FIXED --------------------- #\n",
    "    train_labels_dir = os.path.join(input_dir, 'train_labels.csv')\n",
    "    train_tracking_dir = os.path.join(input_dir, 'train_player_tracking.csv')\n",
    "    test_sub_dir = os.path.join(input_dir, 'sample_submission.csv')\n",
    "    test_tracking_dir = os.path.join(input_dir, 'test_player_tracking.csv')\n",
    "    \n",
    "    ## feats\n",
    "    train_all_feats = os.path.join(feats_dir, 'train_feats.csv')\n",
    "    train_feats_all = os.path.join(feats_dir, 'train_all_feats.csv')\n",
    "    train_feats_p2p = os.path.join(feats_dir, 'train_feats_p2p.csv')\n",
    "    train_feats_p2g = os.path.join(feats_dir, 'train_feats_p2g.csv')\n",
    "    valid_feats_all = os.path.join(feats_dir, 'valid_all_feats.csv')\n",
    "    valid_feats_p2p = os.path.join(feats_dir, 'valid_feats_p2p.csv')\n",
    "    valid_feats_p2g = os.path.join(feats_dir, 'valid_feats_p2g.csv')\n",
    "    \n",
    "    feats_dict = {\n",
    "        'train': train_all_feats,\n",
    "        'train_all': train_feats_all,\n",
    "        'train_p2p': train_feats_p2p,\n",
    "        'train_p2g': train_feats_p2g,\n",
    "        'valid_all': valid_feats_all,\n",
    "        'valid_p2p': valid_feats_p2p,\n",
    "        'valid_p2g': valid_feats_p2g\n",
    "    }\n",
    "    \n",
    "    \n",
    "    # --------------------- SPECIFY ----------------------- #\n",
    "    default_feats = feats_dict['train']\n",
    "    \n",
    "    def expand_contact_id(df):\n",
    "        df['game_play'] = df['contact_id'].str[:12]\n",
    "        df['game'] = df['contact_id'].apply(lambda s: s.split('_')[0])\n",
    "        df['play'] = df['contact_id'].apply(lambda s: s.split('_')[1])\n",
    "        df['step'] = df['contact_id'].apply(lambda s: s.split('_')[2]).astype(int)\n",
    "        df['nfl_player_id_1'] = df['contact_id'].apply(lambda s: s.split('_')[-2])\n",
    "        df['nfl_player_id_2'] = df['contact_id'].apply(lambda s: s.split('_')[-1])\n",
    "        return df\n",
    "    \n",
    "    def get_groupkfold(train, n_splits):\n",
    "        kf = GroupKFold(n_splits=n_splits)\n",
    "        generator = kf.split(train, train['contact'], train['contact_id'].str[:5], )\n",
    "        fold_series = []\n",
    "        for fold, (idx_train, idx_valid) in enumerate(generator):\n",
    "            fold_series.append(pd.Series(fold, index=idx_valid))\n",
    "        fold_series = pd.concat(fold_series).sort_index()\n",
    "        return fold_series\n",
    "    \n",
    "    \n",
    "    def fit_xgboost(X_train, y_train, X_valid, y_valid, xgb_params):\n",
    "        xgb_train = xgb.DMatrix(X_train, y_train)\n",
    "        xgb_valid = xgb.DMatrix(X_valid, y_valid)\n",
    "        display(pd.Series(y_valid).value_counts())\n",
    "        evals = [(xgb_train, 'train'), (xgb_valid, 'valid')]\n",
    "\n",
    "        model = xgb.train(\n",
    "            xgb_params, \n",
    "            xgb_train,\n",
    "            num_boost_round=10_000,\n",
    "            early_stopping_rounds=100,\n",
    "            evals=evals,\n",
    "            verbose_eval=100,\n",
    "        )\n",
    "        return model\n",
    "    \n",
    "    def fit_xgboost_kfold(X, y, xgb_params, name='', suffix=''):\n",
    "        oof_pred = np.zeros(len(y), dtype=np.float32)\n",
    "        for fold in sorted(CFG.folds.unique()):\n",
    "            if fold == -1: continue\n",
    "            idx_train = (CFG.folds!=fold)\n",
    "            idx_valid = (CFG.folds==fold)\n",
    "            x_train, y_train = X[idx_train], y[idx_train]\n",
    "            x_valid, y_valid = X[idx_valid], y[idx_valid]\n",
    "            print(f\"Fold -- {fold} -- \")\n",
    "            model = CFG.fit_xgboost(x_train, y_train, x_valid, y_valid, xgb_params)\n",
    "            model_path = os.path.join(CFG.model_dir, f'xgb_fold_{fold}_{name}_{suffix}.joblib')\n",
    "            joblib.dump(model, model_path)\n",
    "            pred_i = model.predict(xgb.DMatrix(x_valid, y_valid))\n",
    "\n",
    "            oof_pred[x_valid.index] = pred_i\n",
    "            score = round(roc_auc_score(y_valid, pred_i), 5)\n",
    "            print(f'Performance of the prediction: {score}\\n')\n",
    "            del model; gc.collect()\n",
    "\n",
    "        np.save(os.path.join(CFG.preds_dir, f'oof_pred{name}{suffix}'), oof_pred)\n",
    "        score = round(roc_auc_score(y, oof_pred), 5)\n",
    "        print(f'All Performance of the prediction: {score}')\n",
    "        return oof_pred\n",
    "    \n",
    "    folds = get_groupkfold(pd.read_csv(default_feats, index_col=0), num_folds)"
   ]
  },
  {
   "cell_type": "code",
   "execution_count": 5,
   "id": "ba9b112e",
   "metadata": {
    "execution": {
     "iopub.execute_input": "2023-01-22T11:35:53.934154Z",
     "iopub.status.busy": "2023-01-22T11:35:53.932880Z",
     "iopub.status.idle": "2023-01-22T11:35:53.939970Z",
     "shell.execute_reply": "2023-01-22T11:35:53.939020Z"
    },
    "papermill": {
     "duration": 0.019441,
     "end_time": "2023-01-22T11:35:53.942910",
     "exception": false,
     "start_time": "2023-01-22T11:35:53.923469",
     "status": "completed"
    },
    "tags": []
   },
   "outputs": [],
   "source": [
    "CFG.default_feats = CFG.feats_dict['train']"
   ]
  },
  {
   "cell_type": "code",
   "execution_count": 6,
   "id": "a27b0ace",
   "metadata": {
    "execution": {
     "iopub.execute_input": "2023-01-22T11:35:53.960031Z",
     "iopub.status.busy": "2023-01-22T11:35:53.959077Z",
     "iopub.status.idle": "2023-01-22T11:36:09.738680Z",
     "shell.execute_reply": "2023-01-22T11:36:09.737786Z"
    },
    "papermill": {
     "duration": 15.790315,
     "end_time": "2023-01-22T11:36:09.741258",
     "exception": false,
     "start_time": "2023-01-22T11:35:53.950943",
     "status": "completed"
    },
    "tags": []
   },
   "outputs": [],
   "source": [
    "df = pd.read_csv(CFG.default_feats, index_col=0)\n",
    "X = df.drop(columns=['contact_id', 'contact'])\n",
    "y = df['contact']"
   ]
  },
  {
   "cell_type": "code",
   "execution_count": 7,
   "id": "ea7aa154",
   "metadata": {
    "execution": {
     "iopub.execute_input": "2023-01-22T11:36:09.754910Z",
     "iopub.status.busy": "2023-01-22T11:36:09.754194Z",
     "iopub.status.idle": "2023-01-22T11:36:09.813936Z",
     "shell.execute_reply": "2023-01-22T11:36:09.813014Z"
    },
    "papermill": {
     "duration": 0.069443,
     "end_time": "2023-01-22T11:36:09.816430",
     "exception": false,
     "start_time": "2023-01-22T11:36:09.746987",
     "status": "completed"
    },
    "tags": []
   },
   "outputs": [
    {
     "data": {
      "text/plain": [
       "3    948750\n",
       "0    945714\n",
       "2    945593\n",
       "1    945461\n",
       "4    936100\n",
       "dtype: int64"
      ]
     },
     "execution_count": 7,
     "metadata": {},
     "output_type": "execute_result"
    }
   ],
   "source": [
    "CFG.folds.value_counts()"
   ]
  },
  {
   "cell_type": "code",
   "execution_count": 8,
   "id": "f6e67517",
   "metadata": {
    "execution": {
     "iopub.execute_input": "2023-01-22T11:36:09.830185Z",
     "iopub.status.busy": "2023-01-22T11:36:09.829743Z",
     "iopub.status.idle": "2023-01-22T11:36:09.840913Z",
     "shell.execute_reply": "2023-01-22T11:36:09.839576Z"
    },
    "papermill": {
     "duration": 0.021069,
     "end_time": "2023-01-22T11:36:09.843454",
     "exception": false,
     "start_time": "2023-01-22T11:36:09.822385",
     "status": "completed"
    },
    "tags": []
   },
   "outputs": [],
   "source": [
    "def fit_xgboost_kfold(X, y, xgb_params, name='', suffix=''):\n",
    "    oof_pred = np.zeros(len(y), dtype=np.float32)\n",
    "    for fold in sorted(CFG.folds.unique()):\n",
    "        if fold == -1: continue\n",
    "        idx_train = (CFG.folds!=fold)\n",
    "        idx_valid = (CFG.folds==fold)\n",
    "        x_train, y_train = X[idx_train], y[idx_train]\n",
    "        x_valid, y_valid = X[idx_valid], y[idx_valid]\n",
    "        print(f\"Fold -- {fold} -- \")\n",
    "        model = CFG.fit_xgboost(x_train, y_train, x_valid, y_valid, xgb_params)\n",
    "        model_path = os.path.join(CFG.model_dir, f'xgb_fold_{fold}_{name}_{suffix}.joblib')\n",
    "        joblib.dump(model, model_path)\n",
    "        pred_i = model.predict(xgb.DMatrix(x_valid, y_valid))\n",
    "        \n",
    "        oof_pred[x_valid.index] = pred_i\n",
    "        score = round(roc_auc_score(y_valid, pred_i), 5)\n",
    "        print(f'Performance of the prediction: {score}\\n')\n",
    "        del model; gc.collect()\n",
    "\n",
    "    np.save(os.path.join(CFG.preds_dir, f'oof_pred{name}{suffix}'), oof_pred)\n",
    "    score = round(roc_auc_score(y, oof_pred), 5)\n",
    "    print(f'All Performance of the prediction: {score}')\n",
    "    return oof_pred"
   ]
  },
  {
   "cell_type": "code",
   "execution_count": 9,
   "id": "0e02f89a",
   "metadata": {
    "execution": {
     "iopub.execute_input": "2023-01-22T11:36:09.859774Z",
     "iopub.status.busy": "2023-01-22T11:36:09.859342Z",
     "iopub.status.idle": "2023-01-22T12:22:07.396473Z",
     "shell.execute_reply": "2023-01-22T12:22:07.394982Z"
    },
    "papermill": {
     "duration": 2757.546805,
     "end_time": "2023-01-22T12:22:07.399095",
     "exception": false,
     "start_time": "2023-01-22T11:36:09.852290",
     "status": "completed"
    },
    "tags": []
   },
   "outputs": [
    {
     "name": "stdout",
     "output_type": "stream",
     "text": [
      "Fold -- 0 -- \n"
     ]
    },
    {
     "data": {
      "text/plain": [
       "0    933661\n",
       "1     12053\n",
       "Name: contact, dtype: int64"
      ]
     },
     "metadata": {},
     "output_type": "display_data"
    },
    {
     "name": "stdout",
     "output_type": "stream",
     "text": [
      "[0]\ttrain-auc:0.98333\tvalid-auc:0.98611\n",
      "[100]\ttrain-auc:0.98821\tvalid-auc:0.98979\n",
      "[200]\ttrain-auc:0.98976\tvalid-auc:0.99028\n",
      "[300]\ttrain-auc:0.99060\tvalid-auc:0.99061\n",
      "[400]\ttrain-auc:0.99136\tvalid-auc:0.99095\n",
      "[500]\ttrain-auc:0.99225\tvalid-auc:0.99118\n",
      "[600]\ttrain-auc:0.99285\tvalid-auc:0.99121\n",
      "[657]\ttrain-auc:0.99315\tvalid-auc:0.99118\n",
      "Performance of the prediction: 0.99118\n",
      "\n",
      "Fold -- 1 -- \n"
     ]
    },
    {
     "data": {
      "text/plain": [
       "0    931485\n",
       "1     13976\n",
       "Name: contact, dtype: int64"
      ]
     },
     "metadata": {},
     "output_type": "display_data"
    },
    {
     "name": "stdout",
     "output_type": "stream",
     "text": [
      "[0]\ttrain-auc:0.98288\tvalid-auc:0.98163\n",
      "[100]\ttrain-auc:0.98871\tvalid-auc:0.98729\n",
      "[200]\ttrain-auc:0.99035\tvalid-auc:0.98788\n",
      "[300]\ttrain-auc:0.99110\tvalid-auc:0.98809\n",
      "[400]\ttrain-auc:0.99174\tvalid-auc:0.98828\n",
      "[500]\ttrain-auc:0.99256\tvalid-auc:0.98851\n",
      "[600]\ttrain-auc:0.99322\tvalid-auc:0.98863\n",
      "[700]\ttrain-auc:0.99365\tvalid-auc:0.98866\n",
      "[800]\ttrain-auc:0.99407\tvalid-auc:0.98870\n",
      "[900]\ttrain-auc:0.99441\tvalid-auc:0.98869\n",
      "[932]\ttrain-auc:0.99450\tvalid-auc:0.98868\n",
      "Performance of the prediction: 0.98869\n",
      "\n",
      "Fold -- 2 -- \n"
     ]
    },
    {
     "data": {
      "text/plain": [
       "0    934228\n",
       "1     11365\n",
       "Name: contact, dtype: int64"
      ]
     },
     "metadata": {},
     "output_type": "display_data"
    },
    {
     "name": "stdout",
     "output_type": "stream",
     "text": [
      "[0]\ttrain-auc:0.98228\tvalid-auc:0.98587\n",
      "[100]\ttrain-auc:0.98821\tvalid-auc:0.99004\n",
      "[200]\ttrain-auc:0.98974\tvalid-auc:0.99063\n",
      "[300]\ttrain-auc:0.99060\tvalid-auc:0.99086\n",
      "[400]\ttrain-auc:0.99128\tvalid-auc:0.99110\n",
      "[500]\ttrain-auc:0.99216\tvalid-auc:0.99131\n",
      "[600]\ttrain-auc:0.99273\tvalid-auc:0.99140\n",
      "[700]\ttrain-auc:0.99327\tvalid-auc:0.99150\n",
      "[800]\ttrain-auc:0.99367\tvalid-auc:0.99148\n",
      "[844]\ttrain-auc:0.99383\tvalid-auc:0.99148\n",
      "Performance of the prediction: 0.99148\n",
      "\n",
      "Fold -- 3 -- \n"
     ]
    },
    {
     "data": {
      "text/plain": [
       "0    932929\n",
       "1     15821\n",
       "Name: contact, dtype: int64"
      ]
     },
     "metadata": {},
     "output_type": "display_data"
    },
    {
     "name": "stdout",
     "output_type": "stream",
     "text": [
      "[0]\ttrain-auc:0.98502\tvalid-auc:0.97934\n",
      "[100]\ttrain-auc:0.98942\tvalid-auc:0.98465\n",
      "[200]\ttrain-auc:0.99083\tvalid-auc:0.98527\n",
      "[300]\ttrain-auc:0.99173\tvalid-auc:0.98569\n",
      "[400]\ttrain-auc:0.99234\tvalid-auc:0.98583\n",
      "[500]\ttrain-auc:0.99314\tvalid-auc:0.98596\n",
      "[600]\ttrain-auc:0.99370\tvalid-auc:0.98599\n",
      "[700]\ttrain-auc:0.99414\tvalid-auc:0.98605\n",
      "[800]\ttrain-auc:0.99450\tvalid-auc:0.98590\n",
      "[824]\ttrain-auc:0.99456\tvalid-auc:0.98589\n",
      "Performance of the prediction: 0.98589\n",
      "\n",
      "Fold -- 4 -- \n"
     ]
    },
    {
     "data": {
      "text/plain": [
       "0    924793\n",
       "1     11307\n",
       "Name: contact, dtype: int64"
      ]
     },
     "metadata": {},
     "output_type": "display_data"
    },
    {
     "name": "stdout",
     "output_type": "stream",
     "text": [
      "[0]\ttrain-auc:0.98338\tvalid-auc:0.98035\n",
      "[100]\ttrain-auc:0.98890\tvalid-auc:0.98668\n",
      "[200]\ttrain-auc:0.99005\tvalid-auc:0.98744\n",
      "[300]\ttrain-auc:0.99077\tvalid-auc:0.98806\n",
      "[400]\ttrain-auc:0.99150\tvalid-auc:0.98827\n",
      "[500]\ttrain-auc:0.99239\tvalid-auc:0.98816\n",
      "[563]\ttrain-auc:0.99282\tvalid-auc:0.98783\n",
      "Performance of the prediction: 0.98783\n",
      "\n",
      "All Performance of the prediction: 0.98901\n",
      "CPU times: user 2h 44min 11s, sys: 14.3 s, total: 2h 44min 26s\n",
      "Wall time: 45min 57s\n"
     ]
    }
   ],
   "source": [
    "%%time\n",
    "oof_pred = CFG.fit_xgboost_kfold(X, y, CFG.xgb_params, CFG.name, CFG.suffix)"
   ]
  },
  {
   "cell_type": "code",
   "execution_count": 10,
   "id": "75631765",
   "metadata": {
    "execution": {
     "iopub.execute_input": "2023-01-22T12:22:07.420091Z",
     "iopub.status.busy": "2023-01-22T12:22:07.419709Z",
     "iopub.status.idle": "2023-01-22T12:22:08.543124Z",
     "shell.execute_reply": "2023-01-22T12:22:08.541599Z"
    },
    "papermill": {
     "duration": 1.137007,
     "end_time": "2023-01-22T12:22:08.545728",
     "exception": false,
     "start_time": "2023-01-22T12:22:07.408721",
     "status": "completed"
    },
    "tags": []
   },
   "outputs": [
    {
     "name": "stdout",
     "output_type": "stream",
     "text": [
      "xgb_fold_0_yy_default_kfold_test.joblib\r\n",
      "xgb_fold_1_yy_default_kfold_test.joblib\r\n",
      "xgb_fold_2_yy_default_kfold_test.joblib\r\n",
      "xgb_fold_3_yy_default_kfold_test.joblib\r\n",
      "xgb_fold_4_yy_default_kfold_test.joblib\r\n"
     ]
    }
   ],
   "source": [
    "!ls model/"
   ]
  },
  {
   "cell_type": "markdown",
   "id": "50814f1e",
   "metadata": {
    "papermill": {
     "duration": 0.010011,
     "end_time": "2023-01-22T12:22:08.565423",
     "exception": false,
     "start_time": "2023-01-22T12:22:08.555412",
     "status": "completed"
    },
    "tags": []
   },
   "source": [
    "## Optimize"
   ]
  },
  {
   "cell_type": "code",
   "execution_count": 11,
   "id": "cb8c20f9",
   "metadata": {
    "execution": {
     "iopub.execute_input": "2023-01-22T12:22:08.586765Z",
     "iopub.status.busy": "2023-01-22T12:22:08.586361Z",
     "iopub.status.idle": "2023-01-22T12:23:06.017108Z",
     "shell.execute_reply": "2023-01-22T12:23:06.015863Z"
    },
    "papermill": {
     "duration": 57.454033,
     "end_time": "2023-01-22T12:23:06.028954",
     "exception": false,
     "start_time": "2023-01-22T12:22:08.574921",
     "status": "completed"
    },
    "tags": []
   },
   "outputs": [
    {
     "name": "stdout",
     "output_type": "stream",
     "text": [
      "score: 0.58343\n",
      "threshold 0.29844\n"
     ]
    }
   ],
   "source": [
    "def func(x_list):\n",
    "    score = matthews_corrcoef(df['contact'], oof_pred>x_list[0])\n",
    "    return -score\n",
    "\n",
    "x0 = [0.5]\n",
    "result = minimize(func, x0,  method=\"nelder-mead\")\n",
    "CFG.threshold = result.x[0]\n",
    "print(\"score:\", round(matthews_corrcoef(df['contact'], oof_pred>CFG.threshold), 5))\n",
    "print(\"threshold\", round(CFG.threshold, 5))"
   ]
  },
  {
   "cell_type": "code",
   "execution_count": 12,
   "id": "1ce5f124",
   "metadata": {
    "execution": {
     "iopub.execute_input": "2023-01-22T12:23:06.050745Z",
     "iopub.status.busy": "2023-01-22T12:23:06.050362Z",
     "iopub.status.idle": "2023-01-22T12:23:06.058159Z",
     "shell.execute_reply": "2023-01-22T12:23:06.056978Z"
    },
    "papermill": {
     "duration": 0.022,
     "end_time": "2023-01-22T12:23:06.060798",
     "exception": false,
     "start_time": "2023-01-22T12:23:06.038798",
     "status": "completed"
    },
    "tags": []
   },
   "outputs": [
    {
     "data": {
      "text/plain": [
       "0.2984374999999998"
      ]
     },
     "execution_count": 12,
     "metadata": {},
     "output_type": "execute_result"
    }
   ],
   "source": [
    "CFG.threshold"
   ]
  },
  {
   "cell_type": "markdown",
   "id": "bdc7f8e6",
   "metadata": {
    "papermill": {
     "duration": 0.009698,
     "end_time": "2023-01-22T12:23:06.080828",
     "exception": false,
     "start_time": "2023-01-22T12:23:06.071130",
     "status": "completed"
    },
    "tags": []
   },
   "source": [
    "## Pred"
   ]
  },
  {
   "cell_type": "code",
   "execution_count": 13,
   "id": "6784c9f8",
   "metadata": {
    "execution": {
     "iopub.execute_input": "2023-01-22T12:23:06.102920Z",
     "iopub.status.busy": "2023-01-22T12:23:06.102197Z",
     "iopub.status.idle": "2023-01-22T12:23:06.109186Z",
     "shell.execute_reply": "2023-01-22T12:23:06.108080Z"
    },
    "papermill": {
     "duration": 0.020906,
     "end_time": "2023-01-22T12:23:06.111605",
     "exception": false,
     "start_time": "2023-01-22T12:23:06.090699",
     "status": "completed"
    },
    "tags": []
   },
   "outputs": [],
   "source": [
    "def pred_xgboost(X, data_dir, add_suffix=''):\n",
    "    models = glob(os.path.join(data_dir, f'xgb_fold*{add_suffix}.joblib'))\n",
    "    print(models)\n",
    "    models = [joblib.load(model) for model in models]\n",
    "    X_Dmatrix = xgb.DMatrix(X)\n",
    "    preds = np.array([model.predict(X_Dmatrix) for model in models])\n",
    "    preds = np.mean(preds, axis=0)\n",
    "    return preds"
   ]
  },
  {
   "cell_type": "code",
   "execution_count": 14,
   "id": "23586758",
   "metadata": {
    "execution": {
     "iopub.execute_input": "2023-01-22T12:23:06.133904Z",
     "iopub.status.busy": "2023-01-22T12:23:06.133488Z",
     "iopub.status.idle": "2023-01-22T12:23:06.144788Z",
     "shell.execute_reply": "2023-01-22T12:23:06.143867Z"
    },
    "papermill": {
     "duration": 0.025165,
     "end_time": "2023-01-22T12:23:06.147213",
     "exception": false,
     "start_time": "2023-01-22T12:23:06.122048",
     "status": "completed"
    },
    "tags": []
   },
   "outputs": [],
   "source": [
    "def create_features(df_label, df_tracking, cols, merge_col=\"step\"):\n",
    "    df_combo = (\n",
    "        df_label.astype({\"nfl_player_id_1\": str, \"nfl_player_id_2\": str})\n",
    "        .merge(\n",
    "            df_tracking[[\"game_play\", merge_col, \"nfl_player_id\"] + cols]\n",
    "                .astype({\"nfl_player_id\": \"str\"}),\n",
    "            left_on=[\"game_play\", merge_col, \"nfl_player_id_1\"],\n",
    "            right_on=[\"game_play\", merge_col, \"nfl_player_id\"],\n",
    "            how=\"left\",)\n",
    "        .drop(columns=[\"nfl_player_id\"])\n",
    "        .merge(\n",
    "            df_tracking[[\"game_play\", merge_col, \"nfl_player_id\"] + cols]\n",
    "                .astype({\"nfl_player_id\": \"str\"}),\n",
    "            left_on=[\"game_play\", merge_col, \"nfl_player_id_2\"],\n",
    "            right_on=[\"game_play\", merge_col, \"nfl_player_id\"],\n",
    "            how=\"left\",\n",
    "            suffixes=['_1', '_2']\n",
    "        )\n",
    "        .drop(columns=[\"nfl_player_id\"])\n",
    "        .sort_values([\"game_play\", merge_col, \"nfl_player_id_1\", \"nfl_player_id_2\"])\n",
    "        .reset_index(drop=True)\n",
    "    )\n",
    "    df_combo['G_flag'] = (df_combo['nfl_player_id_2']=='G').astype(int)\n",
    "    \n",
    "    df_combo['distance_x'] = np.abs(df_combo['x_position_1']-df_combo['x_position_2'])\n",
    "    df_combo['distance_y'] = np.abs(df_combo['y_position_1']-df_combo['y_position_2'])\n",
    "    dist_pow = df_combo['distance_x']**2 + df_combo['distance_y']**2\n",
    "    df_combo['distance'] = np.sqrt(dist_pow)\n",
    "        \n",
    "    return df_combo"
   ]
  },
  {
   "cell_type": "code",
   "execution_count": 15,
   "id": "341e4813",
   "metadata": {
    "execution": {
     "iopub.execute_input": "2023-01-22T12:23:06.170481Z",
     "iopub.status.busy": "2023-01-22T12:23:06.169500Z",
     "iopub.status.idle": "2023-01-22T12:23:06.657207Z",
     "shell.execute_reply": "2023-01-22T12:23:06.656068Z"
    },
    "papermill": {
     "duration": 0.50198,
     "end_time": "2023-01-22T12:23:06.659741",
     "exception": false,
     "start_time": "2023-01-22T12:23:06.157761",
     "status": "completed"
    },
    "tags": []
   },
   "outputs": [],
   "source": [
    "test_labels = CFG.expand_contact_id(pd.read_csv(CFG.test_sub_dir))\n",
    "test_tracking = pd.read_csv(CFG.test_tracking_dir)\n",
    "# test_helmets = pd.read_csv(\"/kaggle/input/nfl-player-contact-detection/test_baseline_helmets.csv\")\n",
    "# test_video_metadata = pd.read_csv(\"/kaggle/input/nfl-player-contact-detection/test_video_metadata.csv\")\n",
    "use_cols = [\n",
    "    'x_position', 'y_position', 'speed', 'distance',\n",
    "    'direction', 'orientation', 'acceleration', 'sa'\n",
    "]\n",
    "\n",
    "feats = ['contact_id', 'contact', 'G_flag', 'x_position_1',\n",
    "       'y_position_1', 'speed_1', 'distance_1', 'direction_1', 'orientation_1',\n",
    "       'acceleration_1', 'sa_1', 'x_position_2', 'y_position_2', 'speed_2',\n",
    "       'distance_2', 'direction_2', 'orientation_2', 'acceleration_2', 'sa_2',\n",
    "       'distance', ]\n",
    "\n",
    "df_test = create_features(test_labels, test_tracking, use_cols)[feats]"
   ]
  },
  {
   "cell_type": "code",
   "execution_count": 16,
   "id": "433ab50f",
   "metadata": {
    "execution": {
     "iopub.execute_input": "2023-01-22T12:23:06.682657Z",
     "iopub.status.busy": "2023-01-22T12:23:06.682208Z",
     "iopub.status.idle": "2023-01-22T12:23:06.727649Z",
     "shell.execute_reply": "2023-01-22T12:23:06.726387Z"
    },
    "papermill": {
     "duration": 0.059876,
     "end_time": "2023-01-22T12:23:06.730157",
     "exception": false,
     "start_time": "2023-01-22T12:23:06.670281",
     "status": "completed"
    },
    "tags": []
   },
   "outputs": [
    {
     "data": {
      "text/html": [
       "<div>\n",
       "<style scoped>\n",
       "    .dataframe tbody tr th:only-of-type {\n",
       "        vertical-align: middle;\n",
       "    }\n",
       "\n",
       "    .dataframe tbody tr th {\n",
       "        vertical-align: top;\n",
       "    }\n",
       "\n",
       "    .dataframe thead th {\n",
       "        text-align: right;\n",
       "    }\n",
       "</style>\n",
       "<table border=\"1\" class=\"dataframe\">\n",
       "  <thead>\n",
       "    <tr style=\"text-align: right;\">\n",
       "      <th></th>\n",
       "      <th>contact_id</th>\n",
       "      <th>contact</th>\n",
       "      <th>G_flag</th>\n",
       "      <th>x_position_1</th>\n",
       "      <th>y_position_1</th>\n",
       "      <th>speed_1</th>\n",
       "      <th>distance_1</th>\n",
       "      <th>direction_1</th>\n",
       "      <th>orientation_1</th>\n",
       "      <th>acceleration_1</th>\n",
       "      <th>sa_1</th>\n",
       "      <th>x_position_2</th>\n",
       "      <th>y_position_2</th>\n",
       "      <th>speed_2</th>\n",
       "      <th>distance_2</th>\n",
       "      <th>direction_2</th>\n",
       "      <th>orientation_2</th>\n",
       "      <th>acceleration_2</th>\n",
       "      <th>sa_2</th>\n",
       "      <th>distance</th>\n",
       "    </tr>\n",
       "  </thead>\n",
       "  <tbody>\n",
       "    <tr>\n",
       "      <th>0</th>\n",
       "      <td>58168_003392_0_37084_37211</td>\n",
       "      <td>0</td>\n",
       "      <td>0</td>\n",
       "      <td>41.90</td>\n",
       "      <td>20.08</td>\n",
       "      <td>0.54</td>\n",
       "      <td>0.06</td>\n",
       "      <td>252.69</td>\n",
       "      <td>262.31</td>\n",
       "      <td>0.92</td>\n",
       "      <td>0.90</td>\n",
       "      <td>39.59</td>\n",
       "      <td>17.07</td>\n",
       "      <td>0.53</td>\n",
       "      <td>0.05</td>\n",
       "      <td>134.84</td>\n",
       "      <td>84.73</td>\n",
       "      <td>1.43</td>\n",
       "      <td>1.42</td>\n",
       "      <td>3.794232</td>\n",
       "    </tr>\n",
       "    <tr>\n",
       "      <th>1</th>\n",
       "      <td>58168_003392_0_37084_38556</td>\n",
       "      <td>0</td>\n",
       "      <td>0</td>\n",
       "      <td>41.90</td>\n",
       "      <td>20.08</td>\n",
       "      <td>0.54</td>\n",
       "      <td>0.06</td>\n",
       "      <td>252.69</td>\n",
       "      <td>262.31</td>\n",
       "      <td>0.92</td>\n",
       "      <td>0.90</td>\n",
       "      <td>41.93</td>\n",
       "      <td>30.61</td>\n",
       "      <td>0.67</td>\n",
       "      <td>0.05</td>\n",
       "      <td>232.50</td>\n",
       "      <td>227.00</td>\n",
       "      <td>1.82</td>\n",
       "      <td>1.61</td>\n",
       "      <td>10.530043</td>\n",
       "    </tr>\n",
       "    <tr>\n",
       "      <th>2</th>\n",
       "      <td>58168_003392_0_37084_38567</td>\n",
       "      <td>0</td>\n",
       "      <td>0</td>\n",
       "      <td>41.90</td>\n",
       "      <td>20.08</td>\n",
       "      <td>0.54</td>\n",
       "      <td>0.06</td>\n",
       "      <td>252.69</td>\n",
       "      <td>262.31</td>\n",
       "      <td>0.92</td>\n",
       "      <td>0.90</td>\n",
       "      <td>40.37</td>\n",
       "      <td>19.88</td>\n",
       "      <td>0.66</td>\n",
       "      <td>0.07</td>\n",
       "      <td>136.70</td>\n",
       "      <td>88.92</td>\n",
       "      <td>0.90</td>\n",
       "      <td>0.89</td>\n",
       "      <td>1.543017</td>\n",
       "    </tr>\n",
       "    <tr>\n",
       "      <th>3</th>\n",
       "      <td>58168_003392_0_37084_38590</td>\n",
       "      <td>0</td>\n",
       "      <td>0</td>\n",
       "      <td>41.90</td>\n",
       "      <td>20.08</td>\n",
       "      <td>0.54</td>\n",
       "      <td>0.06</td>\n",
       "      <td>252.69</td>\n",
       "      <td>262.31</td>\n",
       "      <td>0.92</td>\n",
       "      <td>0.90</td>\n",
       "      <td>40.33</td>\n",
       "      <td>25.28</td>\n",
       "      <td>0.52</td>\n",
       "      <td>0.06</td>\n",
       "      <td>141.08</td>\n",
       "      <td>100.37</td>\n",
       "      <td>0.59</td>\n",
       "      <td>0.58</td>\n",
       "      <td>5.431841</td>\n",
       "    </tr>\n",
       "    <tr>\n",
       "      <th>4</th>\n",
       "      <td>58168_003392_0_37084_39947</td>\n",
       "      <td>0</td>\n",
       "      <td>0</td>\n",
       "      <td>41.90</td>\n",
       "      <td>20.08</td>\n",
       "      <td>0.54</td>\n",
       "      <td>0.06</td>\n",
       "      <td>252.69</td>\n",
       "      <td>262.31</td>\n",
       "      <td>0.92</td>\n",
       "      <td>0.90</td>\n",
       "      <td>40.11</td>\n",
       "      <td>26.73</td>\n",
       "      <td>0.99</td>\n",
       "      <td>0.09</td>\n",
       "      <td>163.38</td>\n",
       "      <td>90.69</td>\n",
       "      <td>1.68</td>\n",
       "      <td>1.64</td>\n",
       "      <td>6.886697</td>\n",
       "    </tr>\n",
       "    <tr>\n",
       "      <th>...</th>\n",
       "      <td>...</td>\n",
       "      <td>...</td>\n",
       "      <td>...</td>\n",
       "      <td>...</td>\n",
       "      <td>...</td>\n",
       "      <td>...</td>\n",
       "      <td>...</td>\n",
       "      <td>...</td>\n",
       "      <td>...</td>\n",
       "      <td>...</td>\n",
       "      <td>...</td>\n",
       "      <td>...</td>\n",
       "      <td>...</td>\n",
       "      <td>...</td>\n",
       "      <td>...</td>\n",
       "      <td>...</td>\n",
       "      <td>...</td>\n",
       "      <td>...</td>\n",
       "      <td>...</td>\n",
       "      <td>...</td>\n",
       "    </tr>\n",
       "    <tr>\n",
       "      <th>49583</th>\n",
       "      <td>58172_003247_125_52521_52939</td>\n",
       "      <td>0</td>\n",
       "      <td>0</td>\n",
       "      <td>23.44</td>\n",
       "      <td>4.04</td>\n",
       "      <td>1.41</td>\n",
       "      <td>0.15</td>\n",
       "      <td>163.22</td>\n",
       "      <td>185.42</td>\n",
       "      <td>0.75</td>\n",
       "      <td>-0.58</td>\n",
       "      <td>37.94</td>\n",
       "      <td>2.10</td>\n",
       "      <td>2.29</td>\n",
       "      <td>0.24</td>\n",
       "      <td>211.73</td>\n",
       "      <td>215.11</td>\n",
       "      <td>2.43</td>\n",
       "      <td>-2.43</td>\n",
       "      <td>14.629204</td>\n",
       "    </tr>\n",
       "    <tr>\n",
       "      <th>49584</th>\n",
       "      <td>58172_003247_125_52521_G</td>\n",
       "      <td>0</td>\n",
       "      <td>1</td>\n",
       "      <td>23.44</td>\n",
       "      <td>4.04</td>\n",
       "      <td>1.41</td>\n",
       "      <td>0.15</td>\n",
       "      <td>163.22</td>\n",
       "      <td>185.42</td>\n",
       "      <td>0.75</td>\n",
       "      <td>-0.58</td>\n",
       "      <td>NaN</td>\n",
       "      <td>NaN</td>\n",
       "      <td>NaN</td>\n",
       "      <td>NaN</td>\n",
       "      <td>NaN</td>\n",
       "      <td>NaN</td>\n",
       "      <td>NaN</td>\n",
       "      <td>NaN</td>\n",
       "      <td>NaN</td>\n",
       "    </tr>\n",
       "    <tr>\n",
       "      <th>49585</th>\n",
       "      <td>58172_003247_125_52852_52939</td>\n",
       "      <td>0</td>\n",
       "      <td>0</td>\n",
       "      <td>32.67</td>\n",
       "      <td>2.18</td>\n",
       "      <td>2.34</td>\n",
       "      <td>0.24</td>\n",
       "      <td>113.19</td>\n",
       "      <td>119.09</td>\n",
       "      <td>1.03</td>\n",
       "      <td>-0.97</td>\n",
       "      <td>37.94</td>\n",
       "      <td>2.10</td>\n",
       "      <td>2.29</td>\n",
       "      <td>0.24</td>\n",
       "      <td>211.73</td>\n",
       "      <td>215.11</td>\n",
       "      <td>2.43</td>\n",
       "      <td>-2.43</td>\n",
       "      <td>5.270607</td>\n",
       "    </tr>\n",
       "    <tr>\n",
       "      <th>49586</th>\n",
       "      <td>58172_003247_125_52852_G</td>\n",
       "      <td>0</td>\n",
       "      <td>1</td>\n",
       "      <td>32.67</td>\n",
       "      <td>2.18</td>\n",
       "      <td>2.34</td>\n",
       "      <td>0.24</td>\n",
       "      <td>113.19</td>\n",
       "      <td>119.09</td>\n",
       "      <td>1.03</td>\n",
       "      <td>-0.97</td>\n",
       "      <td>NaN</td>\n",
       "      <td>NaN</td>\n",
       "      <td>NaN</td>\n",
       "      <td>NaN</td>\n",
       "      <td>NaN</td>\n",
       "      <td>NaN</td>\n",
       "      <td>NaN</td>\n",
       "      <td>NaN</td>\n",
       "      <td>NaN</td>\n",
       "    </tr>\n",
       "    <tr>\n",
       "      <th>49587</th>\n",
       "      <td>58172_003247_125_52939_G</td>\n",
       "      <td>0</td>\n",
       "      <td>1</td>\n",
       "      <td>37.94</td>\n",
       "      <td>2.10</td>\n",
       "      <td>2.29</td>\n",
       "      <td>0.24</td>\n",
       "      <td>211.73</td>\n",
       "      <td>215.11</td>\n",
       "      <td>2.43</td>\n",
       "      <td>-2.43</td>\n",
       "      <td>NaN</td>\n",
       "      <td>NaN</td>\n",
       "      <td>NaN</td>\n",
       "      <td>NaN</td>\n",
       "      <td>NaN</td>\n",
       "      <td>NaN</td>\n",
       "      <td>NaN</td>\n",
       "      <td>NaN</td>\n",
       "      <td>NaN</td>\n",
       "    </tr>\n",
       "  </tbody>\n",
       "</table>\n",
       "<p>49588 rows × 20 columns</p>\n",
       "</div>"
      ],
      "text/plain": [
       "                         contact_id  contact  G_flag  x_position_1  \\\n",
       "0        58168_003392_0_37084_37211        0       0         41.90   \n",
       "1        58168_003392_0_37084_38556        0       0         41.90   \n",
       "2        58168_003392_0_37084_38567        0       0         41.90   \n",
       "3        58168_003392_0_37084_38590        0       0         41.90   \n",
       "4        58168_003392_0_37084_39947        0       0         41.90   \n",
       "...                             ...      ...     ...           ...   \n",
       "49583  58172_003247_125_52521_52939        0       0         23.44   \n",
       "49584      58172_003247_125_52521_G        0       1         23.44   \n",
       "49585  58172_003247_125_52852_52939        0       0         32.67   \n",
       "49586      58172_003247_125_52852_G        0       1         32.67   \n",
       "49587      58172_003247_125_52939_G        0       1         37.94   \n",
       "\n",
       "       y_position_1  speed_1  distance_1  direction_1  orientation_1  \\\n",
       "0             20.08     0.54        0.06       252.69         262.31   \n",
       "1             20.08     0.54        0.06       252.69         262.31   \n",
       "2             20.08     0.54        0.06       252.69         262.31   \n",
       "3             20.08     0.54        0.06       252.69         262.31   \n",
       "4             20.08     0.54        0.06       252.69         262.31   \n",
       "...             ...      ...         ...          ...            ...   \n",
       "49583          4.04     1.41        0.15       163.22         185.42   \n",
       "49584          4.04     1.41        0.15       163.22         185.42   \n",
       "49585          2.18     2.34        0.24       113.19         119.09   \n",
       "49586          2.18     2.34        0.24       113.19         119.09   \n",
       "49587          2.10     2.29        0.24       211.73         215.11   \n",
       "\n",
       "       acceleration_1  sa_1  x_position_2  y_position_2  speed_2  distance_2  \\\n",
       "0                0.92  0.90         39.59         17.07     0.53        0.05   \n",
       "1                0.92  0.90         41.93         30.61     0.67        0.05   \n",
       "2                0.92  0.90         40.37         19.88     0.66        0.07   \n",
       "3                0.92  0.90         40.33         25.28     0.52        0.06   \n",
       "4                0.92  0.90         40.11         26.73     0.99        0.09   \n",
       "...               ...   ...           ...           ...      ...         ...   \n",
       "49583            0.75 -0.58         37.94          2.10     2.29        0.24   \n",
       "49584            0.75 -0.58           NaN           NaN      NaN         NaN   \n",
       "49585            1.03 -0.97         37.94          2.10     2.29        0.24   \n",
       "49586            1.03 -0.97           NaN           NaN      NaN         NaN   \n",
       "49587            2.43 -2.43           NaN           NaN      NaN         NaN   \n",
       "\n",
       "       direction_2  orientation_2  acceleration_2  sa_2   distance  \n",
       "0           134.84          84.73            1.43  1.42   3.794232  \n",
       "1           232.50         227.00            1.82  1.61  10.530043  \n",
       "2           136.70          88.92            0.90  0.89   1.543017  \n",
       "3           141.08         100.37            0.59  0.58   5.431841  \n",
       "4           163.38          90.69            1.68  1.64   6.886697  \n",
       "...            ...            ...             ...   ...        ...  \n",
       "49583       211.73         215.11            2.43 -2.43  14.629204  \n",
       "49584          NaN            NaN             NaN   NaN        NaN  \n",
       "49585       211.73         215.11            2.43 -2.43   5.270607  \n",
       "49586          NaN            NaN             NaN   NaN        NaN  \n",
       "49587          NaN            NaN             NaN   NaN        NaN  \n",
       "\n",
       "[49588 rows x 20 columns]"
      ]
     },
     "execution_count": 16,
     "metadata": {},
     "output_type": "execute_result"
    }
   ],
   "source": [
    "df_test"
   ]
  },
  {
   "cell_type": "code",
   "execution_count": 17,
   "id": "e3367433",
   "metadata": {
    "execution": {
     "iopub.execute_input": "2023-01-22T12:23:06.752888Z",
     "iopub.status.busy": "2023-01-22T12:23:06.752460Z",
     "iopub.status.idle": "2023-01-22T12:23:08.887013Z",
     "shell.execute_reply": "2023-01-22T12:23:08.885872Z"
    },
    "papermill": {
     "duration": 2.149085,
     "end_time": "2023-01-22T12:23:08.889613",
     "exception": false,
     "start_time": "2023-01-22T12:23:06.740528",
     "status": "completed"
    },
    "tags": []
   },
   "outputs": [
    {
     "name": "stdout",
     "output_type": "stream",
     "text": [
      "['/kaggle/working/model/xgb_fold_3_yy_default_kfold_test.joblib', '/kaggle/working/model/xgb_fold_4_yy_default_kfold_test.joblib', '/kaggle/working/model/xgb_fold_1_yy_default_kfold_test.joblib', '/kaggle/working/model/xgb_fold_0_yy_default_kfold_test.joblib', '/kaggle/working/model/xgb_fold_2_yy_default_kfold_test.joblib']\n"
     ]
    },
    {
     "data": {
      "text/html": [
       "<div>\n",
       "<style scoped>\n",
       "    .dataframe tbody tr th:only-of-type {\n",
       "        vertical-align: middle;\n",
       "    }\n",
       "\n",
       "    .dataframe tbody tr th {\n",
       "        vertical-align: top;\n",
       "    }\n",
       "\n",
       "    .dataframe thead th {\n",
       "        text-align: right;\n",
       "    }\n",
       "</style>\n",
       "<table border=\"1\" class=\"dataframe\">\n",
       "  <thead>\n",
       "    <tr style=\"text-align: right;\">\n",
       "      <th></th>\n",
       "      <th>contact_id</th>\n",
       "      <th>contact</th>\n",
       "    </tr>\n",
       "  </thead>\n",
       "  <tbody>\n",
       "    <tr>\n",
       "      <th>0</th>\n",
       "      <td>58168_003392_0_37084_37211</td>\n",
       "      <td>0</td>\n",
       "    </tr>\n",
       "    <tr>\n",
       "      <th>1</th>\n",
       "      <td>58168_003392_0_37084_38556</td>\n",
       "      <td>0</td>\n",
       "    </tr>\n",
       "    <tr>\n",
       "      <th>2</th>\n",
       "      <td>58168_003392_0_37084_38567</td>\n",
       "      <td>0</td>\n",
       "    </tr>\n",
       "    <tr>\n",
       "      <th>3</th>\n",
       "      <td>58168_003392_0_37084_38590</td>\n",
       "      <td>0</td>\n",
       "    </tr>\n",
       "    <tr>\n",
       "      <th>4</th>\n",
       "      <td>58168_003392_0_37084_39947</td>\n",
       "      <td>0</td>\n",
       "    </tr>\n",
       "  </tbody>\n",
       "</table>\n",
       "</div>"
      ],
      "text/plain": [
       "                   contact_id  contact\n",
       "0  58168_003392_0_37084_37211        0\n",
       "1  58168_003392_0_37084_38556        0\n",
       "2  58168_003392_0_37084_38567        0\n",
       "3  58168_003392_0_37084_38590        0\n",
       "4  58168_003392_0_37084_39947        0"
      ]
     },
     "metadata": {},
     "output_type": "display_data"
    }
   ],
   "source": [
    "sub_pred = pred_xgboost(df_test.drop(columns=['contact_id', 'contact']), \n",
    "                        CFG.model_dir, f'{CFG.name}_{CFG.suffix}')\n",
    "df_test['contact'] = (sub_pred > CFG.threshold).astype(int)\n",
    "df_test = CFG.expand_contact_id(df_test)\n",
    "df_test[['contact_id', 'contact']].to_csv('submission.csv', index=False)\n",
    "display(df_test[['contact_id', 'contact']].head())"
   ]
  },
  {
   "cell_type": "code",
   "execution_count": 18,
   "id": "55b582c3",
   "metadata": {
    "execution": {
     "iopub.execute_input": "2023-01-22T12:23:08.913117Z",
     "iopub.status.busy": "2023-01-22T12:23:08.912734Z",
     "iopub.status.idle": "2023-01-22T12:23:08.921360Z",
     "shell.execute_reply": "2023-01-22T12:23:08.920542Z"
    },
    "papermill": {
     "duration": 0.022833,
     "end_time": "2023-01-22T12:23:08.923575",
     "exception": false,
     "start_time": "2023-01-22T12:23:08.900742",
     "status": "completed"
    },
    "tags": []
   },
   "outputs": [
    {
     "data": {
      "text/plain": [
       "0    48718\n",
       "1      870\n",
       "Name: contact, dtype: int64"
      ]
     },
     "execution_count": 18,
     "metadata": {},
     "output_type": "execute_result"
    }
   ],
   "source": [
    "df_test['contact'].value_counts()"
   ]
  },
  {
   "cell_type": "code",
   "execution_count": null,
   "id": "d526d360",
   "metadata": {
    "papermill": {
     "duration": 0.010302,
     "end_time": "2023-01-22T12:23:08.944443",
     "exception": false,
     "start_time": "2023-01-22T12:23:08.934141",
     "status": "completed"
    },
    "tags": []
   },
   "outputs": [],
   "source": []
  }
 ],
 "metadata": {
  "kernelspec": {
   "display_name": "Python 3",
   "language": "python",
   "name": "python3"
  },
  "language_info": {
   "codemirror_mode": {
    "name": "ipython",
    "version": 3
   },
   "file_extension": ".py",
   "mimetype": "text/x-python",
   "name": "python",
   "nbconvert_exporter": "python",
   "pygments_lexer": "ipython3",
   "version": "3.7.12"
  },
  "papermill": {
   "default_parameters": {},
   "duration": 2880.168475,
   "end_time": "2023-01-22T12:23:10.084206",
   "environment_variables": {},
   "exception": null,
   "input_path": "__notebook__.ipynb",
   "output_path": "__notebook__.ipynb",
   "parameters": {},
   "start_time": "2023-01-22T11:35:09.915731",
   "version": "2.3.4"
  }
 },
 "nbformat": 4,
 "nbformat_minor": 5
}
